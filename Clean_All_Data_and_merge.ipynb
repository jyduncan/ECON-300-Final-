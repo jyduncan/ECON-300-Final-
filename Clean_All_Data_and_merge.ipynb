{
 "cells": [
  {
   "cell_type": "markdown",
   "id": "ec8640e8",
   "metadata": {},
   "source": [
    "# Grab Data on Race and Sex\n",
    "\n",
    "The following code usess the Urban Institue's API to get information at the school distirct level for race and sex. Because of the way the API is set up, an API call must be done for every combination of State, Year, and Grade (3,000 links). I originally tried to do all of this in once cell in one loop. However, I kept running into issues where I was hitting the API link too much and getting an error. Furthermore if an error occurs late into the process the entire code must be re-run. Thus I think it is best to break this up into years, and merge the data together at the end. This is what I have done below and was ultimatley succsessful. Do note that this likely will take between 2-3 hours to run all the code. "
   ]
  },
  {
   "cell_type": "code",
   "execution_count": 15,
   "id": "294e33e7",
   "metadata": {},
   "outputs": [],
   "source": [
    "import pandas as pd\n",
    "from urllib.request import urlopen\n",
    "from json import loads\n",
    "\n",
    "# List of FIPS codes for all states\n",
    "fips_codes = [\n",
    "    '01', '02', '04', '05', '06', '08', '09', '10', '11', '12', '13',\n",
    "    '15', '16', '17', '18', '19', '20', '21', '22', '23', '24', '25',\n",
    "    '26', '27', '28', '29', '30', '31', '32', '33', '34', '35', '36',\n",
    "    '37', '38', '39', '40', '41', '42', '44', '45', '46', '47', '48',\n",
    "    '49', '50', '51', '53', '54', '55', '56'\n",
    "]\n",
    "\n",
    "def gather_data(year, fips):\n",
    "    all_data = []\n",
    "    \n",
    "    for grade in range(3, 9):\n",
    "        url = f\"https://educationdata.urban.org/api/v1/school-districts/ccd/enrollment/{year}/grade-{grade}/race/sex/?fips={fips}&leaid\"\n",
    "        response = urlopen(url)\n",
    "        data = loads(response.read())\n",
    "\n",
    "        rows = []\n",
    "        for result in data['results']:\n",
    "            rows.append({\n",
    "                'year': result['year'],\n",
    "                'leaid': result['leaid'],\n",
    "                'fips': result['fips'],\n",
    "                'grade': result['grade'],\n",
    "                'race': result['race'],\n",
    "                'sex': result['sex'],\n",
    "                'enrollment': result['enrollment']\n",
    "            })\n",
    "\n",
    "        all_data.extend(rows)\n",
    "        print(f\"Finished gathering data for grade {grade} in FIPS {fips} and year {year}\")\n",
    "    return all_data\n"
   ]
  },
  {
   "cell_type": "code",
   "execution_count": 16,
   "id": "a2bc78ab",
   "metadata": {},
   "outputs": [
    {
     "name": "stdout",
     "output_type": "stream",
     "text": [
      "Finished gathering data for grade 3 in FIPS 01 and year 2009\n",
      "Finished gathering data for grade 4 in FIPS 01 and year 2009\n",
      "Finished gathering data for grade 5 in FIPS 01 and year 2009\n",
      "Finished gathering data for grade 6 in FIPS 01 and year 2009\n",
      "Finished gathering data for grade 7 in FIPS 01 and year 2009\n",
      "Finished gathering data for grade 8 in FIPS 01 and year 2009\n",
      "Finished gathering data for FIPS 01 in year 2009\n",
      "Finished gathering data for grade 3 in FIPS 02 and year 2009\n",
      "Finished gathering data for grade 4 in FIPS 02 and year 2009\n",
      "Finished gathering data for grade 5 in FIPS 02 and year 2009\n",
      "Finished gathering data for grade 6 in FIPS 02 and year 2009\n",
      "Finished gathering data for grade 7 in FIPS 02 and year 2009\n",
      "Finished gathering data for grade 8 in FIPS 02 and year 2009\n",
      "Finished gathering data for FIPS 02 in year 2009\n",
      "Finished gathering data for grade 3 in FIPS 04 and year 2009\n",
      "Finished gathering data for grade 4 in FIPS 04 and year 2009\n",
      "Finished gathering data for grade 5 in FIPS 04 and year 2009\n",
      "Finished gathering data for grade 6 in FIPS 04 and year 2009\n",
      "Finished gathering data for grade 7 in FIPS 04 and year 2009\n",
      "Finished gathering data for grade 8 in FIPS 04 and year 2009\n",
      "Finished gathering data for FIPS 04 in year 2009\n",
      "Finished gathering data for grade 3 in FIPS 05 and year 2009\n",
      "Finished gathering data for grade 4 in FIPS 05 and year 2009\n",
      "Finished gathering data for grade 5 in FIPS 05 and year 2009\n",
      "Finished gathering data for grade 6 in FIPS 05 and year 2009\n",
      "Finished gathering data for grade 7 in FIPS 05 and year 2009\n",
      "Finished gathering data for grade 8 in FIPS 05 and year 2009\n",
      "Finished gathering data for FIPS 05 in year 2009\n",
      "Finished gathering data for grade 3 in FIPS 06 and year 2009\n",
      "Finished gathering data for grade 4 in FIPS 06 and year 2009\n",
      "Finished gathering data for grade 5 in FIPS 06 and year 2009\n",
      "Finished gathering data for grade 6 in FIPS 06 and year 2009\n",
      "Finished gathering data for grade 7 in FIPS 06 and year 2009\n",
      "Finished gathering data for grade 8 in FIPS 06 and year 2009\n",
      "Finished gathering data for FIPS 06 in year 2009\n",
      "Finished gathering data for grade 3 in FIPS 08 and year 2009\n",
      "Finished gathering data for grade 4 in FIPS 08 and year 2009\n",
      "Finished gathering data for grade 5 in FIPS 08 and year 2009\n",
      "Finished gathering data for grade 6 in FIPS 08 and year 2009\n",
      "Finished gathering data for grade 7 in FIPS 08 and year 2009\n",
      "Finished gathering data for grade 8 in FIPS 08 and year 2009\n",
      "Finished gathering data for FIPS 08 in year 2009\n",
      "Finished gathering data for grade 3 in FIPS 09 and year 2009\n",
      "Finished gathering data for grade 4 in FIPS 09 and year 2009\n",
      "Finished gathering data for grade 5 in FIPS 09 and year 2009\n",
      "Finished gathering data for grade 6 in FIPS 09 and year 2009\n",
      "Finished gathering data for grade 7 in FIPS 09 and year 2009\n",
      "Finished gathering data for grade 8 in FIPS 09 and year 2009\n",
      "Finished gathering data for FIPS 09 in year 2009\n",
      "Finished gathering data for grade 3 in FIPS 10 and year 2009\n",
      "Finished gathering data for grade 4 in FIPS 10 and year 2009\n",
      "Finished gathering data for grade 5 in FIPS 10 and year 2009\n",
      "Finished gathering data for grade 6 in FIPS 10 and year 2009\n",
      "Finished gathering data for grade 7 in FIPS 10 and year 2009\n",
      "Finished gathering data for grade 8 in FIPS 10 and year 2009\n",
      "Finished gathering data for FIPS 10 in year 2009\n",
      "Finished gathering data for grade 3 in FIPS 11 and year 2009\n",
      "Finished gathering data for grade 4 in FIPS 11 and year 2009\n",
      "Finished gathering data for grade 5 in FIPS 11 and year 2009\n",
      "Finished gathering data for grade 6 in FIPS 11 and year 2009\n",
      "Finished gathering data for grade 7 in FIPS 11 and year 2009\n",
      "Finished gathering data for grade 8 in FIPS 11 and year 2009\n",
      "Finished gathering data for FIPS 11 in year 2009\n",
      "Finished gathering data for grade 3 in FIPS 12 and year 2009\n",
      "Finished gathering data for grade 4 in FIPS 12 and year 2009\n",
      "Finished gathering data for grade 5 in FIPS 12 and year 2009\n",
      "Finished gathering data for grade 6 in FIPS 12 and year 2009\n",
      "Finished gathering data for grade 7 in FIPS 12 and year 2009\n",
      "Finished gathering data for grade 8 in FIPS 12 and year 2009\n",
      "Finished gathering data for FIPS 12 in year 2009\n",
      "Finished gathering data for grade 3 in FIPS 13 and year 2009\n",
      "Finished gathering data for grade 4 in FIPS 13 and year 2009\n",
      "Finished gathering data for grade 5 in FIPS 13 and year 2009\n",
      "Finished gathering data for grade 6 in FIPS 13 and year 2009\n",
      "Finished gathering data for grade 7 in FIPS 13 and year 2009\n",
      "Finished gathering data for grade 8 in FIPS 13 and year 2009\n",
      "Finished gathering data for FIPS 13 in year 2009\n",
      "Finished gathering data for grade 3 in FIPS 15 and year 2009\n",
      "Finished gathering data for grade 4 in FIPS 15 and year 2009\n",
      "Finished gathering data for grade 5 in FIPS 15 and year 2009\n",
      "Finished gathering data for grade 6 in FIPS 15 and year 2009\n",
      "Finished gathering data for grade 7 in FIPS 15 and year 2009\n",
      "Finished gathering data for grade 8 in FIPS 15 and year 2009\n",
      "Finished gathering data for FIPS 15 in year 2009\n",
      "Finished gathering data for grade 3 in FIPS 16 and year 2009\n",
      "Finished gathering data for grade 4 in FIPS 16 and year 2009\n",
      "Finished gathering data for grade 5 in FIPS 16 and year 2009\n",
      "Finished gathering data for grade 6 in FIPS 16 and year 2009\n",
      "Finished gathering data for grade 7 in FIPS 16 and year 2009\n",
      "Finished gathering data for grade 8 in FIPS 16 and year 2009\n",
      "Finished gathering data for FIPS 16 in year 2009\n",
      "Finished gathering data for grade 3 in FIPS 17 and year 2009\n",
      "Finished gathering data for grade 4 in FIPS 17 and year 2009\n",
      "Finished gathering data for grade 5 in FIPS 17 and year 2009\n",
      "Finished gathering data for grade 6 in FIPS 17 and year 2009\n",
      "Finished gathering data for grade 7 in FIPS 17 and year 2009\n",
      "Finished gathering data for grade 8 in FIPS 17 and year 2009\n",
      "Finished gathering data for FIPS 17 in year 2009\n",
      "Finished gathering data for grade 3 in FIPS 18 and year 2009\n",
      "Finished gathering data for grade 4 in FIPS 18 and year 2009\n",
      "Finished gathering data for grade 5 in FIPS 18 and year 2009\n",
      "Finished gathering data for grade 6 in FIPS 18 and year 2009\n",
      "Finished gathering data for grade 7 in FIPS 18 and year 2009\n",
      "Finished gathering data for grade 8 in FIPS 18 and year 2009\n",
      "Finished gathering data for FIPS 18 in year 2009\n",
      "Finished gathering data for grade 3 in FIPS 19 and year 2009\n",
      "Finished gathering data for grade 4 in FIPS 19 and year 2009\n",
      "Finished gathering data for grade 5 in FIPS 19 and year 2009\n",
      "Finished gathering data for grade 6 in FIPS 19 and year 2009\n",
      "Finished gathering data for grade 7 in FIPS 19 and year 2009\n",
      "Finished gathering data for grade 8 in FIPS 19 and year 2009\n",
      "Finished gathering data for FIPS 19 in year 2009\n",
      "Finished gathering data for grade 3 in FIPS 20 and year 2009\n",
      "Finished gathering data for grade 4 in FIPS 20 and year 2009\n",
      "Finished gathering data for grade 5 in FIPS 20 and year 2009\n",
      "Finished gathering data for grade 6 in FIPS 20 and year 2009\n",
      "Finished gathering data for grade 7 in FIPS 20 and year 2009\n",
      "Finished gathering data for grade 8 in FIPS 20 and year 2009\n",
      "Finished gathering data for FIPS 20 in year 2009\n",
      "Finished gathering data for grade 3 in FIPS 21 and year 2009\n",
      "Finished gathering data for grade 4 in FIPS 21 and year 2009\n",
      "Finished gathering data for grade 5 in FIPS 21 and year 2009\n",
      "Finished gathering data for grade 6 in FIPS 21 and year 2009\n",
      "Finished gathering data for grade 7 in FIPS 21 and year 2009\n",
      "Finished gathering data for grade 8 in FIPS 21 and year 2009\n",
      "Finished gathering data for FIPS 21 in year 2009\n",
      "Finished gathering data for grade 3 in FIPS 22 and year 2009\n",
      "Finished gathering data for grade 4 in FIPS 22 and year 2009\n",
      "Finished gathering data for grade 5 in FIPS 22 and year 2009\n",
      "Finished gathering data for grade 6 in FIPS 22 and year 2009\n",
      "Finished gathering data for grade 7 in FIPS 22 and year 2009\n",
      "Finished gathering data for grade 8 in FIPS 22 and year 2009\n",
      "Finished gathering data for FIPS 22 in year 2009\n",
      "Finished gathering data for grade 3 in FIPS 23 and year 2009\n",
      "Finished gathering data for grade 4 in FIPS 23 and year 2009\n",
      "Finished gathering data for grade 5 in FIPS 23 and year 2009\n",
      "Finished gathering data for grade 6 in FIPS 23 and year 2009\n",
      "Finished gathering data for grade 7 in FIPS 23 and year 2009\n",
      "Finished gathering data for grade 8 in FIPS 23 and year 2009\n",
      "Finished gathering data for FIPS 23 in year 2009\n",
      "Finished gathering data for grade 3 in FIPS 24 and year 2009\n",
      "Finished gathering data for grade 4 in FIPS 24 and year 2009\n",
      "Finished gathering data for grade 5 in FIPS 24 and year 2009\n",
      "Finished gathering data for grade 6 in FIPS 24 and year 2009\n",
      "Finished gathering data for grade 7 in FIPS 24 and year 2009\n",
      "Finished gathering data for grade 8 in FIPS 24 and year 2009\n",
      "Finished gathering data for FIPS 24 in year 2009\n",
      "Finished gathering data for grade 3 in FIPS 25 and year 2009\n",
      "Finished gathering data for grade 4 in FIPS 25 and year 2009\n",
      "Finished gathering data for grade 5 in FIPS 25 and year 2009\n",
      "Finished gathering data for grade 6 in FIPS 25 and year 2009\n",
      "Finished gathering data for grade 7 in FIPS 25 and year 2009\n",
      "Finished gathering data for grade 8 in FIPS 25 and year 2009\n",
      "Finished gathering data for FIPS 25 in year 2009\n",
      "Finished gathering data for grade 3 in FIPS 26 and year 2009\n",
      "Finished gathering data for grade 4 in FIPS 26 and year 2009\n",
      "Finished gathering data for grade 5 in FIPS 26 and year 2009\n",
      "Finished gathering data for grade 6 in FIPS 26 and year 2009\n",
      "Finished gathering data for grade 7 in FIPS 26 and year 2009\n",
      "Finished gathering data for grade 8 in FIPS 26 and year 2009\n",
      "Finished gathering data for FIPS 26 in year 2009\n",
      "Finished gathering data for grade 3 in FIPS 27 and year 2009\n",
      "Finished gathering data for grade 4 in FIPS 27 and year 2009\n",
      "Finished gathering data for grade 5 in FIPS 27 and year 2009\n",
      "Finished gathering data for grade 6 in FIPS 27 and year 2009\n",
      "Finished gathering data for grade 7 in FIPS 27 and year 2009\n",
      "Finished gathering data for grade 8 in FIPS 27 and year 2009\n",
      "Finished gathering data for FIPS 27 in year 2009\n",
      "Finished gathering data for grade 3 in FIPS 28 and year 2009\n",
      "Finished gathering data for grade 4 in FIPS 28 and year 2009\n",
      "Finished gathering data for grade 5 in FIPS 28 and year 2009\n",
      "Finished gathering data for grade 6 in FIPS 28 and year 2009\n",
      "Finished gathering data for grade 7 in FIPS 28 and year 2009\n",
      "Finished gathering data for grade 8 in FIPS 28 and year 2009\n",
      "Finished gathering data for FIPS 28 in year 2009\n",
      "Finished gathering data for grade 3 in FIPS 29 and year 2009\n",
      "Finished gathering data for grade 4 in FIPS 29 and year 2009\n",
      "Finished gathering data for grade 5 in FIPS 29 and year 2009\n",
      "Finished gathering data for grade 6 in FIPS 29 and year 2009\n",
      "Finished gathering data for grade 7 in FIPS 29 and year 2009\n",
      "Finished gathering data for grade 8 in FIPS 29 and year 2009\n",
      "Finished gathering data for FIPS 29 in year 2009\n",
      "Finished gathering data for grade 3 in FIPS 30 and year 2009\n",
      "Finished gathering data for grade 4 in FIPS 30 and year 2009\n",
      "Finished gathering data for grade 5 in FIPS 30 and year 2009\n",
      "Finished gathering data for grade 6 in FIPS 30 and year 2009\n",
      "Finished gathering data for grade 7 in FIPS 30 and year 2009\n",
      "Finished gathering data for grade 8 in FIPS 30 and year 2009\n",
      "Finished gathering data for FIPS 30 in year 2009\n",
      "Finished gathering data for grade 3 in FIPS 31 and year 2009\n",
      "Finished gathering data for grade 4 in FIPS 31 and year 2009\n",
      "Finished gathering data for grade 5 in FIPS 31 and year 2009\n",
      "Finished gathering data for grade 6 in FIPS 31 and year 2009\n",
      "Finished gathering data for grade 7 in FIPS 31 and year 2009\n",
      "Finished gathering data for grade 8 in FIPS 31 and year 2009\n",
      "Finished gathering data for FIPS 31 in year 2009\n",
      "Finished gathering data for grade 3 in FIPS 32 and year 2009\n",
      "Finished gathering data for grade 4 in FIPS 32 and year 2009\n",
      "Finished gathering data for grade 5 in FIPS 32 and year 2009\n",
      "Finished gathering data for grade 6 in FIPS 32 and year 2009\n",
      "Finished gathering data for grade 7 in FIPS 32 and year 2009\n",
      "Finished gathering data for grade 8 in FIPS 32 and year 2009\n",
      "Finished gathering data for FIPS 32 in year 2009\n",
      "Finished gathering data for grade 3 in FIPS 33 and year 2009\n",
      "Finished gathering data for grade 4 in FIPS 33 and year 2009\n",
      "Finished gathering data for grade 5 in FIPS 33 and year 2009\n",
      "Finished gathering data for grade 6 in FIPS 33 and year 2009\n",
      "Finished gathering data for grade 7 in FIPS 33 and year 2009\n",
      "Finished gathering data for grade 8 in FIPS 33 and year 2009\n",
      "Finished gathering data for FIPS 33 in year 2009\n",
      "Finished gathering data for grade 3 in FIPS 34 and year 2009\n",
      "Finished gathering data for grade 4 in FIPS 34 and year 2009\n",
      "Finished gathering data for grade 5 in FIPS 34 and year 2009\n",
      "Finished gathering data for grade 6 in FIPS 34 and year 2009\n",
      "Finished gathering data for grade 7 in FIPS 34 and year 2009\n",
      "Finished gathering data for grade 8 in FIPS 34 and year 2009\n",
      "Finished gathering data for FIPS 34 in year 2009\n",
      "Finished gathering data for grade 3 in FIPS 35 and year 2009\n",
      "Finished gathering data for grade 4 in FIPS 35 and year 2009\n",
      "Finished gathering data for grade 5 in FIPS 35 and year 2009\n",
      "Finished gathering data for grade 6 in FIPS 35 and year 2009\n",
      "Finished gathering data for grade 7 in FIPS 35 and year 2009\n",
      "Finished gathering data for grade 8 in FIPS 35 and year 2009\n",
      "Finished gathering data for FIPS 35 in year 2009\n",
      "Finished gathering data for grade 3 in FIPS 36 and year 2009\n",
      "Finished gathering data for grade 4 in FIPS 36 and year 2009\n",
      "Finished gathering data for grade 5 in FIPS 36 and year 2009\n",
      "Finished gathering data for grade 6 in FIPS 36 and year 2009\n",
      "Finished gathering data for grade 7 in FIPS 36 and year 2009\n",
      "Finished gathering data for grade 8 in FIPS 36 and year 2009\n",
      "Finished gathering data for FIPS 36 in year 2009\n",
      "Finished gathering data for grade 3 in FIPS 37 and year 2009\n",
      "Finished gathering data for grade 4 in FIPS 37 and year 2009\n",
      "Finished gathering data for grade 5 in FIPS 37 and year 2009\n",
      "Finished gathering data for grade 6 in FIPS 37 and year 2009\n",
      "Finished gathering data for grade 7 in FIPS 37 and year 2009\n",
      "Finished gathering data for grade 8 in FIPS 37 and year 2009\n",
      "Finished gathering data for FIPS 37 in year 2009\n",
      "Finished gathering data for grade 3 in FIPS 38 and year 2009\n",
      "Finished gathering data for grade 4 in FIPS 38 and year 2009\n",
      "Finished gathering data for grade 5 in FIPS 38 and year 2009\n",
      "Finished gathering data for grade 6 in FIPS 38 and year 2009\n",
      "Finished gathering data for grade 7 in FIPS 38 and year 2009\n",
      "Finished gathering data for grade 8 in FIPS 38 and year 2009\n",
      "Finished gathering data for FIPS 38 in year 2009\n",
      "Finished gathering data for grade 3 in FIPS 39 and year 2009\n",
      "Finished gathering data for grade 4 in FIPS 39 and year 2009\n",
      "Finished gathering data for grade 5 in FIPS 39 and year 2009\n",
      "Finished gathering data for grade 6 in FIPS 39 and year 2009\n",
      "Finished gathering data for grade 7 in FIPS 39 and year 2009\n",
      "Finished gathering data for grade 8 in FIPS 39 and year 2009\n",
      "Finished gathering data for FIPS 39 in year 2009\n",
      "Finished gathering data for grade 3 in FIPS 40 and year 2009\n",
      "Finished gathering data for grade 4 in FIPS 40 and year 2009\n",
      "Finished gathering data for grade 5 in FIPS 40 and year 2009\n",
      "Finished gathering data for grade 6 in FIPS 40 and year 2009\n",
      "Finished gathering data for grade 7 in FIPS 40 and year 2009\n",
      "Finished gathering data for grade 8 in FIPS 40 and year 2009\n",
      "Finished gathering data for FIPS 40 in year 2009\n",
      "Finished gathering data for grade 3 in FIPS 41 and year 2009\n",
      "Finished gathering data for grade 4 in FIPS 41 and year 2009\n",
      "Finished gathering data for grade 5 in FIPS 41 and year 2009\n",
      "Finished gathering data for grade 6 in FIPS 41 and year 2009\n",
      "Finished gathering data for grade 7 in FIPS 41 and year 2009\n",
      "Finished gathering data for grade 8 in FIPS 41 and year 2009\n",
      "Finished gathering data for FIPS 41 in year 2009\n",
      "Finished gathering data for grade 3 in FIPS 42 and year 2009\n",
      "Finished gathering data for grade 4 in FIPS 42 and year 2009\n",
      "Finished gathering data for grade 5 in FIPS 42 and year 2009\n",
      "Finished gathering data for grade 6 in FIPS 42 and year 2009\n",
      "Finished gathering data for grade 7 in FIPS 42 and year 2009\n",
      "Finished gathering data for grade 8 in FIPS 42 and year 2009\n",
      "Finished gathering data for FIPS 42 in year 2009\n",
      "Finished gathering data for grade 3 in FIPS 44 and year 2009\n",
      "Finished gathering data for grade 4 in FIPS 44 and year 2009\n",
      "Finished gathering data for grade 5 in FIPS 44 and year 2009\n",
      "Finished gathering data for grade 6 in FIPS 44 and year 2009\n",
      "Finished gathering data for grade 7 in FIPS 44 and year 2009\n",
      "Finished gathering data for grade 8 in FIPS 44 and year 2009\n",
      "Finished gathering data for FIPS 44 in year 2009\n",
      "Finished gathering data for grade 3 in FIPS 45 and year 2009\n",
      "Finished gathering data for grade 4 in FIPS 45 and year 2009\n",
      "Finished gathering data for grade 5 in FIPS 45 and year 2009\n",
      "Finished gathering data for grade 6 in FIPS 45 and year 2009\n",
      "Finished gathering data for grade 7 in FIPS 45 and year 2009\n",
      "Finished gathering data for grade 8 in FIPS 45 and year 2009\n",
      "Finished gathering data for FIPS 45 in year 2009\n",
      "Finished gathering data for grade 3 in FIPS 46 and year 2009\n",
      "Finished gathering data for grade 4 in FIPS 46 and year 2009\n",
      "Finished gathering data for grade 5 in FIPS 46 and year 2009\n",
      "Finished gathering data for grade 6 in FIPS 46 and year 2009\n",
      "Finished gathering data for grade 7 in FIPS 46 and year 2009\n",
      "Finished gathering data for grade 8 in FIPS 46 and year 2009\n",
      "Finished gathering data for FIPS 46 in year 2009\n",
      "Finished gathering data for grade 3 in FIPS 47 and year 2009\n",
      "Finished gathering data for grade 4 in FIPS 47 and year 2009\n",
      "Finished gathering data for grade 5 in FIPS 47 and year 2009\n",
      "Finished gathering data for grade 6 in FIPS 47 and year 2009\n",
      "Finished gathering data for grade 7 in FIPS 47 and year 2009\n",
      "Finished gathering data for grade 8 in FIPS 47 and year 2009\n",
      "Finished gathering data for FIPS 47 in year 2009\n",
      "Finished gathering data for grade 3 in FIPS 48 and year 2009\n",
      "Finished gathering data for grade 4 in FIPS 48 and year 2009\n",
      "Finished gathering data for grade 5 in FIPS 48 and year 2009\n",
      "Finished gathering data for grade 6 in FIPS 48 and year 2009\n",
      "Finished gathering data for grade 7 in FIPS 48 and year 2009\n",
      "Finished gathering data for grade 8 in FIPS 48 and year 2009\n",
      "Finished gathering data for FIPS 48 in year 2009\n",
      "Finished gathering data for grade 3 in FIPS 49 and year 2009\n",
      "Finished gathering data for grade 4 in FIPS 49 and year 2009\n",
      "Finished gathering data for grade 5 in FIPS 49 and year 2009\n",
      "Finished gathering data for grade 6 in FIPS 49 and year 2009\n",
      "Finished gathering data for grade 7 in FIPS 49 and year 2009\n",
      "Finished gathering data for grade 8 in FIPS 49 and year 2009\n",
      "Finished gathering data for FIPS 49 in year 2009\n",
      "Finished gathering data for grade 3 in FIPS 50 and year 2009\n",
      "Finished gathering data for grade 4 in FIPS 50 and year 2009\n",
      "Finished gathering data for grade 5 in FIPS 50 and year 2009\n",
      "Finished gathering data for grade 6 in FIPS 50 and year 2009\n",
      "Finished gathering data for grade 7 in FIPS 50 and year 2009\n",
      "Finished gathering data for grade 8 in FIPS 50 and year 2009\n",
      "Finished gathering data for FIPS 50 in year 2009\n",
      "Finished gathering data for grade 3 in FIPS 51 and year 2009\n",
      "Finished gathering data for grade 4 in FIPS 51 and year 2009\n",
      "Finished gathering data for grade 5 in FIPS 51 and year 2009\n",
      "Finished gathering data for grade 6 in FIPS 51 and year 2009\n",
      "Finished gathering data for grade 7 in FIPS 51 and year 2009\n",
      "Finished gathering data for grade 8 in FIPS 51 and year 2009\n",
      "Finished gathering data for FIPS 51 in year 2009\n",
      "Finished gathering data for grade 3 in FIPS 53 and year 2009\n",
      "Finished gathering data for grade 4 in FIPS 53 and year 2009\n",
      "Finished gathering data for grade 5 in FIPS 53 and year 2009\n",
      "Finished gathering data for grade 6 in FIPS 53 and year 2009\n",
      "Finished gathering data for grade 7 in FIPS 53 and year 2009\n",
      "Finished gathering data for grade 8 in FIPS 53 and year 2009\n",
      "Finished gathering data for FIPS 53 in year 2009\n",
      "Finished gathering data for grade 3 in FIPS 54 and year 2009\n",
      "Finished gathering data for grade 4 in FIPS 54 and year 2009\n",
      "Finished gathering data for grade 5 in FIPS 54 and year 2009\n",
      "Finished gathering data for grade 6 in FIPS 54 and year 2009\n",
      "Finished gathering data for grade 7 in FIPS 54 and year 2009\n",
      "Finished gathering data for grade 8 in FIPS 54 and year 2009\n",
      "Finished gathering data for FIPS 54 in year 2009\n",
      "Finished gathering data for grade 3 in FIPS 55 and year 2009\n",
      "Finished gathering data for grade 4 in FIPS 55 and year 2009\n",
      "Finished gathering data for grade 5 in FIPS 55 and year 2009\n",
      "Finished gathering data for grade 6 in FIPS 55 and year 2009\n",
      "Finished gathering data for grade 7 in FIPS 55 and year 2009\n",
      "Finished gathering data for grade 8 in FIPS 55 and year 2009\n",
      "Finished gathering data for FIPS 55 in year 2009\n",
      "Finished gathering data for grade 3 in FIPS 56 and year 2009\n",
      "Finished gathering data for grade 4 in FIPS 56 and year 2009\n",
      "Finished gathering data for grade 5 in FIPS 56 and year 2009\n",
      "Finished gathering data for grade 6 in FIPS 56 and year 2009\n",
      "Finished gathering data for grade 7 in FIPS 56 and year 2009\n",
      "Finished gathering data for grade 8 in FIPS 56 and year 2009\n",
      "Finished gathering data for FIPS 56 in year 2009\n"
     ]
    }
   ],
   "source": [
    "data_2009 = []\n",
    "\n",
    "for fips in fips_codes:\n",
    "    data = gather_data(2009, fips)\n",
    "    data_2009.extend(data)\n",
    "    print(f\"Finished gathering data for FIPS {fips} in year 2009\")\n",
    "\n",
    "df_2009 = pd.DataFrame(data_2009)\n"
   ]
  },
  {
   "cell_type": "code",
   "execution_count": 18,
   "id": "445f3afa",
   "metadata": {},
   "outputs": [
    {
     "name": "stdout",
     "output_type": "stream",
     "text": [
      "Finished gathering data for grade 3 in FIPS 01 and year 2010\n",
      "Finished gathering data for grade 4 in FIPS 01 and year 2010\n",
      "Finished gathering data for grade 5 in FIPS 01 and year 2010\n",
      "Finished gathering data for grade 6 in FIPS 01 and year 2010\n",
      "Finished gathering data for grade 7 in FIPS 01 and year 2010\n",
      "Finished gathering data for grade 8 in FIPS 01 and year 2010\n",
      "Finished gathering data for FIPS 01 in year 2010\n",
      "Finished gathering data for grade 3 in FIPS 02 and year 2010\n",
      "Finished gathering data for grade 4 in FIPS 02 and year 2010\n",
      "Finished gathering data for grade 5 in FIPS 02 and year 2010\n",
      "Finished gathering data for grade 6 in FIPS 02 and year 2010\n",
      "Finished gathering data for grade 7 in FIPS 02 and year 2010\n",
      "Finished gathering data for grade 8 in FIPS 02 and year 2010\n",
      "Finished gathering data for FIPS 02 in year 2010\n",
      "Finished gathering data for grade 3 in FIPS 04 and year 2010\n",
      "Finished gathering data for grade 4 in FIPS 04 and year 2010\n",
      "Finished gathering data for grade 5 in FIPS 04 and year 2010\n",
      "Finished gathering data for grade 6 in FIPS 04 and year 2010\n",
      "Finished gathering data for grade 7 in FIPS 04 and year 2010\n",
      "Finished gathering data for grade 8 in FIPS 04 and year 2010\n",
      "Finished gathering data for FIPS 04 in year 2010\n",
      "Finished gathering data for grade 3 in FIPS 05 and year 2010\n",
      "Finished gathering data for grade 4 in FIPS 05 and year 2010\n",
      "Finished gathering data for grade 5 in FIPS 05 and year 2010\n",
      "Finished gathering data for grade 6 in FIPS 05 and year 2010\n",
      "Finished gathering data for grade 7 in FIPS 05 and year 2010\n",
      "Finished gathering data for grade 8 in FIPS 05 and year 2010\n",
      "Finished gathering data for FIPS 05 in year 2010\n",
      "Finished gathering data for grade 3 in FIPS 06 and year 2010\n",
      "Finished gathering data for grade 4 in FIPS 06 and year 2010\n",
      "Finished gathering data for grade 5 in FIPS 06 and year 2010\n",
      "Finished gathering data for grade 6 in FIPS 06 and year 2010\n",
      "Finished gathering data for grade 7 in FIPS 06 and year 2010\n",
      "Finished gathering data for grade 8 in FIPS 06 and year 2010\n",
      "Finished gathering data for FIPS 06 in year 2010\n",
      "Finished gathering data for grade 3 in FIPS 08 and year 2010\n",
      "Finished gathering data for grade 4 in FIPS 08 and year 2010\n",
      "Finished gathering data for grade 5 in FIPS 08 and year 2010\n",
      "Finished gathering data for grade 6 in FIPS 08 and year 2010\n",
      "Finished gathering data for grade 7 in FIPS 08 and year 2010\n",
      "Finished gathering data for grade 8 in FIPS 08 and year 2010\n",
      "Finished gathering data for FIPS 08 in year 2010\n",
      "Finished gathering data for grade 3 in FIPS 09 and year 2010\n",
      "Finished gathering data for grade 4 in FIPS 09 and year 2010\n",
      "Finished gathering data for grade 5 in FIPS 09 and year 2010\n",
      "Finished gathering data for grade 6 in FIPS 09 and year 2010\n",
      "Finished gathering data for grade 7 in FIPS 09 and year 2010\n",
      "Finished gathering data for grade 8 in FIPS 09 and year 2010\n",
      "Finished gathering data for FIPS 09 in year 2010\n",
      "Finished gathering data for grade 3 in FIPS 10 and year 2010\n",
      "Finished gathering data for grade 4 in FIPS 10 and year 2010\n",
      "Finished gathering data for grade 5 in FIPS 10 and year 2010\n",
      "Finished gathering data for grade 6 in FIPS 10 and year 2010\n",
      "Finished gathering data for grade 7 in FIPS 10 and year 2010\n",
      "Finished gathering data for grade 8 in FIPS 10 and year 2010\n",
      "Finished gathering data for FIPS 10 in year 2010\n",
      "Finished gathering data for grade 3 in FIPS 11 and year 2010\n",
      "Finished gathering data for grade 4 in FIPS 11 and year 2010\n",
      "Finished gathering data for grade 5 in FIPS 11 and year 2010\n",
      "Finished gathering data for grade 6 in FIPS 11 and year 2010\n",
      "Finished gathering data for grade 7 in FIPS 11 and year 2010\n",
      "Finished gathering data for grade 8 in FIPS 11 and year 2010\n",
      "Finished gathering data for FIPS 11 in year 2010\n",
      "Finished gathering data for grade 3 in FIPS 12 and year 2010\n",
      "Finished gathering data for grade 4 in FIPS 12 and year 2010\n",
      "Finished gathering data for grade 5 in FIPS 12 and year 2010\n",
      "Finished gathering data for grade 6 in FIPS 12 and year 2010\n",
      "Finished gathering data for grade 7 in FIPS 12 and year 2010\n",
      "Finished gathering data for grade 8 in FIPS 12 and year 2010\n",
      "Finished gathering data for FIPS 12 in year 2010\n",
      "Finished gathering data for grade 3 in FIPS 13 and year 2010\n",
      "Finished gathering data for grade 4 in FIPS 13 and year 2010\n",
      "Finished gathering data for grade 5 in FIPS 13 and year 2010\n",
      "Finished gathering data for grade 6 in FIPS 13 and year 2010\n",
      "Finished gathering data for grade 7 in FIPS 13 and year 2010\n",
      "Finished gathering data for grade 8 in FIPS 13 and year 2010\n",
      "Finished gathering data for FIPS 13 in year 2010\n",
      "Finished gathering data for grade 3 in FIPS 15 and year 2010\n",
      "Finished gathering data for grade 4 in FIPS 15 and year 2010\n",
      "Finished gathering data for grade 5 in FIPS 15 and year 2010\n",
      "Finished gathering data for grade 6 in FIPS 15 and year 2010\n",
      "Finished gathering data for grade 7 in FIPS 15 and year 2010\n",
      "Finished gathering data for grade 8 in FIPS 15 and year 2010\n",
      "Finished gathering data for FIPS 15 in year 2010\n",
      "Finished gathering data for grade 3 in FIPS 16 and year 2010\n",
      "Finished gathering data for grade 4 in FIPS 16 and year 2010\n",
      "Finished gathering data for grade 5 in FIPS 16 and year 2010\n",
      "Finished gathering data for grade 6 in FIPS 16 and year 2010\n",
      "Finished gathering data for grade 7 in FIPS 16 and year 2010\n",
      "Finished gathering data for grade 8 in FIPS 16 and year 2010\n",
      "Finished gathering data for FIPS 16 in year 2010\n",
      "Finished gathering data for grade 3 in FIPS 17 and year 2010\n",
      "Finished gathering data for grade 4 in FIPS 17 and year 2010\n",
      "Finished gathering data for grade 5 in FIPS 17 and year 2010\n",
      "Finished gathering data for grade 6 in FIPS 17 and year 2010\n",
      "Finished gathering data for grade 7 in FIPS 17 and year 2010\n",
      "Finished gathering data for grade 8 in FIPS 17 and year 2010\n",
      "Finished gathering data for FIPS 17 in year 2010\n",
      "Finished gathering data for grade 3 in FIPS 18 and year 2010\n",
      "Finished gathering data for grade 4 in FIPS 18 and year 2010\n",
      "Finished gathering data for grade 5 in FIPS 18 and year 2010\n",
      "Finished gathering data for grade 6 in FIPS 18 and year 2010\n",
      "Finished gathering data for grade 7 in FIPS 18 and year 2010\n",
      "Finished gathering data for grade 8 in FIPS 18 and year 2010\n",
      "Finished gathering data for FIPS 18 in year 2010\n",
      "Finished gathering data for grade 3 in FIPS 19 and year 2010\n",
      "Finished gathering data for grade 4 in FIPS 19 and year 2010\n",
      "Finished gathering data for grade 5 in FIPS 19 and year 2010\n",
      "Finished gathering data for grade 6 in FIPS 19 and year 2010\n",
      "Finished gathering data for grade 7 in FIPS 19 and year 2010\n",
      "Finished gathering data for grade 8 in FIPS 19 and year 2010\n",
      "Finished gathering data for FIPS 19 in year 2010\n",
      "Finished gathering data for grade 3 in FIPS 20 and year 2010\n",
      "Finished gathering data for grade 4 in FIPS 20 and year 2010\n",
      "Finished gathering data for grade 5 in FIPS 20 and year 2010\n",
      "Finished gathering data for grade 6 in FIPS 20 and year 2010\n",
      "Finished gathering data for grade 7 in FIPS 20 and year 2010\n",
      "Finished gathering data for grade 8 in FIPS 20 and year 2010\n",
      "Finished gathering data for FIPS 20 in year 2010\n",
      "Finished gathering data for grade 3 in FIPS 21 and year 2010\n",
      "Finished gathering data for grade 4 in FIPS 21 and year 2010\n",
      "Finished gathering data for grade 5 in FIPS 21 and year 2010\n",
      "Finished gathering data for grade 6 in FIPS 21 and year 2010\n",
      "Finished gathering data for grade 7 in FIPS 21 and year 2010\n",
      "Finished gathering data for grade 8 in FIPS 21 and year 2010\n",
      "Finished gathering data for FIPS 21 in year 2010\n",
      "Finished gathering data for grade 3 in FIPS 22 and year 2010\n",
      "Finished gathering data for grade 4 in FIPS 22 and year 2010\n",
      "Finished gathering data for grade 5 in FIPS 22 and year 2010\n",
      "Finished gathering data for grade 6 in FIPS 22 and year 2010\n",
      "Finished gathering data for grade 7 in FIPS 22 and year 2010\n",
      "Finished gathering data for grade 8 in FIPS 22 and year 2010\n",
      "Finished gathering data for FIPS 22 in year 2010\n",
      "Finished gathering data for grade 3 in FIPS 23 and year 2010\n",
      "Finished gathering data for grade 4 in FIPS 23 and year 2010\n",
      "Finished gathering data for grade 5 in FIPS 23 and year 2010\n",
      "Finished gathering data for grade 6 in FIPS 23 and year 2010\n",
      "Finished gathering data for grade 7 in FIPS 23 and year 2010\n",
      "Finished gathering data for grade 8 in FIPS 23 and year 2010\n",
      "Finished gathering data for FIPS 23 in year 2010\n",
      "Finished gathering data for grade 3 in FIPS 24 and year 2010\n",
      "Finished gathering data for grade 4 in FIPS 24 and year 2010\n",
      "Finished gathering data for grade 5 in FIPS 24 and year 2010\n",
      "Finished gathering data for grade 6 in FIPS 24 and year 2010\n",
      "Finished gathering data for grade 7 in FIPS 24 and year 2010\n",
      "Finished gathering data for grade 8 in FIPS 24 and year 2010\n",
      "Finished gathering data for FIPS 24 in year 2010\n",
      "Finished gathering data for grade 3 in FIPS 25 and year 2010\n",
      "Finished gathering data for grade 4 in FIPS 25 and year 2010\n",
      "Finished gathering data for grade 5 in FIPS 25 and year 2010\n",
      "Finished gathering data for grade 6 in FIPS 25 and year 2010\n",
      "Finished gathering data for grade 7 in FIPS 25 and year 2010\n",
      "Finished gathering data for grade 8 in FIPS 25 and year 2010\n",
      "Finished gathering data for FIPS 25 in year 2010\n",
      "Finished gathering data for grade 3 in FIPS 26 and year 2010\n",
      "Finished gathering data for grade 4 in FIPS 26 and year 2010\n",
      "Finished gathering data for grade 5 in FIPS 26 and year 2010\n",
      "Finished gathering data for grade 6 in FIPS 26 and year 2010\n",
      "Finished gathering data for grade 7 in FIPS 26 and year 2010\n",
      "Finished gathering data for grade 8 in FIPS 26 and year 2010\n",
      "Finished gathering data for FIPS 26 in year 2010\n",
      "Finished gathering data for grade 3 in FIPS 27 and year 2010\n",
      "Finished gathering data for grade 4 in FIPS 27 and year 2010\n",
      "Finished gathering data for grade 5 in FIPS 27 and year 2010\n",
      "Finished gathering data for grade 6 in FIPS 27 and year 2010\n",
      "Finished gathering data for grade 7 in FIPS 27 and year 2010\n",
      "Finished gathering data for grade 8 in FIPS 27 and year 2010\n",
      "Finished gathering data for FIPS 27 in year 2010\n",
      "Finished gathering data for grade 3 in FIPS 28 and year 2010\n",
      "Finished gathering data for grade 4 in FIPS 28 and year 2010\n",
      "Finished gathering data for grade 5 in FIPS 28 and year 2010\n",
      "Finished gathering data for grade 6 in FIPS 28 and year 2010\n",
      "Finished gathering data for grade 7 in FIPS 28 and year 2010\n",
      "Finished gathering data for grade 8 in FIPS 28 and year 2010\n",
      "Finished gathering data for FIPS 28 in year 2010\n",
      "Finished gathering data for grade 3 in FIPS 29 and year 2010\n",
      "Finished gathering data for grade 4 in FIPS 29 and year 2010\n",
      "Finished gathering data for grade 5 in FIPS 29 and year 2010\n",
      "Finished gathering data for grade 6 in FIPS 29 and year 2010\n",
      "Finished gathering data for grade 7 in FIPS 29 and year 2010\n",
      "Finished gathering data for grade 8 in FIPS 29 and year 2010\n",
      "Finished gathering data for FIPS 29 in year 2010\n",
      "Finished gathering data for grade 3 in FIPS 30 and year 2010\n",
      "Finished gathering data for grade 4 in FIPS 30 and year 2010\n",
      "Finished gathering data for grade 5 in FIPS 30 and year 2010\n",
      "Finished gathering data for grade 6 in FIPS 30 and year 2010\n",
      "Finished gathering data for grade 7 in FIPS 30 and year 2010\n",
      "Finished gathering data for grade 8 in FIPS 30 and year 2010\n",
      "Finished gathering data for FIPS 30 in year 2010\n",
      "Finished gathering data for grade 3 in FIPS 31 and year 2010\n",
      "Finished gathering data for grade 4 in FIPS 31 and year 2010\n",
      "Finished gathering data for grade 5 in FIPS 31 and year 2010\n",
      "Finished gathering data for grade 6 in FIPS 31 and year 2010\n",
      "Finished gathering data for grade 7 in FIPS 31 and year 2010\n",
      "Finished gathering data for grade 8 in FIPS 31 and year 2010\n",
      "Finished gathering data for FIPS 31 in year 2010\n",
      "Finished gathering data for grade 3 in FIPS 32 and year 2010\n",
      "Finished gathering data for grade 4 in FIPS 32 and year 2010\n",
      "Finished gathering data for grade 5 in FIPS 32 and year 2010\n",
      "Finished gathering data for grade 6 in FIPS 32 and year 2010\n",
      "Finished gathering data for grade 7 in FIPS 32 and year 2010\n",
      "Finished gathering data for grade 8 in FIPS 32 and year 2010\n",
      "Finished gathering data for FIPS 32 in year 2010\n",
      "Finished gathering data for grade 3 in FIPS 33 and year 2010\n",
      "Finished gathering data for grade 4 in FIPS 33 and year 2010\n",
      "Finished gathering data for grade 5 in FIPS 33 and year 2010\n",
      "Finished gathering data for grade 6 in FIPS 33 and year 2010\n",
      "Finished gathering data for grade 7 in FIPS 33 and year 2010\n",
      "Finished gathering data for grade 8 in FIPS 33 and year 2010\n",
      "Finished gathering data for FIPS 33 in year 2010\n",
      "Finished gathering data for grade 3 in FIPS 34 and year 2010\n",
      "Finished gathering data for grade 4 in FIPS 34 and year 2010\n",
      "Finished gathering data for grade 5 in FIPS 34 and year 2010\n",
      "Finished gathering data for grade 6 in FIPS 34 and year 2010\n",
      "Finished gathering data for grade 7 in FIPS 34 and year 2010\n",
      "Finished gathering data for grade 8 in FIPS 34 and year 2010\n",
      "Finished gathering data for FIPS 34 in year 2010\n",
      "Finished gathering data for grade 3 in FIPS 35 and year 2010\n",
      "Finished gathering data for grade 4 in FIPS 35 and year 2010\n",
      "Finished gathering data for grade 5 in FIPS 35 and year 2010\n",
      "Finished gathering data for grade 6 in FIPS 35 and year 2010\n",
      "Finished gathering data for grade 7 in FIPS 35 and year 2010\n",
      "Finished gathering data for grade 8 in FIPS 35 and year 2010\n",
      "Finished gathering data for FIPS 35 in year 2010\n",
      "Finished gathering data for grade 3 in FIPS 36 and year 2010\n",
      "Finished gathering data for grade 4 in FIPS 36 and year 2010\n",
      "Finished gathering data for grade 5 in FIPS 36 and year 2010\n",
      "Finished gathering data for grade 6 in FIPS 36 and year 2010\n",
      "Finished gathering data for grade 7 in FIPS 36 and year 2010\n",
      "Finished gathering data for grade 8 in FIPS 36 and year 2010\n",
      "Finished gathering data for FIPS 36 in year 2010\n",
      "Finished gathering data for grade 3 in FIPS 37 and year 2010\n",
      "Finished gathering data for grade 4 in FIPS 37 and year 2010\n",
      "Finished gathering data for grade 5 in FIPS 37 and year 2010\n",
      "Finished gathering data for grade 6 in FIPS 37 and year 2010\n",
      "Finished gathering data for grade 7 in FIPS 37 and year 2010\n",
      "Finished gathering data for grade 8 in FIPS 37 and year 2010\n",
      "Finished gathering data for FIPS 37 in year 2010\n",
      "Finished gathering data for grade 3 in FIPS 38 and year 2010\n",
      "Finished gathering data for grade 4 in FIPS 38 and year 2010\n",
      "Finished gathering data for grade 5 in FIPS 38 and year 2010\n",
      "Finished gathering data for grade 6 in FIPS 38 and year 2010\n",
      "Finished gathering data for grade 7 in FIPS 38 and year 2010\n",
      "Finished gathering data for grade 8 in FIPS 38 and year 2010\n",
      "Finished gathering data for FIPS 38 in year 2010\n",
      "Finished gathering data for grade 3 in FIPS 39 and year 2010\n",
      "Finished gathering data for grade 4 in FIPS 39 and year 2010\n",
      "Finished gathering data for grade 5 in FIPS 39 and year 2010\n",
      "Finished gathering data for grade 6 in FIPS 39 and year 2010\n",
      "Finished gathering data for grade 7 in FIPS 39 and year 2010\n",
      "Finished gathering data for grade 8 in FIPS 39 and year 2010\n",
      "Finished gathering data for FIPS 39 in year 2010\n",
      "Finished gathering data for grade 3 in FIPS 40 and year 2010\n",
      "Finished gathering data for grade 4 in FIPS 40 and year 2010\n",
      "Finished gathering data for grade 5 in FIPS 40 and year 2010\n",
      "Finished gathering data for grade 6 in FIPS 40 and year 2010\n",
      "Finished gathering data for grade 7 in FIPS 40 and year 2010\n",
      "Finished gathering data for grade 8 in FIPS 40 and year 2010\n",
      "Finished gathering data for FIPS 40 in year 2010\n",
      "Finished gathering data for grade 3 in FIPS 41 and year 2010\n",
      "Finished gathering data for grade 4 in FIPS 41 and year 2010\n",
      "Finished gathering data for grade 5 in FIPS 41 and year 2010\n",
      "Finished gathering data for grade 6 in FIPS 41 and year 2010\n",
      "Finished gathering data for grade 7 in FIPS 41 and year 2010\n",
      "Finished gathering data for grade 8 in FIPS 41 and year 2010\n",
      "Finished gathering data for FIPS 41 in year 2010\n",
      "Finished gathering data for grade 3 in FIPS 42 and year 2010\n",
      "Finished gathering data for grade 4 in FIPS 42 and year 2010\n",
      "Finished gathering data for grade 5 in FIPS 42 and year 2010\n",
      "Finished gathering data for grade 6 in FIPS 42 and year 2010\n",
      "Finished gathering data for grade 7 in FIPS 42 and year 2010\n",
      "Finished gathering data for grade 8 in FIPS 42 and year 2010\n",
      "Finished gathering data for FIPS 42 in year 2010\n",
      "Finished gathering data for grade 3 in FIPS 44 and year 2010\n",
      "Finished gathering data for grade 4 in FIPS 44 and year 2010\n",
      "Finished gathering data for grade 5 in FIPS 44 and year 2010\n",
      "Finished gathering data for grade 6 in FIPS 44 and year 2010\n",
      "Finished gathering data for grade 7 in FIPS 44 and year 2010\n",
      "Finished gathering data for grade 8 in FIPS 44 and year 2010\n",
      "Finished gathering data for FIPS 44 in year 2010\n",
      "Finished gathering data for grade 3 in FIPS 45 and year 2010\n",
      "Finished gathering data for grade 4 in FIPS 45 and year 2010\n",
      "Finished gathering data for grade 5 in FIPS 45 and year 2010\n",
      "Finished gathering data for grade 6 in FIPS 45 and year 2010\n",
      "Finished gathering data for grade 7 in FIPS 45 and year 2010\n",
      "Finished gathering data for grade 8 in FIPS 45 and year 2010\n",
      "Finished gathering data for FIPS 45 in year 2010\n",
      "Finished gathering data for grade 3 in FIPS 46 and year 2010\n",
      "Finished gathering data for grade 4 in FIPS 46 and year 2010\n",
      "Finished gathering data for grade 5 in FIPS 46 and year 2010\n",
      "Finished gathering data for grade 6 in FIPS 46 and year 2010\n",
      "Finished gathering data for grade 7 in FIPS 46 and year 2010\n",
      "Finished gathering data for grade 8 in FIPS 46 and year 2010\n",
      "Finished gathering data for FIPS 46 in year 2010\n",
      "Finished gathering data for grade 3 in FIPS 47 and year 2010\n",
      "Finished gathering data for grade 4 in FIPS 47 and year 2010\n",
      "Finished gathering data for grade 5 in FIPS 47 and year 2010\n",
      "Finished gathering data for grade 6 in FIPS 47 and year 2010\n",
      "Finished gathering data for grade 7 in FIPS 47 and year 2010\n",
      "Finished gathering data for grade 8 in FIPS 47 and year 2010\n",
      "Finished gathering data for FIPS 47 in year 2010\n",
      "Finished gathering data for grade 3 in FIPS 48 and year 2010\n",
      "Finished gathering data for grade 4 in FIPS 48 and year 2010\n",
      "Finished gathering data for grade 5 in FIPS 48 and year 2010\n",
      "Finished gathering data for grade 6 in FIPS 48 and year 2010\n",
      "Finished gathering data for grade 7 in FIPS 48 and year 2010\n",
      "Finished gathering data for grade 8 in FIPS 48 and year 2010\n",
      "Finished gathering data for FIPS 48 in year 2010\n",
      "Finished gathering data for grade 3 in FIPS 49 and year 2010\n",
      "Finished gathering data for grade 4 in FIPS 49 and year 2010\n",
      "Finished gathering data for grade 5 in FIPS 49 and year 2010\n",
      "Finished gathering data for grade 6 in FIPS 49 and year 2010\n",
      "Finished gathering data for grade 7 in FIPS 49 and year 2010\n",
      "Finished gathering data for grade 8 in FIPS 49 and year 2010\n",
      "Finished gathering data for FIPS 49 in year 2010\n",
      "Finished gathering data for grade 3 in FIPS 50 and year 2010\n",
      "Finished gathering data for grade 4 in FIPS 50 and year 2010\n",
      "Finished gathering data for grade 5 in FIPS 50 and year 2010\n",
      "Finished gathering data for grade 6 in FIPS 50 and year 2010\n",
      "Finished gathering data for grade 7 in FIPS 50 and year 2010\n",
      "Finished gathering data for grade 8 in FIPS 50 and year 2010\n",
      "Finished gathering data for FIPS 50 in year 2010\n",
      "Finished gathering data for grade 3 in FIPS 51 and year 2010\n",
      "Finished gathering data for grade 4 in FIPS 51 and year 2010\n",
      "Finished gathering data for grade 5 in FIPS 51 and year 2010\n",
      "Finished gathering data for grade 6 in FIPS 51 and year 2010\n",
      "Finished gathering data for grade 7 in FIPS 51 and year 2010\n",
      "Finished gathering data for grade 8 in FIPS 51 and year 2010\n",
      "Finished gathering data for FIPS 51 in year 2010\n",
      "Finished gathering data for grade 3 in FIPS 53 and year 2010\n",
      "Finished gathering data for grade 4 in FIPS 53 and year 2010\n",
      "Finished gathering data for grade 5 in FIPS 53 and year 2010\n",
      "Finished gathering data for grade 6 in FIPS 53 and year 2010\n",
      "Finished gathering data for grade 7 in FIPS 53 and year 2010\n",
      "Finished gathering data for grade 8 in FIPS 53 and year 2010\n",
      "Finished gathering data for FIPS 53 in year 2010\n",
      "Finished gathering data for grade 3 in FIPS 54 and year 2010\n",
      "Finished gathering data for grade 4 in FIPS 54 and year 2010\n",
      "Finished gathering data for grade 5 in FIPS 54 and year 2010\n",
      "Finished gathering data for grade 6 in FIPS 54 and year 2010\n",
      "Finished gathering data for grade 7 in FIPS 54 and year 2010\n",
      "Finished gathering data for grade 8 in FIPS 54 and year 2010\n",
      "Finished gathering data for FIPS 54 in year 2010\n",
      "Finished gathering data for grade 3 in FIPS 55 and year 2010\n",
      "Finished gathering data for grade 4 in FIPS 55 and year 2010\n",
      "Finished gathering data for grade 5 in FIPS 55 and year 2010\n",
      "Finished gathering data for grade 6 in FIPS 55 and year 2010\n",
      "Finished gathering data for grade 7 in FIPS 55 and year 2010\n",
      "Finished gathering data for grade 8 in FIPS 55 and year 2010\n",
      "Finished gathering data for FIPS 55 in year 2010\n",
      "Finished gathering data for grade 3 in FIPS 56 and year 2010\n",
      "Finished gathering data for grade 4 in FIPS 56 and year 2010\n",
      "Finished gathering data for grade 5 in FIPS 56 and year 2010\n",
      "Finished gathering data for grade 6 in FIPS 56 and year 2010\n",
      "Finished gathering data for grade 7 in FIPS 56 and year 2010\n",
      "Finished gathering data for grade 8 in FIPS 56 and year 2010\n",
      "Finished gathering data for FIPS 56 in year 2010\n"
     ]
    }
   ],
   "source": [
    "data_2010 = []\n",
    "\n",
    "for fips in fips_codes:\n",
    "    data = gather_data(2010, fips)\n",
    "    data_2010.extend(data)\n",
    "    print(f\"Finished gathering data for FIPS {fips} in year 2010\")\n",
    "\n",
    "df_2010 = pd.DataFrame(data_2010)\n"
   ]
  },
  {
   "cell_type": "code",
   "execution_count": 19,
   "id": "bdbb190c",
   "metadata": {},
   "outputs": [
    {
     "name": "stdout",
     "output_type": "stream",
     "text": [
      "Finished gathering data for grade 3 in FIPS 01 and year 2011\n",
      "Finished gathering data for grade 4 in FIPS 01 and year 2011\n",
      "Finished gathering data for grade 5 in FIPS 01 and year 2011\n",
      "Finished gathering data for grade 6 in FIPS 01 and year 2011\n",
      "Finished gathering data for grade 7 in FIPS 01 and year 2011\n",
      "Finished gathering data for grade 8 in FIPS 01 and year 2011\n",
      "Finished gathering data for FIPS 01 in year 2011\n",
      "Finished gathering data for grade 3 in FIPS 02 and year 2011\n",
      "Finished gathering data for grade 4 in FIPS 02 and year 2011\n",
      "Finished gathering data for grade 5 in FIPS 02 and year 2011\n",
      "Finished gathering data for grade 6 in FIPS 02 and year 2011\n",
      "Finished gathering data for grade 7 in FIPS 02 and year 2011\n",
      "Finished gathering data for grade 8 in FIPS 02 and year 2011\n",
      "Finished gathering data for FIPS 02 in year 2011\n",
      "Finished gathering data for grade 3 in FIPS 04 and year 2011\n",
      "Finished gathering data for grade 4 in FIPS 04 and year 2011\n",
      "Finished gathering data for grade 5 in FIPS 04 and year 2011\n",
      "Finished gathering data for grade 6 in FIPS 04 and year 2011\n",
      "Finished gathering data for grade 7 in FIPS 04 and year 2011\n",
      "Finished gathering data for grade 8 in FIPS 04 and year 2011\n",
      "Finished gathering data for FIPS 04 in year 2011\n",
      "Finished gathering data for grade 3 in FIPS 05 and year 2011\n",
      "Finished gathering data for grade 4 in FIPS 05 and year 2011\n",
      "Finished gathering data for grade 5 in FIPS 05 and year 2011\n",
      "Finished gathering data for grade 6 in FIPS 05 and year 2011\n",
      "Finished gathering data for grade 7 in FIPS 05 and year 2011\n",
      "Finished gathering data for grade 8 in FIPS 05 and year 2011\n",
      "Finished gathering data for FIPS 05 in year 2011\n",
      "Finished gathering data for grade 3 in FIPS 06 and year 2011\n",
      "Finished gathering data for grade 4 in FIPS 06 and year 2011\n",
      "Finished gathering data for grade 5 in FIPS 06 and year 2011\n",
      "Finished gathering data for grade 6 in FIPS 06 and year 2011\n",
      "Finished gathering data for grade 7 in FIPS 06 and year 2011\n",
      "Finished gathering data for grade 8 in FIPS 06 and year 2011\n",
      "Finished gathering data for FIPS 06 in year 2011\n",
      "Finished gathering data for grade 3 in FIPS 08 and year 2011\n",
      "Finished gathering data for grade 4 in FIPS 08 and year 2011\n",
      "Finished gathering data for grade 5 in FIPS 08 and year 2011\n",
      "Finished gathering data for grade 6 in FIPS 08 and year 2011\n",
      "Finished gathering data for grade 7 in FIPS 08 and year 2011\n",
      "Finished gathering data for grade 8 in FIPS 08 and year 2011\n",
      "Finished gathering data for FIPS 08 in year 2011\n",
      "Finished gathering data for grade 3 in FIPS 09 and year 2011\n",
      "Finished gathering data for grade 4 in FIPS 09 and year 2011\n",
      "Finished gathering data for grade 5 in FIPS 09 and year 2011\n",
      "Finished gathering data for grade 6 in FIPS 09 and year 2011\n",
      "Finished gathering data for grade 7 in FIPS 09 and year 2011\n",
      "Finished gathering data for grade 8 in FIPS 09 and year 2011\n",
      "Finished gathering data for FIPS 09 in year 2011\n",
      "Finished gathering data for grade 3 in FIPS 10 and year 2011\n",
      "Finished gathering data for grade 4 in FIPS 10 and year 2011\n",
      "Finished gathering data for grade 5 in FIPS 10 and year 2011\n",
      "Finished gathering data for grade 6 in FIPS 10 and year 2011\n",
      "Finished gathering data for grade 7 in FIPS 10 and year 2011\n",
      "Finished gathering data for grade 8 in FIPS 10 and year 2011\n",
      "Finished gathering data for FIPS 10 in year 2011\n",
      "Finished gathering data for grade 3 in FIPS 11 and year 2011\n",
      "Finished gathering data for grade 4 in FIPS 11 and year 2011\n",
      "Finished gathering data for grade 5 in FIPS 11 and year 2011\n",
      "Finished gathering data for grade 6 in FIPS 11 and year 2011\n",
      "Finished gathering data for grade 7 in FIPS 11 and year 2011\n",
      "Finished gathering data for grade 8 in FIPS 11 and year 2011\n",
      "Finished gathering data for FIPS 11 in year 2011\n",
      "Finished gathering data for grade 3 in FIPS 12 and year 2011\n",
      "Finished gathering data for grade 4 in FIPS 12 and year 2011\n",
      "Finished gathering data for grade 5 in FIPS 12 and year 2011\n",
      "Finished gathering data for grade 6 in FIPS 12 and year 2011\n",
      "Finished gathering data for grade 7 in FIPS 12 and year 2011\n",
      "Finished gathering data for grade 8 in FIPS 12 and year 2011\n",
      "Finished gathering data for FIPS 12 in year 2011\n",
      "Finished gathering data for grade 3 in FIPS 13 and year 2011\n",
      "Finished gathering data for grade 4 in FIPS 13 and year 2011\n",
      "Finished gathering data for grade 5 in FIPS 13 and year 2011\n",
      "Finished gathering data for grade 6 in FIPS 13 and year 2011\n",
      "Finished gathering data for grade 7 in FIPS 13 and year 2011\n",
      "Finished gathering data for grade 8 in FIPS 13 and year 2011\n",
      "Finished gathering data for FIPS 13 in year 2011\n",
      "Finished gathering data for grade 3 in FIPS 15 and year 2011\n",
      "Finished gathering data for grade 4 in FIPS 15 and year 2011\n",
      "Finished gathering data for grade 5 in FIPS 15 and year 2011\n",
      "Finished gathering data for grade 6 in FIPS 15 and year 2011\n",
      "Finished gathering data for grade 7 in FIPS 15 and year 2011\n",
      "Finished gathering data for grade 8 in FIPS 15 and year 2011\n",
      "Finished gathering data for FIPS 15 in year 2011\n",
      "Finished gathering data for grade 3 in FIPS 16 and year 2011\n",
      "Finished gathering data for grade 4 in FIPS 16 and year 2011\n",
      "Finished gathering data for grade 5 in FIPS 16 and year 2011\n",
      "Finished gathering data for grade 6 in FIPS 16 and year 2011\n",
      "Finished gathering data for grade 7 in FIPS 16 and year 2011\n",
      "Finished gathering data for grade 8 in FIPS 16 and year 2011\n",
      "Finished gathering data for FIPS 16 in year 2011\n",
      "Finished gathering data for grade 3 in FIPS 17 and year 2011\n",
      "Finished gathering data for grade 4 in FIPS 17 and year 2011\n",
      "Finished gathering data for grade 5 in FIPS 17 and year 2011\n",
      "Finished gathering data for grade 6 in FIPS 17 and year 2011\n",
      "Finished gathering data for grade 7 in FIPS 17 and year 2011\n",
      "Finished gathering data for grade 8 in FIPS 17 and year 2011\n",
      "Finished gathering data for FIPS 17 in year 2011\n",
      "Finished gathering data for grade 3 in FIPS 18 and year 2011\n",
      "Finished gathering data for grade 4 in FIPS 18 and year 2011\n",
      "Finished gathering data for grade 5 in FIPS 18 and year 2011\n",
      "Finished gathering data for grade 6 in FIPS 18 and year 2011\n",
      "Finished gathering data for grade 7 in FIPS 18 and year 2011\n",
      "Finished gathering data for grade 8 in FIPS 18 and year 2011\n",
      "Finished gathering data for FIPS 18 in year 2011\n",
      "Finished gathering data for grade 3 in FIPS 19 and year 2011\n",
      "Finished gathering data for grade 4 in FIPS 19 and year 2011\n",
      "Finished gathering data for grade 5 in FIPS 19 and year 2011\n",
      "Finished gathering data for grade 6 in FIPS 19 and year 2011\n",
      "Finished gathering data for grade 7 in FIPS 19 and year 2011\n",
      "Finished gathering data for grade 8 in FIPS 19 and year 2011\n",
      "Finished gathering data for FIPS 19 in year 2011\n",
      "Finished gathering data for grade 3 in FIPS 20 and year 2011\n",
      "Finished gathering data for grade 4 in FIPS 20 and year 2011\n",
      "Finished gathering data for grade 5 in FIPS 20 and year 2011\n",
      "Finished gathering data for grade 6 in FIPS 20 and year 2011\n",
      "Finished gathering data for grade 7 in FIPS 20 and year 2011\n",
      "Finished gathering data for grade 8 in FIPS 20 and year 2011\n",
      "Finished gathering data for FIPS 20 in year 2011\n",
      "Finished gathering data for grade 3 in FIPS 21 and year 2011\n",
      "Finished gathering data for grade 4 in FIPS 21 and year 2011\n",
      "Finished gathering data for grade 5 in FIPS 21 and year 2011\n",
      "Finished gathering data for grade 6 in FIPS 21 and year 2011\n",
      "Finished gathering data for grade 7 in FIPS 21 and year 2011\n",
      "Finished gathering data for grade 8 in FIPS 21 and year 2011\n",
      "Finished gathering data for FIPS 21 in year 2011\n",
      "Finished gathering data for grade 3 in FIPS 22 and year 2011\n",
      "Finished gathering data for grade 4 in FIPS 22 and year 2011\n",
      "Finished gathering data for grade 5 in FIPS 22 and year 2011\n",
      "Finished gathering data for grade 6 in FIPS 22 and year 2011\n",
      "Finished gathering data for grade 7 in FIPS 22 and year 2011\n",
      "Finished gathering data for grade 8 in FIPS 22 and year 2011\n",
      "Finished gathering data for FIPS 22 in year 2011\n",
      "Finished gathering data for grade 3 in FIPS 23 and year 2011\n",
      "Finished gathering data for grade 4 in FIPS 23 and year 2011\n",
      "Finished gathering data for grade 5 in FIPS 23 and year 2011\n",
      "Finished gathering data for grade 6 in FIPS 23 and year 2011\n",
      "Finished gathering data for grade 7 in FIPS 23 and year 2011\n",
      "Finished gathering data for grade 8 in FIPS 23 and year 2011\n",
      "Finished gathering data for FIPS 23 in year 2011\n",
      "Finished gathering data for grade 3 in FIPS 24 and year 2011\n",
      "Finished gathering data for grade 4 in FIPS 24 and year 2011\n",
      "Finished gathering data for grade 5 in FIPS 24 and year 2011\n",
      "Finished gathering data for grade 6 in FIPS 24 and year 2011\n",
      "Finished gathering data for grade 7 in FIPS 24 and year 2011\n",
      "Finished gathering data for grade 8 in FIPS 24 and year 2011\n",
      "Finished gathering data for FIPS 24 in year 2011\n",
      "Finished gathering data for grade 3 in FIPS 25 and year 2011\n",
      "Finished gathering data for grade 4 in FIPS 25 and year 2011\n",
      "Finished gathering data for grade 5 in FIPS 25 and year 2011\n",
      "Finished gathering data for grade 6 in FIPS 25 and year 2011\n",
      "Finished gathering data for grade 7 in FIPS 25 and year 2011\n",
      "Finished gathering data for grade 8 in FIPS 25 and year 2011\n",
      "Finished gathering data for FIPS 25 in year 2011\n",
      "Finished gathering data for grade 3 in FIPS 26 and year 2011\n",
      "Finished gathering data for grade 4 in FIPS 26 and year 2011\n",
      "Finished gathering data for grade 5 in FIPS 26 and year 2011\n",
      "Finished gathering data for grade 6 in FIPS 26 and year 2011\n",
      "Finished gathering data for grade 7 in FIPS 26 and year 2011\n",
      "Finished gathering data for grade 8 in FIPS 26 and year 2011\n",
      "Finished gathering data for FIPS 26 in year 2011\n",
      "Finished gathering data for grade 3 in FIPS 27 and year 2011\n",
      "Finished gathering data for grade 4 in FIPS 27 and year 2011\n",
      "Finished gathering data for grade 5 in FIPS 27 and year 2011\n",
      "Finished gathering data for grade 6 in FIPS 27 and year 2011\n",
      "Finished gathering data for grade 7 in FIPS 27 and year 2011\n",
      "Finished gathering data for grade 8 in FIPS 27 and year 2011\n",
      "Finished gathering data for FIPS 27 in year 2011\n",
      "Finished gathering data for grade 3 in FIPS 28 and year 2011\n",
      "Finished gathering data for grade 4 in FIPS 28 and year 2011\n",
      "Finished gathering data for grade 5 in FIPS 28 and year 2011\n",
      "Finished gathering data for grade 6 in FIPS 28 and year 2011\n",
      "Finished gathering data for grade 7 in FIPS 28 and year 2011\n",
      "Finished gathering data for grade 8 in FIPS 28 and year 2011\n",
      "Finished gathering data for FIPS 28 in year 2011\n",
      "Finished gathering data for grade 3 in FIPS 29 and year 2011\n",
      "Finished gathering data for grade 4 in FIPS 29 and year 2011\n",
      "Finished gathering data for grade 5 in FIPS 29 and year 2011\n",
      "Finished gathering data for grade 6 in FIPS 29 and year 2011\n",
      "Finished gathering data for grade 7 in FIPS 29 and year 2011\n",
      "Finished gathering data for grade 8 in FIPS 29 and year 2011\n",
      "Finished gathering data for FIPS 29 in year 2011\n",
      "Finished gathering data for grade 3 in FIPS 30 and year 2011\n",
      "Finished gathering data for grade 4 in FIPS 30 and year 2011\n",
      "Finished gathering data for grade 5 in FIPS 30 and year 2011\n",
      "Finished gathering data for grade 6 in FIPS 30 and year 2011\n",
      "Finished gathering data for grade 7 in FIPS 30 and year 2011\n",
      "Finished gathering data for grade 8 in FIPS 30 and year 2011\n",
      "Finished gathering data for FIPS 30 in year 2011\n",
      "Finished gathering data for grade 3 in FIPS 31 and year 2011\n",
      "Finished gathering data for grade 4 in FIPS 31 and year 2011\n",
      "Finished gathering data for grade 5 in FIPS 31 and year 2011\n",
      "Finished gathering data for grade 6 in FIPS 31 and year 2011\n",
      "Finished gathering data for grade 7 in FIPS 31 and year 2011\n",
      "Finished gathering data for grade 8 in FIPS 31 and year 2011\n",
      "Finished gathering data for FIPS 31 in year 2011\n",
      "Finished gathering data for grade 3 in FIPS 32 and year 2011\n",
      "Finished gathering data for grade 4 in FIPS 32 and year 2011\n",
      "Finished gathering data for grade 5 in FIPS 32 and year 2011\n",
      "Finished gathering data for grade 6 in FIPS 32 and year 2011\n",
      "Finished gathering data for grade 7 in FIPS 32 and year 2011\n",
      "Finished gathering data for grade 8 in FIPS 32 and year 2011\n",
      "Finished gathering data for FIPS 32 in year 2011\n",
      "Finished gathering data for grade 3 in FIPS 33 and year 2011\n",
      "Finished gathering data for grade 4 in FIPS 33 and year 2011\n",
      "Finished gathering data for grade 5 in FIPS 33 and year 2011\n",
      "Finished gathering data for grade 6 in FIPS 33 and year 2011\n",
      "Finished gathering data for grade 7 in FIPS 33 and year 2011\n",
      "Finished gathering data for grade 8 in FIPS 33 and year 2011\n",
      "Finished gathering data for FIPS 33 in year 2011\n",
      "Finished gathering data for grade 3 in FIPS 34 and year 2011\n",
      "Finished gathering data for grade 4 in FIPS 34 and year 2011\n",
      "Finished gathering data for grade 5 in FIPS 34 and year 2011\n",
      "Finished gathering data for grade 6 in FIPS 34 and year 2011\n",
      "Finished gathering data for grade 7 in FIPS 34 and year 2011\n",
      "Finished gathering data for grade 8 in FIPS 34 and year 2011\n",
      "Finished gathering data for FIPS 34 in year 2011\n",
      "Finished gathering data for grade 3 in FIPS 35 and year 2011\n",
      "Finished gathering data for grade 4 in FIPS 35 and year 2011\n",
      "Finished gathering data for grade 5 in FIPS 35 and year 2011\n",
      "Finished gathering data for grade 6 in FIPS 35 and year 2011\n",
      "Finished gathering data for grade 7 in FIPS 35 and year 2011\n",
      "Finished gathering data for grade 8 in FIPS 35 and year 2011\n",
      "Finished gathering data for FIPS 35 in year 2011\n",
      "Finished gathering data for grade 3 in FIPS 36 and year 2011\n",
      "Finished gathering data for grade 4 in FIPS 36 and year 2011\n",
      "Finished gathering data for grade 5 in FIPS 36 and year 2011\n",
      "Finished gathering data for grade 6 in FIPS 36 and year 2011\n",
      "Finished gathering data for grade 7 in FIPS 36 and year 2011\n",
      "Finished gathering data for grade 8 in FIPS 36 and year 2011\n",
      "Finished gathering data for FIPS 36 in year 2011\n",
      "Finished gathering data for grade 3 in FIPS 37 and year 2011\n",
      "Finished gathering data for grade 4 in FIPS 37 and year 2011\n",
      "Finished gathering data for grade 5 in FIPS 37 and year 2011\n",
      "Finished gathering data for grade 6 in FIPS 37 and year 2011\n",
      "Finished gathering data for grade 7 in FIPS 37 and year 2011\n",
      "Finished gathering data for grade 8 in FIPS 37 and year 2011\n",
      "Finished gathering data for FIPS 37 in year 2011\n",
      "Finished gathering data for grade 3 in FIPS 38 and year 2011\n",
      "Finished gathering data for grade 4 in FIPS 38 and year 2011\n",
      "Finished gathering data for grade 5 in FIPS 38 and year 2011\n",
      "Finished gathering data for grade 6 in FIPS 38 and year 2011\n",
      "Finished gathering data for grade 7 in FIPS 38 and year 2011\n",
      "Finished gathering data for grade 8 in FIPS 38 and year 2011\n",
      "Finished gathering data for FIPS 38 in year 2011\n",
      "Finished gathering data for grade 3 in FIPS 39 and year 2011\n",
      "Finished gathering data for grade 4 in FIPS 39 and year 2011\n",
      "Finished gathering data for grade 5 in FIPS 39 and year 2011\n",
      "Finished gathering data for grade 6 in FIPS 39 and year 2011\n",
      "Finished gathering data for grade 7 in FIPS 39 and year 2011\n",
      "Finished gathering data for grade 8 in FIPS 39 and year 2011\n",
      "Finished gathering data for FIPS 39 in year 2011\n",
      "Finished gathering data for grade 3 in FIPS 40 and year 2011\n",
      "Finished gathering data for grade 4 in FIPS 40 and year 2011\n",
      "Finished gathering data for grade 5 in FIPS 40 and year 2011\n",
      "Finished gathering data for grade 6 in FIPS 40 and year 2011\n",
      "Finished gathering data for grade 7 in FIPS 40 and year 2011\n",
      "Finished gathering data for grade 8 in FIPS 40 and year 2011\n",
      "Finished gathering data for FIPS 40 in year 2011\n",
      "Finished gathering data for grade 3 in FIPS 41 and year 2011\n",
      "Finished gathering data for grade 4 in FIPS 41 and year 2011\n",
      "Finished gathering data for grade 5 in FIPS 41 and year 2011\n",
      "Finished gathering data for grade 6 in FIPS 41 and year 2011\n",
      "Finished gathering data for grade 7 in FIPS 41 and year 2011\n",
      "Finished gathering data for grade 8 in FIPS 41 and year 2011\n",
      "Finished gathering data for FIPS 41 in year 2011\n",
      "Finished gathering data for grade 3 in FIPS 42 and year 2011\n",
      "Finished gathering data for grade 4 in FIPS 42 and year 2011\n",
      "Finished gathering data for grade 5 in FIPS 42 and year 2011\n",
      "Finished gathering data for grade 6 in FIPS 42 and year 2011\n",
      "Finished gathering data for grade 7 in FIPS 42 and year 2011\n",
      "Finished gathering data for grade 8 in FIPS 42 and year 2011\n",
      "Finished gathering data for FIPS 42 in year 2011\n",
      "Finished gathering data for grade 3 in FIPS 44 and year 2011\n",
      "Finished gathering data for grade 4 in FIPS 44 and year 2011\n",
      "Finished gathering data for grade 5 in FIPS 44 and year 2011\n",
      "Finished gathering data for grade 6 in FIPS 44 and year 2011\n",
      "Finished gathering data for grade 7 in FIPS 44 and year 2011\n",
      "Finished gathering data for grade 8 in FIPS 44 and year 2011\n",
      "Finished gathering data for FIPS 44 in year 2011\n",
      "Finished gathering data for grade 3 in FIPS 45 and year 2011\n",
      "Finished gathering data for grade 4 in FIPS 45 and year 2011\n",
      "Finished gathering data for grade 5 in FIPS 45 and year 2011\n",
      "Finished gathering data for grade 6 in FIPS 45 and year 2011\n",
      "Finished gathering data for grade 7 in FIPS 45 and year 2011\n",
      "Finished gathering data for grade 8 in FIPS 45 and year 2011\n",
      "Finished gathering data for FIPS 45 in year 2011\n",
      "Finished gathering data for grade 3 in FIPS 46 and year 2011\n",
      "Finished gathering data for grade 4 in FIPS 46 and year 2011\n",
      "Finished gathering data for grade 5 in FIPS 46 and year 2011\n",
      "Finished gathering data for grade 6 in FIPS 46 and year 2011\n",
      "Finished gathering data for grade 7 in FIPS 46 and year 2011\n",
      "Finished gathering data for grade 8 in FIPS 46 and year 2011\n",
      "Finished gathering data for FIPS 46 in year 2011\n",
      "Finished gathering data for grade 3 in FIPS 47 and year 2011\n",
      "Finished gathering data for grade 4 in FIPS 47 and year 2011\n",
      "Finished gathering data for grade 5 in FIPS 47 and year 2011\n",
      "Finished gathering data for grade 6 in FIPS 47 and year 2011\n",
      "Finished gathering data for grade 7 in FIPS 47 and year 2011\n",
      "Finished gathering data for grade 8 in FIPS 47 and year 2011\n",
      "Finished gathering data for FIPS 47 in year 2011\n",
      "Finished gathering data for grade 3 in FIPS 48 and year 2011\n",
      "Finished gathering data for grade 4 in FIPS 48 and year 2011\n",
      "Finished gathering data for grade 5 in FIPS 48 and year 2011\n",
      "Finished gathering data for grade 6 in FIPS 48 and year 2011\n",
      "Finished gathering data for grade 7 in FIPS 48 and year 2011\n",
      "Finished gathering data for grade 8 in FIPS 48 and year 2011\n",
      "Finished gathering data for FIPS 48 in year 2011\n",
      "Finished gathering data for grade 3 in FIPS 49 and year 2011\n",
      "Finished gathering data for grade 4 in FIPS 49 and year 2011\n",
      "Finished gathering data for grade 5 in FIPS 49 and year 2011\n",
      "Finished gathering data for grade 6 in FIPS 49 and year 2011\n",
      "Finished gathering data for grade 7 in FIPS 49 and year 2011\n",
      "Finished gathering data for grade 8 in FIPS 49 and year 2011\n",
      "Finished gathering data for FIPS 49 in year 2011\n",
      "Finished gathering data for grade 3 in FIPS 50 and year 2011\n",
      "Finished gathering data for grade 4 in FIPS 50 and year 2011\n",
      "Finished gathering data for grade 5 in FIPS 50 and year 2011\n",
      "Finished gathering data for grade 6 in FIPS 50 and year 2011\n",
      "Finished gathering data for grade 7 in FIPS 50 and year 2011\n",
      "Finished gathering data for grade 8 in FIPS 50 and year 2011\n",
      "Finished gathering data for FIPS 50 in year 2011\n",
      "Finished gathering data for grade 3 in FIPS 51 and year 2011\n",
      "Finished gathering data for grade 4 in FIPS 51 and year 2011\n",
      "Finished gathering data for grade 5 in FIPS 51 and year 2011\n",
      "Finished gathering data for grade 6 in FIPS 51 and year 2011\n",
      "Finished gathering data for grade 7 in FIPS 51 and year 2011\n",
      "Finished gathering data for grade 8 in FIPS 51 and year 2011\n",
      "Finished gathering data for FIPS 51 in year 2011\n",
      "Finished gathering data for grade 3 in FIPS 53 and year 2011\n",
      "Finished gathering data for grade 4 in FIPS 53 and year 2011\n",
      "Finished gathering data for grade 5 in FIPS 53 and year 2011\n",
      "Finished gathering data for grade 6 in FIPS 53 and year 2011\n",
      "Finished gathering data for grade 7 in FIPS 53 and year 2011\n",
      "Finished gathering data for grade 8 in FIPS 53 and year 2011\n",
      "Finished gathering data for FIPS 53 in year 2011\n",
      "Finished gathering data for grade 3 in FIPS 54 and year 2011\n",
      "Finished gathering data for grade 4 in FIPS 54 and year 2011\n",
      "Finished gathering data for grade 5 in FIPS 54 and year 2011\n",
      "Finished gathering data for grade 6 in FIPS 54 and year 2011\n",
      "Finished gathering data for grade 7 in FIPS 54 and year 2011\n",
      "Finished gathering data for grade 8 in FIPS 54 and year 2011\n",
      "Finished gathering data for FIPS 54 in year 2011\n",
      "Finished gathering data for grade 3 in FIPS 55 and year 2011\n",
      "Finished gathering data for grade 4 in FIPS 55 and year 2011\n",
      "Finished gathering data for grade 5 in FIPS 55 and year 2011\n",
      "Finished gathering data for grade 6 in FIPS 55 and year 2011\n",
      "Finished gathering data for grade 7 in FIPS 55 and year 2011\n",
      "Finished gathering data for grade 8 in FIPS 55 and year 2011\n",
      "Finished gathering data for FIPS 55 in year 2011\n",
      "Finished gathering data for grade 3 in FIPS 56 and year 2011\n",
      "Finished gathering data for grade 4 in FIPS 56 and year 2011\n",
      "Finished gathering data for grade 5 in FIPS 56 and year 2011\n",
      "Finished gathering data for grade 6 in FIPS 56 and year 2011\n",
      "Finished gathering data for grade 7 in FIPS 56 and year 2011\n",
      "Finished gathering data for grade 8 in FIPS 56 and year 2011\n",
      "Finished gathering data for FIPS 56 in year 2011\n"
     ]
    }
   ],
   "source": [
    "data_2011 = []\n",
    "\n",
    "for fips in fips_codes:\n",
    "    data = gather_data(2011, fips)\n",
    "    data_2011.extend(data)\n",
    "    print(f\"Finished gathering data for FIPS {fips} in year 2011\")\n",
    "\n",
    "df_2011 = pd.DataFrame(data_2011)\n"
   ]
  },
  {
   "cell_type": "code",
   "execution_count": 20,
   "id": "ddf63703",
   "metadata": {},
   "outputs": [
    {
     "name": "stdout",
     "output_type": "stream",
     "text": [
      "Finished gathering data for grade 3 in FIPS 01 and year 2012\n",
      "Finished gathering data for grade 4 in FIPS 01 and year 2012\n",
      "Finished gathering data for grade 5 in FIPS 01 and year 2012\n",
      "Finished gathering data for grade 6 in FIPS 01 and year 2012\n",
      "Finished gathering data for grade 7 in FIPS 01 and year 2012\n",
      "Finished gathering data for grade 8 in FIPS 01 and year 2012\n",
      "Finished gathering data for FIPS 01 in year 2012\n",
      "Finished gathering data for grade 3 in FIPS 02 and year 2012\n",
      "Finished gathering data for grade 4 in FIPS 02 and year 2012\n",
      "Finished gathering data for grade 5 in FIPS 02 and year 2012\n",
      "Finished gathering data for grade 6 in FIPS 02 and year 2012\n",
      "Finished gathering data for grade 7 in FIPS 02 and year 2012\n",
      "Finished gathering data for grade 8 in FIPS 02 and year 2012\n",
      "Finished gathering data for FIPS 02 in year 2012\n",
      "Finished gathering data for grade 3 in FIPS 04 and year 2012\n",
      "Finished gathering data for grade 4 in FIPS 04 and year 2012\n",
      "Finished gathering data for grade 5 in FIPS 04 and year 2012\n",
      "Finished gathering data for grade 6 in FIPS 04 and year 2012\n",
      "Finished gathering data for grade 7 in FIPS 04 and year 2012\n",
      "Finished gathering data for grade 8 in FIPS 04 and year 2012\n",
      "Finished gathering data for FIPS 04 in year 2012\n",
      "Finished gathering data for grade 3 in FIPS 05 and year 2012\n",
      "Finished gathering data for grade 4 in FIPS 05 and year 2012\n",
      "Finished gathering data for grade 5 in FIPS 05 and year 2012\n",
      "Finished gathering data for grade 6 in FIPS 05 and year 2012\n",
      "Finished gathering data for grade 7 in FIPS 05 and year 2012\n",
      "Finished gathering data for grade 8 in FIPS 05 and year 2012\n",
      "Finished gathering data for FIPS 05 in year 2012\n",
      "Finished gathering data for grade 3 in FIPS 06 and year 2012\n",
      "Finished gathering data for grade 4 in FIPS 06 and year 2012\n",
      "Finished gathering data for grade 5 in FIPS 06 and year 2012\n",
      "Finished gathering data for grade 6 in FIPS 06 and year 2012\n",
      "Finished gathering data for grade 7 in FIPS 06 and year 2012\n",
      "Finished gathering data for grade 8 in FIPS 06 and year 2012\n",
      "Finished gathering data for FIPS 06 in year 2012\n",
      "Finished gathering data for grade 3 in FIPS 08 and year 2012\n",
      "Finished gathering data for grade 4 in FIPS 08 and year 2012\n",
      "Finished gathering data for grade 5 in FIPS 08 and year 2012\n",
      "Finished gathering data for grade 6 in FIPS 08 and year 2012\n",
      "Finished gathering data for grade 7 in FIPS 08 and year 2012\n",
      "Finished gathering data for grade 8 in FIPS 08 and year 2012\n",
      "Finished gathering data for FIPS 08 in year 2012\n",
      "Finished gathering data for grade 3 in FIPS 09 and year 2012\n",
      "Finished gathering data for grade 4 in FIPS 09 and year 2012\n",
      "Finished gathering data for grade 5 in FIPS 09 and year 2012\n",
      "Finished gathering data for grade 6 in FIPS 09 and year 2012\n",
      "Finished gathering data for grade 7 in FIPS 09 and year 2012\n",
      "Finished gathering data for grade 8 in FIPS 09 and year 2012\n",
      "Finished gathering data for FIPS 09 in year 2012\n",
      "Finished gathering data for grade 3 in FIPS 10 and year 2012\n",
      "Finished gathering data for grade 4 in FIPS 10 and year 2012\n",
      "Finished gathering data for grade 5 in FIPS 10 and year 2012\n",
      "Finished gathering data for grade 6 in FIPS 10 and year 2012\n",
      "Finished gathering data for grade 7 in FIPS 10 and year 2012\n",
      "Finished gathering data for grade 8 in FIPS 10 and year 2012\n",
      "Finished gathering data for FIPS 10 in year 2012\n",
      "Finished gathering data for grade 3 in FIPS 11 and year 2012\n",
      "Finished gathering data for grade 4 in FIPS 11 and year 2012\n",
      "Finished gathering data for grade 5 in FIPS 11 and year 2012\n",
      "Finished gathering data for grade 6 in FIPS 11 and year 2012\n",
      "Finished gathering data for grade 7 in FIPS 11 and year 2012\n",
      "Finished gathering data for grade 8 in FIPS 11 and year 2012\n",
      "Finished gathering data for FIPS 11 in year 2012\n",
      "Finished gathering data for grade 3 in FIPS 12 and year 2012\n",
      "Finished gathering data for grade 4 in FIPS 12 and year 2012\n",
      "Finished gathering data for grade 5 in FIPS 12 and year 2012\n",
      "Finished gathering data for grade 6 in FIPS 12 and year 2012\n",
      "Finished gathering data for grade 7 in FIPS 12 and year 2012\n",
      "Finished gathering data for grade 8 in FIPS 12 and year 2012\n",
      "Finished gathering data for FIPS 12 in year 2012\n",
      "Finished gathering data for grade 3 in FIPS 13 and year 2012\n",
      "Finished gathering data for grade 4 in FIPS 13 and year 2012\n",
      "Finished gathering data for grade 5 in FIPS 13 and year 2012\n",
      "Finished gathering data for grade 6 in FIPS 13 and year 2012\n",
      "Finished gathering data for grade 7 in FIPS 13 and year 2012\n",
      "Finished gathering data for grade 8 in FIPS 13 and year 2012\n",
      "Finished gathering data for FIPS 13 in year 2012\n",
      "Finished gathering data for grade 3 in FIPS 15 and year 2012\n",
      "Finished gathering data for grade 4 in FIPS 15 and year 2012\n",
      "Finished gathering data for grade 5 in FIPS 15 and year 2012\n",
      "Finished gathering data for grade 6 in FIPS 15 and year 2012\n",
      "Finished gathering data for grade 7 in FIPS 15 and year 2012\n",
      "Finished gathering data for grade 8 in FIPS 15 and year 2012\n",
      "Finished gathering data for FIPS 15 in year 2012\n",
      "Finished gathering data for grade 3 in FIPS 16 and year 2012\n",
      "Finished gathering data for grade 4 in FIPS 16 and year 2012\n",
      "Finished gathering data for grade 5 in FIPS 16 and year 2012\n",
      "Finished gathering data for grade 6 in FIPS 16 and year 2012\n",
      "Finished gathering data for grade 7 in FIPS 16 and year 2012\n",
      "Finished gathering data for grade 8 in FIPS 16 and year 2012\n",
      "Finished gathering data for FIPS 16 in year 2012\n",
      "Finished gathering data for grade 3 in FIPS 17 and year 2012\n",
      "Finished gathering data for grade 4 in FIPS 17 and year 2012\n",
      "Finished gathering data for grade 5 in FIPS 17 and year 2012\n",
      "Finished gathering data for grade 6 in FIPS 17 and year 2012\n",
      "Finished gathering data for grade 7 in FIPS 17 and year 2012\n",
      "Finished gathering data for grade 8 in FIPS 17 and year 2012\n",
      "Finished gathering data for FIPS 17 in year 2012\n",
      "Finished gathering data for grade 3 in FIPS 18 and year 2012\n",
      "Finished gathering data for grade 4 in FIPS 18 and year 2012\n",
      "Finished gathering data for grade 5 in FIPS 18 and year 2012\n",
      "Finished gathering data for grade 6 in FIPS 18 and year 2012\n",
      "Finished gathering data for grade 7 in FIPS 18 and year 2012\n",
      "Finished gathering data for grade 8 in FIPS 18 and year 2012\n",
      "Finished gathering data for FIPS 18 in year 2012\n",
      "Finished gathering data for grade 3 in FIPS 19 and year 2012\n",
      "Finished gathering data for grade 4 in FIPS 19 and year 2012\n",
      "Finished gathering data for grade 5 in FIPS 19 and year 2012\n",
      "Finished gathering data for grade 6 in FIPS 19 and year 2012\n",
      "Finished gathering data for grade 7 in FIPS 19 and year 2012\n",
      "Finished gathering data for grade 8 in FIPS 19 and year 2012\n",
      "Finished gathering data for FIPS 19 in year 2012\n",
      "Finished gathering data for grade 3 in FIPS 20 and year 2012\n",
      "Finished gathering data for grade 4 in FIPS 20 and year 2012\n",
      "Finished gathering data for grade 5 in FIPS 20 and year 2012\n",
      "Finished gathering data for grade 6 in FIPS 20 and year 2012\n",
      "Finished gathering data for grade 7 in FIPS 20 and year 2012\n",
      "Finished gathering data for grade 8 in FIPS 20 and year 2012\n",
      "Finished gathering data for FIPS 20 in year 2012\n",
      "Finished gathering data for grade 3 in FIPS 21 and year 2012\n",
      "Finished gathering data for grade 4 in FIPS 21 and year 2012\n",
      "Finished gathering data for grade 5 in FIPS 21 and year 2012\n",
      "Finished gathering data for grade 6 in FIPS 21 and year 2012\n",
      "Finished gathering data for grade 7 in FIPS 21 and year 2012\n",
      "Finished gathering data for grade 8 in FIPS 21 and year 2012\n",
      "Finished gathering data for FIPS 21 in year 2012\n",
      "Finished gathering data for grade 3 in FIPS 22 and year 2012\n",
      "Finished gathering data for grade 4 in FIPS 22 and year 2012\n",
      "Finished gathering data for grade 5 in FIPS 22 and year 2012\n",
      "Finished gathering data for grade 6 in FIPS 22 and year 2012\n",
      "Finished gathering data for grade 7 in FIPS 22 and year 2012\n",
      "Finished gathering data for grade 8 in FIPS 22 and year 2012\n",
      "Finished gathering data for FIPS 22 in year 2012\n",
      "Finished gathering data for grade 3 in FIPS 23 and year 2012\n",
      "Finished gathering data for grade 4 in FIPS 23 and year 2012\n",
      "Finished gathering data for grade 5 in FIPS 23 and year 2012\n",
      "Finished gathering data for grade 6 in FIPS 23 and year 2012\n",
      "Finished gathering data for grade 7 in FIPS 23 and year 2012\n",
      "Finished gathering data for grade 8 in FIPS 23 and year 2012\n",
      "Finished gathering data for FIPS 23 in year 2012\n",
      "Finished gathering data for grade 3 in FIPS 24 and year 2012\n",
      "Finished gathering data for grade 4 in FIPS 24 and year 2012\n",
      "Finished gathering data for grade 5 in FIPS 24 and year 2012\n",
      "Finished gathering data for grade 6 in FIPS 24 and year 2012\n",
      "Finished gathering data for grade 7 in FIPS 24 and year 2012\n",
      "Finished gathering data for grade 8 in FIPS 24 and year 2012\n",
      "Finished gathering data for FIPS 24 in year 2012\n",
      "Finished gathering data for grade 3 in FIPS 25 and year 2012\n",
      "Finished gathering data for grade 4 in FIPS 25 and year 2012\n",
      "Finished gathering data for grade 5 in FIPS 25 and year 2012\n",
      "Finished gathering data for grade 6 in FIPS 25 and year 2012\n",
      "Finished gathering data for grade 7 in FIPS 25 and year 2012\n",
      "Finished gathering data for grade 8 in FIPS 25 and year 2012\n",
      "Finished gathering data for FIPS 25 in year 2012\n",
      "Finished gathering data for grade 3 in FIPS 26 and year 2012\n",
      "Finished gathering data for grade 4 in FIPS 26 and year 2012\n",
      "Finished gathering data for grade 5 in FIPS 26 and year 2012\n",
      "Finished gathering data for grade 6 in FIPS 26 and year 2012\n",
      "Finished gathering data for grade 7 in FIPS 26 and year 2012\n",
      "Finished gathering data for grade 8 in FIPS 26 and year 2012\n",
      "Finished gathering data for FIPS 26 in year 2012\n",
      "Finished gathering data for grade 3 in FIPS 27 and year 2012\n",
      "Finished gathering data for grade 4 in FIPS 27 and year 2012\n",
      "Finished gathering data for grade 5 in FIPS 27 and year 2012\n",
      "Finished gathering data for grade 6 in FIPS 27 and year 2012\n",
      "Finished gathering data for grade 7 in FIPS 27 and year 2012\n",
      "Finished gathering data for grade 8 in FIPS 27 and year 2012\n",
      "Finished gathering data for FIPS 27 in year 2012\n",
      "Finished gathering data for grade 3 in FIPS 28 and year 2012\n",
      "Finished gathering data for grade 4 in FIPS 28 and year 2012\n",
      "Finished gathering data for grade 5 in FIPS 28 and year 2012\n",
      "Finished gathering data for grade 6 in FIPS 28 and year 2012\n",
      "Finished gathering data for grade 7 in FIPS 28 and year 2012\n",
      "Finished gathering data for grade 8 in FIPS 28 and year 2012\n",
      "Finished gathering data for FIPS 28 in year 2012\n",
      "Finished gathering data for grade 3 in FIPS 29 and year 2012\n",
      "Finished gathering data for grade 4 in FIPS 29 and year 2012\n",
      "Finished gathering data for grade 5 in FIPS 29 and year 2012\n",
      "Finished gathering data for grade 6 in FIPS 29 and year 2012\n",
      "Finished gathering data for grade 7 in FIPS 29 and year 2012\n",
      "Finished gathering data for grade 8 in FIPS 29 and year 2012\n",
      "Finished gathering data for FIPS 29 in year 2012\n",
      "Finished gathering data for grade 3 in FIPS 30 and year 2012\n",
      "Finished gathering data for grade 4 in FIPS 30 and year 2012\n",
      "Finished gathering data for grade 5 in FIPS 30 and year 2012\n",
      "Finished gathering data for grade 6 in FIPS 30 and year 2012\n",
      "Finished gathering data for grade 7 in FIPS 30 and year 2012\n",
      "Finished gathering data for grade 8 in FIPS 30 and year 2012\n",
      "Finished gathering data for FIPS 30 in year 2012\n",
      "Finished gathering data for grade 3 in FIPS 31 and year 2012\n",
      "Finished gathering data for grade 4 in FIPS 31 and year 2012\n",
      "Finished gathering data for grade 5 in FIPS 31 and year 2012\n",
      "Finished gathering data for grade 6 in FIPS 31 and year 2012\n",
      "Finished gathering data for grade 7 in FIPS 31 and year 2012\n",
      "Finished gathering data for grade 8 in FIPS 31 and year 2012\n",
      "Finished gathering data for FIPS 31 in year 2012\n",
      "Finished gathering data for grade 3 in FIPS 32 and year 2012\n",
      "Finished gathering data for grade 4 in FIPS 32 and year 2012\n",
      "Finished gathering data for grade 5 in FIPS 32 and year 2012\n",
      "Finished gathering data for grade 6 in FIPS 32 and year 2012\n",
      "Finished gathering data for grade 7 in FIPS 32 and year 2012\n",
      "Finished gathering data for grade 8 in FIPS 32 and year 2012\n",
      "Finished gathering data for FIPS 32 in year 2012\n",
      "Finished gathering data for grade 3 in FIPS 33 and year 2012\n",
      "Finished gathering data for grade 4 in FIPS 33 and year 2012\n",
      "Finished gathering data for grade 5 in FIPS 33 and year 2012\n",
      "Finished gathering data for grade 6 in FIPS 33 and year 2012\n",
      "Finished gathering data for grade 7 in FIPS 33 and year 2012\n",
      "Finished gathering data for grade 8 in FIPS 33 and year 2012\n",
      "Finished gathering data for FIPS 33 in year 2012\n",
      "Finished gathering data for grade 3 in FIPS 34 and year 2012\n",
      "Finished gathering data for grade 4 in FIPS 34 and year 2012\n",
      "Finished gathering data for grade 5 in FIPS 34 and year 2012\n",
      "Finished gathering data for grade 6 in FIPS 34 and year 2012\n",
      "Finished gathering data for grade 7 in FIPS 34 and year 2012\n",
      "Finished gathering data for grade 8 in FIPS 34 and year 2012\n",
      "Finished gathering data for FIPS 34 in year 2012\n",
      "Finished gathering data for grade 3 in FIPS 35 and year 2012\n",
      "Finished gathering data for grade 4 in FIPS 35 and year 2012\n",
      "Finished gathering data for grade 5 in FIPS 35 and year 2012\n",
      "Finished gathering data for grade 6 in FIPS 35 and year 2012\n",
      "Finished gathering data for grade 7 in FIPS 35 and year 2012\n",
      "Finished gathering data for grade 8 in FIPS 35 and year 2012\n",
      "Finished gathering data for FIPS 35 in year 2012\n",
      "Finished gathering data for grade 3 in FIPS 36 and year 2012\n",
      "Finished gathering data for grade 4 in FIPS 36 and year 2012\n",
      "Finished gathering data for grade 5 in FIPS 36 and year 2012\n",
      "Finished gathering data for grade 6 in FIPS 36 and year 2012\n",
      "Finished gathering data for grade 7 in FIPS 36 and year 2012\n",
      "Finished gathering data for grade 8 in FIPS 36 and year 2012\n",
      "Finished gathering data for FIPS 36 in year 2012\n",
      "Finished gathering data for grade 3 in FIPS 37 and year 2012\n",
      "Finished gathering data for grade 4 in FIPS 37 and year 2012\n",
      "Finished gathering data for grade 5 in FIPS 37 and year 2012\n",
      "Finished gathering data for grade 6 in FIPS 37 and year 2012\n",
      "Finished gathering data for grade 7 in FIPS 37 and year 2012\n",
      "Finished gathering data for grade 8 in FIPS 37 and year 2012\n",
      "Finished gathering data for FIPS 37 in year 2012\n",
      "Finished gathering data for grade 3 in FIPS 38 and year 2012\n",
      "Finished gathering data for grade 4 in FIPS 38 and year 2012\n",
      "Finished gathering data for grade 5 in FIPS 38 and year 2012\n",
      "Finished gathering data for grade 6 in FIPS 38 and year 2012\n",
      "Finished gathering data for grade 7 in FIPS 38 and year 2012\n",
      "Finished gathering data for grade 8 in FIPS 38 and year 2012\n",
      "Finished gathering data for FIPS 38 in year 2012\n",
      "Finished gathering data for grade 3 in FIPS 39 and year 2012\n",
      "Finished gathering data for grade 4 in FIPS 39 and year 2012\n",
      "Finished gathering data for grade 5 in FIPS 39 and year 2012\n",
      "Finished gathering data for grade 6 in FIPS 39 and year 2012\n",
      "Finished gathering data for grade 7 in FIPS 39 and year 2012\n",
      "Finished gathering data for grade 8 in FIPS 39 and year 2012\n",
      "Finished gathering data for FIPS 39 in year 2012\n",
      "Finished gathering data for grade 3 in FIPS 40 and year 2012\n",
      "Finished gathering data for grade 4 in FIPS 40 and year 2012\n",
      "Finished gathering data for grade 5 in FIPS 40 and year 2012\n",
      "Finished gathering data for grade 6 in FIPS 40 and year 2012\n",
      "Finished gathering data for grade 7 in FIPS 40 and year 2012\n",
      "Finished gathering data for grade 8 in FIPS 40 and year 2012\n",
      "Finished gathering data for FIPS 40 in year 2012\n",
      "Finished gathering data for grade 3 in FIPS 41 and year 2012\n",
      "Finished gathering data for grade 4 in FIPS 41 and year 2012\n",
      "Finished gathering data for grade 5 in FIPS 41 and year 2012\n",
      "Finished gathering data for grade 6 in FIPS 41 and year 2012\n",
      "Finished gathering data for grade 7 in FIPS 41 and year 2012\n",
      "Finished gathering data for grade 8 in FIPS 41 and year 2012\n",
      "Finished gathering data for FIPS 41 in year 2012\n",
      "Finished gathering data for grade 3 in FIPS 42 and year 2012\n",
      "Finished gathering data for grade 4 in FIPS 42 and year 2012\n",
      "Finished gathering data for grade 5 in FIPS 42 and year 2012\n",
      "Finished gathering data for grade 6 in FIPS 42 and year 2012\n",
      "Finished gathering data for grade 7 in FIPS 42 and year 2012\n",
      "Finished gathering data for grade 8 in FIPS 42 and year 2012\n",
      "Finished gathering data for FIPS 42 in year 2012\n",
      "Finished gathering data for grade 3 in FIPS 44 and year 2012\n",
      "Finished gathering data for grade 4 in FIPS 44 and year 2012\n",
      "Finished gathering data for grade 5 in FIPS 44 and year 2012\n",
      "Finished gathering data for grade 6 in FIPS 44 and year 2012\n",
      "Finished gathering data for grade 7 in FIPS 44 and year 2012\n",
      "Finished gathering data for grade 8 in FIPS 44 and year 2012\n",
      "Finished gathering data for FIPS 44 in year 2012\n",
      "Finished gathering data for grade 3 in FIPS 45 and year 2012\n",
      "Finished gathering data for grade 4 in FIPS 45 and year 2012\n",
      "Finished gathering data for grade 5 in FIPS 45 and year 2012\n",
      "Finished gathering data for grade 6 in FIPS 45 and year 2012\n",
      "Finished gathering data for grade 7 in FIPS 45 and year 2012\n",
      "Finished gathering data for grade 8 in FIPS 45 and year 2012\n",
      "Finished gathering data for FIPS 45 in year 2012\n",
      "Finished gathering data for grade 3 in FIPS 46 and year 2012\n",
      "Finished gathering data for grade 4 in FIPS 46 and year 2012\n",
      "Finished gathering data for grade 5 in FIPS 46 and year 2012\n",
      "Finished gathering data for grade 6 in FIPS 46 and year 2012\n",
      "Finished gathering data for grade 7 in FIPS 46 and year 2012\n",
      "Finished gathering data for grade 8 in FIPS 46 and year 2012\n",
      "Finished gathering data for FIPS 46 in year 2012\n",
      "Finished gathering data for grade 3 in FIPS 47 and year 2012\n",
      "Finished gathering data for grade 4 in FIPS 47 and year 2012\n",
      "Finished gathering data for grade 5 in FIPS 47 and year 2012\n",
      "Finished gathering data for grade 6 in FIPS 47 and year 2012\n",
      "Finished gathering data for grade 7 in FIPS 47 and year 2012\n",
      "Finished gathering data for grade 8 in FIPS 47 and year 2012\n",
      "Finished gathering data for FIPS 47 in year 2012\n",
      "Finished gathering data for grade 3 in FIPS 48 and year 2012\n",
      "Finished gathering data for grade 4 in FIPS 48 and year 2012\n",
      "Finished gathering data for grade 5 in FIPS 48 and year 2012\n",
      "Finished gathering data for grade 6 in FIPS 48 and year 2012\n",
      "Finished gathering data for grade 7 in FIPS 48 and year 2012\n",
      "Finished gathering data for grade 8 in FIPS 48 and year 2012\n",
      "Finished gathering data for FIPS 48 in year 2012\n",
      "Finished gathering data for grade 3 in FIPS 49 and year 2012\n",
      "Finished gathering data for grade 4 in FIPS 49 and year 2012\n",
      "Finished gathering data for grade 5 in FIPS 49 and year 2012\n",
      "Finished gathering data for grade 6 in FIPS 49 and year 2012\n",
      "Finished gathering data for grade 7 in FIPS 49 and year 2012\n",
      "Finished gathering data for grade 8 in FIPS 49 and year 2012\n",
      "Finished gathering data for FIPS 49 in year 2012\n",
      "Finished gathering data for grade 3 in FIPS 50 and year 2012\n",
      "Finished gathering data for grade 4 in FIPS 50 and year 2012\n",
      "Finished gathering data for grade 5 in FIPS 50 and year 2012\n",
      "Finished gathering data for grade 6 in FIPS 50 and year 2012\n",
      "Finished gathering data for grade 7 in FIPS 50 and year 2012\n",
      "Finished gathering data for grade 8 in FIPS 50 and year 2012\n",
      "Finished gathering data for FIPS 50 in year 2012\n",
      "Finished gathering data for grade 3 in FIPS 51 and year 2012\n",
      "Finished gathering data for grade 4 in FIPS 51 and year 2012\n",
      "Finished gathering data for grade 5 in FIPS 51 and year 2012\n",
      "Finished gathering data for grade 6 in FIPS 51 and year 2012\n",
      "Finished gathering data for grade 7 in FIPS 51 and year 2012\n",
      "Finished gathering data for grade 8 in FIPS 51 and year 2012\n",
      "Finished gathering data for FIPS 51 in year 2012\n",
      "Finished gathering data for grade 3 in FIPS 53 and year 2012\n",
      "Finished gathering data for grade 4 in FIPS 53 and year 2012\n",
      "Finished gathering data for grade 5 in FIPS 53 and year 2012\n",
      "Finished gathering data for grade 6 in FIPS 53 and year 2012\n",
      "Finished gathering data for grade 7 in FIPS 53 and year 2012\n",
      "Finished gathering data for grade 8 in FIPS 53 and year 2012\n",
      "Finished gathering data for FIPS 53 in year 2012\n",
      "Finished gathering data for grade 3 in FIPS 54 and year 2012\n",
      "Finished gathering data for grade 4 in FIPS 54 and year 2012\n",
      "Finished gathering data for grade 5 in FIPS 54 and year 2012\n",
      "Finished gathering data for grade 6 in FIPS 54 and year 2012\n",
      "Finished gathering data for grade 7 in FIPS 54 and year 2012\n",
      "Finished gathering data for grade 8 in FIPS 54 and year 2012\n",
      "Finished gathering data for FIPS 54 in year 2012\n",
      "Finished gathering data for grade 3 in FIPS 55 and year 2012\n",
      "Finished gathering data for grade 4 in FIPS 55 and year 2012\n",
      "Finished gathering data for grade 5 in FIPS 55 and year 2012\n",
      "Finished gathering data for grade 6 in FIPS 55 and year 2012\n",
      "Finished gathering data for grade 7 in FIPS 55 and year 2012\n",
      "Finished gathering data for grade 8 in FIPS 55 and year 2012\n",
      "Finished gathering data for FIPS 55 in year 2012\n",
      "Finished gathering data for grade 3 in FIPS 56 and year 2012\n",
      "Finished gathering data for grade 4 in FIPS 56 and year 2012\n",
      "Finished gathering data for grade 5 in FIPS 56 and year 2012\n",
      "Finished gathering data for grade 6 in FIPS 56 and year 2012\n",
      "Finished gathering data for grade 7 in FIPS 56 and year 2012\n",
      "Finished gathering data for grade 8 in FIPS 56 and year 2012\n",
      "Finished gathering data for FIPS 56 in year 2012\n"
     ]
    }
   ],
   "source": [
    "data_2012 = []\n",
    "\n",
    "for fips in fips_codes:\n",
    "    data = gather_data(2012, fips)\n",
    "    data_2012.extend(data)\n",
    "    print(f\"Finished gathering data for FIPS {fips} in year 2012\")\n",
    "\n",
    "df_2012 = pd.DataFrame(data_2012)\n"
   ]
  },
  {
   "cell_type": "code",
   "execution_count": 21,
   "id": "ee73ba1c",
   "metadata": {},
   "outputs": [
    {
     "name": "stdout",
     "output_type": "stream",
     "text": [
      "Finished gathering data for grade 3 in FIPS 01 and year 2013\n",
      "Finished gathering data for grade 4 in FIPS 01 and year 2013\n",
      "Finished gathering data for grade 5 in FIPS 01 and year 2013\n",
      "Finished gathering data for grade 6 in FIPS 01 and year 2013\n",
      "Finished gathering data for grade 7 in FIPS 01 and year 2013\n",
      "Finished gathering data for grade 8 in FIPS 01 and year 2013\n",
      "Finished gathering data for FIPS 01 in year 2013\n",
      "Finished gathering data for grade 3 in FIPS 02 and year 2013\n",
      "Finished gathering data for grade 4 in FIPS 02 and year 2013\n",
      "Finished gathering data for grade 5 in FIPS 02 and year 2013\n",
      "Finished gathering data for grade 6 in FIPS 02 and year 2013\n",
      "Finished gathering data for grade 7 in FIPS 02 and year 2013\n",
      "Finished gathering data for grade 8 in FIPS 02 and year 2013\n",
      "Finished gathering data for FIPS 02 in year 2013\n",
      "Finished gathering data for grade 3 in FIPS 04 and year 2013\n",
      "Finished gathering data for grade 4 in FIPS 04 and year 2013\n",
      "Finished gathering data for grade 5 in FIPS 04 and year 2013\n",
      "Finished gathering data for grade 6 in FIPS 04 and year 2013\n",
      "Finished gathering data for grade 7 in FIPS 04 and year 2013\n",
      "Finished gathering data for grade 8 in FIPS 04 and year 2013\n",
      "Finished gathering data for FIPS 04 in year 2013\n",
      "Finished gathering data for grade 3 in FIPS 05 and year 2013\n",
      "Finished gathering data for grade 4 in FIPS 05 and year 2013\n",
      "Finished gathering data for grade 5 in FIPS 05 and year 2013\n",
      "Finished gathering data for grade 6 in FIPS 05 and year 2013\n",
      "Finished gathering data for grade 7 in FIPS 05 and year 2013\n",
      "Finished gathering data for grade 8 in FIPS 05 and year 2013\n",
      "Finished gathering data for FIPS 05 in year 2013\n",
      "Finished gathering data for grade 3 in FIPS 06 and year 2013\n",
      "Finished gathering data for grade 4 in FIPS 06 and year 2013\n",
      "Finished gathering data for grade 5 in FIPS 06 and year 2013\n",
      "Finished gathering data for grade 6 in FIPS 06 and year 2013\n",
      "Finished gathering data for grade 7 in FIPS 06 and year 2013\n",
      "Finished gathering data for grade 8 in FIPS 06 and year 2013\n",
      "Finished gathering data for FIPS 06 in year 2013\n",
      "Finished gathering data for grade 3 in FIPS 08 and year 2013\n",
      "Finished gathering data for grade 4 in FIPS 08 and year 2013\n",
      "Finished gathering data for grade 5 in FIPS 08 and year 2013\n",
      "Finished gathering data for grade 6 in FIPS 08 and year 2013\n",
      "Finished gathering data for grade 7 in FIPS 08 and year 2013\n",
      "Finished gathering data for grade 8 in FIPS 08 and year 2013\n",
      "Finished gathering data for FIPS 08 in year 2013\n",
      "Finished gathering data for grade 3 in FIPS 09 and year 2013\n",
      "Finished gathering data for grade 4 in FIPS 09 and year 2013\n",
      "Finished gathering data for grade 5 in FIPS 09 and year 2013\n",
      "Finished gathering data for grade 6 in FIPS 09 and year 2013\n",
      "Finished gathering data for grade 7 in FIPS 09 and year 2013\n",
      "Finished gathering data for grade 8 in FIPS 09 and year 2013\n",
      "Finished gathering data for FIPS 09 in year 2013\n",
      "Finished gathering data for grade 3 in FIPS 10 and year 2013\n",
      "Finished gathering data for grade 4 in FIPS 10 and year 2013\n",
      "Finished gathering data for grade 5 in FIPS 10 and year 2013\n",
      "Finished gathering data for grade 6 in FIPS 10 and year 2013\n",
      "Finished gathering data for grade 7 in FIPS 10 and year 2013\n",
      "Finished gathering data for grade 8 in FIPS 10 and year 2013\n",
      "Finished gathering data for FIPS 10 in year 2013\n",
      "Finished gathering data for grade 3 in FIPS 11 and year 2013\n",
      "Finished gathering data for grade 4 in FIPS 11 and year 2013\n",
      "Finished gathering data for grade 5 in FIPS 11 and year 2013\n",
      "Finished gathering data for grade 6 in FIPS 11 and year 2013\n",
      "Finished gathering data for grade 7 in FIPS 11 and year 2013\n",
      "Finished gathering data for grade 8 in FIPS 11 and year 2013\n",
      "Finished gathering data for FIPS 11 in year 2013\n",
      "Finished gathering data for grade 3 in FIPS 12 and year 2013\n",
      "Finished gathering data for grade 4 in FIPS 12 and year 2013\n",
      "Finished gathering data for grade 5 in FIPS 12 and year 2013\n",
      "Finished gathering data for grade 6 in FIPS 12 and year 2013\n",
      "Finished gathering data for grade 7 in FIPS 12 and year 2013\n",
      "Finished gathering data for grade 8 in FIPS 12 and year 2013\n",
      "Finished gathering data for FIPS 12 in year 2013\n",
      "Finished gathering data for grade 3 in FIPS 13 and year 2013\n",
      "Finished gathering data for grade 4 in FIPS 13 and year 2013\n",
      "Finished gathering data for grade 5 in FIPS 13 and year 2013\n",
      "Finished gathering data for grade 6 in FIPS 13 and year 2013\n",
      "Finished gathering data for grade 7 in FIPS 13 and year 2013\n",
      "Finished gathering data for grade 8 in FIPS 13 and year 2013\n",
      "Finished gathering data for FIPS 13 in year 2013\n",
      "Finished gathering data for grade 3 in FIPS 15 and year 2013\n",
      "Finished gathering data for grade 4 in FIPS 15 and year 2013\n",
      "Finished gathering data for grade 5 in FIPS 15 and year 2013\n",
      "Finished gathering data for grade 6 in FIPS 15 and year 2013\n",
      "Finished gathering data for grade 7 in FIPS 15 and year 2013\n",
      "Finished gathering data for grade 8 in FIPS 15 and year 2013\n",
      "Finished gathering data for FIPS 15 in year 2013\n",
      "Finished gathering data for grade 3 in FIPS 16 and year 2013\n",
      "Finished gathering data for grade 4 in FIPS 16 and year 2013\n",
      "Finished gathering data for grade 5 in FIPS 16 and year 2013\n",
      "Finished gathering data for grade 6 in FIPS 16 and year 2013\n",
      "Finished gathering data for grade 7 in FIPS 16 and year 2013\n",
      "Finished gathering data for grade 8 in FIPS 16 and year 2013\n",
      "Finished gathering data for FIPS 16 in year 2013\n",
      "Finished gathering data for grade 3 in FIPS 17 and year 2013\n",
      "Finished gathering data for grade 4 in FIPS 17 and year 2013\n",
      "Finished gathering data for grade 5 in FIPS 17 and year 2013\n",
      "Finished gathering data for grade 6 in FIPS 17 and year 2013\n",
      "Finished gathering data for grade 7 in FIPS 17 and year 2013\n",
      "Finished gathering data for grade 8 in FIPS 17 and year 2013\n",
      "Finished gathering data for FIPS 17 in year 2013\n",
      "Finished gathering data for grade 3 in FIPS 18 and year 2013\n",
      "Finished gathering data for grade 4 in FIPS 18 and year 2013\n",
      "Finished gathering data for grade 5 in FIPS 18 and year 2013\n",
      "Finished gathering data for grade 6 in FIPS 18 and year 2013\n",
      "Finished gathering data for grade 7 in FIPS 18 and year 2013\n",
      "Finished gathering data for grade 8 in FIPS 18 and year 2013\n",
      "Finished gathering data for FIPS 18 in year 2013\n",
      "Finished gathering data for grade 3 in FIPS 19 and year 2013\n",
      "Finished gathering data for grade 4 in FIPS 19 and year 2013\n",
      "Finished gathering data for grade 5 in FIPS 19 and year 2013\n",
      "Finished gathering data for grade 6 in FIPS 19 and year 2013\n",
      "Finished gathering data for grade 7 in FIPS 19 and year 2013\n",
      "Finished gathering data for grade 8 in FIPS 19 and year 2013\n",
      "Finished gathering data for FIPS 19 in year 2013\n",
      "Finished gathering data for grade 3 in FIPS 20 and year 2013\n",
      "Finished gathering data for grade 4 in FIPS 20 and year 2013\n",
      "Finished gathering data for grade 5 in FIPS 20 and year 2013\n",
      "Finished gathering data for grade 6 in FIPS 20 and year 2013\n",
      "Finished gathering data for grade 7 in FIPS 20 and year 2013\n",
      "Finished gathering data for grade 8 in FIPS 20 and year 2013\n",
      "Finished gathering data for FIPS 20 in year 2013\n",
      "Finished gathering data for grade 3 in FIPS 21 and year 2013\n",
      "Finished gathering data for grade 4 in FIPS 21 and year 2013\n",
      "Finished gathering data for grade 5 in FIPS 21 and year 2013\n",
      "Finished gathering data for grade 6 in FIPS 21 and year 2013\n",
      "Finished gathering data for grade 7 in FIPS 21 and year 2013\n",
      "Finished gathering data for grade 8 in FIPS 21 and year 2013\n",
      "Finished gathering data for FIPS 21 in year 2013\n",
      "Finished gathering data for grade 3 in FIPS 22 and year 2013\n",
      "Finished gathering data for grade 4 in FIPS 22 and year 2013\n",
      "Finished gathering data for grade 5 in FIPS 22 and year 2013\n",
      "Finished gathering data for grade 6 in FIPS 22 and year 2013\n",
      "Finished gathering data for grade 7 in FIPS 22 and year 2013\n",
      "Finished gathering data for grade 8 in FIPS 22 and year 2013\n",
      "Finished gathering data for FIPS 22 in year 2013\n",
      "Finished gathering data for grade 3 in FIPS 23 and year 2013\n",
      "Finished gathering data for grade 4 in FIPS 23 and year 2013\n",
      "Finished gathering data for grade 5 in FIPS 23 and year 2013\n",
      "Finished gathering data for grade 6 in FIPS 23 and year 2013\n",
      "Finished gathering data for grade 7 in FIPS 23 and year 2013\n",
      "Finished gathering data for grade 8 in FIPS 23 and year 2013\n",
      "Finished gathering data for FIPS 23 in year 2013\n",
      "Finished gathering data for grade 3 in FIPS 24 and year 2013\n",
      "Finished gathering data for grade 4 in FIPS 24 and year 2013\n",
      "Finished gathering data for grade 5 in FIPS 24 and year 2013\n",
      "Finished gathering data for grade 6 in FIPS 24 and year 2013\n",
      "Finished gathering data for grade 7 in FIPS 24 and year 2013\n",
      "Finished gathering data for grade 8 in FIPS 24 and year 2013\n",
      "Finished gathering data for FIPS 24 in year 2013\n",
      "Finished gathering data for grade 3 in FIPS 25 and year 2013\n",
      "Finished gathering data for grade 4 in FIPS 25 and year 2013\n",
      "Finished gathering data for grade 5 in FIPS 25 and year 2013\n",
      "Finished gathering data for grade 6 in FIPS 25 and year 2013\n",
      "Finished gathering data for grade 7 in FIPS 25 and year 2013\n",
      "Finished gathering data for grade 8 in FIPS 25 and year 2013\n",
      "Finished gathering data for FIPS 25 in year 2013\n",
      "Finished gathering data for grade 3 in FIPS 26 and year 2013\n",
      "Finished gathering data for grade 4 in FIPS 26 and year 2013\n",
      "Finished gathering data for grade 5 in FIPS 26 and year 2013\n",
      "Finished gathering data for grade 6 in FIPS 26 and year 2013\n",
      "Finished gathering data for grade 7 in FIPS 26 and year 2013\n",
      "Finished gathering data for grade 8 in FIPS 26 and year 2013\n",
      "Finished gathering data for FIPS 26 in year 2013\n",
      "Finished gathering data for grade 3 in FIPS 27 and year 2013\n",
      "Finished gathering data for grade 4 in FIPS 27 and year 2013\n",
      "Finished gathering data for grade 5 in FIPS 27 and year 2013\n",
      "Finished gathering data for grade 6 in FIPS 27 and year 2013\n",
      "Finished gathering data for grade 7 in FIPS 27 and year 2013\n",
      "Finished gathering data for grade 8 in FIPS 27 and year 2013\n",
      "Finished gathering data for FIPS 27 in year 2013\n",
      "Finished gathering data for grade 3 in FIPS 28 and year 2013\n",
      "Finished gathering data for grade 4 in FIPS 28 and year 2013\n",
      "Finished gathering data for grade 5 in FIPS 28 and year 2013\n",
      "Finished gathering data for grade 6 in FIPS 28 and year 2013\n",
      "Finished gathering data for grade 7 in FIPS 28 and year 2013\n",
      "Finished gathering data for grade 8 in FIPS 28 and year 2013\n",
      "Finished gathering data for FIPS 28 in year 2013\n",
      "Finished gathering data for grade 3 in FIPS 29 and year 2013\n",
      "Finished gathering data for grade 4 in FIPS 29 and year 2013\n",
      "Finished gathering data for grade 5 in FIPS 29 and year 2013\n",
      "Finished gathering data for grade 6 in FIPS 29 and year 2013\n",
      "Finished gathering data for grade 7 in FIPS 29 and year 2013\n",
      "Finished gathering data for grade 8 in FIPS 29 and year 2013\n",
      "Finished gathering data for FIPS 29 in year 2013\n",
      "Finished gathering data for grade 3 in FIPS 30 and year 2013\n",
      "Finished gathering data for grade 4 in FIPS 30 and year 2013\n",
      "Finished gathering data for grade 5 in FIPS 30 and year 2013\n",
      "Finished gathering data for grade 6 in FIPS 30 and year 2013\n",
      "Finished gathering data for grade 7 in FIPS 30 and year 2013\n",
      "Finished gathering data for grade 8 in FIPS 30 and year 2013\n",
      "Finished gathering data for FIPS 30 in year 2013\n",
      "Finished gathering data for grade 3 in FIPS 31 and year 2013\n",
      "Finished gathering data for grade 4 in FIPS 31 and year 2013\n",
      "Finished gathering data for grade 5 in FIPS 31 and year 2013\n",
      "Finished gathering data for grade 6 in FIPS 31 and year 2013\n",
      "Finished gathering data for grade 7 in FIPS 31 and year 2013\n",
      "Finished gathering data for grade 8 in FIPS 31 and year 2013\n",
      "Finished gathering data for FIPS 31 in year 2013\n",
      "Finished gathering data for grade 3 in FIPS 32 and year 2013\n",
      "Finished gathering data for grade 4 in FIPS 32 and year 2013\n",
      "Finished gathering data for grade 5 in FIPS 32 and year 2013\n",
      "Finished gathering data for grade 6 in FIPS 32 and year 2013\n",
      "Finished gathering data for grade 7 in FIPS 32 and year 2013\n",
      "Finished gathering data for grade 8 in FIPS 32 and year 2013\n",
      "Finished gathering data for FIPS 32 in year 2013\n",
      "Finished gathering data for grade 3 in FIPS 33 and year 2013\n",
      "Finished gathering data for grade 4 in FIPS 33 and year 2013\n",
      "Finished gathering data for grade 5 in FIPS 33 and year 2013\n",
      "Finished gathering data for grade 6 in FIPS 33 and year 2013\n",
      "Finished gathering data for grade 7 in FIPS 33 and year 2013\n",
      "Finished gathering data for grade 8 in FIPS 33 and year 2013\n",
      "Finished gathering data for FIPS 33 in year 2013\n",
      "Finished gathering data for grade 3 in FIPS 34 and year 2013\n",
      "Finished gathering data for grade 4 in FIPS 34 and year 2013\n",
      "Finished gathering data for grade 5 in FIPS 34 and year 2013\n",
      "Finished gathering data for grade 6 in FIPS 34 and year 2013\n",
      "Finished gathering data for grade 7 in FIPS 34 and year 2013\n",
      "Finished gathering data for grade 8 in FIPS 34 and year 2013\n",
      "Finished gathering data for FIPS 34 in year 2013\n",
      "Finished gathering data for grade 3 in FIPS 35 and year 2013\n",
      "Finished gathering data for grade 4 in FIPS 35 and year 2013\n",
      "Finished gathering data for grade 5 in FIPS 35 and year 2013\n",
      "Finished gathering data for grade 6 in FIPS 35 and year 2013\n",
      "Finished gathering data for grade 7 in FIPS 35 and year 2013\n",
      "Finished gathering data for grade 8 in FIPS 35 and year 2013\n",
      "Finished gathering data for FIPS 35 in year 2013\n",
      "Finished gathering data for grade 3 in FIPS 36 and year 2013\n",
      "Finished gathering data for grade 4 in FIPS 36 and year 2013\n",
      "Finished gathering data for grade 5 in FIPS 36 and year 2013\n",
      "Finished gathering data for grade 6 in FIPS 36 and year 2013\n",
      "Finished gathering data for grade 7 in FIPS 36 and year 2013\n",
      "Finished gathering data for grade 8 in FIPS 36 and year 2013\n",
      "Finished gathering data for FIPS 36 in year 2013\n",
      "Finished gathering data for grade 3 in FIPS 37 and year 2013\n",
      "Finished gathering data for grade 4 in FIPS 37 and year 2013\n",
      "Finished gathering data for grade 5 in FIPS 37 and year 2013\n",
      "Finished gathering data for grade 6 in FIPS 37 and year 2013\n",
      "Finished gathering data for grade 7 in FIPS 37 and year 2013\n",
      "Finished gathering data for grade 8 in FIPS 37 and year 2013\n",
      "Finished gathering data for FIPS 37 in year 2013\n",
      "Finished gathering data for grade 3 in FIPS 38 and year 2013\n",
      "Finished gathering data for grade 4 in FIPS 38 and year 2013\n",
      "Finished gathering data for grade 5 in FIPS 38 and year 2013\n",
      "Finished gathering data for grade 6 in FIPS 38 and year 2013\n",
      "Finished gathering data for grade 7 in FIPS 38 and year 2013\n",
      "Finished gathering data for grade 8 in FIPS 38 and year 2013\n",
      "Finished gathering data for FIPS 38 in year 2013\n",
      "Finished gathering data for grade 3 in FIPS 39 and year 2013\n",
      "Finished gathering data for grade 4 in FIPS 39 and year 2013\n",
      "Finished gathering data for grade 5 in FIPS 39 and year 2013\n",
      "Finished gathering data for grade 6 in FIPS 39 and year 2013\n",
      "Finished gathering data for grade 7 in FIPS 39 and year 2013\n",
      "Finished gathering data for grade 8 in FIPS 39 and year 2013\n",
      "Finished gathering data for FIPS 39 in year 2013\n",
      "Finished gathering data for grade 3 in FIPS 40 and year 2013\n",
      "Finished gathering data for grade 4 in FIPS 40 and year 2013\n",
      "Finished gathering data for grade 5 in FIPS 40 and year 2013\n",
      "Finished gathering data for grade 6 in FIPS 40 and year 2013\n",
      "Finished gathering data for grade 7 in FIPS 40 and year 2013\n",
      "Finished gathering data for grade 8 in FIPS 40 and year 2013\n",
      "Finished gathering data for FIPS 40 in year 2013\n",
      "Finished gathering data for grade 3 in FIPS 41 and year 2013\n",
      "Finished gathering data for grade 4 in FIPS 41 and year 2013\n",
      "Finished gathering data for grade 5 in FIPS 41 and year 2013\n",
      "Finished gathering data for grade 6 in FIPS 41 and year 2013\n",
      "Finished gathering data for grade 7 in FIPS 41 and year 2013\n",
      "Finished gathering data for grade 8 in FIPS 41 and year 2013\n",
      "Finished gathering data for FIPS 41 in year 2013\n",
      "Finished gathering data for grade 3 in FIPS 42 and year 2013\n",
      "Finished gathering data for grade 4 in FIPS 42 and year 2013\n",
      "Finished gathering data for grade 5 in FIPS 42 and year 2013\n",
      "Finished gathering data for grade 6 in FIPS 42 and year 2013\n",
      "Finished gathering data for grade 7 in FIPS 42 and year 2013\n",
      "Finished gathering data for grade 8 in FIPS 42 and year 2013\n",
      "Finished gathering data for FIPS 42 in year 2013\n",
      "Finished gathering data for grade 3 in FIPS 44 and year 2013\n",
      "Finished gathering data for grade 4 in FIPS 44 and year 2013\n",
      "Finished gathering data for grade 5 in FIPS 44 and year 2013\n",
      "Finished gathering data for grade 6 in FIPS 44 and year 2013\n",
      "Finished gathering data for grade 7 in FIPS 44 and year 2013\n",
      "Finished gathering data for grade 8 in FIPS 44 and year 2013\n",
      "Finished gathering data for FIPS 44 in year 2013\n",
      "Finished gathering data for grade 3 in FIPS 45 and year 2013\n",
      "Finished gathering data for grade 4 in FIPS 45 and year 2013\n",
      "Finished gathering data for grade 5 in FIPS 45 and year 2013\n",
      "Finished gathering data for grade 6 in FIPS 45 and year 2013\n",
      "Finished gathering data for grade 7 in FIPS 45 and year 2013\n",
      "Finished gathering data for grade 8 in FIPS 45 and year 2013\n",
      "Finished gathering data for FIPS 45 in year 2013\n",
      "Finished gathering data for grade 3 in FIPS 46 and year 2013\n",
      "Finished gathering data for grade 4 in FIPS 46 and year 2013\n",
      "Finished gathering data for grade 5 in FIPS 46 and year 2013\n",
      "Finished gathering data for grade 6 in FIPS 46 and year 2013\n",
      "Finished gathering data for grade 7 in FIPS 46 and year 2013\n",
      "Finished gathering data for grade 8 in FIPS 46 and year 2013\n",
      "Finished gathering data for FIPS 46 in year 2013\n",
      "Finished gathering data for grade 3 in FIPS 47 and year 2013\n",
      "Finished gathering data for grade 4 in FIPS 47 and year 2013\n",
      "Finished gathering data for grade 5 in FIPS 47 and year 2013\n",
      "Finished gathering data for grade 6 in FIPS 47 and year 2013\n",
      "Finished gathering data for grade 7 in FIPS 47 and year 2013\n",
      "Finished gathering data for grade 8 in FIPS 47 and year 2013\n",
      "Finished gathering data for FIPS 47 in year 2013\n",
      "Finished gathering data for grade 3 in FIPS 48 and year 2013\n",
      "Finished gathering data for grade 4 in FIPS 48 and year 2013\n",
      "Finished gathering data for grade 5 in FIPS 48 and year 2013\n",
      "Finished gathering data for grade 6 in FIPS 48 and year 2013\n",
      "Finished gathering data for grade 7 in FIPS 48 and year 2013\n",
      "Finished gathering data for grade 8 in FIPS 48 and year 2013\n",
      "Finished gathering data for FIPS 48 in year 2013\n",
      "Finished gathering data for grade 3 in FIPS 49 and year 2013\n",
      "Finished gathering data for grade 4 in FIPS 49 and year 2013\n",
      "Finished gathering data for grade 5 in FIPS 49 and year 2013\n",
      "Finished gathering data for grade 6 in FIPS 49 and year 2013\n",
      "Finished gathering data for grade 7 in FIPS 49 and year 2013\n",
      "Finished gathering data for grade 8 in FIPS 49 and year 2013\n",
      "Finished gathering data for FIPS 49 in year 2013\n",
      "Finished gathering data for grade 3 in FIPS 50 and year 2013\n",
      "Finished gathering data for grade 4 in FIPS 50 and year 2013\n",
      "Finished gathering data for grade 5 in FIPS 50 and year 2013\n",
      "Finished gathering data for grade 6 in FIPS 50 and year 2013\n",
      "Finished gathering data for grade 7 in FIPS 50 and year 2013\n",
      "Finished gathering data for grade 8 in FIPS 50 and year 2013\n",
      "Finished gathering data for FIPS 50 in year 2013\n",
      "Finished gathering data for grade 3 in FIPS 51 and year 2013\n",
      "Finished gathering data for grade 4 in FIPS 51 and year 2013\n",
      "Finished gathering data for grade 5 in FIPS 51 and year 2013\n",
      "Finished gathering data for grade 6 in FIPS 51 and year 2013\n",
      "Finished gathering data for grade 7 in FIPS 51 and year 2013\n",
      "Finished gathering data for grade 8 in FIPS 51 and year 2013\n",
      "Finished gathering data for FIPS 51 in year 2013\n",
      "Finished gathering data for grade 3 in FIPS 53 and year 2013\n",
      "Finished gathering data for grade 4 in FIPS 53 and year 2013\n",
      "Finished gathering data for grade 5 in FIPS 53 and year 2013\n",
      "Finished gathering data for grade 6 in FIPS 53 and year 2013\n",
      "Finished gathering data for grade 7 in FIPS 53 and year 2013\n",
      "Finished gathering data for grade 8 in FIPS 53 and year 2013\n",
      "Finished gathering data for FIPS 53 in year 2013\n",
      "Finished gathering data for grade 3 in FIPS 54 and year 2013\n",
      "Finished gathering data for grade 4 in FIPS 54 and year 2013\n",
      "Finished gathering data for grade 5 in FIPS 54 and year 2013\n",
      "Finished gathering data for grade 6 in FIPS 54 and year 2013\n",
      "Finished gathering data for grade 7 in FIPS 54 and year 2013\n",
      "Finished gathering data for grade 8 in FIPS 54 and year 2013\n",
      "Finished gathering data for FIPS 54 in year 2013\n",
      "Finished gathering data for grade 3 in FIPS 55 and year 2013\n",
      "Finished gathering data for grade 4 in FIPS 55 and year 2013\n",
      "Finished gathering data for grade 5 in FIPS 55 and year 2013\n",
      "Finished gathering data for grade 6 in FIPS 55 and year 2013\n",
      "Finished gathering data for grade 7 in FIPS 55 and year 2013\n",
      "Finished gathering data for grade 8 in FIPS 55 and year 2013\n",
      "Finished gathering data for FIPS 55 in year 2013\n",
      "Finished gathering data for grade 3 in FIPS 56 and year 2013\n",
      "Finished gathering data for grade 4 in FIPS 56 and year 2013\n",
      "Finished gathering data for grade 5 in FIPS 56 and year 2013\n",
      "Finished gathering data for grade 6 in FIPS 56 and year 2013\n",
      "Finished gathering data for grade 7 in FIPS 56 and year 2013\n",
      "Finished gathering data for grade 8 in FIPS 56 and year 2013\n",
      "Finished gathering data for FIPS 56 in year 2013\n"
     ]
    }
   ],
   "source": [
    "data_2013 = []\n",
    "\n",
    "for fips in fips_codes:\n",
    "    data = gather_data(2013, fips)\n",
    "    data_2013.extend(data)\n",
    "    print(f\"Finished gathering data for FIPS {fips} in year 2013\")\n",
    "\n",
    "df_2013 = pd.DataFrame(data_2013)\n"
   ]
  },
  {
   "cell_type": "code",
   "execution_count": 24,
   "id": "05b0faa1",
   "metadata": {},
   "outputs": [
    {
     "name": "stdout",
     "output_type": "stream",
     "text": [
      "Finished gathering data for grade 3 in FIPS 01 and year 2014\n",
      "Finished gathering data for grade 4 in FIPS 01 and year 2014\n",
      "Finished gathering data for grade 5 in FIPS 01 and year 2014\n",
      "Finished gathering data for grade 6 in FIPS 01 and year 2014\n",
      "Finished gathering data for grade 7 in FIPS 01 and year 2014\n",
      "Finished gathering data for grade 8 in FIPS 01 and year 2014\n",
      "Finished gathering data for FIPS 01 in year 2014\n",
      "Finished gathering data for grade 3 in FIPS 02 and year 2014\n",
      "Finished gathering data for grade 4 in FIPS 02 and year 2014\n",
      "Finished gathering data for grade 5 in FIPS 02 and year 2014\n",
      "Finished gathering data for grade 6 in FIPS 02 and year 2014\n",
      "Finished gathering data for grade 7 in FIPS 02 and year 2014\n",
      "Finished gathering data for grade 8 in FIPS 02 and year 2014\n",
      "Finished gathering data for FIPS 02 in year 2014\n",
      "Finished gathering data for grade 3 in FIPS 04 and year 2014\n",
      "Finished gathering data for grade 4 in FIPS 04 and year 2014\n",
      "Finished gathering data for grade 5 in FIPS 04 and year 2014\n",
      "Finished gathering data for grade 6 in FIPS 04 and year 2014\n",
      "Finished gathering data for grade 7 in FIPS 04 and year 2014\n",
      "Finished gathering data for grade 8 in FIPS 04 and year 2014\n",
      "Finished gathering data for FIPS 04 in year 2014\n",
      "Finished gathering data for grade 3 in FIPS 05 and year 2014\n",
      "Finished gathering data for grade 4 in FIPS 05 and year 2014\n",
      "Finished gathering data for grade 5 in FIPS 05 and year 2014\n",
      "Finished gathering data for grade 6 in FIPS 05 and year 2014\n",
      "Finished gathering data for grade 7 in FIPS 05 and year 2014\n",
      "Finished gathering data for grade 8 in FIPS 05 and year 2014\n",
      "Finished gathering data for FIPS 05 in year 2014\n",
      "Finished gathering data for grade 3 in FIPS 06 and year 2014\n",
      "Finished gathering data for grade 4 in FIPS 06 and year 2014\n",
      "Finished gathering data for grade 5 in FIPS 06 and year 2014\n",
      "Finished gathering data for grade 6 in FIPS 06 and year 2014\n",
      "Finished gathering data for grade 7 in FIPS 06 and year 2014\n",
      "Finished gathering data for grade 8 in FIPS 06 and year 2014\n",
      "Finished gathering data for FIPS 06 in year 2014\n",
      "Finished gathering data for grade 3 in FIPS 08 and year 2014\n",
      "Finished gathering data for grade 4 in FIPS 08 and year 2014\n",
      "Finished gathering data for grade 5 in FIPS 08 and year 2014\n",
      "Finished gathering data for grade 6 in FIPS 08 and year 2014\n",
      "Finished gathering data for grade 7 in FIPS 08 and year 2014\n",
      "Finished gathering data for grade 8 in FIPS 08 and year 2014\n",
      "Finished gathering data for FIPS 08 in year 2014\n",
      "Finished gathering data for grade 3 in FIPS 09 and year 2014\n",
      "Finished gathering data for grade 4 in FIPS 09 and year 2014\n",
      "Finished gathering data for grade 5 in FIPS 09 and year 2014\n",
      "Finished gathering data for grade 6 in FIPS 09 and year 2014\n",
      "Finished gathering data for grade 7 in FIPS 09 and year 2014\n",
      "Finished gathering data for grade 8 in FIPS 09 and year 2014\n",
      "Finished gathering data for FIPS 09 in year 2014\n",
      "Finished gathering data for grade 3 in FIPS 10 and year 2014\n",
      "Finished gathering data for grade 4 in FIPS 10 and year 2014\n",
      "Finished gathering data for grade 5 in FIPS 10 and year 2014\n",
      "Finished gathering data for grade 6 in FIPS 10 and year 2014\n",
      "Finished gathering data for grade 7 in FIPS 10 and year 2014\n",
      "Finished gathering data for grade 8 in FIPS 10 and year 2014\n",
      "Finished gathering data for FIPS 10 in year 2014\n",
      "Finished gathering data for grade 3 in FIPS 11 and year 2014\n",
      "Finished gathering data for grade 4 in FIPS 11 and year 2014\n",
      "Finished gathering data for grade 5 in FIPS 11 and year 2014\n",
      "Finished gathering data for grade 6 in FIPS 11 and year 2014\n",
      "Finished gathering data for grade 7 in FIPS 11 and year 2014\n",
      "Finished gathering data for grade 8 in FIPS 11 and year 2014\n",
      "Finished gathering data for FIPS 11 in year 2014\n",
      "Finished gathering data for grade 3 in FIPS 12 and year 2014\n",
      "Finished gathering data for grade 4 in FIPS 12 and year 2014\n",
      "Finished gathering data for grade 5 in FIPS 12 and year 2014\n",
      "Finished gathering data for grade 6 in FIPS 12 and year 2014\n",
      "Finished gathering data for grade 7 in FIPS 12 and year 2014\n",
      "Finished gathering data for grade 8 in FIPS 12 and year 2014\n",
      "Finished gathering data for FIPS 12 in year 2014\n",
      "Finished gathering data for grade 3 in FIPS 13 and year 2014\n",
      "Finished gathering data for grade 4 in FIPS 13 and year 2014\n",
      "Finished gathering data for grade 5 in FIPS 13 and year 2014\n",
      "Finished gathering data for grade 6 in FIPS 13 and year 2014\n",
      "Finished gathering data for grade 7 in FIPS 13 and year 2014\n",
      "Finished gathering data for grade 8 in FIPS 13 and year 2014\n",
      "Finished gathering data for FIPS 13 in year 2014\n",
      "Finished gathering data for grade 3 in FIPS 15 and year 2014\n",
      "Finished gathering data for grade 4 in FIPS 15 and year 2014\n",
      "Finished gathering data for grade 5 in FIPS 15 and year 2014\n",
      "Finished gathering data for grade 6 in FIPS 15 and year 2014\n",
      "Finished gathering data for grade 7 in FIPS 15 and year 2014\n",
      "Finished gathering data for grade 8 in FIPS 15 and year 2014\n",
      "Finished gathering data for FIPS 15 in year 2014\n",
      "Finished gathering data for grade 3 in FIPS 16 and year 2014\n",
      "Finished gathering data for grade 4 in FIPS 16 and year 2014\n",
      "Finished gathering data for grade 5 in FIPS 16 and year 2014\n",
      "Finished gathering data for grade 6 in FIPS 16 and year 2014\n",
      "Finished gathering data for grade 7 in FIPS 16 and year 2014\n",
      "Finished gathering data for grade 8 in FIPS 16 and year 2014\n",
      "Finished gathering data for FIPS 16 in year 2014\n",
      "Finished gathering data for grade 3 in FIPS 17 and year 2014\n",
      "Finished gathering data for grade 4 in FIPS 17 and year 2014\n",
      "Finished gathering data for grade 5 in FIPS 17 and year 2014\n",
      "Finished gathering data for grade 6 in FIPS 17 and year 2014\n",
      "Finished gathering data for grade 7 in FIPS 17 and year 2014\n",
      "Finished gathering data for grade 8 in FIPS 17 and year 2014\n",
      "Finished gathering data for FIPS 17 in year 2014\n",
      "Finished gathering data for grade 3 in FIPS 18 and year 2014\n",
      "Finished gathering data for grade 4 in FIPS 18 and year 2014\n",
      "Finished gathering data for grade 5 in FIPS 18 and year 2014\n",
      "Finished gathering data for grade 6 in FIPS 18 and year 2014\n",
      "Finished gathering data for grade 7 in FIPS 18 and year 2014\n",
      "Finished gathering data for grade 8 in FIPS 18 and year 2014\n",
      "Finished gathering data for FIPS 18 in year 2014\n",
      "Finished gathering data for grade 3 in FIPS 19 and year 2014\n",
      "Finished gathering data for grade 4 in FIPS 19 and year 2014\n",
      "Finished gathering data for grade 5 in FIPS 19 and year 2014\n",
      "Finished gathering data for grade 6 in FIPS 19 and year 2014\n",
      "Finished gathering data for grade 7 in FIPS 19 and year 2014\n",
      "Finished gathering data for grade 8 in FIPS 19 and year 2014\n",
      "Finished gathering data for FIPS 19 in year 2014\n",
      "Finished gathering data for grade 3 in FIPS 20 and year 2014\n",
      "Finished gathering data for grade 4 in FIPS 20 and year 2014\n",
      "Finished gathering data for grade 5 in FIPS 20 and year 2014\n",
      "Finished gathering data for grade 6 in FIPS 20 and year 2014\n",
      "Finished gathering data for grade 7 in FIPS 20 and year 2014\n",
      "Finished gathering data for grade 8 in FIPS 20 and year 2014\n",
      "Finished gathering data for FIPS 20 in year 2014\n",
      "Finished gathering data for grade 3 in FIPS 21 and year 2014\n",
      "Finished gathering data for grade 4 in FIPS 21 and year 2014\n",
      "Finished gathering data for grade 5 in FIPS 21 and year 2014\n",
      "Finished gathering data for grade 6 in FIPS 21 and year 2014\n",
      "Finished gathering data for grade 7 in FIPS 21 and year 2014\n",
      "Finished gathering data for grade 8 in FIPS 21 and year 2014\n",
      "Finished gathering data for FIPS 21 in year 2014\n",
      "Finished gathering data for grade 3 in FIPS 22 and year 2014\n",
      "Finished gathering data for grade 4 in FIPS 22 and year 2014\n",
      "Finished gathering data for grade 5 in FIPS 22 and year 2014\n",
      "Finished gathering data for grade 6 in FIPS 22 and year 2014\n",
      "Finished gathering data for grade 7 in FIPS 22 and year 2014\n",
      "Finished gathering data for grade 8 in FIPS 22 and year 2014\n",
      "Finished gathering data for FIPS 22 in year 2014\n",
      "Finished gathering data for grade 3 in FIPS 23 and year 2014\n",
      "Finished gathering data for grade 4 in FIPS 23 and year 2014\n",
      "Finished gathering data for grade 5 in FIPS 23 and year 2014\n",
      "Finished gathering data for grade 6 in FIPS 23 and year 2014\n",
      "Finished gathering data for grade 7 in FIPS 23 and year 2014\n",
      "Finished gathering data for grade 8 in FIPS 23 and year 2014\n",
      "Finished gathering data for FIPS 23 in year 2014\n",
      "Finished gathering data for grade 3 in FIPS 24 and year 2014\n",
      "Finished gathering data for grade 4 in FIPS 24 and year 2014\n",
      "Finished gathering data for grade 5 in FIPS 24 and year 2014\n",
      "Finished gathering data for grade 6 in FIPS 24 and year 2014\n",
      "Finished gathering data for grade 7 in FIPS 24 and year 2014\n",
      "Finished gathering data for grade 8 in FIPS 24 and year 2014\n",
      "Finished gathering data for FIPS 24 in year 2014\n",
      "Finished gathering data for grade 3 in FIPS 25 and year 2014\n",
      "Finished gathering data for grade 4 in FIPS 25 and year 2014\n",
      "Finished gathering data for grade 5 in FIPS 25 and year 2014\n",
      "Finished gathering data for grade 6 in FIPS 25 and year 2014\n",
      "Finished gathering data for grade 7 in FIPS 25 and year 2014\n",
      "Finished gathering data for grade 8 in FIPS 25 and year 2014\n",
      "Finished gathering data for FIPS 25 in year 2014\n",
      "Finished gathering data for grade 3 in FIPS 26 and year 2014\n",
      "Finished gathering data for grade 4 in FIPS 26 and year 2014\n",
      "Finished gathering data for grade 5 in FIPS 26 and year 2014\n",
      "Finished gathering data for grade 6 in FIPS 26 and year 2014\n",
      "Finished gathering data for grade 7 in FIPS 26 and year 2014\n",
      "Finished gathering data for grade 8 in FIPS 26 and year 2014\n",
      "Finished gathering data for FIPS 26 in year 2014\n",
      "Finished gathering data for grade 3 in FIPS 27 and year 2014\n",
      "Finished gathering data for grade 4 in FIPS 27 and year 2014\n",
      "Finished gathering data for grade 5 in FIPS 27 and year 2014\n",
      "Finished gathering data for grade 6 in FIPS 27 and year 2014\n",
      "Finished gathering data for grade 7 in FIPS 27 and year 2014\n",
      "Finished gathering data for grade 8 in FIPS 27 and year 2014\n",
      "Finished gathering data for FIPS 27 in year 2014\n",
      "Finished gathering data for grade 3 in FIPS 28 and year 2014\n",
      "Finished gathering data for grade 4 in FIPS 28 and year 2014\n",
      "Finished gathering data for grade 5 in FIPS 28 and year 2014\n",
      "Finished gathering data for grade 6 in FIPS 28 and year 2014\n",
      "Finished gathering data for grade 7 in FIPS 28 and year 2014\n",
      "Finished gathering data for grade 8 in FIPS 28 and year 2014\n",
      "Finished gathering data for FIPS 28 in year 2014\n",
      "Finished gathering data for grade 3 in FIPS 29 and year 2014\n",
      "Finished gathering data for grade 4 in FIPS 29 and year 2014\n",
      "Finished gathering data for grade 5 in FIPS 29 and year 2014\n",
      "Finished gathering data for grade 6 in FIPS 29 and year 2014\n",
      "Finished gathering data for grade 7 in FIPS 29 and year 2014\n",
      "Finished gathering data for grade 8 in FIPS 29 and year 2014\n",
      "Finished gathering data for FIPS 29 in year 2014\n",
      "Finished gathering data for grade 3 in FIPS 30 and year 2014\n",
      "Finished gathering data for grade 4 in FIPS 30 and year 2014\n",
      "Finished gathering data for grade 5 in FIPS 30 and year 2014\n",
      "Finished gathering data for grade 6 in FIPS 30 and year 2014\n",
      "Finished gathering data for grade 7 in FIPS 30 and year 2014\n",
      "Finished gathering data for grade 8 in FIPS 30 and year 2014\n",
      "Finished gathering data for FIPS 30 in year 2014\n",
      "Finished gathering data for grade 3 in FIPS 31 and year 2014\n",
      "Finished gathering data for grade 4 in FIPS 31 and year 2014\n",
      "Finished gathering data for grade 5 in FIPS 31 and year 2014\n",
      "Finished gathering data for grade 6 in FIPS 31 and year 2014\n",
      "Finished gathering data for grade 7 in FIPS 31 and year 2014\n",
      "Finished gathering data for grade 8 in FIPS 31 and year 2014\n",
      "Finished gathering data for FIPS 31 in year 2014\n",
      "Finished gathering data for grade 3 in FIPS 32 and year 2014\n",
      "Finished gathering data for grade 4 in FIPS 32 and year 2014\n",
      "Finished gathering data for grade 5 in FIPS 32 and year 2014\n",
      "Finished gathering data for grade 6 in FIPS 32 and year 2014\n",
      "Finished gathering data for grade 7 in FIPS 32 and year 2014\n",
      "Finished gathering data for grade 8 in FIPS 32 and year 2014\n",
      "Finished gathering data for FIPS 32 in year 2014\n",
      "Finished gathering data for grade 3 in FIPS 33 and year 2014\n",
      "Finished gathering data for grade 4 in FIPS 33 and year 2014\n",
      "Finished gathering data for grade 5 in FIPS 33 and year 2014\n",
      "Finished gathering data for grade 6 in FIPS 33 and year 2014\n",
      "Finished gathering data for grade 7 in FIPS 33 and year 2014\n",
      "Finished gathering data for grade 8 in FIPS 33 and year 2014\n",
      "Finished gathering data for FIPS 33 in year 2014\n",
      "Finished gathering data for grade 3 in FIPS 34 and year 2014\n",
      "Finished gathering data for grade 4 in FIPS 34 and year 2014\n",
      "Finished gathering data for grade 5 in FIPS 34 and year 2014\n",
      "Finished gathering data for grade 6 in FIPS 34 and year 2014\n",
      "Finished gathering data for grade 7 in FIPS 34 and year 2014\n",
      "Finished gathering data for grade 8 in FIPS 34 and year 2014\n",
      "Finished gathering data for FIPS 34 in year 2014\n",
      "Finished gathering data for grade 3 in FIPS 35 and year 2014\n",
      "Finished gathering data for grade 4 in FIPS 35 and year 2014\n",
      "Finished gathering data for grade 5 in FIPS 35 and year 2014\n",
      "Finished gathering data for grade 6 in FIPS 35 and year 2014\n",
      "Finished gathering data for grade 7 in FIPS 35 and year 2014\n",
      "Finished gathering data for grade 8 in FIPS 35 and year 2014\n",
      "Finished gathering data for FIPS 35 in year 2014\n",
      "Finished gathering data for grade 3 in FIPS 36 and year 2014\n",
      "Finished gathering data for grade 4 in FIPS 36 and year 2014\n",
      "Finished gathering data for grade 5 in FIPS 36 and year 2014\n",
      "Finished gathering data for grade 6 in FIPS 36 and year 2014\n",
      "Finished gathering data for grade 7 in FIPS 36 and year 2014\n",
      "Finished gathering data for grade 8 in FIPS 36 and year 2014\n",
      "Finished gathering data for FIPS 36 in year 2014\n",
      "Finished gathering data for grade 3 in FIPS 37 and year 2014\n",
      "Finished gathering data for grade 4 in FIPS 37 and year 2014\n",
      "Finished gathering data for grade 5 in FIPS 37 and year 2014\n",
      "Finished gathering data for grade 6 in FIPS 37 and year 2014\n",
      "Finished gathering data for grade 7 in FIPS 37 and year 2014\n",
      "Finished gathering data for grade 8 in FIPS 37 and year 2014\n",
      "Finished gathering data for FIPS 37 in year 2014\n",
      "Finished gathering data for grade 3 in FIPS 38 and year 2014\n",
      "Finished gathering data for grade 4 in FIPS 38 and year 2014\n",
      "Finished gathering data for grade 5 in FIPS 38 and year 2014\n",
      "Finished gathering data for grade 6 in FIPS 38 and year 2014\n",
      "Finished gathering data for grade 7 in FIPS 38 and year 2014\n",
      "Finished gathering data for grade 8 in FIPS 38 and year 2014\n",
      "Finished gathering data for FIPS 38 in year 2014\n",
      "Finished gathering data for grade 3 in FIPS 39 and year 2014\n",
      "Finished gathering data for grade 4 in FIPS 39 and year 2014\n",
      "Finished gathering data for grade 5 in FIPS 39 and year 2014\n",
      "Finished gathering data for grade 6 in FIPS 39 and year 2014\n",
      "Finished gathering data for grade 7 in FIPS 39 and year 2014\n",
      "Finished gathering data for grade 8 in FIPS 39 and year 2014\n",
      "Finished gathering data for FIPS 39 in year 2014\n",
      "Finished gathering data for grade 3 in FIPS 40 and year 2014\n",
      "Finished gathering data for grade 4 in FIPS 40 and year 2014\n",
      "Finished gathering data for grade 5 in FIPS 40 and year 2014\n",
      "Finished gathering data for grade 6 in FIPS 40 and year 2014\n",
      "Finished gathering data for grade 7 in FIPS 40 and year 2014\n",
      "Finished gathering data for grade 8 in FIPS 40 and year 2014\n",
      "Finished gathering data for FIPS 40 in year 2014\n",
      "Finished gathering data for grade 3 in FIPS 41 and year 2014\n",
      "Finished gathering data for grade 4 in FIPS 41 and year 2014\n",
      "Finished gathering data for grade 5 in FIPS 41 and year 2014\n",
      "Finished gathering data for grade 6 in FIPS 41 and year 2014\n",
      "Finished gathering data for grade 7 in FIPS 41 and year 2014\n",
      "Finished gathering data for grade 8 in FIPS 41 and year 2014\n",
      "Finished gathering data for FIPS 41 in year 2014\n",
      "Finished gathering data for grade 3 in FIPS 42 and year 2014\n",
      "Finished gathering data for grade 4 in FIPS 42 and year 2014\n",
      "Finished gathering data for grade 5 in FIPS 42 and year 2014\n",
      "Finished gathering data for grade 6 in FIPS 42 and year 2014\n",
      "Finished gathering data for grade 7 in FIPS 42 and year 2014\n",
      "Finished gathering data for grade 8 in FIPS 42 and year 2014\n",
      "Finished gathering data for FIPS 42 in year 2014\n",
      "Finished gathering data for grade 3 in FIPS 44 and year 2014\n",
      "Finished gathering data for grade 4 in FIPS 44 and year 2014\n",
      "Finished gathering data for grade 5 in FIPS 44 and year 2014\n",
      "Finished gathering data for grade 6 in FIPS 44 and year 2014\n",
      "Finished gathering data for grade 7 in FIPS 44 and year 2014\n",
      "Finished gathering data for grade 8 in FIPS 44 and year 2014\n",
      "Finished gathering data for FIPS 44 in year 2014\n",
      "Finished gathering data for grade 3 in FIPS 45 and year 2014\n",
      "Finished gathering data for grade 4 in FIPS 45 and year 2014\n",
      "Finished gathering data for grade 5 in FIPS 45 and year 2014\n",
      "Finished gathering data for grade 6 in FIPS 45 and year 2014\n",
      "Finished gathering data for grade 7 in FIPS 45 and year 2014\n",
      "Finished gathering data for grade 8 in FIPS 45 and year 2014\n",
      "Finished gathering data for FIPS 45 in year 2014\n",
      "Finished gathering data for grade 3 in FIPS 46 and year 2014\n",
      "Finished gathering data for grade 4 in FIPS 46 and year 2014\n",
      "Finished gathering data for grade 5 in FIPS 46 and year 2014\n",
      "Finished gathering data for grade 6 in FIPS 46 and year 2014\n",
      "Finished gathering data for grade 7 in FIPS 46 and year 2014\n",
      "Finished gathering data for grade 8 in FIPS 46 and year 2014\n",
      "Finished gathering data for FIPS 46 in year 2014\n",
      "Finished gathering data for grade 3 in FIPS 47 and year 2014\n",
      "Finished gathering data for grade 4 in FIPS 47 and year 2014\n",
      "Finished gathering data for grade 5 in FIPS 47 and year 2014\n",
      "Finished gathering data for grade 6 in FIPS 47 and year 2014\n",
      "Finished gathering data for grade 7 in FIPS 47 and year 2014\n",
      "Finished gathering data for grade 8 in FIPS 47 and year 2014\n",
      "Finished gathering data for FIPS 47 in year 2014\n",
      "Finished gathering data for grade 3 in FIPS 48 and year 2014\n",
      "Finished gathering data for grade 4 in FIPS 48 and year 2014\n",
      "Finished gathering data for grade 5 in FIPS 48 and year 2014\n",
      "Finished gathering data for grade 6 in FIPS 48 and year 2014\n",
      "Finished gathering data for grade 7 in FIPS 48 and year 2014\n",
      "Finished gathering data for grade 8 in FIPS 48 and year 2014\n",
      "Finished gathering data for FIPS 48 in year 2014\n",
      "Finished gathering data for grade 3 in FIPS 49 and year 2014\n",
      "Finished gathering data for grade 4 in FIPS 49 and year 2014\n",
      "Finished gathering data for grade 5 in FIPS 49 and year 2014\n",
      "Finished gathering data for grade 6 in FIPS 49 and year 2014\n",
      "Finished gathering data for grade 7 in FIPS 49 and year 2014\n",
      "Finished gathering data for grade 8 in FIPS 49 and year 2014\n",
      "Finished gathering data for FIPS 49 in year 2014\n",
      "Finished gathering data for grade 3 in FIPS 50 and year 2014\n",
      "Finished gathering data for grade 4 in FIPS 50 and year 2014\n",
      "Finished gathering data for grade 5 in FIPS 50 and year 2014\n",
      "Finished gathering data for grade 6 in FIPS 50 and year 2014\n",
      "Finished gathering data for grade 7 in FIPS 50 and year 2014\n",
      "Finished gathering data for grade 8 in FIPS 50 and year 2014\n",
      "Finished gathering data for FIPS 50 in year 2014\n",
      "Finished gathering data for grade 3 in FIPS 51 and year 2014\n",
      "Finished gathering data for grade 4 in FIPS 51 and year 2014\n",
      "Finished gathering data for grade 5 in FIPS 51 and year 2014\n",
      "Finished gathering data for grade 6 in FIPS 51 and year 2014\n",
      "Finished gathering data for grade 7 in FIPS 51 and year 2014\n",
      "Finished gathering data for grade 8 in FIPS 51 and year 2014\n",
      "Finished gathering data for FIPS 51 in year 2014\n",
      "Finished gathering data for grade 3 in FIPS 53 and year 2014\n",
      "Finished gathering data for grade 4 in FIPS 53 and year 2014\n",
      "Finished gathering data for grade 5 in FIPS 53 and year 2014\n",
      "Finished gathering data for grade 6 in FIPS 53 and year 2014\n",
      "Finished gathering data for grade 7 in FIPS 53 and year 2014\n",
      "Finished gathering data for grade 8 in FIPS 53 and year 2014\n",
      "Finished gathering data for FIPS 53 in year 2014\n",
      "Finished gathering data for grade 3 in FIPS 54 and year 2014\n",
      "Finished gathering data for grade 4 in FIPS 54 and year 2014\n",
      "Finished gathering data for grade 5 in FIPS 54 and year 2014\n",
      "Finished gathering data for grade 6 in FIPS 54 and year 2014\n",
      "Finished gathering data for grade 7 in FIPS 54 and year 2014\n",
      "Finished gathering data for grade 8 in FIPS 54 and year 2014\n",
      "Finished gathering data for FIPS 54 in year 2014\n",
      "Finished gathering data for grade 3 in FIPS 55 and year 2014\n",
      "Finished gathering data for grade 4 in FIPS 55 and year 2014\n",
      "Finished gathering data for grade 5 in FIPS 55 and year 2014\n",
      "Finished gathering data for grade 6 in FIPS 55 and year 2014\n",
      "Finished gathering data for grade 7 in FIPS 55 and year 2014\n",
      "Finished gathering data for grade 8 in FIPS 55 and year 2014\n",
      "Finished gathering data for FIPS 55 in year 2014\n",
      "Finished gathering data for grade 3 in FIPS 56 and year 2014\n",
      "Finished gathering data for grade 4 in FIPS 56 and year 2014\n",
      "Finished gathering data for grade 5 in FIPS 56 and year 2014\n",
      "Finished gathering data for grade 6 in FIPS 56 and year 2014\n",
      "Finished gathering data for grade 7 in FIPS 56 and year 2014\n",
      "Finished gathering data for grade 8 in FIPS 56 and year 2014\n",
      "Finished gathering data for FIPS 56 in year 2014\n"
     ]
    }
   ],
   "source": [
    "data_2014 = []\n",
    "\n",
    "for fips in fips_codes:\n",
    "    data = gather_data(2014, fips)\n",
    "    data_2014.extend(data)\n",
    "    print(f\"Finished gathering data for FIPS {fips} in year 2014\")\n",
    "\n",
    "df_2014 = pd.DataFrame(data_2014)\n"
   ]
  },
  {
   "cell_type": "code",
   "execution_count": 25,
   "id": "1b8a6104",
   "metadata": {},
   "outputs": [
    {
     "name": "stdout",
     "output_type": "stream",
     "text": [
      "Finished gathering data for grade 3 in FIPS 01 and year 2015\n",
      "Finished gathering data for grade 4 in FIPS 01 and year 2015\n",
      "Finished gathering data for grade 5 in FIPS 01 and year 2015\n",
      "Finished gathering data for grade 6 in FIPS 01 and year 2015\n",
      "Finished gathering data for grade 7 in FIPS 01 and year 2015\n",
      "Finished gathering data for grade 8 in FIPS 01 and year 2015\n",
      "Finished gathering data for FIPS 01 in year 2015\n",
      "Finished gathering data for grade 3 in FIPS 02 and year 2015\n",
      "Finished gathering data for grade 4 in FIPS 02 and year 2015\n",
      "Finished gathering data for grade 5 in FIPS 02 and year 2015\n",
      "Finished gathering data for grade 6 in FIPS 02 and year 2015\n",
      "Finished gathering data for grade 7 in FIPS 02 and year 2015\n",
      "Finished gathering data for grade 8 in FIPS 02 and year 2015\n",
      "Finished gathering data for FIPS 02 in year 2015\n",
      "Finished gathering data for grade 3 in FIPS 04 and year 2015\n",
      "Finished gathering data for grade 4 in FIPS 04 and year 2015\n",
      "Finished gathering data for grade 5 in FIPS 04 and year 2015\n",
      "Finished gathering data for grade 6 in FIPS 04 and year 2015\n",
      "Finished gathering data for grade 7 in FIPS 04 and year 2015\n",
      "Finished gathering data for grade 8 in FIPS 04 and year 2015\n",
      "Finished gathering data for FIPS 04 in year 2015\n",
      "Finished gathering data for grade 3 in FIPS 05 and year 2015\n",
      "Finished gathering data for grade 4 in FIPS 05 and year 2015\n",
      "Finished gathering data for grade 5 in FIPS 05 and year 2015\n",
      "Finished gathering data for grade 6 in FIPS 05 and year 2015\n",
      "Finished gathering data for grade 7 in FIPS 05 and year 2015\n",
      "Finished gathering data for grade 8 in FIPS 05 and year 2015\n",
      "Finished gathering data for FIPS 05 in year 2015\n",
      "Finished gathering data for grade 3 in FIPS 06 and year 2015\n",
      "Finished gathering data for grade 4 in FIPS 06 and year 2015\n",
      "Finished gathering data for grade 5 in FIPS 06 and year 2015\n",
      "Finished gathering data for grade 6 in FIPS 06 and year 2015\n",
      "Finished gathering data for grade 7 in FIPS 06 and year 2015\n",
      "Finished gathering data for grade 8 in FIPS 06 and year 2015\n",
      "Finished gathering data for FIPS 06 in year 2015\n",
      "Finished gathering data for grade 3 in FIPS 08 and year 2015\n",
      "Finished gathering data for grade 4 in FIPS 08 and year 2015\n",
      "Finished gathering data for grade 5 in FIPS 08 and year 2015\n",
      "Finished gathering data for grade 6 in FIPS 08 and year 2015\n",
      "Finished gathering data for grade 7 in FIPS 08 and year 2015\n",
      "Finished gathering data for grade 8 in FIPS 08 and year 2015\n",
      "Finished gathering data for FIPS 08 in year 2015\n",
      "Finished gathering data for grade 3 in FIPS 09 and year 2015\n",
      "Finished gathering data for grade 4 in FIPS 09 and year 2015\n",
      "Finished gathering data for grade 5 in FIPS 09 and year 2015\n",
      "Finished gathering data for grade 6 in FIPS 09 and year 2015\n",
      "Finished gathering data for grade 7 in FIPS 09 and year 2015\n",
      "Finished gathering data for grade 8 in FIPS 09 and year 2015\n",
      "Finished gathering data for FIPS 09 in year 2015\n",
      "Finished gathering data for grade 3 in FIPS 10 and year 2015\n",
      "Finished gathering data for grade 4 in FIPS 10 and year 2015\n",
      "Finished gathering data for grade 5 in FIPS 10 and year 2015\n",
      "Finished gathering data for grade 6 in FIPS 10 and year 2015\n",
      "Finished gathering data for grade 7 in FIPS 10 and year 2015\n",
      "Finished gathering data for grade 8 in FIPS 10 and year 2015\n",
      "Finished gathering data for FIPS 10 in year 2015\n",
      "Finished gathering data for grade 3 in FIPS 11 and year 2015\n",
      "Finished gathering data for grade 4 in FIPS 11 and year 2015\n",
      "Finished gathering data for grade 5 in FIPS 11 and year 2015\n",
      "Finished gathering data for grade 6 in FIPS 11 and year 2015\n",
      "Finished gathering data for grade 7 in FIPS 11 and year 2015\n",
      "Finished gathering data for grade 8 in FIPS 11 and year 2015\n",
      "Finished gathering data for FIPS 11 in year 2015\n",
      "Finished gathering data for grade 3 in FIPS 12 and year 2015\n",
      "Finished gathering data for grade 4 in FIPS 12 and year 2015\n",
      "Finished gathering data for grade 5 in FIPS 12 and year 2015\n",
      "Finished gathering data for grade 6 in FIPS 12 and year 2015\n",
      "Finished gathering data for grade 7 in FIPS 12 and year 2015\n",
      "Finished gathering data for grade 8 in FIPS 12 and year 2015\n",
      "Finished gathering data for FIPS 12 in year 2015\n",
      "Finished gathering data for grade 3 in FIPS 13 and year 2015\n",
      "Finished gathering data for grade 4 in FIPS 13 and year 2015\n",
      "Finished gathering data for grade 5 in FIPS 13 and year 2015\n",
      "Finished gathering data for grade 6 in FIPS 13 and year 2015\n",
      "Finished gathering data for grade 7 in FIPS 13 and year 2015\n",
      "Finished gathering data for grade 8 in FIPS 13 and year 2015\n",
      "Finished gathering data for FIPS 13 in year 2015\n",
      "Finished gathering data for grade 3 in FIPS 15 and year 2015\n",
      "Finished gathering data for grade 4 in FIPS 15 and year 2015\n",
      "Finished gathering data for grade 5 in FIPS 15 and year 2015\n",
      "Finished gathering data for grade 6 in FIPS 15 and year 2015\n",
      "Finished gathering data for grade 7 in FIPS 15 and year 2015\n",
      "Finished gathering data for grade 8 in FIPS 15 and year 2015\n",
      "Finished gathering data for FIPS 15 in year 2015\n",
      "Finished gathering data for grade 3 in FIPS 16 and year 2015\n",
      "Finished gathering data for grade 4 in FIPS 16 and year 2015\n",
      "Finished gathering data for grade 5 in FIPS 16 and year 2015\n",
      "Finished gathering data for grade 6 in FIPS 16 and year 2015\n",
      "Finished gathering data for grade 7 in FIPS 16 and year 2015\n",
      "Finished gathering data for grade 8 in FIPS 16 and year 2015\n",
      "Finished gathering data for FIPS 16 in year 2015\n",
      "Finished gathering data for grade 3 in FIPS 17 and year 2015\n",
      "Finished gathering data for grade 4 in FIPS 17 and year 2015\n",
      "Finished gathering data for grade 5 in FIPS 17 and year 2015\n",
      "Finished gathering data for grade 6 in FIPS 17 and year 2015\n",
      "Finished gathering data for grade 7 in FIPS 17 and year 2015\n",
      "Finished gathering data for grade 8 in FIPS 17 and year 2015\n",
      "Finished gathering data for FIPS 17 in year 2015\n",
      "Finished gathering data for grade 3 in FIPS 18 and year 2015\n",
      "Finished gathering data for grade 4 in FIPS 18 and year 2015\n",
      "Finished gathering data for grade 5 in FIPS 18 and year 2015\n",
      "Finished gathering data for grade 6 in FIPS 18 and year 2015\n",
      "Finished gathering data for grade 7 in FIPS 18 and year 2015\n",
      "Finished gathering data for grade 8 in FIPS 18 and year 2015\n",
      "Finished gathering data for FIPS 18 in year 2015\n",
      "Finished gathering data for grade 3 in FIPS 19 and year 2015\n",
      "Finished gathering data for grade 4 in FIPS 19 and year 2015\n",
      "Finished gathering data for grade 5 in FIPS 19 and year 2015\n",
      "Finished gathering data for grade 6 in FIPS 19 and year 2015\n",
      "Finished gathering data for grade 7 in FIPS 19 and year 2015\n",
      "Finished gathering data for grade 8 in FIPS 19 and year 2015\n",
      "Finished gathering data for FIPS 19 in year 2015\n",
      "Finished gathering data for grade 3 in FIPS 20 and year 2015\n",
      "Finished gathering data for grade 4 in FIPS 20 and year 2015\n",
      "Finished gathering data for grade 5 in FIPS 20 and year 2015\n",
      "Finished gathering data for grade 6 in FIPS 20 and year 2015\n",
      "Finished gathering data for grade 7 in FIPS 20 and year 2015\n",
      "Finished gathering data for grade 8 in FIPS 20 and year 2015\n",
      "Finished gathering data for FIPS 20 in year 2015\n",
      "Finished gathering data for grade 3 in FIPS 21 and year 2015\n",
      "Finished gathering data for grade 4 in FIPS 21 and year 2015\n",
      "Finished gathering data for grade 5 in FIPS 21 and year 2015\n",
      "Finished gathering data for grade 6 in FIPS 21 and year 2015\n",
      "Finished gathering data for grade 7 in FIPS 21 and year 2015\n",
      "Finished gathering data for grade 8 in FIPS 21 and year 2015\n",
      "Finished gathering data for FIPS 21 in year 2015\n",
      "Finished gathering data for grade 3 in FIPS 22 and year 2015\n",
      "Finished gathering data for grade 4 in FIPS 22 and year 2015\n",
      "Finished gathering data for grade 5 in FIPS 22 and year 2015\n",
      "Finished gathering data for grade 6 in FIPS 22 and year 2015\n",
      "Finished gathering data for grade 7 in FIPS 22 and year 2015\n",
      "Finished gathering data for grade 8 in FIPS 22 and year 2015\n",
      "Finished gathering data for FIPS 22 in year 2015\n",
      "Finished gathering data for grade 3 in FIPS 23 and year 2015\n",
      "Finished gathering data for grade 4 in FIPS 23 and year 2015\n",
      "Finished gathering data for grade 5 in FIPS 23 and year 2015\n",
      "Finished gathering data for grade 6 in FIPS 23 and year 2015\n",
      "Finished gathering data for grade 7 in FIPS 23 and year 2015\n",
      "Finished gathering data for grade 8 in FIPS 23 and year 2015\n",
      "Finished gathering data for FIPS 23 in year 2015\n",
      "Finished gathering data for grade 3 in FIPS 24 and year 2015\n",
      "Finished gathering data for grade 4 in FIPS 24 and year 2015\n",
      "Finished gathering data for grade 5 in FIPS 24 and year 2015\n",
      "Finished gathering data for grade 6 in FIPS 24 and year 2015\n",
      "Finished gathering data for grade 7 in FIPS 24 and year 2015\n",
      "Finished gathering data for grade 8 in FIPS 24 and year 2015\n",
      "Finished gathering data for FIPS 24 in year 2015\n",
      "Finished gathering data for grade 3 in FIPS 25 and year 2015\n",
      "Finished gathering data for grade 4 in FIPS 25 and year 2015\n",
      "Finished gathering data for grade 5 in FIPS 25 and year 2015\n",
      "Finished gathering data for grade 6 in FIPS 25 and year 2015\n",
      "Finished gathering data for grade 7 in FIPS 25 and year 2015\n",
      "Finished gathering data for grade 8 in FIPS 25 and year 2015\n",
      "Finished gathering data for FIPS 25 in year 2015\n",
      "Finished gathering data for grade 3 in FIPS 26 and year 2015\n",
      "Finished gathering data for grade 4 in FIPS 26 and year 2015\n",
      "Finished gathering data for grade 5 in FIPS 26 and year 2015\n",
      "Finished gathering data for grade 6 in FIPS 26 and year 2015\n",
      "Finished gathering data for grade 7 in FIPS 26 and year 2015\n",
      "Finished gathering data for grade 8 in FIPS 26 and year 2015\n",
      "Finished gathering data for FIPS 26 in year 2015\n",
      "Finished gathering data for grade 3 in FIPS 27 and year 2015\n",
      "Finished gathering data for grade 4 in FIPS 27 and year 2015\n",
      "Finished gathering data for grade 5 in FIPS 27 and year 2015\n",
      "Finished gathering data for grade 6 in FIPS 27 and year 2015\n",
      "Finished gathering data for grade 7 in FIPS 27 and year 2015\n",
      "Finished gathering data for grade 8 in FIPS 27 and year 2015\n",
      "Finished gathering data for FIPS 27 in year 2015\n",
      "Finished gathering data for grade 3 in FIPS 28 and year 2015\n",
      "Finished gathering data for grade 4 in FIPS 28 and year 2015\n",
      "Finished gathering data for grade 5 in FIPS 28 and year 2015\n",
      "Finished gathering data for grade 6 in FIPS 28 and year 2015\n",
      "Finished gathering data for grade 7 in FIPS 28 and year 2015\n",
      "Finished gathering data for grade 8 in FIPS 28 and year 2015\n",
      "Finished gathering data for FIPS 28 in year 2015\n",
      "Finished gathering data for grade 3 in FIPS 29 and year 2015\n",
      "Finished gathering data for grade 4 in FIPS 29 and year 2015\n",
      "Finished gathering data for grade 5 in FIPS 29 and year 2015\n",
      "Finished gathering data for grade 6 in FIPS 29 and year 2015\n",
      "Finished gathering data for grade 7 in FIPS 29 and year 2015\n",
      "Finished gathering data for grade 8 in FIPS 29 and year 2015\n",
      "Finished gathering data for FIPS 29 in year 2015\n",
      "Finished gathering data for grade 3 in FIPS 30 and year 2015\n",
      "Finished gathering data for grade 4 in FIPS 30 and year 2015\n",
      "Finished gathering data for grade 5 in FIPS 30 and year 2015\n",
      "Finished gathering data for grade 6 in FIPS 30 and year 2015\n",
      "Finished gathering data for grade 7 in FIPS 30 and year 2015\n",
      "Finished gathering data for grade 8 in FIPS 30 and year 2015\n",
      "Finished gathering data for FIPS 30 in year 2015\n",
      "Finished gathering data for grade 3 in FIPS 31 and year 2015\n",
      "Finished gathering data for grade 4 in FIPS 31 and year 2015\n",
      "Finished gathering data for grade 5 in FIPS 31 and year 2015\n",
      "Finished gathering data for grade 6 in FIPS 31 and year 2015\n",
      "Finished gathering data for grade 7 in FIPS 31 and year 2015\n",
      "Finished gathering data for grade 8 in FIPS 31 and year 2015\n",
      "Finished gathering data for FIPS 31 in year 2015\n",
      "Finished gathering data for grade 3 in FIPS 32 and year 2015\n",
      "Finished gathering data for grade 4 in FIPS 32 and year 2015\n",
      "Finished gathering data for grade 5 in FIPS 32 and year 2015\n",
      "Finished gathering data for grade 6 in FIPS 32 and year 2015\n",
      "Finished gathering data for grade 7 in FIPS 32 and year 2015\n",
      "Finished gathering data for grade 8 in FIPS 32 and year 2015\n",
      "Finished gathering data for FIPS 32 in year 2015\n",
      "Finished gathering data for grade 3 in FIPS 33 and year 2015\n",
      "Finished gathering data for grade 4 in FIPS 33 and year 2015\n",
      "Finished gathering data for grade 5 in FIPS 33 and year 2015\n",
      "Finished gathering data for grade 6 in FIPS 33 and year 2015\n",
      "Finished gathering data for grade 7 in FIPS 33 and year 2015\n",
      "Finished gathering data for grade 8 in FIPS 33 and year 2015\n",
      "Finished gathering data for FIPS 33 in year 2015\n",
      "Finished gathering data for grade 3 in FIPS 34 and year 2015\n",
      "Finished gathering data for grade 4 in FIPS 34 and year 2015\n",
      "Finished gathering data for grade 5 in FIPS 34 and year 2015\n",
      "Finished gathering data for grade 6 in FIPS 34 and year 2015\n",
      "Finished gathering data for grade 7 in FIPS 34 and year 2015\n",
      "Finished gathering data for grade 8 in FIPS 34 and year 2015\n",
      "Finished gathering data for FIPS 34 in year 2015\n",
      "Finished gathering data for grade 3 in FIPS 35 and year 2015\n",
      "Finished gathering data for grade 4 in FIPS 35 and year 2015\n",
      "Finished gathering data for grade 5 in FIPS 35 and year 2015\n",
      "Finished gathering data for grade 6 in FIPS 35 and year 2015\n",
      "Finished gathering data for grade 7 in FIPS 35 and year 2015\n",
      "Finished gathering data for grade 8 in FIPS 35 and year 2015\n",
      "Finished gathering data for FIPS 35 in year 2015\n",
      "Finished gathering data for grade 3 in FIPS 36 and year 2015\n",
      "Finished gathering data for grade 4 in FIPS 36 and year 2015\n",
      "Finished gathering data for grade 5 in FIPS 36 and year 2015\n",
      "Finished gathering data for grade 6 in FIPS 36 and year 2015\n",
      "Finished gathering data for grade 7 in FIPS 36 and year 2015\n",
      "Finished gathering data for grade 8 in FIPS 36 and year 2015\n",
      "Finished gathering data for FIPS 36 in year 2015\n",
      "Finished gathering data for grade 3 in FIPS 37 and year 2015\n",
      "Finished gathering data for grade 4 in FIPS 37 and year 2015\n",
      "Finished gathering data for grade 5 in FIPS 37 and year 2015\n",
      "Finished gathering data for grade 6 in FIPS 37 and year 2015\n",
      "Finished gathering data for grade 7 in FIPS 37 and year 2015\n",
      "Finished gathering data for grade 8 in FIPS 37 and year 2015\n",
      "Finished gathering data for FIPS 37 in year 2015\n",
      "Finished gathering data for grade 3 in FIPS 38 and year 2015\n",
      "Finished gathering data for grade 4 in FIPS 38 and year 2015\n",
      "Finished gathering data for grade 5 in FIPS 38 and year 2015\n",
      "Finished gathering data for grade 6 in FIPS 38 and year 2015\n",
      "Finished gathering data for grade 7 in FIPS 38 and year 2015\n",
      "Finished gathering data for grade 8 in FIPS 38 and year 2015\n",
      "Finished gathering data for FIPS 38 in year 2015\n",
      "Finished gathering data for grade 3 in FIPS 39 and year 2015\n",
      "Finished gathering data for grade 4 in FIPS 39 and year 2015\n",
      "Finished gathering data for grade 5 in FIPS 39 and year 2015\n",
      "Finished gathering data for grade 6 in FIPS 39 and year 2015\n",
      "Finished gathering data for grade 7 in FIPS 39 and year 2015\n",
      "Finished gathering data for grade 8 in FIPS 39 and year 2015\n",
      "Finished gathering data for FIPS 39 in year 2015\n",
      "Finished gathering data for grade 3 in FIPS 40 and year 2015\n",
      "Finished gathering data for grade 4 in FIPS 40 and year 2015\n",
      "Finished gathering data for grade 5 in FIPS 40 and year 2015\n",
      "Finished gathering data for grade 6 in FIPS 40 and year 2015\n",
      "Finished gathering data for grade 7 in FIPS 40 and year 2015\n",
      "Finished gathering data for grade 8 in FIPS 40 and year 2015\n",
      "Finished gathering data for FIPS 40 in year 2015\n",
      "Finished gathering data for grade 3 in FIPS 41 and year 2015\n",
      "Finished gathering data for grade 4 in FIPS 41 and year 2015\n",
      "Finished gathering data for grade 5 in FIPS 41 and year 2015\n",
      "Finished gathering data for grade 6 in FIPS 41 and year 2015\n",
      "Finished gathering data for grade 7 in FIPS 41 and year 2015\n",
      "Finished gathering data for grade 8 in FIPS 41 and year 2015\n",
      "Finished gathering data for FIPS 41 in year 2015\n",
      "Finished gathering data for grade 3 in FIPS 42 and year 2015\n",
      "Finished gathering data for grade 4 in FIPS 42 and year 2015\n",
      "Finished gathering data for grade 5 in FIPS 42 and year 2015\n",
      "Finished gathering data for grade 6 in FIPS 42 and year 2015\n",
      "Finished gathering data for grade 7 in FIPS 42 and year 2015\n",
      "Finished gathering data for grade 8 in FIPS 42 and year 2015\n",
      "Finished gathering data for FIPS 42 in year 2015\n",
      "Finished gathering data for grade 3 in FIPS 44 and year 2015\n",
      "Finished gathering data for grade 4 in FIPS 44 and year 2015\n",
      "Finished gathering data for grade 5 in FIPS 44 and year 2015\n",
      "Finished gathering data for grade 6 in FIPS 44 and year 2015\n",
      "Finished gathering data for grade 7 in FIPS 44 and year 2015\n",
      "Finished gathering data for grade 8 in FIPS 44 and year 2015\n",
      "Finished gathering data for FIPS 44 in year 2015\n",
      "Finished gathering data for grade 3 in FIPS 45 and year 2015\n",
      "Finished gathering data for grade 4 in FIPS 45 and year 2015\n",
      "Finished gathering data for grade 5 in FIPS 45 and year 2015\n",
      "Finished gathering data for grade 6 in FIPS 45 and year 2015\n",
      "Finished gathering data for grade 7 in FIPS 45 and year 2015\n",
      "Finished gathering data for grade 8 in FIPS 45 and year 2015\n",
      "Finished gathering data for FIPS 45 in year 2015\n",
      "Finished gathering data for grade 3 in FIPS 46 and year 2015\n",
      "Finished gathering data for grade 4 in FIPS 46 and year 2015\n",
      "Finished gathering data for grade 5 in FIPS 46 and year 2015\n",
      "Finished gathering data for grade 6 in FIPS 46 and year 2015\n",
      "Finished gathering data for grade 7 in FIPS 46 and year 2015\n",
      "Finished gathering data for grade 8 in FIPS 46 and year 2015\n",
      "Finished gathering data for FIPS 46 in year 2015\n",
      "Finished gathering data for grade 3 in FIPS 47 and year 2015\n",
      "Finished gathering data for grade 4 in FIPS 47 and year 2015\n",
      "Finished gathering data for grade 5 in FIPS 47 and year 2015\n",
      "Finished gathering data for grade 6 in FIPS 47 and year 2015\n",
      "Finished gathering data for grade 7 in FIPS 47 and year 2015\n",
      "Finished gathering data for grade 8 in FIPS 47 and year 2015\n",
      "Finished gathering data for FIPS 47 in year 2015\n",
      "Finished gathering data for grade 3 in FIPS 48 and year 2015\n",
      "Finished gathering data for grade 4 in FIPS 48 and year 2015\n",
      "Finished gathering data for grade 5 in FIPS 48 and year 2015\n",
      "Finished gathering data for grade 6 in FIPS 48 and year 2015\n",
      "Finished gathering data for grade 7 in FIPS 48 and year 2015\n",
      "Finished gathering data for grade 8 in FIPS 48 and year 2015\n",
      "Finished gathering data for FIPS 48 in year 2015\n",
      "Finished gathering data for grade 3 in FIPS 49 and year 2015\n",
      "Finished gathering data for grade 4 in FIPS 49 and year 2015\n",
      "Finished gathering data for grade 5 in FIPS 49 and year 2015\n",
      "Finished gathering data for grade 6 in FIPS 49 and year 2015\n",
      "Finished gathering data for grade 7 in FIPS 49 and year 2015\n",
      "Finished gathering data for grade 8 in FIPS 49 and year 2015\n",
      "Finished gathering data for FIPS 49 in year 2015\n",
      "Finished gathering data for grade 3 in FIPS 50 and year 2015\n",
      "Finished gathering data for grade 4 in FIPS 50 and year 2015\n",
      "Finished gathering data for grade 5 in FIPS 50 and year 2015\n",
      "Finished gathering data for grade 6 in FIPS 50 and year 2015\n",
      "Finished gathering data for grade 7 in FIPS 50 and year 2015\n",
      "Finished gathering data for grade 8 in FIPS 50 and year 2015\n",
      "Finished gathering data for FIPS 50 in year 2015\n",
      "Finished gathering data for grade 3 in FIPS 51 and year 2015\n",
      "Finished gathering data for grade 4 in FIPS 51 and year 2015\n",
      "Finished gathering data for grade 5 in FIPS 51 and year 2015\n",
      "Finished gathering data for grade 6 in FIPS 51 and year 2015\n",
      "Finished gathering data for grade 7 in FIPS 51 and year 2015\n",
      "Finished gathering data for grade 8 in FIPS 51 and year 2015\n",
      "Finished gathering data for FIPS 51 in year 2015\n",
      "Finished gathering data for grade 3 in FIPS 53 and year 2015\n",
      "Finished gathering data for grade 4 in FIPS 53 and year 2015\n",
      "Finished gathering data for grade 5 in FIPS 53 and year 2015\n",
      "Finished gathering data for grade 6 in FIPS 53 and year 2015\n",
      "Finished gathering data for grade 7 in FIPS 53 and year 2015\n",
      "Finished gathering data for grade 8 in FIPS 53 and year 2015\n",
      "Finished gathering data for FIPS 53 in year 2015\n",
      "Finished gathering data for grade 3 in FIPS 54 and year 2015\n",
      "Finished gathering data for grade 4 in FIPS 54 and year 2015\n",
      "Finished gathering data for grade 5 in FIPS 54 and year 2015\n",
      "Finished gathering data for grade 6 in FIPS 54 and year 2015\n",
      "Finished gathering data for grade 7 in FIPS 54 and year 2015\n",
      "Finished gathering data for grade 8 in FIPS 54 and year 2015\n",
      "Finished gathering data for FIPS 54 in year 2015\n",
      "Finished gathering data for grade 3 in FIPS 55 and year 2015\n",
      "Finished gathering data for grade 4 in FIPS 55 and year 2015\n",
      "Finished gathering data for grade 5 in FIPS 55 and year 2015\n",
      "Finished gathering data for grade 6 in FIPS 55 and year 2015\n",
      "Finished gathering data for grade 7 in FIPS 55 and year 2015\n",
      "Finished gathering data for grade 8 in FIPS 55 and year 2015\n",
      "Finished gathering data for FIPS 55 in year 2015\n",
      "Finished gathering data for grade 3 in FIPS 56 and year 2015\n",
      "Finished gathering data for grade 4 in FIPS 56 and year 2015\n",
      "Finished gathering data for grade 5 in FIPS 56 and year 2015\n",
      "Finished gathering data for grade 6 in FIPS 56 and year 2015\n",
      "Finished gathering data for grade 7 in FIPS 56 and year 2015\n",
      "Finished gathering data for grade 8 in FIPS 56 and year 2015\n",
      "Finished gathering data for FIPS 56 in year 2015\n"
     ]
    }
   ],
   "source": [
    "data_2015 = []\n",
    "\n",
    "for fips in fips_codes:\n",
    "    data = gather_data(2015, fips)\n",
    "    data_2015.extend(data)\n",
    "    print(f\"Finished gathering data for FIPS {fips} in year 2015\")\n",
    "\n",
    "df_2015 = pd.DataFrame(data_2015)\n"
   ]
  },
  {
   "cell_type": "code",
   "execution_count": 30,
   "id": "7352bef5",
   "metadata": {},
   "outputs": [
    {
     "name": "stdout",
     "output_type": "stream",
     "text": [
      "Finished gathering data for grade 3 in FIPS 01 and year 2016\n",
      "Finished gathering data for grade 4 in FIPS 01 and year 2016\n",
      "Finished gathering data for grade 5 in FIPS 01 and year 2016\n",
      "Finished gathering data for grade 6 in FIPS 01 and year 2016\n",
      "Finished gathering data for grade 7 in FIPS 01 and year 2016\n",
      "Finished gathering data for grade 8 in FIPS 01 and year 2016\n",
      "Finished gathering data for FIPS 01 in year 2016\n",
      "Finished gathering data for grade 3 in FIPS 02 and year 2016\n",
      "Finished gathering data for grade 4 in FIPS 02 and year 2016\n",
      "Finished gathering data for grade 5 in FIPS 02 and year 2016\n",
      "Finished gathering data for grade 6 in FIPS 02 and year 2016\n",
      "Finished gathering data for grade 7 in FIPS 02 and year 2016\n",
      "Finished gathering data for grade 8 in FIPS 02 and year 2016\n",
      "Finished gathering data for FIPS 02 in year 2016\n",
      "Finished gathering data for grade 3 in FIPS 04 and year 2016\n",
      "Finished gathering data for grade 4 in FIPS 04 and year 2016\n",
      "Finished gathering data for grade 5 in FIPS 04 and year 2016\n",
      "Finished gathering data for grade 6 in FIPS 04 and year 2016\n",
      "Finished gathering data for grade 7 in FIPS 04 and year 2016\n",
      "Finished gathering data for grade 8 in FIPS 04 and year 2016\n",
      "Finished gathering data for FIPS 04 in year 2016\n",
      "Finished gathering data for grade 3 in FIPS 05 and year 2016\n",
      "Finished gathering data for grade 4 in FIPS 05 and year 2016\n",
      "Finished gathering data for grade 5 in FIPS 05 and year 2016\n",
      "Finished gathering data for grade 6 in FIPS 05 and year 2016\n",
      "Finished gathering data for grade 7 in FIPS 05 and year 2016\n",
      "Finished gathering data for grade 8 in FIPS 05 and year 2016\n",
      "Finished gathering data for FIPS 05 in year 2016\n",
      "Finished gathering data for grade 3 in FIPS 06 and year 2016\n",
      "Finished gathering data for grade 4 in FIPS 06 and year 2016\n",
      "Finished gathering data for grade 5 in FIPS 06 and year 2016\n",
      "Finished gathering data for grade 6 in FIPS 06 and year 2016\n",
      "Finished gathering data for grade 7 in FIPS 06 and year 2016\n",
      "Finished gathering data for grade 8 in FIPS 06 and year 2016\n",
      "Finished gathering data for FIPS 06 in year 2016\n",
      "Finished gathering data for grade 3 in FIPS 08 and year 2016\n",
      "Finished gathering data for grade 4 in FIPS 08 and year 2016\n",
      "Finished gathering data for grade 5 in FIPS 08 and year 2016\n",
      "Finished gathering data for grade 6 in FIPS 08 and year 2016\n",
      "Finished gathering data for grade 7 in FIPS 08 and year 2016\n",
      "Finished gathering data for grade 8 in FIPS 08 and year 2016\n",
      "Finished gathering data for FIPS 08 in year 2016\n",
      "Finished gathering data for grade 3 in FIPS 09 and year 2016\n",
      "Finished gathering data for grade 4 in FIPS 09 and year 2016\n",
      "Finished gathering data for grade 5 in FIPS 09 and year 2016\n",
      "Finished gathering data for grade 6 in FIPS 09 and year 2016\n",
      "Finished gathering data for grade 7 in FIPS 09 and year 2016\n",
      "Finished gathering data for grade 8 in FIPS 09 and year 2016\n",
      "Finished gathering data for FIPS 09 in year 2016\n",
      "Finished gathering data for grade 3 in FIPS 10 and year 2016\n",
      "Finished gathering data for grade 4 in FIPS 10 and year 2016\n",
      "Finished gathering data for grade 5 in FIPS 10 and year 2016\n",
      "Finished gathering data for grade 6 in FIPS 10 and year 2016\n",
      "Finished gathering data for grade 7 in FIPS 10 and year 2016\n",
      "Finished gathering data for grade 8 in FIPS 10 and year 2016\n",
      "Finished gathering data for FIPS 10 in year 2016\n",
      "Finished gathering data for grade 3 in FIPS 11 and year 2016\n",
      "Finished gathering data for grade 4 in FIPS 11 and year 2016\n",
      "Finished gathering data for grade 5 in FIPS 11 and year 2016\n",
      "Finished gathering data for grade 6 in FIPS 11 and year 2016\n",
      "Finished gathering data for grade 7 in FIPS 11 and year 2016\n",
      "Finished gathering data for grade 8 in FIPS 11 and year 2016\n",
      "Finished gathering data for FIPS 11 in year 2016\n",
      "Finished gathering data for grade 3 in FIPS 12 and year 2016\n",
      "Finished gathering data for grade 4 in FIPS 12 and year 2016\n",
      "Finished gathering data for grade 5 in FIPS 12 and year 2016\n",
      "Finished gathering data for grade 6 in FIPS 12 and year 2016\n",
      "Finished gathering data for grade 7 in FIPS 12 and year 2016\n",
      "Finished gathering data for grade 8 in FIPS 12 and year 2016\n",
      "Finished gathering data for FIPS 12 in year 2016\n",
      "Finished gathering data for grade 3 in FIPS 13 and year 2016\n",
      "Finished gathering data for grade 4 in FIPS 13 and year 2016\n",
      "Finished gathering data for grade 5 in FIPS 13 and year 2016\n",
      "Finished gathering data for grade 6 in FIPS 13 and year 2016\n",
      "Finished gathering data for grade 7 in FIPS 13 and year 2016\n",
      "Finished gathering data for grade 8 in FIPS 13 and year 2016\n",
      "Finished gathering data for FIPS 13 in year 2016\n",
      "Finished gathering data for grade 3 in FIPS 15 and year 2016\n",
      "Finished gathering data for grade 4 in FIPS 15 and year 2016\n",
      "Finished gathering data for grade 5 in FIPS 15 and year 2016\n",
      "Finished gathering data for grade 6 in FIPS 15 and year 2016\n",
      "Finished gathering data for grade 7 in FIPS 15 and year 2016\n",
      "Finished gathering data for grade 8 in FIPS 15 and year 2016\n",
      "Finished gathering data for FIPS 15 in year 2016\n",
      "Finished gathering data for grade 3 in FIPS 16 and year 2016\n",
      "Finished gathering data for grade 4 in FIPS 16 and year 2016\n",
      "Finished gathering data for grade 5 in FIPS 16 and year 2016\n",
      "Finished gathering data for grade 6 in FIPS 16 and year 2016\n",
      "Finished gathering data for grade 7 in FIPS 16 and year 2016\n",
      "Finished gathering data for grade 8 in FIPS 16 and year 2016\n",
      "Finished gathering data for FIPS 16 in year 2016\n",
      "Finished gathering data for grade 3 in FIPS 17 and year 2016\n",
      "Finished gathering data for grade 4 in FIPS 17 and year 2016\n",
      "Finished gathering data for grade 5 in FIPS 17 and year 2016\n",
      "Finished gathering data for grade 6 in FIPS 17 and year 2016\n",
      "Finished gathering data for grade 7 in FIPS 17 and year 2016\n",
      "Finished gathering data for grade 8 in FIPS 17 and year 2016\n",
      "Finished gathering data for FIPS 17 in year 2016\n",
      "Finished gathering data for grade 3 in FIPS 18 and year 2016\n",
      "Finished gathering data for grade 4 in FIPS 18 and year 2016\n",
      "Finished gathering data for grade 5 in FIPS 18 and year 2016\n",
      "Finished gathering data for grade 6 in FIPS 18 and year 2016\n",
      "Finished gathering data for grade 7 in FIPS 18 and year 2016\n",
      "Finished gathering data for grade 8 in FIPS 18 and year 2016\n",
      "Finished gathering data for FIPS 18 in year 2016\n",
      "Finished gathering data for grade 3 in FIPS 19 and year 2016\n",
      "Finished gathering data for grade 4 in FIPS 19 and year 2016\n",
      "Finished gathering data for grade 5 in FIPS 19 and year 2016\n",
      "Finished gathering data for grade 6 in FIPS 19 and year 2016\n",
      "Finished gathering data for grade 7 in FIPS 19 and year 2016\n",
      "Finished gathering data for grade 8 in FIPS 19 and year 2016\n",
      "Finished gathering data for FIPS 19 in year 2016\n",
      "Finished gathering data for grade 3 in FIPS 20 and year 2016\n",
      "Finished gathering data for grade 4 in FIPS 20 and year 2016\n",
      "Finished gathering data for grade 5 in FIPS 20 and year 2016\n",
      "Finished gathering data for grade 6 in FIPS 20 and year 2016\n",
      "Finished gathering data for grade 7 in FIPS 20 and year 2016\n",
      "Finished gathering data for grade 8 in FIPS 20 and year 2016\n",
      "Finished gathering data for FIPS 20 in year 2016\n",
      "Finished gathering data for grade 3 in FIPS 21 and year 2016\n",
      "Finished gathering data for grade 4 in FIPS 21 and year 2016\n",
      "Finished gathering data for grade 5 in FIPS 21 and year 2016\n",
      "Finished gathering data for grade 6 in FIPS 21 and year 2016\n",
      "Finished gathering data for grade 7 in FIPS 21 and year 2016\n",
      "Finished gathering data for grade 8 in FIPS 21 and year 2016\n",
      "Finished gathering data for FIPS 21 in year 2016\n",
      "Finished gathering data for grade 3 in FIPS 22 and year 2016\n",
      "Finished gathering data for grade 4 in FIPS 22 and year 2016\n",
      "Finished gathering data for grade 5 in FIPS 22 and year 2016\n",
      "Finished gathering data for grade 6 in FIPS 22 and year 2016\n",
      "Finished gathering data for grade 7 in FIPS 22 and year 2016\n",
      "Finished gathering data for grade 8 in FIPS 22 and year 2016\n",
      "Finished gathering data for FIPS 22 in year 2016\n",
      "Finished gathering data for grade 3 in FIPS 23 and year 2016\n",
      "Finished gathering data for grade 4 in FIPS 23 and year 2016\n",
      "Finished gathering data for grade 5 in FIPS 23 and year 2016\n",
      "Finished gathering data for grade 6 in FIPS 23 and year 2016\n",
      "Finished gathering data for grade 7 in FIPS 23 and year 2016\n",
      "Finished gathering data for grade 8 in FIPS 23 and year 2016\n",
      "Finished gathering data for FIPS 23 in year 2016\n",
      "Finished gathering data for grade 3 in FIPS 24 and year 2016\n",
      "Finished gathering data for grade 4 in FIPS 24 and year 2016\n",
      "Finished gathering data for grade 5 in FIPS 24 and year 2016\n",
      "Finished gathering data for grade 6 in FIPS 24 and year 2016\n",
      "Finished gathering data for grade 7 in FIPS 24 and year 2016\n",
      "Finished gathering data for grade 8 in FIPS 24 and year 2016\n",
      "Finished gathering data for FIPS 24 in year 2016\n",
      "Finished gathering data for grade 3 in FIPS 25 and year 2016\n",
      "Finished gathering data for grade 4 in FIPS 25 and year 2016\n",
      "Finished gathering data for grade 5 in FIPS 25 and year 2016\n",
      "Finished gathering data for grade 6 in FIPS 25 and year 2016\n",
      "Finished gathering data for grade 7 in FIPS 25 and year 2016\n",
      "Finished gathering data for grade 8 in FIPS 25 and year 2016\n",
      "Finished gathering data for FIPS 25 in year 2016\n",
      "Finished gathering data for grade 3 in FIPS 26 and year 2016\n",
      "Finished gathering data for grade 4 in FIPS 26 and year 2016\n",
      "Finished gathering data for grade 5 in FIPS 26 and year 2016\n",
      "Finished gathering data for grade 6 in FIPS 26 and year 2016\n",
      "Finished gathering data for grade 7 in FIPS 26 and year 2016\n",
      "Finished gathering data for grade 8 in FIPS 26 and year 2016\n",
      "Finished gathering data for FIPS 26 in year 2016\n",
      "Finished gathering data for grade 3 in FIPS 27 and year 2016\n",
      "Finished gathering data for grade 4 in FIPS 27 and year 2016\n",
      "Finished gathering data for grade 5 in FIPS 27 and year 2016\n",
      "Finished gathering data for grade 6 in FIPS 27 and year 2016\n",
      "Finished gathering data for grade 7 in FIPS 27 and year 2016\n",
      "Finished gathering data for grade 8 in FIPS 27 and year 2016\n",
      "Finished gathering data for FIPS 27 in year 2016\n",
      "Finished gathering data for grade 3 in FIPS 28 and year 2016\n",
      "Finished gathering data for grade 4 in FIPS 28 and year 2016\n",
      "Finished gathering data for grade 5 in FIPS 28 and year 2016\n",
      "Finished gathering data for grade 6 in FIPS 28 and year 2016\n",
      "Finished gathering data for grade 7 in FIPS 28 and year 2016\n",
      "Finished gathering data for grade 8 in FIPS 28 and year 2016\n",
      "Finished gathering data for FIPS 28 in year 2016\n",
      "Finished gathering data for grade 3 in FIPS 29 and year 2016\n",
      "Finished gathering data for grade 4 in FIPS 29 and year 2016\n",
      "Finished gathering data for grade 5 in FIPS 29 and year 2016\n",
      "Finished gathering data for grade 6 in FIPS 29 and year 2016\n",
      "Finished gathering data for grade 7 in FIPS 29 and year 2016\n",
      "Finished gathering data for grade 8 in FIPS 29 and year 2016\n",
      "Finished gathering data for FIPS 29 in year 2016\n",
      "Finished gathering data for grade 3 in FIPS 30 and year 2016\n",
      "Finished gathering data for grade 4 in FIPS 30 and year 2016\n",
      "Finished gathering data for grade 5 in FIPS 30 and year 2016\n",
      "Finished gathering data for grade 6 in FIPS 30 and year 2016\n",
      "Finished gathering data for grade 7 in FIPS 30 and year 2016\n",
      "Finished gathering data for grade 8 in FIPS 30 and year 2016\n",
      "Finished gathering data for FIPS 30 in year 2016\n",
      "Finished gathering data for grade 3 in FIPS 31 and year 2016\n",
      "Finished gathering data for grade 4 in FIPS 31 and year 2016\n",
      "Finished gathering data for grade 5 in FIPS 31 and year 2016\n",
      "Finished gathering data for grade 6 in FIPS 31 and year 2016\n",
      "Finished gathering data for grade 7 in FIPS 31 and year 2016\n",
      "Finished gathering data for grade 8 in FIPS 31 and year 2016\n",
      "Finished gathering data for FIPS 31 in year 2016\n",
      "Finished gathering data for grade 3 in FIPS 32 and year 2016\n",
      "Finished gathering data for grade 4 in FIPS 32 and year 2016\n",
      "Finished gathering data for grade 5 in FIPS 32 and year 2016\n",
      "Finished gathering data for grade 6 in FIPS 32 and year 2016\n",
      "Finished gathering data for grade 7 in FIPS 32 and year 2016\n",
      "Finished gathering data for grade 8 in FIPS 32 and year 2016\n",
      "Finished gathering data for FIPS 32 in year 2016\n",
      "Finished gathering data for grade 3 in FIPS 33 and year 2016\n",
      "Finished gathering data for grade 4 in FIPS 33 and year 2016\n",
      "Finished gathering data for grade 5 in FIPS 33 and year 2016\n",
      "Finished gathering data for grade 6 in FIPS 33 and year 2016\n",
      "Finished gathering data for grade 7 in FIPS 33 and year 2016\n",
      "Finished gathering data for grade 8 in FIPS 33 and year 2016\n",
      "Finished gathering data for FIPS 33 in year 2016\n",
      "Finished gathering data for grade 3 in FIPS 34 and year 2016\n",
      "Finished gathering data for grade 4 in FIPS 34 and year 2016\n",
      "Finished gathering data for grade 5 in FIPS 34 and year 2016\n",
      "Finished gathering data for grade 6 in FIPS 34 and year 2016\n",
      "Finished gathering data for grade 7 in FIPS 34 and year 2016\n",
      "Finished gathering data for grade 8 in FIPS 34 and year 2016\n",
      "Finished gathering data for FIPS 34 in year 2016\n",
      "Finished gathering data for grade 3 in FIPS 35 and year 2016\n",
      "Finished gathering data for grade 4 in FIPS 35 and year 2016\n",
      "Finished gathering data for grade 5 in FIPS 35 and year 2016\n",
      "Finished gathering data for grade 6 in FIPS 35 and year 2016\n",
      "Finished gathering data for grade 7 in FIPS 35 and year 2016\n",
      "Finished gathering data for grade 8 in FIPS 35 and year 2016\n",
      "Finished gathering data for FIPS 35 in year 2016\n",
      "Finished gathering data for grade 3 in FIPS 36 and year 2016\n",
      "Finished gathering data for grade 4 in FIPS 36 and year 2016\n",
      "Finished gathering data for grade 5 in FIPS 36 and year 2016\n",
      "Finished gathering data for grade 6 in FIPS 36 and year 2016\n",
      "Finished gathering data for grade 7 in FIPS 36 and year 2016\n",
      "Finished gathering data for grade 8 in FIPS 36 and year 2016\n",
      "Finished gathering data for FIPS 36 in year 2016\n",
      "Finished gathering data for grade 3 in FIPS 37 and year 2016\n",
      "Finished gathering data for grade 4 in FIPS 37 and year 2016\n",
      "Finished gathering data for grade 5 in FIPS 37 and year 2016\n",
      "Finished gathering data for grade 6 in FIPS 37 and year 2016\n",
      "Finished gathering data for grade 7 in FIPS 37 and year 2016\n",
      "Finished gathering data for grade 8 in FIPS 37 and year 2016\n",
      "Finished gathering data for FIPS 37 in year 2016\n",
      "Finished gathering data for grade 3 in FIPS 38 and year 2016\n",
      "Finished gathering data for grade 4 in FIPS 38 and year 2016\n",
      "Finished gathering data for grade 5 in FIPS 38 and year 2016\n",
      "Finished gathering data for grade 6 in FIPS 38 and year 2016\n",
      "Finished gathering data for grade 7 in FIPS 38 and year 2016\n",
      "Finished gathering data for grade 8 in FIPS 38 and year 2016\n",
      "Finished gathering data for FIPS 38 in year 2016\n",
      "Finished gathering data for grade 3 in FIPS 39 and year 2016\n",
      "Finished gathering data for grade 4 in FIPS 39 and year 2016\n",
      "Finished gathering data for grade 5 in FIPS 39 and year 2016\n",
      "Finished gathering data for grade 6 in FIPS 39 and year 2016\n",
      "Finished gathering data for grade 7 in FIPS 39 and year 2016\n",
      "Finished gathering data for grade 8 in FIPS 39 and year 2016\n",
      "Finished gathering data for FIPS 39 in year 2016\n",
      "Finished gathering data for grade 3 in FIPS 40 and year 2016\n",
      "Finished gathering data for grade 4 in FIPS 40 and year 2016\n",
      "Finished gathering data for grade 5 in FIPS 40 and year 2016\n",
      "Finished gathering data for grade 6 in FIPS 40 and year 2016\n",
      "Finished gathering data for grade 7 in FIPS 40 and year 2016\n",
      "Finished gathering data for grade 8 in FIPS 40 and year 2016\n",
      "Finished gathering data for FIPS 40 in year 2016\n",
      "Finished gathering data for grade 3 in FIPS 41 and year 2016\n",
      "Finished gathering data for grade 4 in FIPS 41 and year 2016\n",
      "Finished gathering data for grade 5 in FIPS 41 and year 2016\n",
      "Finished gathering data for grade 6 in FIPS 41 and year 2016\n",
      "Finished gathering data for grade 7 in FIPS 41 and year 2016\n",
      "Finished gathering data for grade 8 in FIPS 41 and year 2016\n",
      "Finished gathering data for FIPS 41 in year 2016\n",
      "Finished gathering data for grade 3 in FIPS 42 and year 2016\n",
      "Finished gathering data for grade 4 in FIPS 42 and year 2016\n",
      "Finished gathering data for grade 5 in FIPS 42 and year 2016\n",
      "Finished gathering data for grade 6 in FIPS 42 and year 2016\n",
      "Finished gathering data for grade 7 in FIPS 42 and year 2016\n",
      "Finished gathering data for grade 8 in FIPS 42 and year 2016\n",
      "Finished gathering data for FIPS 42 in year 2016\n",
      "Finished gathering data for grade 3 in FIPS 44 and year 2016\n",
      "Finished gathering data for grade 4 in FIPS 44 and year 2016\n",
      "Finished gathering data for grade 5 in FIPS 44 and year 2016\n",
      "Finished gathering data for grade 6 in FIPS 44 and year 2016\n",
      "Finished gathering data for grade 7 in FIPS 44 and year 2016\n",
      "Finished gathering data for grade 8 in FIPS 44 and year 2016\n",
      "Finished gathering data for FIPS 44 in year 2016\n",
      "Finished gathering data for grade 3 in FIPS 45 and year 2016\n",
      "Finished gathering data for grade 4 in FIPS 45 and year 2016\n",
      "Finished gathering data for grade 5 in FIPS 45 and year 2016\n",
      "Finished gathering data for grade 6 in FIPS 45 and year 2016\n",
      "Finished gathering data for grade 7 in FIPS 45 and year 2016\n",
      "Finished gathering data for grade 8 in FIPS 45 and year 2016\n",
      "Finished gathering data for FIPS 45 in year 2016\n",
      "Finished gathering data for grade 3 in FIPS 46 and year 2016\n",
      "Finished gathering data for grade 4 in FIPS 46 and year 2016\n",
      "Finished gathering data for grade 5 in FIPS 46 and year 2016\n",
      "Finished gathering data for grade 6 in FIPS 46 and year 2016\n",
      "Finished gathering data for grade 7 in FIPS 46 and year 2016\n",
      "Finished gathering data for grade 8 in FIPS 46 and year 2016\n",
      "Finished gathering data for FIPS 46 in year 2016\n",
      "Finished gathering data for grade 3 in FIPS 47 and year 2016\n",
      "Finished gathering data for grade 4 in FIPS 47 and year 2016\n",
      "Finished gathering data for grade 5 in FIPS 47 and year 2016\n",
      "Finished gathering data for grade 6 in FIPS 47 and year 2016\n",
      "Finished gathering data for grade 7 in FIPS 47 and year 2016\n",
      "Finished gathering data for grade 8 in FIPS 47 and year 2016\n",
      "Finished gathering data for FIPS 47 in year 2016\n",
      "Finished gathering data for grade 3 in FIPS 48 and year 2016\n",
      "Finished gathering data for grade 4 in FIPS 48 and year 2016\n",
      "Finished gathering data for grade 5 in FIPS 48 and year 2016\n",
      "Finished gathering data for grade 6 in FIPS 48 and year 2016\n",
      "Finished gathering data for grade 7 in FIPS 48 and year 2016\n",
      "Finished gathering data for grade 8 in FIPS 48 and year 2016\n",
      "Finished gathering data for FIPS 48 in year 2016\n",
      "Finished gathering data for grade 3 in FIPS 49 and year 2016\n",
      "Finished gathering data for grade 4 in FIPS 49 and year 2016\n",
      "Finished gathering data for grade 5 in FIPS 49 and year 2016\n",
      "Finished gathering data for grade 6 in FIPS 49 and year 2016\n",
      "Finished gathering data for grade 7 in FIPS 49 and year 2016\n",
      "Finished gathering data for grade 8 in FIPS 49 and year 2016\n",
      "Finished gathering data for FIPS 49 in year 2016\n",
      "Finished gathering data for grade 3 in FIPS 50 and year 2016\n",
      "Finished gathering data for grade 4 in FIPS 50 and year 2016\n",
      "Finished gathering data for grade 5 in FIPS 50 and year 2016\n",
      "Finished gathering data for grade 6 in FIPS 50 and year 2016\n",
      "Finished gathering data for grade 7 in FIPS 50 and year 2016\n",
      "Finished gathering data for grade 8 in FIPS 50 and year 2016\n",
      "Finished gathering data for FIPS 50 in year 2016\n",
      "Finished gathering data for grade 3 in FIPS 51 and year 2016\n",
      "Finished gathering data for grade 4 in FIPS 51 and year 2016\n",
      "Finished gathering data for grade 5 in FIPS 51 and year 2016\n",
      "Finished gathering data for grade 6 in FIPS 51 and year 2016\n",
      "Finished gathering data for grade 7 in FIPS 51 and year 2016\n",
      "Finished gathering data for grade 8 in FIPS 51 and year 2016\n",
      "Finished gathering data for FIPS 51 in year 2016\n",
      "Finished gathering data for grade 3 in FIPS 53 and year 2016\n",
      "Finished gathering data for grade 4 in FIPS 53 and year 2016\n",
      "Finished gathering data for grade 5 in FIPS 53 and year 2016\n",
      "Finished gathering data for grade 6 in FIPS 53 and year 2016\n",
      "Finished gathering data for grade 7 in FIPS 53 and year 2016\n",
      "Finished gathering data for grade 8 in FIPS 53 and year 2016\n",
      "Finished gathering data for FIPS 53 in year 2016\n",
      "Finished gathering data for grade 3 in FIPS 54 and year 2016\n",
      "Finished gathering data for grade 4 in FIPS 54 and year 2016\n",
      "Finished gathering data for grade 5 in FIPS 54 and year 2016\n",
      "Finished gathering data for grade 6 in FIPS 54 and year 2016\n",
      "Finished gathering data for grade 7 in FIPS 54 and year 2016\n",
      "Finished gathering data for grade 8 in FIPS 54 and year 2016\n",
      "Finished gathering data for FIPS 54 in year 2016\n",
      "Finished gathering data for grade 3 in FIPS 55 and year 2016\n",
      "Finished gathering data for grade 4 in FIPS 55 and year 2016\n",
      "Finished gathering data for grade 5 in FIPS 55 and year 2016\n",
      "Finished gathering data for grade 6 in FIPS 55 and year 2016\n",
      "Finished gathering data for grade 7 in FIPS 55 and year 2016\n",
      "Finished gathering data for grade 8 in FIPS 55 and year 2016\n",
      "Finished gathering data for FIPS 55 in year 2016\n",
      "Finished gathering data for grade 3 in FIPS 56 and year 2016\n",
      "Finished gathering data for grade 4 in FIPS 56 and year 2016\n",
      "Finished gathering data for grade 5 in FIPS 56 and year 2016\n",
      "Finished gathering data for grade 6 in FIPS 56 and year 2016\n",
      "Finished gathering data for grade 7 in FIPS 56 and year 2016\n",
      "Finished gathering data for grade 8 in FIPS 56 and year 2016\n",
      "Finished gathering data for FIPS 56 in year 2016\n"
     ]
    }
   ],
   "source": [
    "data_2016 = []\n",
    "\n",
    "for fips in fips_codes:\n",
    "    data = gather_data(2016, fips)\n",
    "    data_2016.extend(data)\n",
    "    print(f\"Finished gathering data for FIPS {fips} in year 2016\")\n",
    "\n",
    "df_2016 = pd.DataFrame(data_2016)\n"
   ]
  },
  {
   "cell_type": "code",
   "execution_count": 31,
   "id": "da2eb1de",
   "metadata": {},
   "outputs": [
    {
     "name": "stdout",
     "output_type": "stream",
     "text": [
      "Finished gathering data for grade 3 in FIPS 01 and year 2017\n",
      "Finished gathering data for grade 4 in FIPS 01 and year 2017\n",
      "Finished gathering data for grade 5 in FIPS 01 and year 2017\n",
      "Finished gathering data for grade 6 in FIPS 01 and year 2017\n",
      "Finished gathering data for grade 7 in FIPS 01 and year 2017\n",
      "Finished gathering data for grade 8 in FIPS 01 and year 2017\n",
      "Finished gathering data for FIPS 01 in year 2017\n",
      "Finished gathering data for grade 3 in FIPS 02 and year 2017\n",
      "Finished gathering data for grade 4 in FIPS 02 and year 2017\n",
      "Finished gathering data for grade 5 in FIPS 02 and year 2017\n",
      "Finished gathering data for grade 6 in FIPS 02 and year 2017\n",
      "Finished gathering data for grade 7 in FIPS 02 and year 2017\n",
      "Finished gathering data for grade 8 in FIPS 02 and year 2017\n",
      "Finished gathering data for FIPS 02 in year 2017\n",
      "Finished gathering data for grade 3 in FIPS 04 and year 2017\n",
      "Finished gathering data for grade 4 in FIPS 04 and year 2017\n",
      "Finished gathering data for grade 5 in FIPS 04 and year 2017\n",
      "Finished gathering data for grade 6 in FIPS 04 and year 2017\n",
      "Finished gathering data for grade 7 in FIPS 04 and year 2017\n",
      "Finished gathering data for grade 8 in FIPS 04 and year 2017\n",
      "Finished gathering data for FIPS 04 in year 2017\n",
      "Finished gathering data for grade 3 in FIPS 05 and year 2017\n",
      "Finished gathering data for grade 4 in FIPS 05 and year 2017\n",
      "Finished gathering data for grade 5 in FIPS 05 and year 2017\n",
      "Finished gathering data for grade 6 in FIPS 05 and year 2017\n",
      "Finished gathering data for grade 7 in FIPS 05 and year 2017\n",
      "Finished gathering data for grade 8 in FIPS 05 and year 2017\n",
      "Finished gathering data for FIPS 05 in year 2017\n",
      "Finished gathering data for grade 3 in FIPS 06 and year 2017\n",
      "Finished gathering data for grade 4 in FIPS 06 and year 2017\n",
      "Finished gathering data for grade 5 in FIPS 06 and year 2017\n",
      "Finished gathering data for grade 6 in FIPS 06 and year 2017\n",
      "Finished gathering data for grade 7 in FIPS 06 and year 2017\n",
      "Finished gathering data for grade 8 in FIPS 06 and year 2017\n",
      "Finished gathering data for FIPS 06 in year 2017\n",
      "Finished gathering data for grade 3 in FIPS 08 and year 2017\n",
      "Finished gathering data for grade 4 in FIPS 08 and year 2017\n",
      "Finished gathering data for grade 5 in FIPS 08 and year 2017\n",
      "Finished gathering data for grade 6 in FIPS 08 and year 2017\n",
      "Finished gathering data for grade 7 in FIPS 08 and year 2017\n",
      "Finished gathering data for grade 8 in FIPS 08 and year 2017\n",
      "Finished gathering data for FIPS 08 in year 2017\n",
      "Finished gathering data for grade 3 in FIPS 09 and year 2017\n",
      "Finished gathering data for grade 4 in FIPS 09 and year 2017\n",
      "Finished gathering data for grade 5 in FIPS 09 and year 2017\n",
      "Finished gathering data for grade 6 in FIPS 09 and year 2017\n",
      "Finished gathering data for grade 7 in FIPS 09 and year 2017\n",
      "Finished gathering data for grade 8 in FIPS 09 and year 2017\n",
      "Finished gathering data for FIPS 09 in year 2017\n",
      "Finished gathering data for grade 3 in FIPS 10 and year 2017\n",
      "Finished gathering data for grade 4 in FIPS 10 and year 2017\n",
      "Finished gathering data for grade 5 in FIPS 10 and year 2017\n",
      "Finished gathering data for grade 6 in FIPS 10 and year 2017\n",
      "Finished gathering data for grade 7 in FIPS 10 and year 2017\n",
      "Finished gathering data for grade 8 in FIPS 10 and year 2017\n",
      "Finished gathering data for FIPS 10 in year 2017\n",
      "Finished gathering data for grade 3 in FIPS 11 and year 2017\n",
      "Finished gathering data for grade 4 in FIPS 11 and year 2017\n",
      "Finished gathering data for grade 5 in FIPS 11 and year 2017\n",
      "Finished gathering data for grade 6 in FIPS 11 and year 2017\n",
      "Finished gathering data for grade 7 in FIPS 11 and year 2017\n",
      "Finished gathering data for grade 8 in FIPS 11 and year 2017\n",
      "Finished gathering data for FIPS 11 in year 2017\n",
      "Finished gathering data for grade 3 in FIPS 12 and year 2017\n",
      "Finished gathering data for grade 4 in FIPS 12 and year 2017\n",
      "Finished gathering data for grade 5 in FIPS 12 and year 2017\n",
      "Finished gathering data for grade 6 in FIPS 12 and year 2017\n",
      "Finished gathering data for grade 7 in FIPS 12 and year 2017\n",
      "Finished gathering data for grade 8 in FIPS 12 and year 2017\n",
      "Finished gathering data for FIPS 12 in year 2017\n",
      "Finished gathering data for grade 3 in FIPS 13 and year 2017\n",
      "Finished gathering data for grade 4 in FIPS 13 and year 2017\n",
      "Finished gathering data for grade 5 in FIPS 13 and year 2017\n",
      "Finished gathering data for grade 6 in FIPS 13 and year 2017\n",
      "Finished gathering data for grade 7 in FIPS 13 and year 2017\n",
      "Finished gathering data for grade 8 in FIPS 13 and year 2017\n",
      "Finished gathering data for FIPS 13 in year 2017\n",
      "Finished gathering data for grade 3 in FIPS 15 and year 2017\n",
      "Finished gathering data for grade 4 in FIPS 15 and year 2017\n",
      "Finished gathering data for grade 5 in FIPS 15 and year 2017\n",
      "Finished gathering data for grade 6 in FIPS 15 and year 2017\n",
      "Finished gathering data for grade 7 in FIPS 15 and year 2017\n",
      "Finished gathering data for grade 8 in FIPS 15 and year 2017\n",
      "Finished gathering data for FIPS 15 in year 2017\n",
      "Finished gathering data for grade 3 in FIPS 16 and year 2017\n",
      "Finished gathering data for grade 4 in FIPS 16 and year 2017\n",
      "Finished gathering data for grade 5 in FIPS 16 and year 2017\n",
      "Finished gathering data for grade 6 in FIPS 16 and year 2017\n",
      "Finished gathering data for grade 7 in FIPS 16 and year 2017\n",
      "Finished gathering data for grade 8 in FIPS 16 and year 2017\n",
      "Finished gathering data for FIPS 16 in year 2017\n",
      "Finished gathering data for grade 3 in FIPS 17 and year 2017\n",
      "Finished gathering data for grade 4 in FIPS 17 and year 2017\n",
      "Finished gathering data for grade 5 in FIPS 17 and year 2017\n",
      "Finished gathering data for grade 6 in FIPS 17 and year 2017\n",
      "Finished gathering data for grade 7 in FIPS 17 and year 2017\n",
      "Finished gathering data for grade 8 in FIPS 17 and year 2017\n",
      "Finished gathering data for FIPS 17 in year 2017\n",
      "Finished gathering data for grade 3 in FIPS 18 and year 2017\n",
      "Finished gathering data for grade 4 in FIPS 18 and year 2017\n",
      "Finished gathering data for grade 5 in FIPS 18 and year 2017\n",
      "Finished gathering data for grade 6 in FIPS 18 and year 2017\n",
      "Finished gathering data for grade 7 in FIPS 18 and year 2017\n",
      "Finished gathering data for grade 8 in FIPS 18 and year 2017\n",
      "Finished gathering data for FIPS 18 in year 2017\n",
      "Finished gathering data for grade 3 in FIPS 19 and year 2017\n",
      "Finished gathering data for grade 4 in FIPS 19 and year 2017\n",
      "Finished gathering data for grade 5 in FIPS 19 and year 2017\n",
      "Finished gathering data for grade 6 in FIPS 19 and year 2017\n",
      "Finished gathering data for grade 7 in FIPS 19 and year 2017\n",
      "Finished gathering data for grade 8 in FIPS 19 and year 2017\n",
      "Finished gathering data for FIPS 19 in year 2017\n",
      "Finished gathering data for grade 3 in FIPS 20 and year 2017\n",
      "Finished gathering data for grade 4 in FIPS 20 and year 2017\n",
      "Finished gathering data for grade 5 in FIPS 20 and year 2017\n",
      "Finished gathering data for grade 6 in FIPS 20 and year 2017\n",
      "Finished gathering data for grade 7 in FIPS 20 and year 2017\n",
      "Finished gathering data for grade 8 in FIPS 20 and year 2017\n",
      "Finished gathering data for FIPS 20 in year 2017\n",
      "Finished gathering data for grade 3 in FIPS 21 and year 2017\n",
      "Finished gathering data for grade 4 in FIPS 21 and year 2017\n",
      "Finished gathering data for grade 5 in FIPS 21 and year 2017\n",
      "Finished gathering data for grade 6 in FIPS 21 and year 2017\n",
      "Finished gathering data for grade 7 in FIPS 21 and year 2017\n",
      "Finished gathering data for grade 8 in FIPS 21 and year 2017\n",
      "Finished gathering data for FIPS 21 in year 2017\n",
      "Finished gathering data for grade 3 in FIPS 22 and year 2017\n",
      "Finished gathering data for grade 4 in FIPS 22 and year 2017\n",
      "Finished gathering data for grade 5 in FIPS 22 and year 2017\n",
      "Finished gathering data for grade 6 in FIPS 22 and year 2017\n",
      "Finished gathering data for grade 7 in FIPS 22 and year 2017\n",
      "Finished gathering data for grade 8 in FIPS 22 and year 2017\n",
      "Finished gathering data for FIPS 22 in year 2017\n",
      "Finished gathering data for grade 3 in FIPS 23 and year 2017\n",
      "Finished gathering data for grade 4 in FIPS 23 and year 2017\n",
      "Finished gathering data for grade 5 in FIPS 23 and year 2017\n",
      "Finished gathering data for grade 6 in FIPS 23 and year 2017\n",
      "Finished gathering data for grade 7 in FIPS 23 and year 2017\n",
      "Finished gathering data for grade 8 in FIPS 23 and year 2017\n",
      "Finished gathering data for FIPS 23 in year 2017\n",
      "Finished gathering data for grade 3 in FIPS 24 and year 2017\n",
      "Finished gathering data for grade 4 in FIPS 24 and year 2017\n",
      "Finished gathering data for grade 5 in FIPS 24 and year 2017\n",
      "Finished gathering data for grade 6 in FIPS 24 and year 2017\n",
      "Finished gathering data for grade 7 in FIPS 24 and year 2017\n",
      "Finished gathering data for grade 8 in FIPS 24 and year 2017\n",
      "Finished gathering data for FIPS 24 in year 2017\n",
      "Finished gathering data for grade 3 in FIPS 25 and year 2017\n",
      "Finished gathering data for grade 4 in FIPS 25 and year 2017\n",
      "Finished gathering data for grade 5 in FIPS 25 and year 2017\n",
      "Finished gathering data for grade 6 in FIPS 25 and year 2017\n",
      "Finished gathering data for grade 7 in FIPS 25 and year 2017\n",
      "Finished gathering data for grade 8 in FIPS 25 and year 2017\n",
      "Finished gathering data for FIPS 25 in year 2017\n",
      "Finished gathering data for grade 3 in FIPS 26 and year 2017\n",
      "Finished gathering data for grade 4 in FIPS 26 and year 2017\n",
      "Finished gathering data for grade 5 in FIPS 26 and year 2017\n",
      "Finished gathering data for grade 6 in FIPS 26 and year 2017\n",
      "Finished gathering data for grade 7 in FIPS 26 and year 2017\n",
      "Finished gathering data for grade 8 in FIPS 26 and year 2017\n",
      "Finished gathering data for FIPS 26 in year 2017\n",
      "Finished gathering data for grade 3 in FIPS 27 and year 2017\n",
      "Finished gathering data for grade 4 in FIPS 27 and year 2017\n",
      "Finished gathering data for grade 5 in FIPS 27 and year 2017\n",
      "Finished gathering data for grade 6 in FIPS 27 and year 2017\n",
      "Finished gathering data for grade 7 in FIPS 27 and year 2017\n",
      "Finished gathering data for grade 8 in FIPS 27 and year 2017\n",
      "Finished gathering data for FIPS 27 in year 2017\n",
      "Finished gathering data for grade 3 in FIPS 28 and year 2017\n",
      "Finished gathering data for grade 4 in FIPS 28 and year 2017\n",
      "Finished gathering data for grade 5 in FIPS 28 and year 2017\n",
      "Finished gathering data for grade 6 in FIPS 28 and year 2017\n",
      "Finished gathering data for grade 7 in FIPS 28 and year 2017\n",
      "Finished gathering data for grade 8 in FIPS 28 and year 2017\n",
      "Finished gathering data for FIPS 28 in year 2017\n",
      "Finished gathering data for grade 3 in FIPS 29 and year 2017\n",
      "Finished gathering data for grade 4 in FIPS 29 and year 2017\n",
      "Finished gathering data for grade 5 in FIPS 29 and year 2017\n",
      "Finished gathering data for grade 6 in FIPS 29 and year 2017\n",
      "Finished gathering data for grade 7 in FIPS 29 and year 2017\n",
      "Finished gathering data for grade 8 in FIPS 29 and year 2017\n",
      "Finished gathering data for FIPS 29 in year 2017\n",
      "Finished gathering data for grade 3 in FIPS 30 and year 2017\n",
      "Finished gathering data for grade 4 in FIPS 30 and year 2017\n",
      "Finished gathering data for grade 5 in FIPS 30 and year 2017\n",
      "Finished gathering data for grade 6 in FIPS 30 and year 2017\n",
      "Finished gathering data for grade 7 in FIPS 30 and year 2017\n",
      "Finished gathering data for grade 8 in FIPS 30 and year 2017\n",
      "Finished gathering data for FIPS 30 in year 2017\n",
      "Finished gathering data for grade 3 in FIPS 31 and year 2017\n",
      "Finished gathering data for grade 4 in FIPS 31 and year 2017\n",
      "Finished gathering data for grade 5 in FIPS 31 and year 2017\n",
      "Finished gathering data for grade 6 in FIPS 31 and year 2017\n",
      "Finished gathering data for grade 7 in FIPS 31 and year 2017\n",
      "Finished gathering data for grade 8 in FIPS 31 and year 2017\n",
      "Finished gathering data for FIPS 31 in year 2017\n",
      "Finished gathering data for grade 3 in FIPS 32 and year 2017\n",
      "Finished gathering data for grade 4 in FIPS 32 and year 2017\n",
      "Finished gathering data for grade 5 in FIPS 32 and year 2017\n",
      "Finished gathering data for grade 6 in FIPS 32 and year 2017\n",
      "Finished gathering data for grade 7 in FIPS 32 and year 2017\n",
      "Finished gathering data for grade 8 in FIPS 32 and year 2017\n",
      "Finished gathering data for FIPS 32 in year 2017\n",
      "Finished gathering data for grade 3 in FIPS 33 and year 2017\n",
      "Finished gathering data for grade 4 in FIPS 33 and year 2017\n",
      "Finished gathering data for grade 5 in FIPS 33 and year 2017\n",
      "Finished gathering data for grade 6 in FIPS 33 and year 2017\n",
      "Finished gathering data for grade 7 in FIPS 33 and year 2017\n",
      "Finished gathering data for grade 8 in FIPS 33 and year 2017\n",
      "Finished gathering data for FIPS 33 in year 2017\n",
      "Finished gathering data for grade 3 in FIPS 34 and year 2017\n",
      "Finished gathering data for grade 4 in FIPS 34 and year 2017\n",
      "Finished gathering data for grade 5 in FIPS 34 and year 2017\n",
      "Finished gathering data for grade 6 in FIPS 34 and year 2017\n",
      "Finished gathering data for grade 7 in FIPS 34 and year 2017\n",
      "Finished gathering data for grade 8 in FIPS 34 and year 2017\n",
      "Finished gathering data for FIPS 34 in year 2017\n",
      "Finished gathering data for grade 3 in FIPS 35 and year 2017\n",
      "Finished gathering data for grade 4 in FIPS 35 and year 2017\n",
      "Finished gathering data for grade 5 in FIPS 35 and year 2017\n",
      "Finished gathering data for grade 6 in FIPS 35 and year 2017\n",
      "Finished gathering data for grade 7 in FIPS 35 and year 2017\n",
      "Finished gathering data for grade 8 in FIPS 35 and year 2017\n",
      "Finished gathering data for FIPS 35 in year 2017\n",
      "Finished gathering data for grade 3 in FIPS 36 and year 2017\n",
      "Finished gathering data for grade 4 in FIPS 36 and year 2017\n",
      "Finished gathering data for grade 5 in FIPS 36 and year 2017\n",
      "Finished gathering data for grade 6 in FIPS 36 and year 2017\n",
      "Finished gathering data for grade 7 in FIPS 36 and year 2017\n",
      "Finished gathering data for grade 8 in FIPS 36 and year 2017\n",
      "Finished gathering data for FIPS 36 in year 2017\n",
      "Finished gathering data for grade 3 in FIPS 37 and year 2017\n",
      "Finished gathering data for grade 4 in FIPS 37 and year 2017\n",
      "Finished gathering data for grade 5 in FIPS 37 and year 2017\n",
      "Finished gathering data for grade 6 in FIPS 37 and year 2017\n",
      "Finished gathering data for grade 7 in FIPS 37 and year 2017\n",
      "Finished gathering data for grade 8 in FIPS 37 and year 2017\n",
      "Finished gathering data for FIPS 37 in year 2017\n",
      "Finished gathering data for grade 3 in FIPS 38 and year 2017\n",
      "Finished gathering data for grade 4 in FIPS 38 and year 2017\n",
      "Finished gathering data for grade 5 in FIPS 38 and year 2017\n",
      "Finished gathering data for grade 6 in FIPS 38 and year 2017\n",
      "Finished gathering data for grade 7 in FIPS 38 and year 2017\n",
      "Finished gathering data for grade 8 in FIPS 38 and year 2017\n",
      "Finished gathering data for FIPS 38 in year 2017\n",
      "Finished gathering data for grade 3 in FIPS 39 and year 2017\n",
      "Finished gathering data for grade 4 in FIPS 39 and year 2017\n",
      "Finished gathering data for grade 5 in FIPS 39 and year 2017\n",
      "Finished gathering data for grade 6 in FIPS 39 and year 2017\n",
      "Finished gathering data for grade 7 in FIPS 39 and year 2017\n",
      "Finished gathering data for grade 8 in FIPS 39 and year 2017\n",
      "Finished gathering data for FIPS 39 in year 2017\n",
      "Finished gathering data for grade 3 in FIPS 40 and year 2017\n",
      "Finished gathering data for grade 4 in FIPS 40 and year 2017\n",
      "Finished gathering data for grade 5 in FIPS 40 and year 2017\n",
      "Finished gathering data for grade 6 in FIPS 40 and year 2017\n",
      "Finished gathering data for grade 7 in FIPS 40 and year 2017\n",
      "Finished gathering data for grade 8 in FIPS 40 and year 2017\n",
      "Finished gathering data for FIPS 40 in year 2017\n",
      "Finished gathering data for grade 3 in FIPS 41 and year 2017\n",
      "Finished gathering data for grade 4 in FIPS 41 and year 2017\n",
      "Finished gathering data for grade 5 in FIPS 41 and year 2017\n",
      "Finished gathering data for grade 6 in FIPS 41 and year 2017\n",
      "Finished gathering data for grade 7 in FIPS 41 and year 2017\n",
      "Finished gathering data for grade 8 in FIPS 41 and year 2017\n",
      "Finished gathering data for FIPS 41 in year 2017\n",
      "Finished gathering data for grade 3 in FIPS 42 and year 2017\n",
      "Finished gathering data for grade 4 in FIPS 42 and year 2017\n",
      "Finished gathering data for grade 5 in FIPS 42 and year 2017\n",
      "Finished gathering data for grade 6 in FIPS 42 and year 2017\n",
      "Finished gathering data for grade 7 in FIPS 42 and year 2017\n",
      "Finished gathering data for grade 8 in FIPS 42 and year 2017\n",
      "Finished gathering data for FIPS 42 in year 2017\n",
      "Finished gathering data for grade 3 in FIPS 44 and year 2017\n",
      "Finished gathering data for grade 4 in FIPS 44 and year 2017\n",
      "Finished gathering data for grade 5 in FIPS 44 and year 2017\n",
      "Finished gathering data for grade 6 in FIPS 44 and year 2017\n",
      "Finished gathering data for grade 7 in FIPS 44 and year 2017\n",
      "Finished gathering data for grade 8 in FIPS 44 and year 2017\n",
      "Finished gathering data for FIPS 44 in year 2017\n",
      "Finished gathering data for grade 3 in FIPS 45 and year 2017\n",
      "Finished gathering data for grade 4 in FIPS 45 and year 2017\n",
      "Finished gathering data for grade 5 in FIPS 45 and year 2017\n",
      "Finished gathering data for grade 6 in FIPS 45 and year 2017\n",
      "Finished gathering data for grade 7 in FIPS 45 and year 2017\n",
      "Finished gathering data for grade 8 in FIPS 45 and year 2017\n",
      "Finished gathering data for FIPS 45 in year 2017\n",
      "Finished gathering data for grade 3 in FIPS 46 and year 2017\n",
      "Finished gathering data for grade 4 in FIPS 46 and year 2017\n",
      "Finished gathering data for grade 5 in FIPS 46 and year 2017\n",
      "Finished gathering data for grade 6 in FIPS 46 and year 2017\n",
      "Finished gathering data for grade 7 in FIPS 46 and year 2017\n",
      "Finished gathering data for grade 8 in FIPS 46 and year 2017\n",
      "Finished gathering data for FIPS 46 in year 2017\n",
      "Finished gathering data for grade 3 in FIPS 47 and year 2017\n",
      "Finished gathering data for grade 4 in FIPS 47 and year 2017\n",
      "Finished gathering data for grade 5 in FIPS 47 and year 2017\n",
      "Finished gathering data for grade 6 in FIPS 47 and year 2017\n",
      "Finished gathering data for grade 7 in FIPS 47 and year 2017\n",
      "Finished gathering data for grade 8 in FIPS 47 and year 2017\n",
      "Finished gathering data for FIPS 47 in year 2017\n",
      "Finished gathering data for grade 3 in FIPS 48 and year 2017\n",
      "Finished gathering data for grade 4 in FIPS 48 and year 2017\n",
      "Finished gathering data for grade 5 in FIPS 48 and year 2017\n",
      "Finished gathering data for grade 6 in FIPS 48 and year 2017\n",
      "Finished gathering data for grade 7 in FIPS 48 and year 2017\n",
      "Finished gathering data for grade 8 in FIPS 48 and year 2017\n",
      "Finished gathering data for FIPS 48 in year 2017\n",
      "Finished gathering data for grade 3 in FIPS 49 and year 2017\n",
      "Finished gathering data for grade 4 in FIPS 49 and year 2017\n",
      "Finished gathering data for grade 5 in FIPS 49 and year 2017\n",
      "Finished gathering data for grade 6 in FIPS 49 and year 2017\n",
      "Finished gathering data for grade 7 in FIPS 49 and year 2017\n",
      "Finished gathering data for grade 8 in FIPS 49 and year 2017\n",
      "Finished gathering data for FIPS 49 in year 2017\n",
      "Finished gathering data for grade 3 in FIPS 50 and year 2017\n",
      "Finished gathering data for grade 4 in FIPS 50 and year 2017\n",
      "Finished gathering data for grade 5 in FIPS 50 and year 2017\n",
      "Finished gathering data for grade 6 in FIPS 50 and year 2017\n",
      "Finished gathering data for grade 7 in FIPS 50 and year 2017\n",
      "Finished gathering data for grade 8 in FIPS 50 and year 2017\n",
      "Finished gathering data for FIPS 50 in year 2017\n",
      "Finished gathering data for grade 3 in FIPS 51 and year 2017\n",
      "Finished gathering data for grade 4 in FIPS 51 and year 2017\n",
      "Finished gathering data for grade 5 in FIPS 51 and year 2017\n",
      "Finished gathering data for grade 6 in FIPS 51 and year 2017\n",
      "Finished gathering data for grade 7 in FIPS 51 and year 2017\n",
      "Finished gathering data for grade 8 in FIPS 51 and year 2017\n",
      "Finished gathering data for FIPS 51 in year 2017\n",
      "Finished gathering data for grade 3 in FIPS 53 and year 2017\n",
      "Finished gathering data for grade 4 in FIPS 53 and year 2017\n",
      "Finished gathering data for grade 5 in FIPS 53 and year 2017\n",
      "Finished gathering data for grade 6 in FIPS 53 and year 2017\n",
      "Finished gathering data for grade 7 in FIPS 53 and year 2017\n",
      "Finished gathering data for grade 8 in FIPS 53 and year 2017\n",
      "Finished gathering data for FIPS 53 in year 2017\n",
      "Finished gathering data for grade 3 in FIPS 54 and year 2017\n",
      "Finished gathering data for grade 4 in FIPS 54 and year 2017\n",
      "Finished gathering data for grade 5 in FIPS 54 and year 2017\n",
      "Finished gathering data for grade 6 in FIPS 54 and year 2017\n",
      "Finished gathering data for grade 7 in FIPS 54 and year 2017\n",
      "Finished gathering data for grade 8 in FIPS 54 and year 2017\n",
      "Finished gathering data for FIPS 54 in year 2017\n",
      "Finished gathering data for grade 3 in FIPS 55 and year 2017\n",
      "Finished gathering data for grade 4 in FIPS 55 and year 2017\n",
      "Finished gathering data for grade 5 in FIPS 55 and year 2017\n",
      "Finished gathering data for grade 6 in FIPS 55 and year 2017\n",
      "Finished gathering data for grade 7 in FIPS 55 and year 2017\n",
      "Finished gathering data for grade 8 in FIPS 55 and year 2017\n",
      "Finished gathering data for FIPS 55 in year 2017\n",
      "Finished gathering data for grade 3 in FIPS 56 and year 2017\n",
      "Finished gathering data for grade 4 in FIPS 56 and year 2017\n",
      "Finished gathering data for grade 5 in FIPS 56 and year 2017\n",
      "Finished gathering data for grade 6 in FIPS 56 and year 2017\n",
      "Finished gathering data for grade 7 in FIPS 56 and year 2017\n",
      "Finished gathering data for grade 8 in FIPS 56 and year 2017\n",
      "Finished gathering data for FIPS 56 in year 2017\n"
     ]
    }
   ],
   "source": [
    "data_2017 = []\n",
    "\n",
    "for fips in fips_codes:\n",
    "    data = gather_data(2017, fips)\n",
    "    data_2017.extend(data)\n",
    "    print(f\"Finished gathering data for FIPS {fips} in year 2017\")\n",
    "\n",
    "df_2017 = pd.DataFrame(data_2017)\n"
   ]
  },
  {
   "cell_type": "code",
   "execution_count": 33,
   "id": "b90fc2eb",
   "metadata": {},
   "outputs": [
    {
     "name": "stdout",
     "output_type": "stream",
     "text": [
      "Finished gathering data for grade 3 in FIPS 01 and year 2018\n",
      "Finished gathering data for grade 4 in FIPS 01 and year 2018\n",
      "Finished gathering data for grade 5 in FIPS 01 and year 2018\n",
      "Finished gathering data for grade 6 in FIPS 01 and year 2018\n",
      "Finished gathering data for grade 7 in FIPS 01 and year 2018\n",
      "Finished gathering data for grade 8 in FIPS 01 and year 2018\n",
      "Finished gathering data for FIPS 01 in year 2018\n",
      "Finished gathering data for grade 3 in FIPS 02 and year 2018\n",
      "Finished gathering data for grade 4 in FIPS 02 and year 2018\n",
      "Finished gathering data for grade 5 in FIPS 02 and year 2018\n",
      "Finished gathering data for grade 6 in FIPS 02 and year 2018\n",
      "Finished gathering data for grade 7 in FIPS 02 and year 2018\n",
      "Finished gathering data for grade 8 in FIPS 02 and year 2018\n",
      "Finished gathering data for FIPS 02 in year 2018\n",
      "Finished gathering data for grade 3 in FIPS 04 and year 2018\n",
      "Finished gathering data for grade 4 in FIPS 04 and year 2018\n",
      "Finished gathering data for grade 5 in FIPS 04 and year 2018\n",
      "Finished gathering data for grade 6 in FIPS 04 and year 2018\n",
      "Finished gathering data for grade 7 in FIPS 04 and year 2018\n",
      "Finished gathering data for grade 8 in FIPS 04 and year 2018\n",
      "Finished gathering data for FIPS 04 in year 2018\n",
      "Finished gathering data for grade 3 in FIPS 05 and year 2018\n",
      "Finished gathering data for grade 4 in FIPS 05 and year 2018\n",
      "Finished gathering data for grade 5 in FIPS 05 and year 2018\n",
      "Finished gathering data for grade 6 in FIPS 05 and year 2018\n",
      "Finished gathering data for grade 7 in FIPS 05 and year 2018\n",
      "Finished gathering data for grade 8 in FIPS 05 and year 2018\n",
      "Finished gathering data for FIPS 05 in year 2018\n",
      "Finished gathering data for grade 3 in FIPS 06 and year 2018\n",
      "Finished gathering data for grade 4 in FIPS 06 and year 2018\n",
      "Finished gathering data for grade 5 in FIPS 06 and year 2018\n",
      "Finished gathering data for grade 6 in FIPS 06 and year 2018\n",
      "Finished gathering data for grade 7 in FIPS 06 and year 2018\n",
      "Finished gathering data for grade 8 in FIPS 06 and year 2018\n",
      "Finished gathering data for FIPS 06 in year 2018\n",
      "Finished gathering data for grade 3 in FIPS 08 and year 2018\n",
      "Finished gathering data for grade 4 in FIPS 08 and year 2018\n",
      "Finished gathering data for grade 5 in FIPS 08 and year 2018\n",
      "Finished gathering data for grade 6 in FIPS 08 and year 2018\n",
      "Finished gathering data for grade 7 in FIPS 08 and year 2018\n",
      "Finished gathering data for grade 8 in FIPS 08 and year 2018\n",
      "Finished gathering data for FIPS 08 in year 2018\n",
      "Finished gathering data for grade 3 in FIPS 09 and year 2018\n",
      "Finished gathering data for grade 4 in FIPS 09 and year 2018\n",
      "Finished gathering data for grade 5 in FIPS 09 and year 2018\n",
      "Finished gathering data for grade 6 in FIPS 09 and year 2018\n",
      "Finished gathering data for grade 7 in FIPS 09 and year 2018\n",
      "Finished gathering data for grade 8 in FIPS 09 and year 2018\n",
      "Finished gathering data for FIPS 09 in year 2018\n",
      "Finished gathering data for grade 3 in FIPS 10 and year 2018\n",
      "Finished gathering data for grade 4 in FIPS 10 and year 2018\n",
      "Finished gathering data for grade 5 in FIPS 10 and year 2018\n",
      "Finished gathering data for grade 6 in FIPS 10 and year 2018\n",
      "Finished gathering data for grade 7 in FIPS 10 and year 2018\n",
      "Finished gathering data for grade 8 in FIPS 10 and year 2018\n",
      "Finished gathering data for FIPS 10 in year 2018\n",
      "Finished gathering data for grade 3 in FIPS 11 and year 2018\n",
      "Finished gathering data for grade 4 in FIPS 11 and year 2018\n",
      "Finished gathering data for grade 5 in FIPS 11 and year 2018\n",
      "Finished gathering data for grade 6 in FIPS 11 and year 2018\n",
      "Finished gathering data for grade 7 in FIPS 11 and year 2018\n",
      "Finished gathering data for grade 8 in FIPS 11 and year 2018\n",
      "Finished gathering data for FIPS 11 in year 2018\n",
      "Finished gathering data for grade 3 in FIPS 12 and year 2018\n",
      "Finished gathering data for grade 4 in FIPS 12 and year 2018\n",
      "Finished gathering data for grade 5 in FIPS 12 and year 2018\n",
      "Finished gathering data for grade 6 in FIPS 12 and year 2018\n",
      "Finished gathering data for grade 7 in FIPS 12 and year 2018\n",
      "Finished gathering data for grade 8 in FIPS 12 and year 2018\n",
      "Finished gathering data for FIPS 12 in year 2018\n",
      "Finished gathering data for grade 3 in FIPS 13 and year 2018\n",
      "Finished gathering data for grade 4 in FIPS 13 and year 2018\n",
      "Finished gathering data for grade 5 in FIPS 13 and year 2018\n",
      "Finished gathering data for grade 6 in FIPS 13 and year 2018\n",
      "Finished gathering data for grade 7 in FIPS 13 and year 2018\n",
      "Finished gathering data for grade 8 in FIPS 13 and year 2018\n",
      "Finished gathering data for FIPS 13 in year 2018\n",
      "Finished gathering data for grade 3 in FIPS 15 and year 2018\n",
      "Finished gathering data for grade 4 in FIPS 15 and year 2018\n",
      "Finished gathering data for grade 5 in FIPS 15 and year 2018\n",
      "Finished gathering data for grade 6 in FIPS 15 and year 2018\n",
      "Finished gathering data for grade 7 in FIPS 15 and year 2018\n",
      "Finished gathering data for grade 8 in FIPS 15 and year 2018\n",
      "Finished gathering data for FIPS 15 in year 2018\n",
      "Finished gathering data for grade 3 in FIPS 16 and year 2018\n",
      "Finished gathering data for grade 4 in FIPS 16 and year 2018\n",
      "Finished gathering data for grade 5 in FIPS 16 and year 2018\n",
      "Finished gathering data for grade 6 in FIPS 16 and year 2018\n",
      "Finished gathering data for grade 7 in FIPS 16 and year 2018\n",
      "Finished gathering data for grade 8 in FIPS 16 and year 2018\n",
      "Finished gathering data for FIPS 16 in year 2018\n",
      "Finished gathering data for grade 3 in FIPS 17 and year 2018\n",
      "Finished gathering data for grade 4 in FIPS 17 and year 2018\n",
      "Finished gathering data for grade 5 in FIPS 17 and year 2018\n",
      "Finished gathering data for grade 6 in FIPS 17 and year 2018\n",
      "Finished gathering data for grade 7 in FIPS 17 and year 2018\n",
      "Finished gathering data for grade 8 in FIPS 17 and year 2018\n",
      "Finished gathering data for FIPS 17 in year 2018\n",
      "Finished gathering data for grade 3 in FIPS 18 and year 2018\n",
      "Finished gathering data for grade 4 in FIPS 18 and year 2018\n",
      "Finished gathering data for grade 5 in FIPS 18 and year 2018\n",
      "Finished gathering data for grade 6 in FIPS 18 and year 2018\n",
      "Finished gathering data for grade 7 in FIPS 18 and year 2018\n",
      "Finished gathering data for grade 8 in FIPS 18 and year 2018\n",
      "Finished gathering data for FIPS 18 in year 2018\n",
      "Finished gathering data for grade 3 in FIPS 19 and year 2018\n",
      "Finished gathering data for grade 4 in FIPS 19 and year 2018\n",
      "Finished gathering data for grade 5 in FIPS 19 and year 2018\n",
      "Finished gathering data for grade 6 in FIPS 19 and year 2018\n",
      "Finished gathering data for grade 7 in FIPS 19 and year 2018\n",
      "Finished gathering data for grade 8 in FIPS 19 and year 2018\n",
      "Finished gathering data for FIPS 19 in year 2018\n",
      "Finished gathering data for grade 3 in FIPS 20 and year 2018\n",
      "Finished gathering data for grade 4 in FIPS 20 and year 2018\n",
      "Finished gathering data for grade 5 in FIPS 20 and year 2018\n",
      "Finished gathering data for grade 6 in FIPS 20 and year 2018\n",
      "Finished gathering data for grade 7 in FIPS 20 and year 2018\n",
      "Finished gathering data for grade 8 in FIPS 20 and year 2018\n",
      "Finished gathering data for FIPS 20 in year 2018\n",
      "Finished gathering data for grade 3 in FIPS 21 and year 2018\n",
      "Finished gathering data for grade 4 in FIPS 21 and year 2018\n",
      "Finished gathering data for grade 5 in FIPS 21 and year 2018\n",
      "Finished gathering data for grade 6 in FIPS 21 and year 2018\n",
      "Finished gathering data for grade 7 in FIPS 21 and year 2018\n",
      "Finished gathering data for grade 8 in FIPS 21 and year 2018\n",
      "Finished gathering data for FIPS 21 in year 2018\n",
      "Finished gathering data for grade 3 in FIPS 22 and year 2018\n",
      "Finished gathering data for grade 4 in FIPS 22 and year 2018\n",
      "Finished gathering data for grade 5 in FIPS 22 and year 2018\n",
      "Finished gathering data for grade 6 in FIPS 22 and year 2018\n",
      "Finished gathering data for grade 7 in FIPS 22 and year 2018\n",
      "Finished gathering data for grade 8 in FIPS 22 and year 2018\n",
      "Finished gathering data for FIPS 22 in year 2018\n",
      "Finished gathering data for grade 3 in FIPS 23 and year 2018\n",
      "Finished gathering data for grade 4 in FIPS 23 and year 2018\n",
      "Finished gathering data for grade 5 in FIPS 23 and year 2018\n",
      "Finished gathering data for grade 6 in FIPS 23 and year 2018\n",
      "Finished gathering data for grade 7 in FIPS 23 and year 2018\n",
      "Finished gathering data for grade 8 in FIPS 23 and year 2018\n",
      "Finished gathering data for FIPS 23 in year 2018\n",
      "Finished gathering data for grade 3 in FIPS 24 and year 2018\n",
      "Finished gathering data for grade 4 in FIPS 24 and year 2018\n",
      "Finished gathering data for grade 5 in FIPS 24 and year 2018\n",
      "Finished gathering data for grade 6 in FIPS 24 and year 2018\n",
      "Finished gathering data for grade 7 in FIPS 24 and year 2018\n",
      "Finished gathering data for grade 8 in FIPS 24 and year 2018\n",
      "Finished gathering data for FIPS 24 in year 2018\n",
      "Finished gathering data for grade 3 in FIPS 25 and year 2018\n",
      "Finished gathering data for grade 4 in FIPS 25 and year 2018\n",
      "Finished gathering data for grade 5 in FIPS 25 and year 2018\n",
      "Finished gathering data for grade 6 in FIPS 25 and year 2018\n",
      "Finished gathering data for grade 7 in FIPS 25 and year 2018\n",
      "Finished gathering data for grade 8 in FIPS 25 and year 2018\n",
      "Finished gathering data for FIPS 25 in year 2018\n",
      "Finished gathering data for grade 3 in FIPS 26 and year 2018\n",
      "Finished gathering data for grade 4 in FIPS 26 and year 2018\n",
      "Finished gathering data for grade 5 in FIPS 26 and year 2018\n",
      "Finished gathering data for grade 6 in FIPS 26 and year 2018\n",
      "Finished gathering data for grade 7 in FIPS 26 and year 2018\n",
      "Finished gathering data for grade 8 in FIPS 26 and year 2018\n",
      "Finished gathering data for FIPS 26 in year 2018\n",
      "Finished gathering data for grade 3 in FIPS 27 and year 2018\n",
      "Finished gathering data for grade 4 in FIPS 27 and year 2018\n",
      "Finished gathering data for grade 5 in FIPS 27 and year 2018\n",
      "Finished gathering data for grade 6 in FIPS 27 and year 2018\n",
      "Finished gathering data for grade 7 in FIPS 27 and year 2018\n",
      "Finished gathering data for grade 8 in FIPS 27 and year 2018\n",
      "Finished gathering data for FIPS 27 in year 2018\n",
      "Finished gathering data for grade 3 in FIPS 28 and year 2018\n",
      "Finished gathering data for grade 4 in FIPS 28 and year 2018\n",
      "Finished gathering data for grade 5 in FIPS 28 and year 2018\n",
      "Finished gathering data for grade 6 in FIPS 28 and year 2018\n",
      "Finished gathering data for grade 7 in FIPS 28 and year 2018\n",
      "Finished gathering data for grade 8 in FIPS 28 and year 2018\n",
      "Finished gathering data for FIPS 28 in year 2018\n",
      "Finished gathering data for grade 3 in FIPS 29 and year 2018\n",
      "Finished gathering data for grade 4 in FIPS 29 and year 2018\n",
      "Finished gathering data for grade 5 in FIPS 29 and year 2018\n",
      "Finished gathering data for grade 6 in FIPS 29 and year 2018\n",
      "Finished gathering data for grade 7 in FIPS 29 and year 2018\n",
      "Finished gathering data for grade 8 in FIPS 29 and year 2018\n",
      "Finished gathering data for FIPS 29 in year 2018\n",
      "Finished gathering data for grade 3 in FIPS 30 and year 2018\n",
      "Finished gathering data for grade 4 in FIPS 30 and year 2018\n",
      "Finished gathering data for grade 5 in FIPS 30 and year 2018\n",
      "Finished gathering data for grade 6 in FIPS 30 and year 2018\n",
      "Finished gathering data for grade 7 in FIPS 30 and year 2018\n",
      "Finished gathering data for grade 8 in FIPS 30 and year 2018\n",
      "Finished gathering data for FIPS 30 in year 2018\n",
      "Finished gathering data for grade 3 in FIPS 31 and year 2018\n",
      "Finished gathering data for grade 4 in FIPS 31 and year 2018\n",
      "Finished gathering data for grade 5 in FIPS 31 and year 2018\n",
      "Finished gathering data for grade 6 in FIPS 31 and year 2018\n",
      "Finished gathering data for grade 7 in FIPS 31 and year 2018\n",
      "Finished gathering data for grade 8 in FIPS 31 and year 2018\n",
      "Finished gathering data for FIPS 31 in year 2018\n",
      "Finished gathering data for grade 3 in FIPS 32 and year 2018\n",
      "Finished gathering data for grade 4 in FIPS 32 and year 2018\n",
      "Finished gathering data for grade 5 in FIPS 32 and year 2018\n",
      "Finished gathering data for grade 6 in FIPS 32 and year 2018\n",
      "Finished gathering data for grade 7 in FIPS 32 and year 2018\n",
      "Finished gathering data for grade 8 in FIPS 32 and year 2018\n",
      "Finished gathering data for FIPS 32 in year 2018\n",
      "Finished gathering data for grade 3 in FIPS 33 and year 2018\n",
      "Finished gathering data for grade 4 in FIPS 33 and year 2018\n",
      "Finished gathering data for grade 5 in FIPS 33 and year 2018\n",
      "Finished gathering data for grade 6 in FIPS 33 and year 2018\n",
      "Finished gathering data for grade 7 in FIPS 33 and year 2018\n",
      "Finished gathering data for grade 8 in FIPS 33 and year 2018\n",
      "Finished gathering data for FIPS 33 in year 2018\n",
      "Finished gathering data for grade 3 in FIPS 34 and year 2018\n",
      "Finished gathering data for grade 4 in FIPS 34 and year 2018\n",
      "Finished gathering data for grade 5 in FIPS 34 and year 2018\n",
      "Finished gathering data for grade 6 in FIPS 34 and year 2018\n",
      "Finished gathering data for grade 7 in FIPS 34 and year 2018\n",
      "Finished gathering data for grade 8 in FIPS 34 and year 2018\n",
      "Finished gathering data for FIPS 34 in year 2018\n",
      "Finished gathering data for grade 3 in FIPS 35 and year 2018\n",
      "Finished gathering data for grade 4 in FIPS 35 and year 2018\n",
      "Finished gathering data for grade 5 in FIPS 35 and year 2018\n",
      "Finished gathering data for grade 6 in FIPS 35 and year 2018\n",
      "Finished gathering data for grade 7 in FIPS 35 and year 2018\n",
      "Finished gathering data for grade 8 in FIPS 35 and year 2018\n",
      "Finished gathering data for FIPS 35 in year 2018\n",
      "Finished gathering data for grade 3 in FIPS 36 and year 2018\n",
      "Finished gathering data for grade 4 in FIPS 36 and year 2018\n",
      "Finished gathering data for grade 5 in FIPS 36 and year 2018\n",
      "Finished gathering data for grade 6 in FIPS 36 and year 2018\n",
      "Finished gathering data for grade 7 in FIPS 36 and year 2018\n",
      "Finished gathering data for grade 8 in FIPS 36 and year 2018\n",
      "Finished gathering data for FIPS 36 in year 2018\n",
      "Finished gathering data for grade 3 in FIPS 37 and year 2018\n",
      "Finished gathering data for grade 4 in FIPS 37 and year 2018\n",
      "Finished gathering data for grade 5 in FIPS 37 and year 2018\n",
      "Finished gathering data for grade 6 in FIPS 37 and year 2018\n",
      "Finished gathering data for grade 7 in FIPS 37 and year 2018\n",
      "Finished gathering data for grade 8 in FIPS 37 and year 2018\n",
      "Finished gathering data for FIPS 37 in year 2018\n",
      "Finished gathering data for grade 3 in FIPS 38 and year 2018\n",
      "Finished gathering data for grade 4 in FIPS 38 and year 2018\n",
      "Finished gathering data for grade 5 in FIPS 38 and year 2018\n",
      "Finished gathering data for grade 6 in FIPS 38 and year 2018\n",
      "Finished gathering data for grade 7 in FIPS 38 and year 2018\n",
      "Finished gathering data for grade 8 in FIPS 38 and year 2018\n",
      "Finished gathering data for FIPS 38 in year 2018\n",
      "Finished gathering data for grade 3 in FIPS 39 and year 2018\n",
      "Finished gathering data for grade 4 in FIPS 39 and year 2018\n",
      "Finished gathering data for grade 5 in FIPS 39 and year 2018\n",
      "Finished gathering data for grade 6 in FIPS 39 and year 2018\n",
      "Finished gathering data for grade 7 in FIPS 39 and year 2018\n",
      "Finished gathering data for grade 8 in FIPS 39 and year 2018\n",
      "Finished gathering data for FIPS 39 in year 2018\n",
      "Finished gathering data for grade 3 in FIPS 40 and year 2018\n",
      "Finished gathering data for grade 4 in FIPS 40 and year 2018\n",
      "Finished gathering data for grade 5 in FIPS 40 and year 2018\n",
      "Finished gathering data for grade 6 in FIPS 40 and year 2018\n",
      "Finished gathering data for grade 7 in FIPS 40 and year 2018\n",
      "Finished gathering data for grade 8 in FIPS 40 and year 2018\n",
      "Finished gathering data for FIPS 40 in year 2018\n",
      "Finished gathering data for grade 3 in FIPS 41 and year 2018\n",
      "Finished gathering data for grade 4 in FIPS 41 and year 2018\n",
      "Finished gathering data for grade 5 in FIPS 41 and year 2018\n",
      "Finished gathering data for grade 6 in FIPS 41 and year 2018\n",
      "Finished gathering data for grade 7 in FIPS 41 and year 2018\n",
      "Finished gathering data for grade 8 in FIPS 41 and year 2018\n",
      "Finished gathering data for FIPS 41 in year 2018\n",
      "Finished gathering data for grade 3 in FIPS 42 and year 2018\n",
      "Finished gathering data for grade 4 in FIPS 42 and year 2018\n",
      "Finished gathering data for grade 5 in FIPS 42 and year 2018\n",
      "Finished gathering data for grade 6 in FIPS 42 and year 2018\n",
      "Finished gathering data for grade 7 in FIPS 42 and year 2018\n",
      "Finished gathering data for grade 8 in FIPS 42 and year 2018\n",
      "Finished gathering data for FIPS 42 in year 2018\n",
      "Finished gathering data for grade 3 in FIPS 44 and year 2018\n",
      "Finished gathering data for grade 4 in FIPS 44 and year 2018\n",
      "Finished gathering data for grade 5 in FIPS 44 and year 2018\n",
      "Finished gathering data for grade 6 in FIPS 44 and year 2018\n",
      "Finished gathering data for grade 7 in FIPS 44 and year 2018\n",
      "Finished gathering data for grade 8 in FIPS 44 and year 2018\n",
      "Finished gathering data for FIPS 44 in year 2018\n",
      "Finished gathering data for grade 3 in FIPS 45 and year 2018\n",
      "Finished gathering data for grade 4 in FIPS 45 and year 2018\n",
      "Finished gathering data for grade 5 in FIPS 45 and year 2018\n",
      "Finished gathering data for grade 6 in FIPS 45 and year 2018\n",
      "Finished gathering data for grade 7 in FIPS 45 and year 2018\n",
      "Finished gathering data for grade 8 in FIPS 45 and year 2018\n",
      "Finished gathering data for FIPS 45 in year 2018\n",
      "Finished gathering data for grade 3 in FIPS 46 and year 2018\n",
      "Finished gathering data for grade 4 in FIPS 46 and year 2018\n",
      "Finished gathering data for grade 5 in FIPS 46 and year 2018\n",
      "Finished gathering data for grade 6 in FIPS 46 and year 2018\n",
      "Finished gathering data for grade 7 in FIPS 46 and year 2018\n",
      "Finished gathering data for grade 8 in FIPS 46 and year 2018\n",
      "Finished gathering data for FIPS 46 in year 2018\n",
      "Finished gathering data for grade 3 in FIPS 47 and year 2018\n",
      "Finished gathering data for grade 4 in FIPS 47 and year 2018\n",
      "Finished gathering data for grade 5 in FIPS 47 and year 2018\n",
      "Finished gathering data for grade 6 in FIPS 47 and year 2018\n",
      "Finished gathering data for grade 7 in FIPS 47 and year 2018\n",
      "Finished gathering data for grade 8 in FIPS 47 and year 2018\n",
      "Finished gathering data for FIPS 47 in year 2018\n",
      "Finished gathering data for grade 3 in FIPS 48 and year 2018\n",
      "Finished gathering data for grade 4 in FIPS 48 and year 2018\n",
      "Finished gathering data for grade 5 in FIPS 48 and year 2018\n",
      "Finished gathering data for grade 6 in FIPS 48 and year 2018\n",
      "Finished gathering data for grade 7 in FIPS 48 and year 2018\n",
      "Finished gathering data for grade 8 in FIPS 48 and year 2018\n",
      "Finished gathering data for FIPS 48 in year 2018\n",
      "Finished gathering data for grade 3 in FIPS 49 and year 2018\n",
      "Finished gathering data for grade 4 in FIPS 49 and year 2018\n",
      "Finished gathering data for grade 5 in FIPS 49 and year 2018\n",
      "Finished gathering data for grade 6 in FIPS 49 and year 2018\n",
      "Finished gathering data for grade 7 in FIPS 49 and year 2018\n",
      "Finished gathering data for grade 8 in FIPS 49 and year 2018\n",
      "Finished gathering data for FIPS 49 in year 2018\n",
      "Finished gathering data for grade 3 in FIPS 50 and year 2018\n",
      "Finished gathering data for grade 4 in FIPS 50 and year 2018\n",
      "Finished gathering data for grade 5 in FIPS 50 and year 2018\n",
      "Finished gathering data for grade 6 in FIPS 50 and year 2018\n",
      "Finished gathering data for grade 7 in FIPS 50 and year 2018\n",
      "Finished gathering data for grade 8 in FIPS 50 and year 2018\n",
      "Finished gathering data for FIPS 50 in year 2018\n",
      "Finished gathering data for grade 3 in FIPS 51 and year 2018\n",
      "Finished gathering data for grade 4 in FIPS 51 and year 2018\n",
      "Finished gathering data for grade 5 in FIPS 51 and year 2018\n",
      "Finished gathering data for grade 6 in FIPS 51 and year 2018\n",
      "Finished gathering data for grade 7 in FIPS 51 and year 2018\n",
      "Finished gathering data for grade 8 in FIPS 51 and year 2018\n",
      "Finished gathering data for FIPS 51 in year 2018\n",
      "Finished gathering data for grade 3 in FIPS 53 and year 2018\n",
      "Finished gathering data for grade 4 in FIPS 53 and year 2018\n",
      "Finished gathering data for grade 5 in FIPS 53 and year 2018\n",
      "Finished gathering data for grade 6 in FIPS 53 and year 2018\n",
      "Finished gathering data for grade 7 in FIPS 53 and year 2018\n",
      "Finished gathering data for grade 8 in FIPS 53 and year 2018\n",
      "Finished gathering data for FIPS 53 in year 2018\n",
      "Finished gathering data for grade 3 in FIPS 54 and year 2018\n",
      "Finished gathering data for grade 4 in FIPS 54 and year 2018\n",
      "Finished gathering data for grade 5 in FIPS 54 and year 2018\n",
      "Finished gathering data for grade 6 in FIPS 54 and year 2018\n",
      "Finished gathering data for grade 7 in FIPS 54 and year 2018\n",
      "Finished gathering data for grade 8 in FIPS 54 and year 2018\n",
      "Finished gathering data for FIPS 54 in year 2018\n",
      "Finished gathering data for grade 3 in FIPS 55 and year 2018\n",
      "Finished gathering data for grade 4 in FIPS 55 and year 2018\n",
      "Finished gathering data for grade 5 in FIPS 55 and year 2018\n",
      "Finished gathering data for grade 6 in FIPS 55 and year 2018\n",
      "Finished gathering data for grade 7 in FIPS 55 and year 2018\n",
      "Finished gathering data for grade 8 in FIPS 55 and year 2018\n",
      "Finished gathering data for FIPS 55 in year 2018\n",
      "Finished gathering data for grade 3 in FIPS 56 and year 2018\n",
      "Finished gathering data for grade 4 in FIPS 56 and year 2018\n",
      "Finished gathering data for grade 5 in FIPS 56 and year 2018\n",
      "Finished gathering data for grade 6 in FIPS 56 and year 2018\n",
      "Finished gathering data for grade 7 in FIPS 56 and year 2018\n",
      "Finished gathering data for grade 8 in FIPS 56 and year 2018\n",
      "Finished gathering data for FIPS 56 in year 2018\n"
     ]
    }
   ],
   "source": [
    "data_2018 = []\n",
    "\n",
    "for fips in fips_codes:\n",
    "    data = gather_data(2018, fips)\n",
    "    data_2018.extend(data)\n",
    "    print(f\"Finished gathering data for FIPS {fips} in year 2018\")\n",
    "\n",
    "df_2018 = pd.DataFrame(data_2018)\n"
   ]
  },
  {
   "cell_type": "code",
   "execution_count": 35,
   "id": "b9bd8814",
   "metadata": {},
   "outputs": [
    {
     "name": "stdout",
     "output_type": "stream",
     "text": [
      "Finished gathering data for grade 3 in FIPS 01 and year 2019\n",
      "Finished gathering data for grade 4 in FIPS 01 and year 2019\n",
      "Finished gathering data for grade 5 in FIPS 01 and year 2019\n",
      "Finished gathering data for grade 6 in FIPS 01 and year 2019\n",
      "Finished gathering data for grade 7 in FIPS 01 and year 2019\n",
      "Finished gathering data for grade 8 in FIPS 01 and year 2019\n",
      "Finished gathering data for FIPS 01 in year 2019\n",
      "Finished gathering data for grade 3 in FIPS 02 and year 2019\n",
      "Finished gathering data for grade 4 in FIPS 02 and year 2019\n",
      "Finished gathering data for grade 5 in FIPS 02 and year 2019\n",
      "Finished gathering data for grade 6 in FIPS 02 and year 2019\n",
      "Finished gathering data for grade 7 in FIPS 02 and year 2019\n",
      "Finished gathering data for grade 8 in FIPS 02 and year 2019\n",
      "Finished gathering data for FIPS 02 in year 2019\n",
      "Finished gathering data for grade 3 in FIPS 04 and year 2019\n",
      "Finished gathering data for grade 4 in FIPS 04 and year 2019\n",
      "Finished gathering data for grade 5 in FIPS 04 and year 2019\n",
      "Finished gathering data for grade 6 in FIPS 04 and year 2019\n",
      "Finished gathering data for grade 7 in FIPS 04 and year 2019\n",
      "Finished gathering data for grade 8 in FIPS 04 and year 2019\n",
      "Finished gathering data for FIPS 04 in year 2019\n",
      "Finished gathering data for grade 3 in FIPS 05 and year 2019\n",
      "Finished gathering data for grade 4 in FIPS 05 and year 2019\n",
      "Finished gathering data for grade 5 in FIPS 05 and year 2019\n",
      "Finished gathering data for grade 6 in FIPS 05 and year 2019\n",
      "Finished gathering data for grade 7 in FIPS 05 and year 2019\n",
      "Finished gathering data for grade 8 in FIPS 05 and year 2019\n",
      "Finished gathering data for FIPS 05 in year 2019\n",
      "Finished gathering data for grade 3 in FIPS 06 and year 2019\n",
      "Finished gathering data for grade 4 in FIPS 06 and year 2019\n",
      "Finished gathering data for grade 5 in FIPS 06 and year 2019\n",
      "Finished gathering data for grade 6 in FIPS 06 and year 2019\n",
      "Finished gathering data for grade 7 in FIPS 06 and year 2019\n",
      "Finished gathering data for grade 8 in FIPS 06 and year 2019\n",
      "Finished gathering data for FIPS 06 in year 2019\n",
      "Finished gathering data for grade 3 in FIPS 08 and year 2019\n",
      "Finished gathering data for grade 4 in FIPS 08 and year 2019\n",
      "Finished gathering data for grade 5 in FIPS 08 and year 2019\n",
      "Finished gathering data for grade 6 in FIPS 08 and year 2019\n",
      "Finished gathering data for grade 7 in FIPS 08 and year 2019\n",
      "Finished gathering data for grade 8 in FIPS 08 and year 2019\n",
      "Finished gathering data for FIPS 08 in year 2019\n",
      "Finished gathering data for grade 3 in FIPS 09 and year 2019\n",
      "Finished gathering data for grade 4 in FIPS 09 and year 2019\n",
      "Finished gathering data for grade 5 in FIPS 09 and year 2019\n",
      "Finished gathering data for grade 6 in FIPS 09 and year 2019\n",
      "Finished gathering data for grade 7 in FIPS 09 and year 2019\n",
      "Finished gathering data for grade 8 in FIPS 09 and year 2019\n",
      "Finished gathering data for FIPS 09 in year 2019\n",
      "Finished gathering data for grade 3 in FIPS 10 and year 2019\n",
      "Finished gathering data for grade 4 in FIPS 10 and year 2019\n",
      "Finished gathering data for grade 5 in FIPS 10 and year 2019\n",
      "Finished gathering data for grade 6 in FIPS 10 and year 2019\n",
      "Finished gathering data for grade 7 in FIPS 10 and year 2019\n",
      "Finished gathering data for grade 8 in FIPS 10 and year 2019\n",
      "Finished gathering data for FIPS 10 in year 2019\n",
      "Finished gathering data for grade 3 in FIPS 11 and year 2019\n",
      "Finished gathering data for grade 4 in FIPS 11 and year 2019\n",
      "Finished gathering data for grade 5 in FIPS 11 and year 2019\n",
      "Finished gathering data for grade 6 in FIPS 11 and year 2019\n",
      "Finished gathering data for grade 7 in FIPS 11 and year 2019\n",
      "Finished gathering data for grade 8 in FIPS 11 and year 2019\n",
      "Finished gathering data for FIPS 11 in year 2019\n",
      "Finished gathering data for grade 3 in FIPS 12 and year 2019\n",
      "Finished gathering data for grade 4 in FIPS 12 and year 2019\n",
      "Finished gathering data for grade 5 in FIPS 12 and year 2019\n",
      "Finished gathering data for grade 6 in FIPS 12 and year 2019\n",
      "Finished gathering data for grade 7 in FIPS 12 and year 2019\n",
      "Finished gathering data for grade 8 in FIPS 12 and year 2019\n",
      "Finished gathering data for FIPS 12 in year 2019\n",
      "Finished gathering data for grade 3 in FIPS 13 and year 2019\n",
      "Finished gathering data for grade 4 in FIPS 13 and year 2019\n",
      "Finished gathering data for grade 5 in FIPS 13 and year 2019\n",
      "Finished gathering data for grade 6 in FIPS 13 and year 2019\n",
      "Finished gathering data for grade 7 in FIPS 13 and year 2019\n",
      "Finished gathering data for grade 8 in FIPS 13 and year 2019\n",
      "Finished gathering data for FIPS 13 in year 2019\n",
      "Finished gathering data for grade 3 in FIPS 15 and year 2019\n",
      "Finished gathering data for grade 4 in FIPS 15 and year 2019\n",
      "Finished gathering data for grade 5 in FIPS 15 and year 2019\n",
      "Finished gathering data for grade 6 in FIPS 15 and year 2019\n",
      "Finished gathering data for grade 7 in FIPS 15 and year 2019\n",
      "Finished gathering data for grade 8 in FIPS 15 and year 2019\n",
      "Finished gathering data for FIPS 15 in year 2019\n",
      "Finished gathering data for grade 3 in FIPS 16 and year 2019\n",
      "Finished gathering data for grade 4 in FIPS 16 and year 2019\n",
      "Finished gathering data for grade 5 in FIPS 16 and year 2019\n",
      "Finished gathering data for grade 6 in FIPS 16 and year 2019\n",
      "Finished gathering data for grade 7 in FIPS 16 and year 2019\n",
      "Finished gathering data for grade 8 in FIPS 16 and year 2019\n",
      "Finished gathering data for FIPS 16 in year 2019\n",
      "Finished gathering data for grade 3 in FIPS 17 and year 2019\n",
      "Finished gathering data for grade 4 in FIPS 17 and year 2019\n",
      "Finished gathering data for grade 5 in FIPS 17 and year 2019\n",
      "Finished gathering data for grade 6 in FIPS 17 and year 2019\n",
      "Finished gathering data for grade 7 in FIPS 17 and year 2019\n",
      "Finished gathering data for grade 8 in FIPS 17 and year 2019\n",
      "Finished gathering data for FIPS 17 in year 2019\n",
      "Finished gathering data for grade 3 in FIPS 18 and year 2019\n",
      "Finished gathering data for grade 4 in FIPS 18 and year 2019\n",
      "Finished gathering data for grade 5 in FIPS 18 and year 2019\n",
      "Finished gathering data for grade 6 in FIPS 18 and year 2019\n",
      "Finished gathering data for grade 7 in FIPS 18 and year 2019\n",
      "Finished gathering data for grade 8 in FIPS 18 and year 2019\n",
      "Finished gathering data for FIPS 18 in year 2019\n",
      "Finished gathering data for grade 3 in FIPS 19 and year 2019\n",
      "Finished gathering data for grade 4 in FIPS 19 and year 2019\n",
      "Finished gathering data for grade 5 in FIPS 19 and year 2019\n",
      "Finished gathering data for grade 6 in FIPS 19 and year 2019\n",
      "Finished gathering data for grade 7 in FIPS 19 and year 2019\n",
      "Finished gathering data for grade 8 in FIPS 19 and year 2019\n",
      "Finished gathering data for FIPS 19 in year 2019\n",
      "Finished gathering data for grade 3 in FIPS 20 and year 2019\n",
      "Finished gathering data for grade 4 in FIPS 20 and year 2019\n",
      "Finished gathering data for grade 5 in FIPS 20 and year 2019\n",
      "Finished gathering data for grade 6 in FIPS 20 and year 2019\n",
      "Finished gathering data for grade 7 in FIPS 20 and year 2019\n",
      "Finished gathering data for grade 8 in FIPS 20 and year 2019\n",
      "Finished gathering data for FIPS 20 in year 2019\n",
      "Finished gathering data for grade 3 in FIPS 21 and year 2019\n",
      "Finished gathering data for grade 4 in FIPS 21 and year 2019\n",
      "Finished gathering data for grade 5 in FIPS 21 and year 2019\n",
      "Finished gathering data for grade 6 in FIPS 21 and year 2019\n",
      "Finished gathering data for grade 7 in FIPS 21 and year 2019\n",
      "Finished gathering data for grade 8 in FIPS 21 and year 2019\n",
      "Finished gathering data for FIPS 21 in year 2019\n",
      "Finished gathering data for grade 3 in FIPS 22 and year 2019\n",
      "Finished gathering data for grade 4 in FIPS 22 and year 2019\n",
      "Finished gathering data for grade 5 in FIPS 22 and year 2019\n",
      "Finished gathering data for grade 6 in FIPS 22 and year 2019\n",
      "Finished gathering data for grade 7 in FIPS 22 and year 2019\n",
      "Finished gathering data for grade 8 in FIPS 22 and year 2019\n",
      "Finished gathering data for FIPS 22 in year 2019\n",
      "Finished gathering data for grade 3 in FIPS 23 and year 2019\n",
      "Finished gathering data for grade 4 in FIPS 23 and year 2019\n",
      "Finished gathering data for grade 5 in FIPS 23 and year 2019\n",
      "Finished gathering data for grade 6 in FIPS 23 and year 2019\n",
      "Finished gathering data for grade 7 in FIPS 23 and year 2019\n",
      "Finished gathering data for grade 8 in FIPS 23 and year 2019\n",
      "Finished gathering data for FIPS 23 in year 2019\n",
      "Finished gathering data for grade 3 in FIPS 24 and year 2019\n",
      "Finished gathering data for grade 4 in FIPS 24 and year 2019\n",
      "Finished gathering data for grade 5 in FIPS 24 and year 2019\n",
      "Finished gathering data for grade 6 in FIPS 24 and year 2019\n",
      "Finished gathering data for grade 7 in FIPS 24 and year 2019\n",
      "Finished gathering data for grade 8 in FIPS 24 and year 2019\n",
      "Finished gathering data for FIPS 24 in year 2019\n",
      "Finished gathering data for grade 3 in FIPS 25 and year 2019\n",
      "Finished gathering data for grade 4 in FIPS 25 and year 2019\n",
      "Finished gathering data for grade 5 in FIPS 25 and year 2019\n",
      "Finished gathering data for grade 6 in FIPS 25 and year 2019\n",
      "Finished gathering data for grade 7 in FIPS 25 and year 2019\n",
      "Finished gathering data for grade 8 in FIPS 25 and year 2019\n",
      "Finished gathering data for FIPS 25 in year 2019\n",
      "Finished gathering data for grade 3 in FIPS 26 and year 2019\n",
      "Finished gathering data for grade 4 in FIPS 26 and year 2019\n",
      "Finished gathering data for grade 5 in FIPS 26 and year 2019\n",
      "Finished gathering data for grade 6 in FIPS 26 and year 2019\n",
      "Finished gathering data for grade 7 in FIPS 26 and year 2019\n",
      "Finished gathering data for grade 8 in FIPS 26 and year 2019\n",
      "Finished gathering data for FIPS 26 in year 2019\n",
      "Finished gathering data for grade 3 in FIPS 27 and year 2019\n",
      "Finished gathering data for grade 4 in FIPS 27 and year 2019\n",
      "Finished gathering data for grade 5 in FIPS 27 and year 2019\n",
      "Finished gathering data for grade 6 in FIPS 27 and year 2019\n",
      "Finished gathering data for grade 7 in FIPS 27 and year 2019\n",
      "Finished gathering data for grade 8 in FIPS 27 and year 2019\n",
      "Finished gathering data for FIPS 27 in year 2019\n",
      "Finished gathering data for grade 3 in FIPS 28 and year 2019\n",
      "Finished gathering data for grade 4 in FIPS 28 and year 2019\n",
      "Finished gathering data for grade 5 in FIPS 28 and year 2019\n",
      "Finished gathering data for grade 6 in FIPS 28 and year 2019\n",
      "Finished gathering data for grade 7 in FIPS 28 and year 2019\n",
      "Finished gathering data for grade 8 in FIPS 28 and year 2019\n",
      "Finished gathering data for FIPS 28 in year 2019\n",
      "Finished gathering data for grade 3 in FIPS 29 and year 2019\n",
      "Finished gathering data for grade 4 in FIPS 29 and year 2019\n",
      "Finished gathering data for grade 5 in FIPS 29 and year 2019\n",
      "Finished gathering data for grade 6 in FIPS 29 and year 2019\n",
      "Finished gathering data for grade 7 in FIPS 29 and year 2019\n",
      "Finished gathering data for grade 8 in FIPS 29 and year 2019\n",
      "Finished gathering data for FIPS 29 in year 2019\n",
      "Finished gathering data for grade 3 in FIPS 30 and year 2019\n",
      "Finished gathering data for grade 4 in FIPS 30 and year 2019\n",
      "Finished gathering data for grade 5 in FIPS 30 and year 2019\n",
      "Finished gathering data for grade 6 in FIPS 30 and year 2019\n",
      "Finished gathering data for grade 7 in FIPS 30 and year 2019\n",
      "Finished gathering data for grade 8 in FIPS 30 and year 2019\n",
      "Finished gathering data for FIPS 30 in year 2019\n",
      "Finished gathering data for grade 3 in FIPS 31 and year 2019\n",
      "Finished gathering data for grade 4 in FIPS 31 and year 2019\n",
      "Finished gathering data for grade 5 in FIPS 31 and year 2019\n",
      "Finished gathering data for grade 6 in FIPS 31 and year 2019\n",
      "Finished gathering data for grade 7 in FIPS 31 and year 2019\n",
      "Finished gathering data for grade 8 in FIPS 31 and year 2019\n",
      "Finished gathering data for FIPS 31 in year 2019\n",
      "Finished gathering data for grade 3 in FIPS 32 and year 2019\n",
      "Finished gathering data for grade 4 in FIPS 32 and year 2019\n",
      "Finished gathering data for grade 5 in FIPS 32 and year 2019\n",
      "Finished gathering data for grade 6 in FIPS 32 and year 2019\n",
      "Finished gathering data for grade 7 in FIPS 32 and year 2019\n",
      "Finished gathering data for grade 8 in FIPS 32 and year 2019\n",
      "Finished gathering data for FIPS 32 in year 2019\n",
      "Finished gathering data for grade 3 in FIPS 33 and year 2019\n",
      "Finished gathering data for grade 4 in FIPS 33 and year 2019\n",
      "Finished gathering data for grade 5 in FIPS 33 and year 2019\n",
      "Finished gathering data for grade 6 in FIPS 33 and year 2019\n",
      "Finished gathering data for grade 7 in FIPS 33 and year 2019\n",
      "Finished gathering data for grade 8 in FIPS 33 and year 2019\n",
      "Finished gathering data for FIPS 33 in year 2019\n",
      "Finished gathering data for grade 3 in FIPS 34 and year 2019\n",
      "Finished gathering data for grade 4 in FIPS 34 and year 2019\n",
      "Finished gathering data for grade 5 in FIPS 34 and year 2019\n",
      "Finished gathering data for grade 6 in FIPS 34 and year 2019\n",
      "Finished gathering data for grade 7 in FIPS 34 and year 2019\n",
      "Finished gathering data for grade 8 in FIPS 34 and year 2019\n",
      "Finished gathering data for FIPS 34 in year 2019\n",
      "Finished gathering data for grade 3 in FIPS 35 and year 2019\n",
      "Finished gathering data for grade 4 in FIPS 35 and year 2019\n",
      "Finished gathering data for grade 5 in FIPS 35 and year 2019\n",
      "Finished gathering data for grade 6 in FIPS 35 and year 2019\n",
      "Finished gathering data for grade 7 in FIPS 35 and year 2019\n",
      "Finished gathering data for grade 8 in FIPS 35 and year 2019\n",
      "Finished gathering data for FIPS 35 in year 2019\n",
      "Finished gathering data for grade 3 in FIPS 36 and year 2019\n",
      "Finished gathering data for grade 4 in FIPS 36 and year 2019\n",
      "Finished gathering data for grade 5 in FIPS 36 and year 2019\n",
      "Finished gathering data for grade 6 in FIPS 36 and year 2019\n",
      "Finished gathering data for grade 7 in FIPS 36 and year 2019\n",
      "Finished gathering data for grade 8 in FIPS 36 and year 2019\n",
      "Finished gathering data for FIPS 36 in year 2019\n",
      "Finished gathering data for grade 3 in FIPS 37 and year 2019\n",
      "Finished gathering data for grade 4 in FIPS 37 and year 2019\n",
      "Finished gathering data for grade 5 in FIPS 37 and year 2019\n",
      "Finished gathering data for grade 6 in FIPS 37 and year 2019\n",
      "Finished gathering data for grade 7 in FIPS 37 and year 2019\n",
      "Finished gathering data for grade 8 in FIPS 37 and year 2019\n",
      "Finished gathering data for FIPS 37 in year 2019\n",
      "Finished gathering data for grade 3 in FIPS 38 and year 2019\n",
      "Finished gathering data for grade 4 in FIPS 38 and year 2019\n",
      "Finished gathering data for grade 5 in FIPS 38 and year 2019\n",
      "Finished gathering data for grade 6 in FIPS 38 and year 2019\n",
      "Finished gathering data for grade 7 in FIPS 38 and year 2019\n",
      "Finished gathering data for grade 8 in FIPS 38 and year 2019\n",
      "Finished gathering data for FIPS 38 in year 2019\n",
      "Finished gathering data for grade 3 in FIPS 39 and year 2019\n",
      "Finished gathering data for grade 4 in FIPS 39 and year 2019\n",
      "Finished gathering data for grade 5 in FIPS 39 and year 2019\n",
      "Finished gathering data for grade 6 in FIPS 39 and year 2019\n",
      "Finished gathering data for grade 7 in FIPS 39 and year 2019\n",
      "Finished gathering data for grade 8 in FIPS 39 and year 2019\n",
      "Finished gathering data for FIPS 39 in year 2019\n",
      "Finished gathering data for grade 3 in FIPS 40 and year 2019\n",
      "Finished gathering data for grade 4 in FIPS 40 and year 2019\n",
      "Finished gathering data for grade 5 in FIPS 40 and year 2019\n",
      "Finished gathering data for grade 6 in FIPS 40 and year 2019\n",
      "Finished gathering data for grade 7 in FIPS 40 and year 2019\n",
      "Finished gathering data for grade 8 in FIPS 40 and year 2019\n",
      "Finished gathering data for FIPS 40 in year 2019\n",
      "Finished gathering data for grade 3 in FIPS 41 and year 2019\n",
      "Finished gathering data for grade 4 in FIPS 41 and year 2019\n",
      "Finished gathering data for grade 5 in FIPS 41 and year 2019\n",
      "Finished gathering data for grade 6 in FIPS 41 and year 2019\n",
      "Finished gathering data for grade 7 in FIPS 41 and year 2019\n",
      "Finished gathering data for grade 8 in FIPS 41 and year 2019\n",
      "Finished gathering data for FIPS 41 in year 2019\n",
      "Finished gathering data for grade 3 in FIPS 42 and year 2019\n",
      "Finished gathering data for grade 4 in FIPS 42 and year 2019\n",
      "Finished gathering data for grade 5 in FIPS 42 and year 2019\n",
      "Finished gathering data for grade 6 in FIPS 42 and year 2019\n",
      "Finished gathering data for grade 7 in FIPS 42 and year 2019\n",
      "Finished gathering data for grade 8 in FIPS 42 and year 2019\n",
      "Finished gathering data for FIPS 42 in year 2019\n",
      "Finished gathering data for grade 3 in FIPS 44 and year 2019\n",
      "Finished gathering data for grade 4 in FIPS 44 and year 2019\n",
      "Finished gathering data for grade 5 in FIPS 44 and year 2019\n",
      "Finished gathering data for grade 6 in FIPS 44 and year 2019\n",
      "Finished gathering data for grade 7 in FIPS 44 and year 2019\n",
      "Finished gathering data for grade 8 in FIPS 44 and year 2019\n",
      "Finished gathering data for FIPS 44 in year 2019\n",
      "Finished gathering data for grade 3 in FIPS 45 and year 2019\n",
      "Finished gathering data for grade 4 in FIPS 45 and year 2019\n",
      "Finished gathering data for grade 5 in FIPS 45 and year 2019\n",
      "Finished gathering data for grade 6 in FIPS 45 and year 2019\n",
      "Finished gathering data for grade 7 in FIPS 45 and year 2019\n",
      "Finished gathering data for grade 8 in FIPS 45 and year 2019\n",
      "Finished gathering data for FIPS 45 in year 2019\n",
      "Finished gathering data for grade 3 in FIPS 46 and year 2019\n",
      "Finished gathering data for grade 4 in FIPS 46 and year 2019\n",
      "Finished gathering data for grade 5 in FIPS 46 and year 2019\n",
      "Finished gathering data for grade 6 in FIPS 46 and year 2019\n",
      "Finished gathering data for grade 7 in FIPS 46 and year 2019\n",
      "Finished gathering data for grade 8 in FIPS 46 and year 2019\n",
      "Finished gathering data for FIPS 46 in year 2019\n",
      "Finished gathering data for grade 3 in FIPS 47 and year 2019\n",
      "Finished gathering data for grade 4 in FIPS 47 and year 2019\n",
      "Finished gathering data for grade 5 in FIPS 47 and year 2019\n",
      "Finished gathering data for grade 6 in FIPS 47 and year 2019\n",
      "Finished gathering data for grade 7 in FIPS 47 and year 2019\n",
      "Finished gathering data for grade 8 in FIPS 47 and year 2019\n",
      "Finished gathering data for FIPS 47 in year 2019\n",
      "Finished gathering data for grade 3 in FIPS 48 and year 2019\n",
      "Finished gathering data for grade 4 in FIPS 48 and year 2019\n",
      "Finished gathering data for grade 5 in FIPS 48 and year 2019\n",
      "Finished gathering data for grade 6 in FIPS 48 and year 2019\n",
      "Finished gathering data for grade 7 in FIPS 48 and year 2019\n",
      "Finished gathering data for grade 8 in FIPS 48 and year 2019\n",
      "Finished gathering data for FIPS 48 in year 2019\n",
      "Finished gathering data for grade 3 in FIPS 49 and year 2019\n",
      "Finished gathering data for grade 4 in FIPS 49 and year 2019\n",
      "Finished gathering data for grade 5 in FIPS 49 and year 2019\n",
      "Finished gathering data for grade 6 in FIPS 49 and year 2019\n",
      "Finished gathering data for grade 7 in FIPS 49 and year 2019\n",
      "Finished gathering data for grade 8 in FIPS 49 and year 2019\n",
      "Finished gathering data for FIPS 49 in year 2019\n",
      "Finished gathering data for grade 3 in FIPS 50 and year 2019\n",
      "Finished gathering data for grade 4 in FIPS 50 and year 2019\n",
      "Finished gathering data for grade 5 in FIPS 50 and year 2019\n",
      "Finished gathering data for grade 6 in FIPS 50 and year 2019\n",
      "Finished gathering data for grade 7 in FIPS 50 and year 2019\n",
      "Finished gathering data for grade 8 in FIPS 50 and year 2019\n",
      "Finished gathering data for FIPS 50 in year 2019\n",
      "Finished gathering data for grade 3 in FIPS 51 and year 2019\n",
      "Finished gathering data for grade 4 in FIPS 51 and year 2019\n",
      "Finished gathering data for grade 5 in FIPS 51 and year 2019\n",
      "Finished gathering data for grade 6 in FIPS 51 and year 2019\n",
      "Finished gathering data for grade 7 in FIPS 51 and year 2019\n",
      "Finished gathering data for grade 8 in FIPS 51 and year 2019\n",
      "Finished gathering data for FIPS 51 in year 2019\n",
      "Finished gathering data for grade 3 in FIPS 53 and year 2019\n",
      "Finished gathering data for grade 4 in FIPS 53 and year 2019\n",
      "Finished gathering data for grade 5 in FIPS 53 and year 2019\n",
      "Finished gathering data for grade 6 in FIPS 53 and year 2019\n",
      "Finished gathering data for grade 7 in FIPS 53 and year 2019\n",
      "Finished gathering data for grade 8 in FIPS 53 and year 2019\n",
      "Finished gathering data for FIPS 53 in year 2019\n",
      "Finished gathering data for grade 3 in FIPS 54 and year 2019\n",
      "Finished gathering data for grade 4 in FIPS 54 and year 2019\n",
      "Finished gathering data for grade 5 in FIPS 54 and year 2019\n",
      "Finished gathering data for grade 6 in FIPS 54 and year 2019\n",
      "Finished gathering data for grade 7 in FIPS 54 and year 2019\n",
      "Finished gathering data for grade 8 in FIPS 54 and year 2019\n",
      "Finished gathering data for FIPS 54 in year 2019\n",
      "Finished gathering data for grade 3 in FIPS 55 and year 2019\n",
      "Finished gathering data for grade 4 in FIPS 55 and year 2019\n",
      "Finished gathering data for grade 5 in FIPS 55 and year 2019\n",
      "Finished gathering data for grade 6 in FIPS 55 and year 2019\n",
      "Finished gathering data for grade 7 in FIPS 55 and year 2019\n",
      "Finished gathering data for grade 8 in FIPS 55 and year 2019\n",
      "Finished gathering data for FIPS 55 in year 2019\n",
      "Finished gathering data for grade 3 in FIPS 56 and year 2019\n",
      "Finished gathering data for grade 4 in FIPS 56 and year 2019\n",
      "Finished gathering data for grade 5 in FIPS 56 and year 2019\n",
      "Finished gathering data for grade 6 in FIPS 56 and year 2019\n",
      "Finished gathering data for grade 7 in FIPS 56 and year 2019\n",
      "Finished gathering data for grade 8 in FIPS 56 and year 2019\n",
      "Finished gathering data for FIPS 56 in year 2019\n"
     ]
    }
   ],
   "source": [
    "data_2019 = []\n",
    "\n",
    "for fips in fips_codes:\n",
    "    data = gather_data(2019, fips)\n",
    "    data_2019.extend(data)\n",
    "    print(f\"Finished gathering data for FIPS {fips} in year 2019\")\n",
    "\n",
    "df_2019 = pd.DataFrame(data_2019)\n"
   ]
  },
  {
   "cell_type": "code",
   "execution_count": 23,
   "id": "0453336e",
   "metadata": {},
   "outputs": [],
   "source": [
    "df_2009.to_csv('/Users/jduncan/Desktop/Econ 300 Final Project/Deomo_2009.csv')\n",
    "df_2010.to_csv('/Users/jduncan/Desktop/Econ 300 Final Project/Deomo_2010.csv')\n",
    "df_2011.to_csv('/Users/jduncan/Desktop/Econ 300 Final Project/Deomo_2011.csv')\n",
    "df_2012.to_csv('/Users/jduncan/Desktop/Econ 300 Final Project/Deomo_2012.csv')\n",
    "df_2013.to_csv('/Users/jduncan/Desktop/Econ 300 Final Project/Deomo_2013.csv')\n",
    "df_2014.to_csv('/Users/jduncan/Desktop/Econ 300 Final Project/Deomo_2014.csv')\n",
    "df_2015.to_csv('/Users/jduncan/Desktop/Econ 300 Final Project/Deomo_2015.csv')\n",
    "df_2016.to_csv('/Users/jduncan/Desktop/Econ 300 Final Project/Deomo_2016.csv')\n",
    "df_2017.to_csv('/Users/jduncan/Desktop/Econ 300 Final Project/Deomo_2017.csv')\n",
    "df_2018.to_csv('/Users/jduncan/Desktop/Econ 300 Final Project/Deomo_2018.csv')\n",
    "df_2019.to_csv('/Users/jduncan/Desktop/Econ 300 Final Project/Deomo_2019.csv')\n",
    "\n",
    "\n",
    "\n",
    "\n",
    "\n"
   ]
  },
  {
   "cell_type": "code",
   "execution_count": 42,
   "id": "374100a3",
   "metadata": {},
   "outputs": [
    {
     "name": "stdout",
     "output_type": "stream",
     "text": [
      "          year    leaid  fips  grade  race  sex  enrollment\n",
      "0         2009  0100002     1      3     1    1         0.0\n",
      "1         2009  0100002     1      3     1    2         0.0\n",
      "2         2009  0100002     1      3     1   99         0.0\n",
      "3         2009  0100002     1      3     2    1         0.0\n",
      "4         2009  0100002     1      3     2    2         0.0\n",
      "...        ...      ...   ...    ...   ...  ...         ...\n",
      "18822148  2019  5680251    56      8    99   99         1.0\n",
      "18822149  2019  5680252    56      8    99   99         1.0\n",
      "18822150  2019  5680253    56      8    99   99         1.0\n",
      "18822151  2019  5680254    56      8    99   99        15.0\n",
      "18822152  2019  5680255    56      8    99   99         1.0\n",
      "\n",
      "[18822153 rows x 7 columns]\n"
     ]
    }
   ],
   "source": [
    "all_dataframes = [df_2009, df_2010, df_2011, df_2012, df_2013, df_2014, df_2015, df_2016, df_2017, df_2018, df_2019]\n",
    "merged_df = pd.concat(all_dataframes, ignore_index=True)\n",
    "\n",
    "\n",
    "print(merged_df)\n",
    "\n",
    "\n",
    "merged_df.to_csv('/Users/jduncan/Desktop/Econ 300 Final Project/Demo 09-19.csv')"
   ]
  },
  {
   "cell_type": "code",
   "execution_count": 43,
   "id": "07e60875",
   "metadata": {},
   "outputs": [],
   "source": [
    "merged_df.head(10000).to_csv('/Users/jduncan/Desktop/Econ 300 Final Project/Demo 10000 09-19.csv')"
   ]
  },
  {
   "cell_type": "markdown",
   "id": "141e543c",
   "metadata": {},
   "source": [
    "# Cleaning Demographic Data\n",
    "\n",
    "Now that I have loaded data on demographics, I need to clean it.  The below code provides a count forever School Distric and gradelevel of the number of Male, Female, Black, White, Asian, and Hispanic Enrollment. I then divide thse by the total enrollment for grade to get percents. "
   ]
  },
  {
   "cell_type": "code",
   "execution_count": 49,
   "id": "7e56ce7a",
   "metadata": {},
   "outputs": [],
   "source": [
    "df_all = merged_df.copy(deep=True) #Copy the data frame to work with \n",
    "\n",
    "df_all = df_all[df_all.enrollment != 0]\n",
    "\n",
    "#df_all.head(1000).to_csv('/Users/jduncan/Desktop/Econ 300 Final Project/Demo 10000 09-19.csv')\n"
   ]
  },
  {
   "cell_type": "code",
   "execution_count": 66,
   "id": "0459d08c",
   "metadata": {},
   "outputs": [
    {
     "name": "stdout",
     "output_type": "stream",
     "text": [
      "        year    leaid  fips  grade  Asian_Female  Asian_Male  Black_Female  \\\n",
      "0       2009  0100005     1      3             0           1             3   \n",
      "1       2009  0100005     1      4             0           3             2   \n",
      "2       2009  0100005     1      5             0           1             2   \n",
      "3       2009  0100005     1      6             1           1             3   \n",
      "4       2009  0100005     1      7             0           2             3   \n",
      "...      ...      ...   ...    ...           ...         ...           ...   \n",
      "933941  2019  5000448    50      8             0           3             1   \n",
      "933942  2019  5000449    50      3             0           0             0   \n",
      "933943  2019  5000449    50      4             0           0             0   \n",
      "933944  2019  5000449    50      5             0           0             0   \n",
      "933945  2019  5300346    53      6             0           0             5   \n",
      "\n",
      "        Black_Male  Hispanic_Female  Hispanic_Male  Total_Female  Total_Male  \\\n",
      "0                3               64             60           180         153   \n",
      "1                2               59             62           160         151   \n",
      "2                3               41             46           148         145   \n",
      "3                6               49             50           163         144   \n",
      "4                2               39             35           132         125   \n",
      "...            ...              ...            ...           ...         ...   \n",
      "933941           0                5              2            63          50   \n",
      "933942           0                1              0            18          17   \n",
      "933943           0                0              0            13          25   \n",
      "933944           1                1              0            13          26   \n",
      "933945          11                2              1             8          15   \n",
      "\n",
      "        White_Female  White_Male  \n",
      "0                113          89  \n",
      "1                 98          84  \n",
      "2                105          95  \n",
      "3                108          87  \n",
      "4                 90          86  \n",
      "...              ...         ...  \n",
      "933941            57          45  \n",
      "933942            16          17  \n",
      "933943            13          24  \n",
      "933944            11          24  \n",
      "933945             0           0  \n",
      "\n",
      "[933946 rows x 14 columns]\n"
     ]
    }
   ],
   "source": [
    "import pandas as pd\n",
    "\n",
    "race_map = {1: 'White', 2: 'Black', 3: 'Hispanic', 4: 'Asian', 99: 'Total'}\n",
    "df_all['Race_Name'] = df_all['race'].map(race_map)\n",
    "\n",
    "sex_map = {1: 'Male', 2: 'Female'}\n",
    "df_all['Sex_Name'] = df_all['sex'].map(sex_map)\n",
    "\n",
    "pivot_table = df_all.pivot_table(\n",
    "    index=['year', 'leaid', 'fips', 'grade'],\n",
    "    columns=['Race_Name', 'Sex_Name'],\n",
    "    values='enrollment',\n",
    "    aggfunc='sum',\n",
    "    fill_value=0\n",
    ").reset_index()\n",
    "\n",
    "\n",
    "pivot_table.columns = ['_'.join(col).rstrip('_') for col in pivot_table.columns.values]\n",
    "pivot_table.rename(columns={\n",
    "    'year': 'year',\n",
    "    'leaid': 'leaid',\n",
    "    'fips': 'fips',\n",
    "    'grade': 'grade',\n",
    "}, inplace=True)\n",
    "\n",
    "print(pivot_table)"
   ]
  },
  {
   "cell_type": "code",
   "execution_count": 98,
   "id": "3c65b9b8",
   "metadata": {
    "scrolled": true
   },
   "outputs": [
    {
     "name": "stdout",
     "output_type": "stream",
     "text": [
      "        year    leaid  fips  grade  Total_Female  Total_Male  Asian  Black  \\\n",
      "0       2009  0100005     1      3           180         153      1      6   \n",
      "1       2009  0100005     1      4           160         151      3      4   \n",
      "2       2009  0100005     1      5           148         145      1      5   \n",
      "3       2009  0100005     1      6           163         144      2      9   \n",
      "4       2009  0100005     1      7           132         125      2      5   \n",
      "...      ...      ...   ...    ...           ...         ...    ...    ...   \n",
      "933941  2019  5000448    50      8            63          50      3      1   \n",
      "933942  2019  5000449    50      3            18          17      0      0   \n",
      "933943  2019  5000449    50      4            13          25      0      0   \n",
      "933944  2019  5000449    50      5            13          26      0      1   \n",
      "933945  2019  5300346    53      6             8          15      0     16   \n",
      "\n",
      "        Hispanic  White  Total_Enrollment  \n",
      "0            124    202               333  \n",
      "1            121    182               311  \n",
      "2             87    200               293  \n",
      "3             99    195               307  \n",
      "4             74    176               257  \n",
      "...          ...    ...               ...  \n",
      "933941         7    102               113  \n",
      "933942         1     33                35  \n",
      "933943         0     37                38  \n",
      "933944         1     35                39  \n",
      "933945         3      0                23  \n",
      "\n",
      "[933946 rows x 11 columns]\n"
     ]
    }
   ],
   "source": [
    "race_columns = ['Asian', 'Black', 'Hispanic', 'White']\n",
    "\n",
    "# create a new data frame with aggregated race columns and total enrollment\n",
    "df_new = pivot_table[['year', 'leaid', 'fips', 'grade', 'Total_Female', 'Total_Male']].copy()\n",
    "\n",
    "for race in race_columns:\n",
    "    # create a new column for each race that sums the male and female columns\n",
    "    df_new[race] = pivot_table[f'{race}_Female'] + pivot_table[f'{race}_Male']\n",
    "\n",
    "# create a new column for total enrollment by adding the total female and total male columns\n",
    "df_new['Total_Enrollment'] = pivot_table['Total_Female'] + pivot_table['Total_Male']\n",
    "\n",
    "\n",
    "print(df_new)\n",
    "\n"
   ]
  },
  {
   "cell_type": "code",
   "execution_count": 99,
   "id": "28e2c9ae",
   "metadata": {
    "scrolled": true
   },
   "outputs": [],
   "source": [
    "df_new = df_new.drop(index=df_new[df_new['Total_Enrollment'] == 0].index)\n",
    "\n",
    "# drop rows where any integer column value is less than 0\n",
    "df_new = df_new[(df_new[int_cols] >= 0).all(axis=1)]\n",
    "\n",
    "\n",
    "\n",
    "demo_final =df_new.copy(deep = True)\n",
    "#print(df_new)\n",
    "#print(df_new.columns)\n",
    "#df_sample = df_new.sample(n=1000)\n",
    "\n",
    "# export the sample to a CSV file\n",
    "#df_sample.to_csv('/Users/jduncan/Desktop/Econ 300 Final Project/Demo_Cleaned_sample.csv', index=False)\n"
   ]
  },
  {
   "cell_type": "code",
   "execution_count": 100,
   "id": "10e4eee5",
   "metadata": {},
   "outputs": [
    {
     "name": "stdout",
     "output_type": "stream",
     "text": [
      "        year    leaid  fips  grade  Total_Female_percent  Total_Male_percent  \\\n",
      "0       2009  0100005     1      3              0.540541            0.459459   \n",
      "1       2009  0100005     1      4              0.514469            0.485531   \n",
      "2       2009  0100005     1      5              0.505119            0.494881   \n",
      "3       2009  0100005     1      6              0.530945            0.469055   \n",
      "4       2009  0100005     1      7              0.513619            0.486381   \n",
      "...      ...      ...   ...    ...                   ...                 ...   \n",
      "933941  2019  5000448    50      8              0.557522            0.442478   \n",
      "933942  2019  5000449    50      3              0.514286            0.485714   \n",
      "933943  2019  5000449    50      4              0.342105            0.657895   \n",
      "933944  2019  5000449    50      5              0.333333            0.666667   \n",
      "933945  2019  5300346    53      6              0.347826            0.652174   \n",
      "\n",
      "        Asian_percent  Black_percent  Hispanic_percent  White_percent  \\\n",
      "0            0.003003       0.018018          0.372372       0.606607   \n",
      "1            0.009646       0.012862          0.389068       0.585209   \n",
      "2            0.003413       0.017065          0.296928       0.682594   \n",
      "3            0.006515       0.029316          0.322476       0.635179   \n",
      "4            0.007782       0.019455          0.287938       0.684825   \n",
      "...               ...            ...               ...            ...   \n",
      "933941       0.026549       0.008850          0.061947       0.902655   \n",
      "933942       0.000000       0.000000          0.028571       0.942857   \n",
      "933943       0.000000       0.000000          0.000000       0.973684   \n",
      "933944       0.000000       0.025641          0.025641       0.897436   \n",
      "933945       0.000000       0.695652          0.130435       0.000000   \n",
      "\n",
      "        Total_Enrollment  \n",
      "0                    333  \n",
      "1                    311  \n",
      "2                    293  \n",
      "3                    307  \n",
      "4                    257  \n",
      "...                  ...  \n",
      "933941               113  \n",
      "933942                35  \n",
      "933943                38  \n",
      "933944                39  \n",
      "933945                23  \n",
      "\n",
      "[697967 rows x 11 columns]\n",
      "        year    leaid  fips  grade  Total_Female_percent  Total_Male_percent  \\\n",
      "0       2009  0100005     1      3              0.540541            0.459459   \n",
      "1       2009  0100005     1      4              0.514469            0.485531   \n",
      "2       2009  0100005     1      5              0.505119            0.494881   \n",
      "3       2009  0100005     1      6              0.530945            0.469055   \n",
      "4       2009  0100005     1      7              0.513619            0.486381   \n",
      "...      ...      ...   ...    ...                   ...                 ...   \n",
      "933941  2019  5000448    50      8              0.557522            0.442478   \n",
      "933942  2019  5000449    50      3              0.514286            0.485714   \n",
      "933943  2019  5000449    50      4              0.342105            0.657895   \n",
      "933944  2019  5000449    50      5              0.333333            0.666667   \n",
      "933945  2019  5300346    53      6              0.347826            0.652174   \n",
      "\n",
      "        Asian_percent  Black_percent  Hispanic_percent  White_percent  \\\n",
      "0            0.003003       0.018018          0.372372       0.606607   \n",
      "1            0.009646       0.012862          0.389068       0.585209   \n",
      "2            0.003413       0.017065          0.296928       0.682594   \n",
      "3            0.006515       0.029316          0.322476       0.635179   \n",
      "4            0.007782       0.019455          0.287938       0.684825   \n",
      "...               ...            ...               ...            ...   \n",
      "933941       0.026549       0.008850          0.061947       0.902655   \n",
      "933942       0.000000       0.000000          0.028571       0.942857   \n",
      "933943       0.000000       0.000000          0.000000       0.973684   \n",
      "933944       0.000000       0.025641          0.025641       0.897436   \n",
      "933945       0.000000       0.695652          0.130435       0.000000   \n",
      "\n",
      "        Total_Enrollment  \n",
      "0                    333  \n",
      "1                    311  \n",
      "2                    293  \n",
      "3                    307  \n",
      "4                    257  \n",
      "...                  ...  \n",
      "933941               113  \n",
      "933942                35  \n",
      "933943                38  \n",
      "933944                39  \n",
      "933945                23  \n",
      "\n",
      "[697967 rows x 11 columns]\n"
     ]
    }
   ],
   "source": [
    "cols_to_convert = ['Total_Female', 'Total_Male', 'Asian', 'Black', 'Hispanic', 'White']\n",
    "    \n",
    "# divide each column by Total_Enrollment to get percentages\n",
    "df_new[cols_to_convert] = df_new[cols_to_convert].div(df_new['Total_Enrollment'], axis=0)\n",
    "new_col_names = {col: f\"{col}_percent\" for col in cols_to_convert}\n",
    "df_new = df_new.rename(columns=new_col_names)\n",
    "print(df_new)\n",
    "\n",
    "\n",
    "demo_final =df_new.copy(deep = True)\n",
    "demo_final.to_csv('/Users/jduncan/Desktop/Econ 300 Final Project/Demo_Percent.csv', index=False)\n",
    "\n",
    "print(demo_final)\n"
   ]
  },
  {
   "cell_type": "markdown",
   "id": "964bc66e",
   "metadata": {},
   "source": [
    "# Grab Poverty Data\n"
   ]
  },
  {
   "cell_type": "code",
   "execution_count": 105,
   "id": "8f92f2f8",
   "metadata": {},
   "outputs": [
    {
     "name": "stdout",
     "output_type": "stream",
     "text": [
      "Trying URL: https://educationdata.urban.org/api/v1/school-districts/saipe/2008/?leaid=&fips=01\n",
      "Trying URL: https://educationdata.urban.org/api/v1/school-districts/saipe/2008/?leaid=&fips=02\n"
     ]
    },
    {
     "name": "stderr",
     "output_type": "stream",
     "text": [
      "/var/folders/jv/_0nbzmjn7p13g2s1_mch9b6c0000gn/T/ipykernel_27325/2137315506.py:39: FutureWarning: The frame.append method is deprecated and will be removed from pandas in a future version. Use pandas.concat instead.\n",
      "  all_data = all_data.append(df, ignore_index=True)\n",
      "/var/folders/jv/_0nbzmjn7p13g2s1_mch9b6c0000gn/T/ipykernel_27325/2137315506.py:39: FutureWarning: The frame.append method is deprecated and will be removed from pandas in a future version. Use pandas.concat instead.\n",
      "  all_data = all_data.append(df, ignore_index=True)\n"
     ]
    },
    {
     "name": "stdout",
     "output_type": "stream",
     "text": [
      "Trying URL: https://educationdata.urban.org/api/v1/school-districts/saipe/2008/?leaid=&fips=03\n",
      "Error fetching data for FIPS 03 and year 2008: \"None of [Index(['district_id', 'district_name', 'year', 'est_population_total',\\n       'est_population_5_17', 'est_population_5_17_poverty',\\n       'est_population_5_17_poverty_pct', 'est_population_5_17_pct', 'leaid',\\n       'fips'],\\n      dtype='object')] are in the [columns]\"\n",
      "Trying URL: https://educationdata.urban.org/api/v1/school-districts/saipe/2008/?leaid=&fips=04\n"
     ]
    },
    {
     "name": "stderr",
     "output_type": "stream",
     "text": [
      "/var/folders/jv/_0nbzmjn7p13g2s1_mch9b6c0000gn/T/ipykernel_27325/2137315506.py:39: FutureWarning: The frame.append method is deprecated and will be removed from pandas in a future version. Use pandas.concat instead.\n",
      "  all_data = all_data.append(df, ignore_index=True)\n",
      "/var/folders/jv/_0nbzmjn7p13g2s1_mch9b6c0000gn/T/ipykernel_27325/2137315506.py:39: FutureWarning: The frame.append method is deprecated and will be removed from pandas in a future version. Use pandas.concat instead.\n",
      "  all_data = all_data.append(df, ignore_index=True)\n"
     ]
    },
    {
     "name": "stdout",
     "output_type": "stream",
     "text": [
      "Trying URL: https://educationdata.urban.org/api/v1/school-districts/saipe/2008/?leaid=&fips=05\n"
     ]
    },
    {
     "name": "stderr",
     "output_type": "stream",
     "text": [
      "/var/folders/jv/_0nbzmjn7p13g2s1_mch9b6c0000gn/T/ipykernel_27325/2137315506.py:39: FutureWarning: The frame.append method is deprecated and will be removed from pandas in a future version. Use pandas.concat instead.\n",
      "  all_data = all_data.append(df, ignore_index=True)\n"
     ]
    },
    {
     "name": "stdout",
     "output_type": "stream",
     "text": [
      "Trying URL: https://educationdata.urban.org/api/v1/school-districts/saipe/2008/?leaid=&fips=06\n"
     ]
    },
    {
     "name": "stderr",
     "output_type": "stream",
     "text": [
      "/var/folders/jv/_0nbzmjn7p13g2s1_mch9b6c0000gn/T/ipykernel_27325/2137315506.py:39: FutureWarning: The frame.append method is deprecated and will be removed from pandas in a future version. Use pandas.concat instead.\n",
      "  all_data = all_data.append(df, ignore_index=True)\n",
      "/var/folders/jv/_0nbzmjn7p13g2s1_mch9b6c0000gn/T/ipykernel_27325/2137315506.py:39: FutureWarning: The frame.append method is deprecated and will be removed from pandas in a future version. Use pandas.concat instead.\n",
      "  all_data = all_data.append(df, ignore_index=True)\n"
     ]
    },
    {
     "name": "stdout",
     "output_type": "stream",
     "text": [
      "Trying URL: https://educationdata.urban.org/api/v1/school-districts/saipe/2008/?leaid=&fips=07\n",
      "Error fetching data for FIPS 07 and year 2008: \"None of [Index(['district_id', 'district_name', 'year', 'est_population_total',\\n       'est_population_5_17', 'est_population_5_17_poverty',\\n       'est_population_5_17_poverty_pct', 'est_population_5_17_pct', 'leaid',\\n       'fips'],\\n      dtype='object')] are in the [columns]\"\n",
      "Trying URL: https://educationdata.urban.org/api/v1/school-districts/saipe/2008/?leaid=&fips=08\n"
     ]
    },
    {
     "name": "stderr",
     "output_type": "stream",
     "text": [
      "/var/folders/jv/_0nbzmjn7p13g2s1_mch9b6c0000gn/T/ipykernel_27325/2137315506.py:39: FutureWarning: The frame.append method is deprecated and will be removed from pandas in a future version. Use pandas.concat instead.\n",
      "  all_data = all_data.append(df, ignore_index=True)\n",
      "/var/folders/jv/_0nbzmjn7p13g2s1_mch9b6c0000gn/T/ipykernel_27325/2137315506.py:39: FutureWarning: The frame.append method is deprecated and will be removed from pandas in a future version. Use pandas.concat instead.\n",
      "  all_data = all_data.append(df, ignore_index=True)\n"
     ]
    },
    {
     "name": "stdout",
     "output_type": "stream",
     "text": [
      "Trying URL: https://educationdata.urban.org/api/v1/school-districts/saipe/2008/?leaid=&fips=09\n",
      "Trying URL: https://educationdata.urban.org/api/v1/school-districts/saipe/2008/?leaid=&fips=10\n"
     ]
    },
    {
     "name": "stderr",
     "output_type": "stream",
     "text": [
      "/var/folders/jv/_0nbzmjn7p13g2s1_mch9b6c0000gn/T/ipykernel_27325/2137315506.py:39: FutureWarning: The frame.append method is deprecated and will be removed from pandas in a future version. Use pandas.concat instead.\n",
      "  all_data = all_data.append(df, ignore_index=True)\n",
      "/var/folders/jv/_0nbzmjn7p13g2s1_mch9b6c0000gn/T/ipykernel_27325/2137315506.py:39: FutureWarning: The frame.append method is deprecated and will be removed from pandas in a future version. Use pandas.concat instead.\n",
      "  all_data = all_data.append(df, ignore_index=True)\n"
     ]
    },
    {
     "name": "stdout",
     "output_type": "stream",
     "text": [
      "Trying URL: https://educationdata.urban.org/api/v1/school-districts/saipe/2008/?leaid=&fips=11\n",
      "Trying URL: https://educationdata.urban.org/api/v1/school-districts/saipe/2008/?leaid=&fips=12\n"
     ]
    },
    {
     "name": "stderr",
     "output_type": "stream",
     "text": [
      "/var/folders/jv/_0nbzmjn7p13g2s1_mch9b6c0000gn/T/ipykernel_27325/2137315506.py:39: FutureWarning: The frame.append method is deprecated and will be removed from pandas in a future version. Use pandas.concat instead.\n",
      "  all_data = all_data.append(df, ignore_index=True)\n",
      "/var/folders/jv/_0nbzmjn7p13g2s1_mch9b6c0000gn/T/ipykernel_27325/2137315506.py:39: FutureWarning: The frame.append method is deprecated and will be removed from pandas in a future version. Use pandas.concat instead.\n",
      "  all_data = all_data.append(df, ignore_index=True)\n"
     ]
    },
    {
     "name": "stdout",
     "output_type": "stream",
     "text": [
      "Trying URL: https://educationdata.urban.org/api/v1/school-districts/saipe/2008/?leaid=&fips=13\n",
      "Trying URL: https://educationdata.urban.org/api/v1/school-districts/saipe/2008/?leaid=&fips=14\n",
      "Error fetching data for FIPS 14 and year 2008: \"None of [Index(['district_id', 'district_name', 'year', 'est_population_total',\\n       'est_population_5_17', 'est_population_5_17_poverty',\\n       'est_population_5_17_poverty_pct', 'est_population_5_17_pct', 'leaid',\\n       'fips'],\\n      dtype='object')] are in the [columns]\"\n",
      "Trying URL: https://educationdata.urban.org/api/v1/school-districts/saipe/2008/?leaid=&fips=15\n",
      "Trying URL: https://educationdata.urban.org/api/v1/school-districts/saipe/2008/?leaid=&fips=16\n"
     ]
    },
    {
     "name": "stderr",
     "output_type": "stream",
     "text": [
      "/var/folders/jv/_0nbzmjn7p13g2s1_mch9b6c0000gn/T/ipykernel_27325/2137315506.py:39: FutureWarning: The frame.append method is deprecated and will be removed from pandas in a future version. Use pandas.concat instead.\n",
      "  all_data = all_data.append(df, ignore_index=True)\n",
      "/var/folders/jv/_0nbzmjn7p13g2s1_mch9b6c0000gn/T/ipykernel_27325/2137315506.py:39: FutureWarning: The frame.append method is deprecated and will be removed from pandas in a future version. Use pandas.concat instead.\n",
      "  all_data = all_data.append(df, ignore_index=True)\n",
      "/var/folders/jv/_0nbzmjn7p13g2s1_mch9b6c0000gn/T/ipykernel_27325/2137315506.py:39: FutureWarning: The frame.append method is deprecated and will be removed from pandas in a future version. Use pandas.concat instead.\n",
      "  all_data = all_data.append(df, ignore_index=True)\n"
     ]
    },
    {
     "name": "stdout",
     "output_type": "stream",
     "text": [
      "Trying URL: https://educationdata.urban.org/api/v1/school-districts/saipe/2008/?leaid=&fips=17\n"
     ]
    },
    {
     "name": "stderr",
     "output_type": "stream",
     "text": [
      "/var/folders/jv/_0nbzmjn7p13g2s1_mch9b6c0000gn/T/ipykernel_27325/2137315506.py:39: FutureWarning: The frame.append method is deprecated and will be removed from pandas in a future version. Use pandas.concat instead.\n",
      "  all_data = all_data.append(df, ignore_index=True)\n",
      "/var/folders/jv/_0nbzmjn7p13g2s1_mch9b6c0000gn/T/ipykernel_27325/2137315506.py:39: FutureWarning: The frame.append method is deprecated and will be removed from pandas in a future version. Use pandas.concat instead.\n",
      "  all_data = all_data.append(df, ignore_index=True)\n"
     ]
    },
    {
     "name": "stdout",
     "output_type": "stream",
     "text": [
      "Trying URL: https://educationdata.urban.org/api/v1/school-districts/saipe/2008/?leaid=&fips=18\n",
      "Trying URL: https://educationdata.urban.org/api/v1/school-districts/saipe/2008/?leaid=&fips=19\n"
     ]
    },
    {
     "name": "stderr",
     "output_type": "stream",
     "text": [
      "/var/folders/jv/_0nbzmjn7p13g2s1_mch9b6c0000gn/T/ipykernel_27325/2137315506.py:39: FutureWarning: The frame.append method is deprecated and will be removed from pandas in a future version. Use pandas.concat instead.\n",
      "  all_data = all_data.append(df, ignore_index=True)\n",
      "/var/folders/jv/_0nbzmjn7p13g2s1_mch9b6c0000gn/T/ipykernel_27325/2137315506.py:39: FutureWarning: The frame.append method is deprecated and will be removed from pandas in a future version. Use pandas.concat instead.\n",
      "  all_data = all_data.append(df, ignore_index=True)\n"
     ]
    },
    {
     "name": "stdout",
     "output_type": "stream",
     "text": [
      "Trying URL: https://educationdata.urban.org/api/v1/school-districts/saipe/2008/?leaid=&fips=20\n",
      "Trying URL: https://educationdata.urban.org/api/v1/school-districts/saipe/2008/?leaid=&fips=21\n"
     ]
    },
    {
     "name": "stderr",
     "output_type": "stream",
     "text": [
      "/var/folders/jv/_0nbzmjn7p13g2s1_mch9b6c0000gn/T/ipykernel_27325/2137315506.py:39: FutureWarning: The frame.append method is deprecated and will be removed from pandas in a future version. Use pandas.concat instead.\n",
      "  all_data = all_data.append(df, ignore_index=True)\n",
      "/var/folders/jv/_0nbzmjn7p13g2s1_mch9b6c0000gn/T/ipykernel_27325/2137315506.py:39: FutureWarning: The frame.append method is deprecated and will be removed from pandas in a future version. Use pandas.concat instead.\n",
      "  all_data = all_data.append(df, ignore_index=True)\n"
     ]
    },
    {
     "name": "stdout",
     "output_type": "stream",
     "text": [
      "Trying URL: https://educationdata.urban.org/api/v1/school-districts/saipe/2008/?leaid=&fips=22\n",
      "Trying URL: https://educationdata.urban.org/api/v1/school-districts/saipe/2008/?leaid=&fips=23\n"
     ]
    },
    {
     "name": "stderr",
     "output_type": "stream",
     "text": [
      "/var/folders/jv/_0nbzmjn7p13g2s1_mch9b6c0000gn/T/ipykernel_27325/2137315506.py:39: FutureWarning: The frame.append method is deprecated and will be removed from pandas in a future version. Use pandas.concat instead.\n",
      "  all_data = all_data.append(df, ignore_index=True)\n",
      "/var/folders/jv/_0nbzmjn7p13g2s1_mch9b6c0000gn/T/ipykernel_27325/2137315506.py:39: FutureWarning: The frame.append method is deprecated and will be removed from pandas in a future version. Use pandas.concat instead.\n",
      "  all_data = all_data.append(df, ignore_index=True)\n"
     ]
    },
    {
     "name": "stdout",
     "output_type": "stream",
     "text": [
      "Trying URL: https://educationdata.urban.org/api/v1/school-districts/saipe/2008/?leaid=&fips=24\n",
      "Trying URL: https://educationdata.urban.org/api/v1/school-districts/saipe/2008/?leaid=&fips=25\n"
     ]
    },
    {
     "name": "stderr",
     "output_type": "stream",
     "text": [
      "/var/folders/jv/_0nbzmjn7p13g2s1_mch9b6c0000gn/T/ipykernel_27325/2137315506.py:39: FutureWarning: The frame.append method is deprecated and will be removed from pandas in a future version. Use pandas.concat instead.\n",
      "  all_data = all_data.append(df, ignore_index=True)\n"
     ]
    },
    {
     "name": "stdout",
     "output_type": "stream",
     "text": [
      "Trying URL: https://educationdata.urban.org/api/v1/school-districts/saipe/2008/?leaid=&fips=26\n"
     ]
    },
    {
     "name": "stderr",
     "output_type": "stream",
     "text": [
      "/var/folders/jv/_0nbzmjn7p13g2s1_mch9b6c0000gn/T/ipykernel_27325/2137315506.py:39: FutureWarning: The frame.append method is deprecated and will be removed from pandas in a future version. Use pandas.concat instead.\n",
      "  all_data = all_data.append(df, ignore_index=True)\n"
     ]
    },
    {
     "name": "stdout",
     "output_type": "stream",
     "text": [
      "Trying URL: https://educationdata.urban.org/api/v1/school-districts/saipe/2008/?leaid=&fips=27\n",
      "Trying URL: https://educationdata.urban.org/api/v1/school-districts/saipe/2008/?leaid=&fips=28\n"
     ]
    },
    {
     "name": "stderr",
     "output_type": "stream",
     "text": [
      "/var/folders/jv/_0nbzmjn7p13g2s1_mch9b6c0000gn/T/ipykernel_27325/2137315506.py:39: FutureWarning: The frame.append method is deprecated and will be removed from pandas in a future version. Use pandas.concat instead.\n",
      "  all_data = all_data.append(df, ignore_index=True)\n",
      "/var/folders/jv/_0nbzmjn7p13g2s1_mch9b6c0000gn/T/ipykernel_27325/2137315506.py:39: FutureWarning: The frame.append method is deprecated and will be removed from pandas in a future version. Use pandas.concat instead.\n",
      "  all_data = all_data.append(df, ignore_index=True)\n"
     ]
    },
    {
     "name": "stdout",
     "output_type": "stream",
     "text": [
      "Trying URL: https://educationdata.urban.org/api/v1/school-districts/saipe/2008/?leaid=&fips=29\n"
     ]
    },
    {
     "name": "stderr",
     "output_type": "stream",
     "text": [
      "/var/folders/jv/_0nbzmjn7p13g2s1_mch9b6c0000gn/T/ipykernel_27325/2137315506.py:39: FutureWarning: The frame.append method is deprecated and will be removed from pandas in a future version. Use pandas.concat instead.\n",
      "  all_data = all_data.append(df, ignore_index=True)\n"
     ]
    },
    {
     "name": "stdout",
     "output_type": "stream",
     "text": [
      "Trying URL: https://educationdata.urban.org/api/v1/school-districts/saipe/2008/?leaid=&fips=30\n"
     ]
    },
    {
     "name": "stderr",
     "output_type": "stream",
     "text": [
      "/var/folders/jv/_0nbzmjn7p13g2s1_mch9b6c0000gn/T/ipykernel_27325/2137315506.py:39: FutureWarning: The frame.append method is deprecated and will be removed from pandas in a future version. Use pandas.concat instead.\n",
      "  all_data = all_data.append(df, ignore_index=True)\n",
      "/var/folders/jv/_0nbzmjn7p13g2s1_mch9b6c0000gn/T/ipykernel_27325/2137315506.py:39: FutureWarning: The frame.append method is deprecated and will be removed from pandas in a future version. Use pandas.concat instead.\n",
      "  all_data = all_data.append(df, ignore_index=True)\n"
     ]
    },
    {
     "name": "stdout",
     "output_type": "stream",
     "text": [
      "Trying URL: https://educationdata.urban.org/api/v1/school-districts/saipe/2008/?leaid=&fips=31\n",
      "Trying URL: https://educationdata.urban.org/api/v1/school-districts/saipe/2008/?leaid=&fips=32\n"
     ]
    },
    {
     "name": "stderr",
     "output_type": "stream",
     "text": [
      "/var/folders/jv/_0nbzmjn7p13g2s1_mch9b6c0000gn/T/ipykernel_27325/2137315506.py:39: FutureWarning: The frame.append method is deprecated and will be removed from pandas in a future version. Use pandas.concat instead.\n",
      "  all_data = all_data.append(df, ignore_index=True)\n",
      "/var/folders/jv/_0nbzmjn7p13g2s1_mch9b6c0000gn/T/ipykernel_27325/2137315506.py:39: FutureWarning: The frame.append method is deprecated and will be removed from pandas in a future version. Use pandas.concat instead.\n",
      "  all_data = all_data.append(df, ignore_index=True)\n"
     ]
    },
    {
     "name": "stdout",
     "output_type": "stream",
     "text": [
      "Trying URL: https://educationdata.urban.org/api/v1/school-districts/saipe/2008/?leaid=&fips=33\n",
      "Trying URL: https://educationdata.urban.org/api/v1/school-districts/saipe/2008/?leaid=&fips=34\n"
     ]
    },
    {
     "name": "stderr",
     "output_type": "stream",
     "text": [
      "/var/folders/jv/_0nbzmjn7p13g2s1_mch9b6c0000gn/T/ipykernel_27325/2137315506.py:39: FutureWarning: The frame.append method is deprecated and will be removed from pandas in a future version. Use pandas.concat instead.\n",
      "  all_data = all_data.append(df, ignore_index=True)\n",
      "/var/folders/jv/_0nbzmjn7p13g2s1_mch9b6c0000gn/T/ipykernel_27325/2137315506.py:39: FutureWarning: The frame.append method is deprecated and will be removed from pandas in a future version. Use pandas.concat instead.\n",
      "  all_data = all_data.append(df, ignore_index=True)\n"
     ]
    },
    {
     "name": "stdout",
     "output_type": "stream",
     "text": [
      "Trying URL: https://educationdata.urban.org/api/v1/school-districts/saipe/2008/?leaid=&fips=35\n",
      "Trying URL: https://educationdata.urban.org/api/v1/school-districts/saipe/2008/?leaid=&fips=36\n"
     ]
    },
    {
     "name": "stderr",
     "output_type": "stream",
     "text": [
      "/var/folders/jv/_0nbzmjn7p13g2s1_mch9b6c0000gn/T/ipykernel_27325/2137315506.py:39: FutureWarning: The frame.append method is deprecated and will be removed from pandas in a future version. Use pandas.concat instead.\n",
      "  all_data = all_data.append(df, ignore_index=True)\n",
      "/var/folders/jv/_0nbzmjn7p13g2s1_mch9b6c0000gn/T/ipykernel_27325/2137315506.py:39: FutureWarning: The frame.append method is deprecated and will be removed from pandas in a future version. Use pandas.concat instead.\n",
      "  all_data = all_data.append(df, ignore_index=True)\n"
     ]
    },
    {
     "name": "stdout",
     "output_type": "stream",
     "text": [
      "Trying URL: https://educationdata.urban.org/api/v1/school-districts/saipe/2008/?leaid=&fips=37\n",
      "Trying URL: https://educationdata.urban.org/api/v1/school-districts/saipe/2008/?leaid=&fips=38\n"
     ]
    },
    {
     "name": "stderr",
     "output_type": "stream",
     "text": [
      "/var/folders/jv/_0nbzmjn7p13g2s1_mch9b6c0000gn/T/ipykernel_27325/2137315506.py:39: FutureWarning: The frame.append method is deprecated and will be removed from pandas in a future version. Use pandas.concat instead.\n",
      "  all_data = all_data.append(df, ignore_index=True)\n"
     ]
    },
    {
     "name": "stdout",
     "output_type": "stream",
     "text": [
      "Trying URL: https://educationdata.urban.org/api/v1/school-districts/saipe/2008/?leaid=&fips=39\n"
     ]
    },
    {
     "name": "stderr",
     "output_type": "stream",
     "text": [
      "/var/folders/jv/_0nbzmjn7p13g2s1_mch9b6c0000gn/T/ipykernel_27325/2137315506.py:39: FutureWarning: The frame.append method is deprecated and will be removed from pandas in a future version. Use pandas.concat instead.\n",
      "  all_data = all_data.append(df, ignore_index=True)\n"
     ]
    },
    {
     "name": "stdout",
     "output_type": "stream",
     "text": [
      "Trying URL: https://educationdata.urban.org/api/v1/school-districts/saipe/2008/?leaid=&fips=40\n"
     ]
    },
    {
     "name": "stderr",
     "output_type": "stream",
     "text": [
      "/var/folders/jv/_0nbzmjn7p13g2s1_mch9b6c0000gn/T/ipykernel_27325/2137315506.py:39: FutureWarning: The frame.append method is deprecated and will be removed from pandas in a future version. Use pandas.concat instead.\n",
      "  all_data = all_data.append(df, ignore_index=True)\n",
      "/var/folders/jv/_0nbzmjn7p13g2s1_mch9b6c0000gn/T/ipykernel_27325/2137315506.py:39: FutureWarning: The frame.append method is deprecated and will be removed from pandas in a future version. Use pandas.concat instead.\n",
      "  all_data = all_data.append(df, ignore_index=True)\n"
     ]
    },
    {
     "name": "stdout",
     "output_type": "stream",
     "text": [
      "Trying URL: https://educationdata.urban.org/api/v1/school-districts/saipe/2008/?leaid=&fips=41\n",
      "Trying URL: https://educationdata.urban.org/api/v1/school-districts/saipe/2008/?leaid=&fips=42\n"
     ]
    },
    {
     "name": "stderr",
     "output_type": "stream",
     "text": [
      "/var/folders/jv/_0nbzmjn7p13g2s1_mch9b6c0000gn/T/ipykernel_27325/2137315506.py:39: FutureWarning: The frame.append method is deprecated and will be removed from pandas in a future version. Use pandas.concat instead.\n",
      "  all_data = all_data.append(df, ignore_index=True)\n",
      "/var/folders/jv/_0nbzmjn7p13g2s1_mch9b6c0000gn/T/ipykernel_27325/2137315506.py:39: FutureWarning: The frame.append method is deprecated and will be removed from pandas in a future version. Use pandas.concat instead.\n",
      "  all_data = all_data.append(df, ignore_index=True)\n"
     ]
    },
    {
     "name": "stdout",
     "output_type": "stream",
     "text": [
      "Trying URL: https://educationdata.urban.org/api/v1/school-districts/saipe/2008/?leaid=&fips=43\n",
      "Error fetching data for FIPS 43 and year 2008: \"None of [Index(['district_id', 'district_name', 'year', 'est_population_total',\\n       'est_population_5_17', 'est_population_5_17_poverty',\\n       'est_population_5_17_poverty_pct', 'est_population_5_17_pct', 'leaid',\\n       'fips'],\\n      dtype='object')] are in the [columns]\"\n",
      "Trying URL: https://educationdata.urban.org/api/v1/school-districts/saipe/2008/?leaid=&fips=44\n",
      "Trying URL: https://educationdata.urban.org/api/v1/school-districts/saipe/2008/?leaid=&fips=45\n"
     ]
    },
    {
     "name": "stderr",
     "output_type": "stream",
     "text": [
      "/var/folders/jv/_0nbzmjn7p13g2s1_mch9b6c0000gn/T/ipykernel_27325/2137315506.py:39: FutureWarning: The frame.append method is deprecated and will be removed from pandas in a future version. Use pandas.concat instead.\n",
      "  all_data = all_data.append(df, ignore_index=True)\n",
      "/var/folders/jv/_0nbzmjn7p13g2s1_mch9b6c0000gn/T/ipykernel_27325/2137315506.py:39: FutureWarning: The frame.append method is deprecated and will be removed from pandas in a future version. Use pandas.concat instead.\n",
      "  all_data = all_data.append(df, ignore_index=True)\n"
     ]
    },
    {
     "name": "stdout",
     "output_type": "stream",
     "text": [
      "Trying URL: https://educationdata.urban.org/api/v1/school-districts/saipe/2008/?leaid=&fips=46\n",
      "Trying URL: https://educationdata.urban.org/api/v1/school-districts/saipe/2008/?leaid=&fips=47\n"
     ]
    },
    {
     "name": "stderr",
     "output_type": "stream",
     "text": [
      "/var/folders/jv/_0nbzmjn7p13g2s1_mch9b6c0000gn/T/ipykernel_27325/2137315506.py:39: FutureWarning: The frame.append method is deprecated and will be removed from pandas in a future version. Use pandas.concat instead.\n",
      "  all_data = all_data.append(df, ignore_index=True)\n",
      "/var/folders/jv/_0nbzmjn7p13g2s1_mch9b6c0000gn/T/ipykernel_27325/2137315506.py:39: FutureWarning: The frame.append method is deprecated and will be removed from pandas in a future version. Use pandas.concat instead.\n",
      "  all_data = all_data.append(df, ignore_index=True)\n"
     ]
    },
    {
     "name": "stdout",
     "output_type": "stream",
     "text": [
      "Trying URL: https://educationdata.urban.org/api/v1/school-districts/saipe/2008/?leaid=&fips=48\n"
     ]
    },
    {
     "name": "stderr",
     "output_type": "stream",
     "text": [
      "/var/folders/jv/_0nbzmjn7p13g2s1_mch9b6c0000gn/T/ipykernel_27325/2137315506.py:39: FutureWarning: The frame.append method is deprecated and will be removed from pandas in a future version. Use pandas.concat instead.\n",
      "  all_data = all_data.append(df, ignore_index=True)\n",
      "/var/folders/jv/_0nbzmjn7p13g2s1_mch9b6c0000gn/T/ipykernel_27325/2137315506.py:39: FutureWarning: The frame.append method is deprecated and will be removed from pandas in a future version. Use pandas.concat instead.\n",
      "  all_data = all_data.append(df, ignore_index=True)\n"
     ]
    },
    {
     "name": "stdout",
     "output_type": "stream",
     "text": [
      "Trying URL: https://educationdata.urban.org/api/v1/school-districts/saipe/2008/?leaid=&fips=49\n",
      "Trying URL: https://educationdata.urban.org/api/v1/school-districts/saipe/2008/?leaid=&fips=50\n"
     ]
    },
    {
     "name": "stderr",
     "output_type": "stream",
     "text": [
      "/var/folders/jv/_0nbzmjn7p13g2s1_mch9b6c0000gn/T/ipykernel_27325/2137315506.py:39: FutureWarning: The frame.append method is deprecated and will be removed from pandas in a future version. Use pandas.concat instead.\n",
      "  all_data = all_data.append(df, ignore_index=True)\n",
      "/var/folders/jv/_0nbzmjn7p13g2s1_mch9b6c0000gn/T/ipykernel_27325/2137315506.py:39: FutureWarning: The frame.append method is deprecated and will be removed from pandas in a future version. Use pandas.concat instead.\n",
      "  all_data = all_data.append(df, ignore_index=True)\n"
     ]
    },
    {
     "name": "stdout",
     "output_type": "stream",
     "text": [
      "Trying URL: https://educationdata.urban.org/api/v1/school-districts/saipe/2008/?leaid=&fips=51\n",
      "Trying URL: https://educationdata.urban.org/api/v1/school-districts/saipe/2008/?leaid=&fips=52\n",
      "Error fetching data for FIPS 52 and year 2008: \"None of [Index(['district_id', 'district_name', 'year', 'est_population_total',\\n       'est_population_5_17', 'est_population_5_17_poverty',\\n       'est_population_5_17_poverty_pct', 'est_population_5_17_pct', 'leaid',\\n       'fips'],\\n      dtype='object')] are in the [columns]\"\n",
      "Trying URL: https://educationdata.urban.org/api/v1/school-districts/saipe/2008/?leaid=&fips=53\n",
      "Trying URL: https://educationdata.urban.org/api/v1/school-districts/saipe/2008/?leaid=&fips=54\n"
     ]
    },
    {
     "name": "stderr",
     "output_type": "stream",
     "text": [
      "/var/folders/jv/_0nbzmjn7p13g2s1_mch9b6c0000gn/T/ipykernel_27325/2137315506.py:39: FutureWarning: The frame.append method is deprecated and will be removed from pandas in a future version. Use pandas.concat instead.\n",
      "  all_data = all_data.append(df, ignore_index=True)\n",
      "/var/folders/jv/_0nbzmjn7p13g2s1_mch9b6c0000gn/T/ipykernel_27325/2137315506.py:39: FutureWarning: The frame.append method is deprecated and will be removed from pandas in a future version. Use pandas.concat instead.\n",
      "  all_data = all_data.append(df, ignore_index=True)\n",
      "/var/folders/jv/_0nbzmjn7p13g2s1_mch9b6c0000gn/T/ipykernel_27325/2137315506.py:39: FutureWarning: The frame.append method is deprecated and will be removed from pandas in a future version. Use pandas.concat instead.\n",
      "  all_data = all_data.append(df, ignore_index=True)\n"
     ]
    },
    {
     "name": "stdout",
     "output_type": "stream",
     "text": [
      "Trying URL: https://educationdata.urban.org/api/v1/school-districts/saipe/2008/?leaid=&fips=55\n"
     ]
    },
    {
     "name": "stderr",
     "output_type": "stream",
     "text": [
      "/var/folders/jv/_0nbzmjn7p13g2s1_mch9b6c0000gn/T/ipykernel_27325/2137315506.py:39: FutureWarning: The frame.append method is deprecated and will be removed from pandas in a future version. Use pandas.concat instead.\n",
      "  all_data = all_data.append(df, ignore_index=True)\n",
      "/var/folders/jv/_0nbzmjn7p13g2s1_mch9b6c0000gn/T/ipykernel_27325/2137315506.py:39: FutureWarning: The frame.append method is deprecated and will be removed from pandas in a future version. Use pandas.concat instead.\n",
      "  all_data = all_data.append(df, ignore_index=True)\n"
     ]
    },
    {
     "name": "stdout",
     "output_type": "stream",
     "text": [
      "Trying URL: https://educationdata.urban.org/api/v1/school-districts/saipe/2008/?leaid=&fips=56\n",
      "Trying URL: https://educationdata.urban.org/api/v1/school-districts/saipe/2009/?leaid=&fips=01\n"
     ]
    },
    {
     "name": "stderr",
     "output_type": "stream",
     "text": [
      "/var/folders/jv/_0nbzmjn7p13g2s1_mch9b6c0000gn/T/ipykernel_27325/2137315506.py:39: FutureWarning: The frame.append method is deprecated and will be removed from pandas in a future version. Use pandas.concat instead.\n",
      "  all_data = all_data.append(df, ignore_index=True)\n",
      "/var/folders/jv/_0nbzmjn7p13g2s1_mch9b6c0000gn/T/ipykernel_27325/2137315506.py:39: FutureWarning: The frame.append method is deprecated and will be removed from pandas in a future version. Use pandas.concat instead.\n",
      "  all_data = all_data.append(df, ignore_index=True)\n"
     ]
    },
    {
     "name": "stdout",
     "output_type": "stream",
     "text": [
      "Trying URL: https://educationdata.urban.org/api/v1/school-districts/saipe/2009/?leaid=&fips=02\n",
      "Trying URL: https://educationdata.urban.org/api/v1/school-districts/saipe/2009/?leaid=&fips=03\n",
      "Error fetching data for FIPS 03 and year 2009: \"None of [Index(['district_id', 'district_name', 'year', 'est_population_total',\\n       'est_population_5_17', 'est_population_5_17_poverty',\\n       'est_population_5_17_poverty_pct', 'est_population_5_17_pct', 'leaid',\\n       'fips'],\\n      dtype='object')] are in the [columns]\"\n",
      "Trying URL: https://educationdata.urban.org/api/v1/school-districts/saipe/2009/?leaid=&fips=04\n"
     ]
    },
    {
     "name": "stderr",
     "output_type": "stream",
     "text": [
      "/var/folders/jv/_0nbzmjn7p13g2s1_mch9b6c0000gn/T/ipykernel_27325/2137315506.py:39: FutureWarning: The frame.append method is deprecated and will be removed from pandas in a future version. Use pandas.concat instead.\n",
      "  all_data = all_data.append(df, ignore_index=True)\n",
      "/var/folders/jv/_0nbzmjn7p13g2s1_mch9b6c0000gn/T/ipykernel_27325/2137315506.py:39: FutureWarning: The frame.append method is deprecated and will be removed from pandas in a future version. Use pandas.concat instead.\n",
      "  all_data = all_data.append(df, ignore_index=True)\n",
      "/var/folders/jv/_0nbzmjn7p13g2s1_mch9b6c0000gn/T/ipykernel_27325/2137315506.py:39: FutureWarning: The frame.append method is deprecated and will be removed from pandas in a future version. Use pandas.concat instead.\n",
      "  all_data = all_data.append(df, ignore_index=True)\n"
     ]
    },
    {
     "name": "stdout",
     "output_type": "stream",
     "text": [
      "Trying URL: https://educationdata.urban.org/api/v1/school-districts/saipe/2009/?leaid=&fips=05\n",
      "Trying URL: https://educationdata.urban.org/api/v1/school-districts/saipe/2009/?leaid=&fips=06\n"
     ]
    },
    {
     "name": "stderr",
     "output_type": "stream",
     "text": [
      "/var/folders/jv/_0nbzmjn7p13g2s1_mch9b6c0000gn/T/ipykernel_27325/2137315506.py:39: FutureWarning: The frame.append method is deprecated and will be removed from pandas in a future version. Use pandas.concat instead.\n",
      "  all_data = all_data.append(df, ignore_index=True)\n",
      "/var/folders/jv/_0nbzmjn7p13g2s1_mch9b6c0000gn/T/ipykernel_27325/2137315506.py:39: FutureWarning: The frame.append method is deprecated and will be removed from pandas in a future version. Use pandas.concat instead.\n",
      "  all_data = all_data.append(df, ignore_index=True)\n"
     ]
    },
    {
     "name": "stdout",
     "output_type": "stream",
     "text": [
      "Trying URL: https://educationdata.urban.org/api/v1/school-districts/saipe/2009/?leaid=&fips=07\n",
      "Error fetching data for FIPS 07 and year 2009: \"None of [Index(['district_id', 'district_name', 'year', 'est_population_total',\\n       'est_population_5_17', 'est_population_5_17_poverty',\\n       'est_population_5_17_poverty_pct', 'est_population_5_17_pct', 'leaid',\\n       'fips'],\\n      dtype='object')] are in the [columns]\"\n",
      "Trying URL: https://educationdata.urban.org/api/v1/school-districts/saipe/2009/?leaid=&fips=08\n"
     ]
    },
    {
     "name": "stderr",
     "output_type": "stream",
     "text": [
      "/var/folders/jv/_0nbzmjn7p13g2s1_mch9b6c0000gn/T/ipykernel_27325/2137315506.py:39: FutureWarning: The frame.append method is deprecated and will be removed from pandas in a future version. Use pandas.concat instead.\n",
      "  all_data = all_data.append(df, ignore_index=True)\n",
      "/var/folders/jv/_0nbzmjn7p13g2s1_mch9b6c0000gn/T/ipykernel_27325/2137315506.py:39: FutureWarning: The frame.append method is deprecated and will be removed from pandas in a future version. Use pandas.concat instead.\n",
      "  all_data = all_data.append(df, ignore_index=True)\n"
     ]
    },
    {
     "name": "stdout",
     "output_type": "stream",
     "text": [
      "Trying URL: https://educationdata.urban.org/api/v1/school-districts/saipe/2009/?leaid=&fips=09\n",
      "Trying URL: https://educationdata.urban.org/api/v1/school-districts/saipe/2009/?leaid=&fips=10\n"
     ]
    },
    {
     "name": "stderr",
     "output_type": "stream",
     "text": [
      "/var/folders/jv/_0nbzmjn7p13g2s1_mch9b6c0000gn/T/ipykernel_27325/2137315506.py:39: FutureWarning: The frame.append method is deprecated and will be removed from pandas in a future version. Use pandas.concat instead.\n",
      "  all_data = all_data.append(df, ignore_index=True)\n",
      "/var/folders/jv/_0nbzmjn7p13g2s1_mch9b6c0000gn/T/ipykernel_27325/2137315506.py:39: FutureWarning: The frame.append method is deprecated and will be removed from pandas in a future version. Use pandas.concat instead.\n",
      "  all_data = all_data.append(df, ignore_index=True)\n"
     ]
    },
    {
     "name": "stdout",
     "output_type": "stream",
     "text": [
      "Trying URL: https://educationdata.urban.org/api/v1/school-districts/saipe/2009/?leaid=&fips=11\n",
      "Trying URL: https://educationdata.urban.org/api/v1/school-districts/saipe/2009/?leaid=&fips=12\n"
     ]
    },
    {
     "name": "stderr",
     "output_type": "stream",
     "text": [
      "/var/folders/jv/_0nbzmjn7p13g2s1_mch9b6c0000gn/T/ipykernel_27325/2137315506.py:39: FutureWarning: The frame.append method is deprecated and will be removed from pandas in a future version. Use pandas.concat instead.\n",
      "  all_data = all_data.append(df, ignore_index=True)\n"
     ]
    },
    {
     "name": "stdout",
     "output_type": "stream",
     "text": [
      "Trying URL: https://educationdata.urban.org/api/v1/school-districts/saipe/2009/?leaid=&fips=13\n"
     ]
    },
    {
     "name": "stderr",
     "output_type": "stream",
     "text": [
      "/var/folders/jv/_0nbzmjn7p13g2s1_mch9b6c0000gn/T/ipykernel_27325/2137315506.py:39: FutureWarning: The frame.append method is deprecated and will be removed from pandas in a future version. Use pandas.concat instead.\n",
      "  all_data = all_data.append(df, ignore_index=True)\n",
      "/var/folders/jv/_0nbzmjn7p13g2s1_mch9b6c0000gn/T/ipykernel_27325/2137315506.py:39: FutureWarning: The frame.append method is deprecated and will be removed from pandas in a future version. Use pandas.concat instead.\n",
      "  all_data = all_data.append(df, ignore_index=True)\n"
     ]
    },
    {
     "name": "stdout",
     "output_type": "stream",
     "text": [
      "Trying URL: https://educationdata.urban.org/api/v1/school-districts/saipe/2009/?leaid=&fips=14\n",
      "Error fetching data for FIPS 14 and year 2009: \"None of [Index(['district_id', 'district_name', 'year', 'est_population_total',\\n       'est_population_5_17', 'est_population_5_17_poverty',\\n       'est_population_5_17_poverty_pct', 'est_population_5_17_pct', 'leaid',\\n       'fips'],\\n      dtype='object')] are in the [columns]\"\n",
      "Trying URL: https://educationdata.urban.org/api/v1/school-districts/saipe/2009/?leaid=&fips=15\n"
     ]
    },
    {
     "name": "stderr",
     "output_type": "stream",
     "text": [
      "/var/folders/jv/_0nbzmjn7p13g2s1_mch9b6c0000gn/T/ipykernel_27325/2137315506.py:39: FutureWarning: The frame.append method is deprecated and will be removed from pandas in a future version. Use pandas.concat instead.\n",
      "  all_data = all_data.append(df, ignore_index=True)\n",
      "/var/folders/jv/_0nbzmjn7p13g2s1_mch9b6c0000gn/T/ipykernel_27325/2137315506.py:39: FutureWarning: The frame.append method is deprecated and will be removed from pandas in a future version. Use pandas.concat instead.\n",
      "  all_data = all_data.append(df, ignore_index=True)\n"
     ]
    },
    {
     "name": "stdout",
     "output_type": "stream",
     "text": [
      "Trying URL: https://educationdata.urban.org/api/v1/school-districts/saipe/2009/?leaid=&fips=16\n",
      "Trying URL: https://educationdata.urban.org/api/v1/school-districts/saipe/2009/?leaid=&fips=17\n"
     ]
    },
    {
     "name": "stderr",
     "output_type": "stream",
     "text": [
      "/var/folders/jv/_0nbzmjn7p13g2s1_mch9b6c0000gn/T/ipykernel_27325/2137315506.py:39: FutureWarning: The frame.append method is deprecated and will be removed from pandas in a future version. Use pandas.concat instead.\n",
      "  all_data = all_data.append(df, ignore_index=True)\n",
      "/var/folders/jv/_0nbzmjn7p13g2s1_mch9b6c0000gn/T/ipykernel_27325/2137315506.py:39: FutureWarning: The frame.append method is deprecated and will be removed from pandas in a future version. Use pandas.concat instead.\n",
      "  all_data = all_data.append(df, ignore_index=True)\n"
     ]
    },
    {
     "name": "stdout",
     "output_type": "stream",
     "text": [
      "Trying URL: https://educationdata.urban.org/api/v1/school-districts/saipe/2009/?leaid=&fips=18\n",
      "Trying URL: https://educationdata.urban.org/api/v1/school-districts/saipe/2009/?leaid=&fips=19\n"
     ]
    },
    {
     "name": "stderr",
     "output_type": "stream",
     "text": [
      "/var/folders/jv/_0nbzmjn7p13g2s1_mch9b6c0000gn/T/ipykernel_27325/2137315506.py:39: FutureWarning: The frame.append method is deprecated and will be removed from pandas in a future version. Use pandas.concat instead.\n",
      "  all_data = all_data.append(df, ignore_index=True)\n",
      "/var/folders/jv/_0nbzmjn7p13g2s1_mch9b6c0000gn/T/ipykernel_27325/2137315506.py:39: FutureWarning: The frame.append method is deprecated and will be removed from pandas in a future version. Use pandas.concat instead.\n",
      "  all_data = all_data.append(df, ignore_index=True)\n"
     ]
    },
    {
     "name": "stdout",
     "output_type": "stream",
     "text": [
      "Trying URL: https://educationdata.urban.org/api/v1/school-districts/saipe/2009/?leaid=&fips=20\n",
      "Trying URL: https://educationdata.urban.org/api/v1/school-districts/saipe/2009/?leaid=&fips=21\n"
     ]
    },
    {
     "name": "stderr",
     "output_type": "stream",
     "text": [
      "/var/folders/jv/_0nbzmjn7p13g2s1_mch9b6c0000gn/T/ipykernel_27325/2137315506.py:39: FutureWarning: The frame.append method is deprecated and will be removed from pandas in a future version. Use pandas.concat instead.\n",
      "  all_data = all_data.append(df, ignore_index=True)\n",
      "/var/folders/jv/_0nbzmjn7p13g2s1_mch9b6c0000gn/T/ipykernel_27325/2137315506.py:39: FutureWarning: The frame.append method is deprecated and will be removed from pandas in a future version. Use pandas.concat instead.\n",
      "  all_data = all_data.append(df, ignore_index=True)\n"
     ]
    },
    {
     "name": "stdout",
     "output_type": "stream",
     "text": [
      "Trying URL: https://educationdata.urban.org/api/v1/school-districts/saipe/2009/?leaid=&fips=22\n",
      "Trying URL: https://educationdata.urban.org/api/v1/school-districts/saipe/2009/?leaid=&fips=23\n"
     ]
    },
    {
     "name": "stderr",
     "output_type": "stream",
     "text": [
      "/var/folders/jv/_0nbzmjn7p13g2s1_mch9b6c0000gn/T/ipykernel_27325/2137315506.py:39: FutureWarning: The frame.append method is deprecated and will be removed from pandas in a future version. Use pandas.concat instead.\n",
      "  all_data = all_data.append(df, ignore_index=True)\n",
      "/var/folders/jv/_0nbzmjn7p13g2s1_mch9b6c0000gn/T/ipykernel_27325/2137315506.py:39: FutureWarning: The frame.append method is deprecated and will be removed from pandas in a future version. Use pandas.concat instead.\n",
      "  all_data = all_data.append(df, ignore_index=True)\n"
     ]
    },
    {
     "name": "stdout",
     "output_type": "stream",
     "text": [
      "Trying URL: https://educationdata.urban.org/api/v1/school-districts/saipe/2009/?leaid=&fips=24\n",
      "Trying URL: https://educationdata.urban.org/api/v1/school-districts/saipe/2009/?leaid=&fips=25\n"
     ]
    },
    {
     "name": "stderr",
     "output_type": "stream",
     "text": [
      "/var/folders/jv/_0nbzmjn7p13g2s1_mch9b6c0000gn/T/ipykernel_27325/2137315506.py:39: FutureWarning: The frame.append method is deprecated and will be removed from pandas in a future version. Use pandas.concat instead.\n",
      "  all_data = all_data.append(df, ignore_index=True)\n"
     ]
    },
    {
     "name": "stdout",
     "output_type": "stream",
     "text": [
      "Trying URL: https://educationdata.urban.org/api/v1/school-districts/saipe/2009/?leaid=&fips=26\n"
     ]
    },
    {
     "name": "stderr",
     "output_type": "stream",
     "text": [
      "/var/folders/jv/_0nbzmjn7p13g2s1_mch9b6c0000gn/T/ipykernel_27325/2137315506.py:39: FutureWarning: The frame.append method is deprecated and will be removed from pandas in a future version. Use pandas.concat instead.\n",
      "  all_data = all_data.append(df, ignore_index=True)\n",
      "/var/folders/jv/_0nbzmjn7p13g2s1_mch9b6c0000gn/T/ipykernel_27325/2137315506.py:39: FutureWarning: The frame.append method is deprecated and will be removed from pandas in a future version. Use pandas.concat instead.\n",
      "  all_data = all_data.append(df, ignore_index=True)\n"
     ]
    },
    {
     "name": "stdout",
     "output_type": "stream",
     "text": [
      "Trying URL: https://educationdata.urban.org/api/v1/school-districts/saipe/2009/?leaid=&fips=27\n",
      "Trying URL: https://educationdata.urban.org/api/v1/school-districts/saipe/2009/?leaid=&fips=28\n"
     ]
    },
    {
     "name": "stderr",
     "output_type": "stream",
     "text": [
      "/var/folders/jv/_0nbzmjn7p13g2s1_mch9b6c0000gn/T/ipykernel_27325/2137315506.py:39: FutureWarning: The frame.append method is deprecated and will be removed from pandas in a future version. Use pandas.concat instead.\n",
      "  all_data = all_data.append(df, ignore_index=True)\n"
     ]
    },
    {
     "name": "stdout",
     "output_type": "stream",
     "text": [
      "Trying URL: https://educationdata.urban.org/api/v1/school-districts/saipe/2009/?leaid=&fips=29\n"
     ]
    },
    {
     "name": "stderr",
     "output_type": "stream",
     "text": [
      "/var/folders/jv/_0nbzmjn7p13g2s1_mch9b6c0000gn/T/ipykernel_27325/2137315506.py:39: FutureWarning: The frame.append method is deprecated and will be removed from pandas in a future version. Use pandas.concat instead.\n",
      "  all_data = all_data.append(df, ignore_index=True)\n",
      "/var/folders/jv/_0nbzmjn7p13g2s1_mch9b6c0000gn/T/ipykernel_27325/2137315506.py:39: FutureWarning: The frame.append method is deprecated and will be removed from pandas in a future version. Use pandas.concat instead.\n",
      "  all_data = all_data.append(df, ignore_index=True)\n"
     ]
    },
    {
     "name": "stdout",
     "output_type": "stream",
     "text": [
      "Trying URL: https://educationdata.urban.org/api/v1/school-districts/saipe/2009/?leaid=&fips=30\n",
      "Trying URL: https://educationdata.urban.org/api/v1/school-districts/saipe/2009/?leaid=&fips=31\n"
     ]
    },
    {
     "name": "stderr",
     "output_type": "stream",
     "text": [
      "/var/folders/jv/_0nbzmjn7p13g2s1_mch9b6c0000gn/T/ipykernel_27325/2137315506.py:39: FutureWarning: The frame.append method is deprecated and will be removed from pandas in a future version. Use pandas.concat instead.\n",
      "  all_data = all_data.append(df, ignore_index=True)\n",
      "/var/folders/jv/_0nbzmjn7p13g2s1_mch9b6c0000gn/T/ipykernel_27325/2137315506.py:39: FutureWarning: The frame.append method is deprecated and will be removed from pandas in a future version. Use pandas.concat instead.\n",
      "  all_data = all_data.append(df, ignore_index=True)\n"
     ]
    },
    {
     "name": "stdout",
     "output_type": "stream",
     "text": [
      "Trying URL: https://educationdata.urban.org/api/v1/school-districts/saipe/2009/?leaid=&fips=32\n",
      "Trying URL: https://educationdata.urban.org/api/v1/school-districts/saipe/2009/?leaid=&fips=33\n"
     ]
    },
    {
     "name": "stderr",
     "output_type": "stream",
     "text": [
      "/var/folders/jv/_0nbzmjn7p13g2s1_mch9b6c0000gn/T/ipykernel_27325/2137315506.py:39: FutureWarning: The frame.append method is deprecated and will be removed from pandas in a future version. Use pandas.concat instead.\n",
      "  all_data = all_data.append(df, ignore_index=True)\n"
     ]
    },
    {
     "name": "stdout",
     "output_type": "stream",
     "text": [
      "Trying URL: https://educationdata.urban.org/api/v1/school-districts/saipe/2009/?leaid=&fips=34\n"
     ]
    },
    {
     "name": "stderr",
     "output_type": "stream",
     "text": [
      "/var/folders/jv/_0nbzmjn7p13g2s1_mch9b6c0000gn/T/ipykernel_27325/2137315506.py:39: FutureWarning: The frame.append method is deprecated and will be removed from pandas in a future version. Use pandas.concat instead.\n",
      "  all_data = all_data.append(df, ignore_index=True)\n",
      "/var/folders/jv/_0nbzmjn7p13g2s1_mch9b6c0000gn/T/ipykernel_27325/2137315506.py:39: FutureWarning: The frame.append method is deprecated and will be removed from pandas in a future version. Use pandas.concat instead.\n",
      "  all_data = all_data.append(df, ignore_index=True)\n"
     ]
    },
    {
     "name": "stdout",
     "output_type": "stream",
     "text": [
      "Trying URL: https://educationdata.urban.org/api/v1/school-districts/saipe/2009/?leaid=&fips=35\n",
      "Trying URL: https://educationdata.urban.org/api/v1/school-districts/saipe/2009/?leaid=&fips=36\n"
     ]
    },
    {
     "name": "stderr",
     "output_type": "stream",
     "text": [
      "/var/folders/jv/_0nbzmjn7p13g2s1_mch9b6c0000gn/T/ipykernel_27325/2137315506.py:39: FutureWarning: The frame.append method is deprecated and will be removed from pandas in a future version. Use pandas.concat instead.\n",
      "  all_data = all_data.append(df, ignore_index=True)\n",
      "/var/folders/jv/_0nbzmjn7p13g2s1_mch9b6c0000gn/T/ipykernel_27325/2137315506.py:39: FutureWarning: The frame.append method is deprecated and will be removed from pandas in a future version. Use pandas.concat instead.\n",
      "  all_data = all_data.append(df, ignore_index=True)\n"
     ]
    },
    {
     "name": "stdout",
     "output_type": "stream",
     "text": [
      "Trying URL: https://educationdata.urban.org/api/v1/school-districts/saipe/2009/?leaid=&fips=37\n",
      "Trying URL: https://educationdata.urban.org/api/v1/school-districts/saipe/2009/?leaid=&fips=38\n"
     ]
    },
    {
     "name": "stderr",
     "output_type": "stream",
     "text": [
      "/var/folders/jv/_0nbzmjn7p13g2s1_mch9b6c0000gn/T/ipykernel_27325/2137315506.py:39: FutureWarning: The frame.append method is deprecated and will be removed from pandas in a future version. Use pandas.concat instead.\n",
      "  all_data = all_data.append(df, ignore_index=True)\n"
     ]
    },
    {
     "name": "stdout",
     "output_type": "stream",
     "text": [
      "Trying URL: https://educationdata.urban.org/api/v1/school-districts/saipe/2009/?leaid=&fips=39\n"
     ]
    },
    {
     "name": "stderr",
     "output_type": "stream",
     "text": [
      "/var/folders/jv/_0nbzmjn7p13g2s1_mch9b6c0000gn/T/ipykernel_27325/2137315506.py:39: FutureWarning: The frame.append method is deprecated and will be removed from pandas in a future version. Use pandas.concat instead.\n",
      "  all_data = all_data.append(df, ignore_index=True)\n",
      "/var/folders/jv/_0nbzmjn7p13g2s1_mch9b6c0000gn/T/ipykernel_27325/2137315506.py:39: FutureWarning: The frame.append method is deprecated and will be removed from pandas in a future version. Use pandas.concat instead.\n",
      "  all_data = all_data.append(df, ignore_index=True)\n"
     ]
    },
    {
     "name": "stdout",
     "output_type": "stream",
     "text": [
      "Trying URL: https://educationdata.urban.org/api/v1/school-districts/saipe/2009/?leaid=&fips=40\n",
      "Trying URL: https://educationdata.urban.org/api/v1/school-districts/saipe/2009/?leaid=&fips=41\n"
     ]
    },
    {
     "name": "stderr",
     "output_type": "stream",
     "text": [
      "/var/folders/jv/_0nbzmjn7p13g2s1_mch9b6c0000gn/T/ipykernel_27325/2137315506.py:39: FutureWarning: The frame.append method is deprecated and will be removed from pandas in a future version. Use pandas.concat instead.\n",
      "  all_data = all_data.append(df, ignore_index=True)\n",
      "/var/folders/jv/_0nbzmjn7p13g2s1_mch9b6c0000gn/T/ipykernel_27325/2137315506.py:39: FutureWarning: The frame.append method is deprecated and will be removed from pandas in a future version. Use pandas.concat instead.\n",
      "  all_data = all_data.append(df, ignore_index=True)\n"
     ]
    },
    {
     "name": "stdout",
     "output_type": "stream",
     "text": [
      "Trying URL: https://educationdata.urban.org/api/v1/school-districts/saipe/2009/?leaid=&fips=42\n",
      "Trying URL: https://educationdata.urban.org/api/v1/school-districts/saipe/2009/?leaid=&fips=43\n",
      "Error fetching data for FIPS 43 and year 2009: \"None of [Index(['district_id', 'district_name', 'year', 'est_population_total',\\n       'est_population_5_17', 'est_population_5_17_poverty',\\n       'est_population_5_17_poverty_pct', 'est_population_5_17_pct', 'leaid',\\n       'fips'],\\n      dtype='object')] are in the [columns]\"\n",
      "Trying URL: https://educationdata.urban.org/api/v1/school-districts/saipe/2009/?leaid=&fips=44\n",
      "Trying URL: https://educationdata.urban.org/api/v1/school-districts/saipe/2009/?leaid=&fips=45\n"
     ]
    },
    {
     "name": "stderr",
     "output_type": "stream",
     "text": [
      "/var/folders/jv/_0nbzmjn7p13g2s1_mch9b6c0000gn/T/ipykernel_27325/2137315506.py:39: FutureWarning: The frame.append method is deprecated and will be removed from pandas in a future version. Use pandas.concat instead.\n",
      "  all_data = all_data.append(df, ignore_index=True)\n",
      "/var/folders/jv/_0nbzmjn7p13g2s1_mch9b6c0000gn/T/ipykernel_27325/2137315506.py:39: FutureWarning: The frame.append method is deprecated and will be removed from pandas in a future version. Use pandas.concat instead.\n",
      "  all_data = all_data.append(df, ignore_index=True)\n",
      "/var/folders/jv/_0nbzmjn7p13g2s1_mch9b6c0000gn/T/ipykernel_27325/2137315506.py:39: FutureWarning: The frame.append method is deprecated and will be removed from pandas in a future version. Use pandas.concat instead.\n",
      "  all_data = all_data.append(df, ignore_index=True)\n"
     ]
    },
    {
     "name": "stdout",
     "output_type": "stream",
     "text": [
      "Trying URL: https://educationdata.urban.org/api/v1/school-districts/saipe/2009/?leaid=&fips=46\n"
     ]
    },
    {
     "name": "stderr",
     "output_type": "stream",
     "text": [
      "/var/folders/jv/_0nbzmjn7p13g2s1_mch9b6c0000gn/T/ipykernel_27325/2137315506.py:39: FutureWarning: The frame.append method is deprecated and will be removed from pandas in a future version. Use pandas.concat instead.\n",
      "  all_data = all_data.append(df, ignore_index=True)\n",
      "/var/folders/jv/_0nbzmjn7p13g2s1_mch9b6c0000gn/T/ipykernel_27325/2137315506.py:39: FutureWarning: The frame.append method is deprecated and will be removed from pandas in a future version. Use pandas.concat instead.\n",
      "  all_data = all_data.append(df, ignore_index=True)\n"
     ]
    },
    {
     "name": "stdout",
     "output_type": "stream",
     "text": [
      "Trying URL: https://educationdata.urban.org/api/v1/school-districts/saipe/2009/?leaid=&fips=47\n",
      "Trying URL: https://educationdata.urban.org/api/v1/school-districts/saipe/2009/?leaid=&fips=48\n"
     ]
    },
    {
     "name": "stderr",
     "output_type": "stream",
     "text": [
      "/var/folders/jv/_0nbzmjn7p13g2s1_mch9b6c0000gn/T/ipykernel_27325/2137315506.py:39: FutureWarning: The frame.append method is deprecated and will be removed from pandas in a future version. Use pandas.concat instead.\n",
      "  all_data = all_data.append(df, ignore_index=True)\n",
      "/var/folders/jv/_0nbzmjn7p13g2s1_mch9b6c0000gn/T/ipykernel_27325/2137315506.py:39: FutureWarning: The frame.append method is deprecated and will be removed from pandas in a future version. Use pandas.concat instead.\n",
      "  all_data = all_data.append(df, ignore_index=True)\n"
     ]
    },
    {
     "name": "stdout",
     "output_type": "stream",
     "text": [
      "Trying URL: https://educationdata.urban.org/api/v1/school-districts/saipe/2009/?leaid=&fips=49\n",
      "Trying URL: https://educationdata.urban.org/api/v1/school-districts/saipe/2009/?leaid=&fips=50\n"
     ]
    },
    {
     "name": "stderr",
     "output_type": "stream",
     "text": [
      "/var/folders/jv/_0nbzmjn7p13g2s1_mch9b6c0000gn/T/ipykernel_27325/2137315506.py:39: FutureWarning: The frame.append method is deprecated and will be removed from pandas in a future version. Use pandas.concat instead.\n",
      "  all_data = all_data.append(df, ignore_index=True)\n"
     ]
    },
    {
     "name": "stdout",
     "output_type": "stream",
     "text": [
      "Trying URL: https://educationdata.urban.org/api/v1/school-districts/saipe/2009/?leaid=&fips=51\n"
     ]
    },
    {
     "name": "stderr",
     "output_type": "stream",
     "text": [
      "/var/folders/jv/_0nbzmjn7p13g2s1_mch9b6c0000gn/T/ipykernel_27325/2137315506.py:39: FutureWarning: The frame.append method is deprecated and will be removed from pandas in a future version. Use pandas.concat instead.\n",
      "  all_data = all_data.append(df, ignore_index=True)\n",
      "/var/folders/jv/_0nbzmjn7p13g2s1_mch9b6c0000gn/T/ipykernel_27325/2137315506.py:39: FutureWarning: The frame.append method is deprecated and will be removed from pandas in a future version. Use pandas.concat instead.\n",
      "  all_data = all_data.append(df, ignore_index=True)\n"
     ]
    },
    {
     "name": "stdout",
     "output_type": "stream",
     "text": [
      "Trying URL: https://educationdata.urban.org/api/v1/school-districts/saipe/2009/?leaid=&fips=52\n",
      "Error fetching data for FIPS 52 and year 2009: \"None of [Index(['district_id', 'district_name', 'year', 'est_population_total',\\n       'est_population_5_17', 'est_population_5_17_poverty',\\n       'est_population_5_17_poverty_pct', 'est_population_5_17_pct', 'leaid',\\n       'fips'],\\n      dtype='object')] are in the [columns]\"\n",
      "Trying URL: https://educationdata.urban.org/api/v1/school-districts/saipe/2009/?leaid=&fips=53\n"
     ]
    },
    {
     "name": "stderr",
     "output_type": "stream",
     "text": [
      "/var/folders/jv/_0nbzmjn7p13g2s1_mch9b6c0000gn/T/ipykernel_27325/2137315506.py:39: FutureWarning: The frame.append method is deprecated and will be removed from pandas in a future version. Use pandas.concat instead.\n",
      "  all_data = all_data.append(df, ignore_index=True)\n",
      "/var/folders/jv/_0nbzmjn7p13g2s1_mch9b6c0000gn/T/ipykernel_27325/2137315506.py:39: FutureWarning: The frame.append method is deprecated and will be removed from pandas in a future version. Use pandas.concat instead.\n",
      "  all_data = all_data.append(df, ignore_index=True)\n"
     ]
    },
    {
     "name": "stdout",
     "output_type": "stream",
     "text": [
      "Trying URL: https://educationdata.urban.org/api/v1/school-districts/saipe/2009/?leaid=&fips=54\n",
      "Trying URL: https://educationdata.urban.org/api/v1/school-districts/saipe/2009/?leaid=&fips=55\n"
     ]
    },
    {
     "name": "stderr",
     "output_type": "stream",
     "text": [
      "/var/folders/jv/_0nbzmjn7p13g2s1_mch9b6c0000gn/T/ipykernel_27325/2137315506.py:39: FutureWarning: The frame.append method is deprecated and will be removed from pandas in a future version. Use pandas.concat instead.\n",
      "  all_data = all_data.append(df, ignore_index=True)\n",
      "/var/folders/jv/_0nbzmjn7p13g2s1_mch9b6c0000gn/T/ipykernel_27325/2137315506.py:39: FutureWarning: The frame.append method is deprecated and will be removed from pandas in a future version. Use pandas.concat instead.\n",
      "  all_data = all_data.append(df, ignore_index=True)\n"
     ]
    },
    {
     "name": "stdout",
     "output_type": "stream",
     "text": [
      "Trying URL: https://educationdata.urban.org/api/v1/school-districts/saipe/2009/?leaid=&fips=56\n",
      "Trying URL: https://educationdata.urban.org/api/v1/school-districts/saipe/2010/?leaid=&fips=01\n"
     ]
    },
    {
     "name": "stderr",
     "output_type": "stream",
     "text": [
      "/var/folders/jv/_0nbzmjn7p13g2s1_mch9b6c0000gn/T/ipykernel_27325/2137315506.py:39: FutureWarning: The frame.append method is deprecated and will be removed from pandas in a future version. Use pandas.concat instead.\n",
      "  all_data = all_data.append(df, ignore_index=True)\n",
      "/var/folders/jv/_0nbzmjn7p13g2s1_mch9b6c0000gn/T/ipykernel_27325/2137315506.py:39: FutureWarning: The frame.append method is deprecated and will be removed from pandas in a future version. Use pandas.concat instead.\n",
      "  all_data = all_data.append(df, ignore_index=True)\n"
     ]
    },
    {
     "name": "stdout",
     "output_type": "stream",
     "text": [
      "Trying URL: https://educationdata.urban.org/api/v1/school-districts/saipe/2010/?leaid=&fips=02\n",
      "Trying URL: https://educationdata.urban.org/api/v1/school-districts/saipe/2010/?leaid=&fips=03\n",
      "Error fetching data for FIPS 03 and year 2010: \"None of [Index(['district_id', 'district_name', 'year', 'est_population_total',\\n       'est_population_5_17', 'est_population_5_17_poverty',\\n       'est_population_5_17_poverty_pct', 'est_population_5_17_pct', 'leaid',\\n       'fips'],\\n      dtype='object')] are in the [columns]\"\n",
      "Trying URL: https://educationdata.urban.org/api/v1/school-districts/saipe/2010/?leaid=&fips=04\n",
      "Trying URL: https://educationdata.urban.org/api/v1/school-districts/saipe/2010/?leaid=&fips=05\n"
     ]
    },
    {
     "name": "stderr",
     "output_type": "stream",
     "text": [
      "/var/folders/jv/_0nbzmjn7p13g2s1_mch9b6c0000gn/T/ipykernel_27325/2137315506.py:39: FutureWarning: The frame.append method is deprecated and will be removed from pandas in a future version. Use pandas.concat instead.\n",
      "  all_data = all_data.append(df, ignore_index=True)\n",
      "/var/folders/jv/_0nbzmjn7p13g2s1_mch9b6c0000gn/T/ipykernel_27325/2137315506.py:39: FutureWarning: The frame.append method is deprecated and will be removed from pandas in a future version. Use pandas.concat instead.\n",
      "  all_data = all_data.append(df, ignore_index=True)\n",
      "/var/folders/jv/_0nbzmjn7p13g2s1_mch9b6c0000gn/T/ipykernel_27325/2137315506.py:39: FutureWarning: The frame.append method is deprecated and will be removed from pandas in a future version. Use pandas.concat instead.\n",
      "  all_data = all_data.append(df, ignore_index=True)\n"
     ]
    },
    {
     "name": "stdout",
     "output_type": "stream",
     "text": [
      "Trying URL: https://educationdata.urban.org/api/v1/school-districts/saipe/2010/?leaid=&fips=06\n"
     ]
    },
    {
     "name": "stderr",
     "output_type": "stream",
     "text": [
      "/var/folders/jv/_0nbzmjn7p13g2s1_mch9b6c0000gn/T/ipykernel_27325/2137315506.py:39: FutureWarning: The frame.append method is deprecated and will be removed from pandas in a future version. Use pandas.concat instead.\n",
      "  all_data = all_data.append(df, ignore_index=True)\n",
      "/var/folders/jv/_0nbzmjn7p13g2s1_mch9b6c0000gn/T/ipykernel_27325/2137315506.py:39: FutureWarning: The frame.append method is deprecated and will be removed from pandas in a future version. Use pandas.concat instead.\n",
      "  all_data = all_data.append(df, ignore_index=True)\n"
     ]
    },
    {
     "name": "stdout",
     "output_type": "stream",
     "text": [
      "Trying URL: https://educationdata.urban.org/api/v1/school-districts/saipe/2010/?leaid=&fips=07\n",
      "Error fetching data for FIPS 07 and year 2010: \"None of [Index(['district_id', 'district_name', 'year', 'est_population_total',\\n       'est_population_5_17', 'est_population_5_17_poverty',\\n       'est_population_5_17_poverty_pct', 'est_population_5_17_pct', 'leaid',\\n       'fips'],\\n      dtype='object')] are in the [columns]\"\n",
      "Trying URL: https://educationdata.urban.org/api/v1/school-districts/saipe/2010/?leaid=&fips=08\n"
     ]
    },
    {
     "name": "stderr",
     "output_type": "stream",
     "text": [
      "/var/folders/jv/_0nbzmjn7p13g2s1_mch9b6c0000gn/T/ipykernel_27325/2137315506.py:39: FutureWarning: The frame.append method is deprecated and will be removed from pandas in a future version. Use pandas.concat instead.\n",
      "  all_data = all_data.append(df, ignore_index=True)\n",
      "/var/folders/jv/_0nbzmjn7p13g2s1_mch9b6c0000gn/T/ipykernel_27325/2137315506.py:39: FutureWarning: The frame.append method is deprecated and will be removed from pandas in a future version. Use pandas.concat instead.\n",
      "  all_data = all_data.append(df, ignore_index=True)\n"
     ]
    },
    {
     "name": "stdout",
     "output_type": "stream",
     "text": [
      "Trying URL: https://educationdata.urban.org/api/v1/school-districts/saipe/2010/?leaid=&fips=09\n",
      "Trying URL: https://educationdata.urban.org/api/v1/school-districts/saipe/2010/?leaid=&fips=10\n"
     ]
    },
    {
     "name": "stderr",
     "output_type": "stream",
     "text": [
      "/var/folders/jv/_0nbzmjn7p13g2s1_mch9b6c0000gn/T/ipykernel_27325/2137315506.py:39: FutureWarning: The frame.append method is deprecated and will be removed from pandas in a future version. Use pandas.concat instead.\n",
      "  all_data = all_data.append(df, ignore_index=True)\n",
      "/var/folders/jv/_0nbzmjn7p13g2s1_mch9b6c0000gn/T/ipykernel_27325/2137315506.py:39: FutureWarning: The frame.append method is deprecated and will be removed from pandas in a future version. Use pandas.concat instead.\n",
      "  all_data = all_data.append(df, ignore_index=True)\n"
     ]
    },
    {
     "name": "stdout",
     "output_type": "stream",
     "text": [
      "Trying URL: https://educationdata.urban.org/api/v1/school-districts/saipe/2010/?leaid=&fips=11\n",
      "Trying URL: https://educationdata.urban.org/api/v1/school-districts/saipe/2010/?leaid=&fips=12\n"
     ]
    },
    {
     "name": "stderr",
     "output_type": "stream",
     "text": [
      "/var/folders/jv/_0nbzmjn7p13g2s1_mch9b6c0000gn/T/ipykernel_27325/2137315506.py:39: FutureWarning: The frame.append method is deprecated and will be removed from pandas in a future version. Use pandas.concat instead.\n",
      "  all_data = all_data.append(df, ignore_index=True)\n",
      "/var/folders/jv/_0nbzmjn7p13g2s1_mch9b6c0000gn/T/ipykernel_27325/2137315506.py:39: FutureWarning: The frame.append method is deprecated and will be removed from pandas in a future version. Use pandas.concat instead.\n",
      "  all_data = all_data.append(df, ignore_index=True)\n"
     ]
    },
    {
     "name": "stdout",
     "output_type": "stream",
     "text": [
      "Trying URL: https://educationdata.urban.org/api/v1/school-districts/saipe/2010/?leaid=&fips=13\n",
      "Trying URL: https://educationdata.urban.org/api/v1/school-districts/saipe/2010/?leaid=&fips=14\n",
      "Error fetching data for FIPS 14 and year 2010: \"None of [Index(['district_id', 'district_name', 'year', 'est_population_total',\\n       'est_population_5_17', 'est_population_5_17_poverty',\\n       'est_population_5_17_poverty_pct', 'est_population_5_17_pct', 'leaid',\\n       'fips'],\\n      dtype='object')] are in the [columns]\"\n",
      "Trying URL: https://educationdata.urban.org/api/v1/school-districts/saipe/2010/?leaid=&fips=15\n",
      "Trying URL: https://educationdata.urban.org/api/v1/school-districts/saipe/2010/?leaid=&fips=16\n"
     ]
    },
    {
     "name": "stderr",
     "output_type": "stream",
     "text": [
      "/var/folders/jv/_0nbzmjn7p13g2s1_mch9b6c0000gn/T/ipykernel_27325/2137315506.py:39: FutureWarning: The frame.append method is deprecated and will be removed from pandas in a future version. Use pandas.concat instead.\n",
      "  all_data = all_data.append(df, ignore_index=True)\n",
      "/var/folders/jv/_0nbzmjn7p13g2s1_mch9b6c0000gn/T/ipykernel_27325/2137315506.py:39: FutureWarning: The frame.append method is deprecated and will be removed from pandas in a future version. Use pandas.concat instead.\n",
      "  all_data = all_data.append(df, ignore_index=True)\n",
      "/var/folders/jv/_0nbzmjn7p13g2s1_mch9b6c0000gn/T/ipykernel_27325/2137315506.py:39: FutureWarning: The frame.append method is deprecated and will be removed from pandas in a future version. Use pandas.concat instead.\n",
      "  all_data = all_data.append(df, ignore_index=True)\n"
     ]
    },
    {
     "name": "stdout",
     "output_type": "stream",
     "text": [
      "Trying URL: https://educationdata.urban.org/api/v1/school-districts/saipe/2010/?leaid=&fips=17\n"
     ]
    },
    {
     "name": "stderr",
     "output_type": "stream",
     "text": [
      "/var/folders/jv/_0nbzmjn7p13g2s1_mch9b6c0000gn/T/ipykernel_27325/2137315506.py:39: FutureWarning: The frame.append method is deprecated and will be removed from pandas in a future version. Use pandas.concat instead.\n",
      "  all_data = all_data.append(df, ignore_index=True)\n",
      "/var/folders/jv/_0nbzmjn7p13g2s1_mch9b6c0000gn/T/ipykernel_27325/2137315506.py:39: FutureWarning: The frame.append method is deprecated and will be removed from pandas in a future version. Use pandas.concat instead.\n",
      "  all_data = all_data.append(df, ignore_index=True)\n"
     ]
    },
    {
     "name": "stdout",
     "output_type": "stream",
     "text": [
      "Trying URL: https://educationdata.urban.org/api/v1/school-districts/saipe/2010/?leaid=&fips=18\n",
      "Trying URL: https://educationdata.urban.org/api/v1/school-districts/saipe/2010/?leaid=&fips=19\n"
     ]
    },
    {
     "name": "stderr",
     "output_type": "stream",
     "text": [
      "/var/folders/jv/_0nbzmjn7p13g2s1_mch9b6c0000gn/T/ipykernel_27325/2137315506.py:39: FutureWarning: The frame.append method is deprecated and will be removed from pandas in a future version. Use pandas.concat instead.\n",
      "  all_data = all_data.append(df, ignore_index=True)\n",
      "/var/folders/jv/_0nbzmjn7p13g2s1_mch9b6c0000gn/T/ipykernel_27325/2137315506.py:39: FutureWarning: The frame.append method is deprecated and will be removed from pandas in a future version. Use pandas.concat instead.\n",
      "  all_data = all_data.append(df, ignore_index=True)\n"
     ]
    },
    {
     "name": "stdout",
     "output_type": "stream",
     "text": [
      "Trying URL: https://educationdata.urban.org/api/v1/school-districts/saipe/2010/?leaid=&fips=20\n",
      "Trying URL: https://educationdata.urban.org/api/v1/school-districts/saipe/2010/?leaid=&fips=21\n"
     ]
    },
    {
     "name": "stderr",
     "output_type": "stream",
     "text": [
      "/var/folders/jv/_0nbzmjn7p13g2s1_mch9b6c0000gn/T/ipykernel_27325/2137315506.py:39: FutureWarning: The frame.append method is deprecated and will be removed from pandas in a future version. Use pandas.concat instead.\n",
      "  all_data = all_data.append(df, ignore_index=True)\n",
      "/var/folders/jv/_0nbzmjn7p13g2s1_mch9b6c0000gn/T/ipykernel_27325/2137315506.py:39: FutureWarning: The frame.append method is deprecated and will be removed from pandas in a future version. Use pandas.concat instead.\n",
      "  all_data = all_data.append(df, ignore_index=True)\n"
     ]
    },
    {
     "name": "stdout",
     "output_type": "stream",
     "text": [
      "Trying URL: https://educationdata.urban.org/api/v1/school-districts/saipe/2010/?leaid=&fips=22\n",
      "Trying URL: https://educationdata.urban.org/api/v1/school-districts/saipe/2010/?leaid=&fips=23\n"
     ]
    },
    {
     "name": "stderr",
     "output_type": "stream",
     "text": [
      "/var/folders/jv/_0nbzmjn7p13g2s1_mch9b6c0000gn/T/ipykernel_27325/2137315506.py:39: FutureWarning: The frame.append method is deprecated and will be removed from pandas in a future version. Use pandas.concat instead.\n",
      "  all_data = all_data.append(df, ignore_index=True)\n",
      "/var/folders/jv/_0nbzmjn7p13g2s1_mch9b6c0000gn/T/ipykernel_27325/2137315506.py:39: FutureWarning: The frame.append method is deprecated and will be removed from pandas in a future version. Use pandas.concat instead.\n",
      "  all_data = all_data.append(df, ignore_index=True)\n"
     ]
    },
    {
     "name": "stdout",
     "output_type": "stream",
     "text": [
      "Trying URL: https://educationdata.urban.org/api/v1/school-districts/saipe/2010/?leaid=&fips=24\n",
      "Trying URL: https://educationdata.urban.org/api/v1/school-districts/saipe/2010/?leaid=&fips=25\n"
     ]
    },
    {
     "name": "stderr",
     "output_type": "stream",
     "text": [
      "/var/folders/jv/_0nbzmjn7p13g2s1_mch9b6c0000gn/T/ipykernel_27325/2137315506.py:39: FutureWarning: The frame.append method is deprecated and will be removed from pandas in a future version. Use pandas.concat instead.\n",
      "  all_data = all_data.append(df, ignore_index=True)\n",
      "/var/folders/jv/_0nbzmjn7p13g2s1_mch9b6c0000gn/T/ipykernel_27325/2137315506.py:39: FutureWarning: The frame.append method is deprecated and will be removed from pandas in a future version. Use pandas.concat instead.\n",
      "  all_data = all_data.append(df, ignore_index=True)\n"
     ]
    },
    {
     "name": "stdout",
     "output_type": "stream",
     "text": [
      "Trying URL: https://educationdata.urban.org/api/v1/school-districts/saipe/2010/?leaid=&fips=26\n",
      "Trying URL: https://educationdata.urban.org/api/v1/school-districts/saipe/2010/?leaid=&fips=27\n",
      "Trying URL: https://educationdata.urban.org/api/v1/school-districts/saipe/2010/?leaid=&fips=28\n"
     ]
    },
    {
     "name": "stderr",
     "output_type": "stream",
     "text": [
      "/var/folders/jv/_0nbzmjn7p13g2s1_mch9b6c0000gn/T/ipykernel_27325/2137315506.py:39: FutureWarning: The frame.append method is deprecated and will be removed from pandas in a future version. Use pandas.concat instead.\n",
      "  all_data = all_data.append(df, ignore_index=True)\n",
      "/var/folders/jv/_0nbzmjn7p13g2s1_mch9b6c0000gn/T/ipykernel_27325/2137315506.py:39: FutureWarning: The frame.append method is deprecated and will be removed from pandas in a future version. Use pandas.concat instead.\n",
      "  all_data = all_data.append(df, ignore_index=True)\n"
     ]
    },
    {
     "name": "stdout",
     "output_type": "stream",
     "text": [
      "Trying URL: https://educationdata.urban.org/api/v1/school-districts/saipe/2010/?leaid=&fips=29\n",
      "Trying URL: https://educationdata.urban.org/api/v1/school-districts/saipe/2010/?leaid=&fips=30\n"
     ]
    },
    {
     "name": "stderr",
     "output_type": "stream",
     "text": [
      "/var/folders/jv/_0nbzmjn7p13g2s1_mch9b6c0000gn/T/ipykernel_27325/2137315506.py:39: FutureWarning: The frame.append method is deprecated and will be removed from pandas in a future version. Use pandas.concat instead.\n",
      "  all_data = all_data.append(df, ignore_index=True)\n",
      "/var/folders/jv/_0nbzmjn7p13g2s1_mch9b6c0000gn/T/ipykernel_27325/2137315506.py:39: FutureWarning: The frame.append method is deprecated and will be removed from pandas in a future version. Use pandas.concat instead.\n",
      "  all_data = all_data.append(df, ignore_index=True)\n",
      "/var/folders/jv/_0nbzmjn7p13g2s1_mch9b6c0000gn/T/ipykernel_27325/2137315506.py:39: FutureWarning: The frame.append method is deprecated and will be removed from pandas in a future version. Use pandas.concat instead.\n",
      "  all_data = all_data.append(df, ignore_index=True)\n"
     ]
    },
    {
     "name": "stdout",
     "output_type": "stream",
     "text": [
      "Trying URL: https://educationdata.urban.org/api/v1/school-districts/saipe/2010/?leaid=&fips=31\n",
      "Trying URL: https://educationdata.urban.org/api/v1/school-districts/saipe/2010/?leaid=&fips=32\n"
     ]
    },
    {
     "name": "stderr",
     "output_type": "stream",
     "text": [
      "/var/folders/jv/_0nbzmjn7p13g2s1_mch9b6c0000gn/T/ipykernel_27325/2137315506.py:39: FutureWarning: The frame.append method is deprecated and will be removed from pandas in a future version. Use pandas.concat instead.\n",
      "  all_data = all_data.append(df, ignore_index=True)\n",
      "/var/folders/jv/_0nbzmjn7p13g2s1_mch9b6c0000gn/T/ipykernel_27325/2137315506.py:39: FutureWarning: The frame.append method is deprecated and will be removed from pandas in a future version. Use pandas.concat instead.\n",
      "  all_data = all_data.append(df, ignore_index=True)\n"
     ]
    },
    {
     "name": "stdout",
     "output_type": "stream",
     "text": [
      "Trying URL: https://educationdata.urban.org/api/v1/school-districts/saipe/2010/?leaid=&fips=33\n",
      "Trying URL: https://educationdata.urban.org/api/v1/school-districts/saipe/2010/?leaid=&fips=34\n"
     ]
    },
    {
     "name": "stderr",
     "output_type": "stream",
     "text": [
      "/var/folders/jv/_0nbzmjn7p13g2s1_mch9b6c0000gn/T/ipykernel_27325/2137315506.py:39: FutureWarning: The frame.append method is deprecated and will be removed from pandas in a future version. Use pandas.concat instead.\n",
      "  all_data = all_data.append(df, ignore_index=True)\n",
      "/var/folders/jv/_0nbzmjn7p13g2s1_mch9b6c0000gn/T/ipykernel_27325/2137315506.py:39: FutureWarning: The frame.append method is deprecated and will be removed from pandas in a future version. Use pandas.concat instead.\n",
      "  all_data = all_data.append(df, ignore_index=True)\n"
     ]
    },
    {
     "name": "stdout",
     "output_type": "stream",
     "text": [
      "Trying URL: https://educationdata.urban.org/api/v1/school-districts/saipe/2010/?leaid=&fips=35\n",
      "Trying URL: https://educationdata.urban.org/api/v1/school-districts/saipe/2010/?leaid=&fips=36\n"
     ]
    },
    {
     "name": "stderr",
     "output_type": "stream",
     "text": [
      "/var/folders/jv/_0nbzmjn7p13g2s1_mch9b6c0000gn/T/ipykernel_27325/2137315506.py:39: FutureWarning: The frame.append method is deprecated and will be removed from pandas in a future version. Use pandas.concat instead.\n",
      "  all_data = all_data.append(df, ignore_index=True)\n",
      "/var/folders/jv/_0nbzmjn7p13g2s1_mch9b6c0000gn/T/ipykernel_27325/2137315506.py:39: FutureWarning: The frame.append method is deprecated and will be removed from pandas in a future version. Use pandas.concat instead.\n",
      "  all_data = all_data.append(df, ignore_index=True)\n"
     ]
    },
    {
     "name": "stdout",
     "output_type": "stream",
     "text": [
      "Trying URL: https://educationdata.urban.org/api/v1/school-districts/saipe/2010/?leaid=&fips=37\n",
      "Trying URL: https://educationdata.urban.org/api/v1/school-districts/saipe/2010/?leaid=&fips=38\n"
     ]
    },
    {
     "name": "stderr",
     "output_type": "stream",
     "text": [
      "/var/folders/jv/_0nbzmjn7p13g2s1_mch9b6c0000gn/T/ipykernel_27325/2137315506.py:39: FutureWarning: The frame.append method is deprecated and will be removed from pandas in a future version. Use pandas.concat instead.\n",
      "  all_data = all_data.append(df, ignore_index=True)\n"
     ]
    },
    {
     "name": "stdout",
     "output_type": "stream",
     "text": [
      "Trying URL: https://educationdata.urban.org/api/v1/school-districts/saipe/2010/?leaid=&fips=39\n"
     ]
    },
    {
     "name": "stderr",
     "output_type": "stream",
     "text": [
      "/var/folders/jv/_0nbzmjn7p13g2s1_mch9b6c0000gn/T/ipykernel_27325/2137315506.py:39: FutureWarning: The frame.append method is deprecated and will be removed from pandas in a future version. Use pandas.concat instead.\n",
      "  all_data = all_data.append(df, ignore_index=True)\n"
     ]
    },
    {
     "name": "stdout",
     "output_type": "stream",
     "text": [
      "Trying URL: https://educationdata.urban.org/api/v1/school-districts/saipe/2010/?leaid=&fips=40\n"
     ]
    },
    {
     "name": "stderr",
     "output_type": "stream",
     "text": [
      "/var/folders/jv/_0nbzmjn7p13g2s1_mch9b6c0000gn/T/ipykernel_27325/2137315506.py:39: FutureWarning: The frame.append method is deprecated and will be removed from pandas in a future version. Use pandas.concat instead.\n",
      "  all_data = all_data.append(df, ignore_index=True)\n",
      "/var/folders/jv/_0nbzmjn7p13g2s1_mch9b6c0000gn/T/ipykernel_27325/2137315506.py:39: FutureWarning: The frame.append method is deprecated and will be removed from pandas in a future version. Use pandas.concat instead.\n",
      "  all_data = all_data.append(df, ignore_index=True)\n"
     ]
    },
    {
     "name": "stdout",
     "output_type": "stream",
     "text": [
      "Trying URL: https://educationdata.urban.org/api/v1/school-districts/saipe/2010/?leaid=&fips=41\n",
      "Trying URL: https://educationdata.urban.org/api/v1/school-districts/saipe/2010/?leaid=&fips=42\n"
     ]
    },
    {
     "name": "stderr",
     "output_type": "stream",
     "text": [
      "/var/folders/jv/_0nbzmjn7p13g2s1_mch9b6c0000gn/T/ipykernel_27325/2137315506.py:39: FutureWarning: The frame.append method is deprecated and will be removed from pandas in a future version. Use pandas.concat instead.\n",
      "  all_data = all_data.append(df, ignore_index=True)\n",
      "/var/folders/jv/_0nbzmjn7p13g2s1_mch9b6c0000gn/T/ipykernel_27325/2137315506.py:39: FutureWarning: The frame.append method is deprecated and will be removed from pandas in a future version. Use pandas.concat instead.\n",
      "  all_data = all_data.append(df, ignore_index=True)\n"
     ]
    },
    {
     "name": "stdout",
     "output_type": "stream",
     "text": [
      "Trying URL: https://educationdata.urban.org/api/v1/school-districts/saipe/2010/?leaid=&fips=43\n",
      "Error fetching data for FIPS 43 and year 2010: \"None of [Index(['district_id', 'district_name', 'year', 'est_population_total',\\n       'est_population_5_17', 'est_population_5_17_poverty',\\n       'est_population_5_17_poverty_pct', 'est_population_5_17_pct', 'leaid',\\n       'fips'],\\n      dtype='object')] are in the [columns]\"\n",
      "Trying URL: https://educationdata.urban.org/api/v1/school-districts/saipe/2010/?leaid=&fips=44\n"
     ]
    },
    {
     "name": "stderr",
     "output_type": "stream",
     "text": [
      "/var/folders/jv/_0nbzmjn7p13g2s1_mch9b6c0000gn/T/ipykernel_27325/2137315506.py:39: FutureWarning: The frame.append method is deprecated and will be removed from pandas in a future version. Use pandas.concat instead.\n",
      "  all_data = all_data.append(df, ignore_index=True)\n",
      "/var/folders/jv/_0nbzmjn7p13g2s1_mch9b6c0000gn/T/ipykernel_27325/2137315506.py:39: FutureWarning: The frame.append method is deprecated and will be removed from pandas in a future version. Use pandas.concat instead.\n",
      "  all_data = all_data.append(df, ignore_index=True)\n"
     ]
    },
    {
     "name": "stdout",
     "output_type": "stream",
     "text": [
      "Trying URL: https://educationdata.urban.org/api/v1/school-districts/saipe/2010/?leaid=&fips=45\n",
      "Trying URL: https://educationdata.urban.org/api/v1/school-districts/saipe/2010/?leaid=&fips=46\n"
     ]
    },
    {
     "name": "stderr",
     "output_type": "stream",
     "text": [
      "/var/folders/jv/_0nbzmjn7p13g2s1_mch9b6c0000gn/T/ipykernel_27325/2137315506.py:39: FutureWarning: The frame.append method is deprecated and will be removed from pandas in a future version. Use pandas.concat instead.\n",
      "  all_data = all_data.append(df, ignore_index=True)\n",
      "/var/folders/jv/_0nbzmjn7p13g2s1_mch9b6c0000gn/T/ipykernel_27325/2137315506.py:39: FutureWarning: The frame.append method is deprecated and will be removed from pandas in a future version. Use pandas.concat instead.\n",
      "  all_data = all_data.append(df, ignore_index=True)\n"
     ]
    },
    {
     "name": "stdout",
     "output_type": "stream",
     "text": [
      "Trying URL: https://educationdata.urban.org/api/v1/school-districts/saipe/2010/?leaid=&fips=47\n",
      "Trying URL: https://educationdata.urban.org/api/v1/school-districts/saipe/2010/?leaid=&fips=48\n"
     ]
    },
    {
     "name": "stderr",
     "output_type": "stream",
     "text": [
      "/var/folders/jv/_0nbzmjn7p13g2s1_mch9b6c0000gn/T/ipykernel_27325/2137315506.py:39: FutureWarning: The frame.append method is deprecated and will be removed from pandas in a future version. Use pandas.concat instead.\n",
      "  all_data = all_data.append(df, ignore_index=True)\n",
      "/var/folders/jv/_0nbzmjn7p13g2s1_mch9b6c0000gn/T/ipykernel_27325/2137315506.py:39: FutureWarning: The frame.append method is deprecated and will be removed from pandas in a future version. Use pandas.concat instead.\n",
      "  all_data = all_data.append(df, ignore_index=True)\n"
     ]
    },
    {
     "name": "stdout",
     "output_type": "stream",
     "text": [
      "Trying URL: https://educationdata.urban.org/api/v1/school-districts/saipe/2010/?leaid=&fips=49\n",
      "Trying URL: https://educationdata.urban.org/api/v1/school-districts/saipe/2010/?leaid=&fips=50\n"
     ]
    },
    {
     "name": "stderr",
     "output_type": "stream",
     "text": [
      "/var/folders/jv/_0nbzmjn7p13g2s1_mch9b6c0000gn/T/ipykernel_27325/2137315506.py:39: FutureWarning: The frame.append method is deprecated and will be removed from pandas in a future version. Use pandas.concat instead.\n",
      "  all_data = all_data.append(df, ignore_index=True)\n",
      "/var/folders/jv/_0nbzmjn7p13g2s1_mch9b6c0000gn/T/ipykernel_27325/2137315506.py:39: FutureWarning: The frame.append method is deprecated and will be removed from pandas in a future version. Use pandas.concat instead.\n",
      "  all_data = all_data.append(df, ignore_index=True)\n"
     ]
    },
    {
     "name": "stdout",
     "output_type": "stream",
     "text": [
      "Trying URL: https://educationdata.urban.org/api/v1/school-districts/saipe/2010/?leaid=&fips=51\n",
      "Trying URL: https://educationdata.urban.org/api/v1/school-districts/saipe/2010/?leaid=&fips=52\n",
      "Error fetching data for FIPS 52 and year 2010: \"None of [Index(['district_id', 'district_name', 'year', 'est_population_total',\\n       'est_population_5_17', 'est_population_5_17_poverty',\\n       'est_population_5_17_poverty_pct', 'est_population_5_17_pct', 'leaid',\\n       'fips'],\\n      dtype='object')] are in the [columns]\"\n",
      "Trying URL: https://educationdata.urban.org/api/v1/school-districts/saipe/2010/?leaid=&fips=53\n"
     ]
    },
    {
     "name": "stderr",
     "output_type": "stream",
     "text": [
      "/var/folders/jv/_0nbzmjn7p13g2s1_mch9b6c0000gn/T/ipykernel_27325/2137315506.py:39: FutureWarning: The frame.append method is deprecated and will be removed from pandas in a future version. Use pandas.concat instead.\n",
      "  all_data = all_data.append(df, ignore_index=True)\n",
      "/var/folders/jv/_0nbzmjn7p13g2s1_mch9b6c0000gn/T/ipykernel_27325/2137315506.py:39: FutureWarning: The frame.append method is deprecated and will be removed from pandas in a future version. Use pandas.concat instead.\n",
      "  all_data = all_data.append(df, ignore_index=True)\n"
     ]
    },
    {
     "name": "stdout",
     "output_type": "stream",
     "text": [
      "Trying URL: https://educationdata.urban.org/api/v1/school-districts/saipe/2010/?leaid=&fips=54\n",
      "Trying URL: https://educationdata.urban.org/api/v1/school-districts/saipe/2010/?leaid=&fips=55\n"
     ]
    },
    {
     "name": "stderr",
     "output_type": "stream",
     "text": [
      "/var/folders/jv/_0nbzmjn7p13g2s1_mch9b6c0000gn/T/ipykernel_27325/2137315506.py:39: FutureWarning: The frame.append method is deprecated and will be removed from pandas in a future version. Use pandas.concat instead.\n",
      "  all_data = all_data.append(df, ignore_index=True)\n",
      "/var/folders/jv/_0nbzmjn7p13g2s1_mch9b6c0000gn/T/ipykernel_27325/2137315506.py:39: FutureWarning: The frame.append method is deprecated and will be removed from pandas in a future version. Use pandas.concat instead.\n",
      "  all_data = all_data.append(df, ignore_index=True)\n"
     ]
    },
    {
     "name": "stdout",
     "output_type": "stream",
     "text": [
      "Trying URL: https://educationdata.urban.org/api/v1/school-districts/saipe/2010/?leaid=&fips=56\n",
      "Trying URL: https://educationdata.urban.org/api/v1/school-districts/saipe/2011/?leaid=&fips=01\n"
     ]
    },
    {
     "name": "stderr",
     "output_type": "stream",
     "text": [
      "/var/folders/jv/_0nbzmjn7p13g2s1_mch9b6c0000gn/T/ipykernel_27325/2137315506.py:39: FutureWarning: The frame.append method is deprecated and will be removed from pandas in a future version. Use pandas.concat instead.\n",
      "  all_data = all_data.append(df, ignore_index=True)\n",
      "/var/folders/jv/_0nbzmjn7p13g2s1_mch9b6c0000gn/T/ipykernel_27325/2137315506.py:39: FutureWarning: The frame.append method is deprecated and will be removed from pandas in a future version. Use pandas.concat instead.\n",
      "  all_data = all_data.append(df, ignore_index=True)\n"
     ]
    },
    {
     "name": "stdout",
     "output_type": "stream",
     "text": [
      "Trying URL: https://educationdata.urban.org/api/v1/school-districts/saipe/2011/?leaid=&fips=02\n",
      "Trying URL: https://educationdata.urban.org/api/v1/school-districts/saipe/2011/?leaid=&fips=03\n"
     ]
    },
    {
     "name": "stderr",
     "output_type": "stream",
     "text": [
      "/var/folders/jv/_0nbzmjn7p13g2s1_mch9b6c0000gn/T/ipykernel_27325/2137315506.py:39: FutureWarning: The frame.append method is deprecated and will be removed from pandas in a future version. Use pandas.concat instead.\n",
      "  all_data = all_data.append(df, ignore_index=True)\n",
      "/var/folders/jv/_0nbzmjn7p13g2s1_mch9b6c0000gn/T/ipykernel_27325/2137315506.py:39: FutureWarning: The frame.append method is deprecated and will be removed from pandas in a future version. Use pandas.concat instead.\n",
      "  all_data = all_data.append(df, ignore_index=True)\n"
     ]
    },
    {
     "name": "stdout",
     "output_type": "stream",
     "text": [
      "Error fetching data for FIPS 03 and year 2011: \"None of [Index(['district_id', 'district_name', 'year', 'est_population_total',\\n       'est_population_5_17', 'est_population_5_17_poverty',\\n       'est_population_5_17_poverty_pct', 'est_population_5_17_pct', 'leaid',\\n       'fips'],\\n      dtype='object')] are in the [columns]\"\n",
      "Trying URL: https://educationdata.urban.org/api/v1/school-districts/saipe/2011/?leaid=&fips=04\n"
     ]
    },
    {
     "name": "stderr",
     "output_type": "stream",
     "text": [
      "/var/folders/jv/_0nbzmjn7p13g2s1_mch9b6c0000gn/T/ipykernel_27325/2137315506.py:39: FutureWarning: The frame.append method is deprecated and will be removed from pandas in a future version. Use pandas.concat instead.\n",
      "  all_data = all_data.append(df, ignore_index=True)\n",
      "/var/folders/jv/_0nbzmjn7p13g2s1_mch9b6c0000gn/T/ipykernel_27325/2137315506.py:39: FutureWarning: The frame.append method is deprecated and will be removed from pandas in a future version. Use pandas.concat instead.\n",
      "  all_data = all_data.append(df, ignore_index=True)\n"
     ]
    },
    {
     "name": "stdout",
     "output_type": "stream",
     "text": [
      "Trying URL: https://educationdata.urban.org/api/v1/school-districts/saipe/2011/?leaid=&fips=05\n",
      "Trying URL: https://educationdata.urban.org/api/v1/school-districts/saipe/2011/?leaid=&fips=06\n"
     ]
    },
    {
     "name": "stderr",
     "output_type": "stream",
     "text": [
      "/var/folders/jv/_0nbzmjn7p13g2s1_mch9b6c0000gn/T/ipykernel_27325/2137315506.py:39: FutureWarning: The frame.append method is deprecated and will be removed from pandas in a future version. Use pandas.concat instead.\n",
      "  all_data = all_data.append(df, ignore_index=True)\n",
      "/var/folders/jv/_0nbzmjn7p13g2s1_mch9b6c0000gn/T/ipykernel_27325/2137315506.py:39: FutureWarning: The frame.append method is deprecated and will be removed from pandas in a future version. Use pandas.concat instead.\n",
      "  all_data = all_data.append(df, ignore_index=True)\n"
     ]
    },
    {
     "name": "stdout",
     "output_type": "stream",
     "text": [
      "Trying URL: https://educationdata.urban.org/api/v1/school-districts/saipe/2011/?leaid=&fips=07\n",
      "Error fetching data for FIPS 07 and year 2011: \"None of [Index(['district_id', 'district_name', 'year', 'est_population_total',\\n       'est_population_5_17', 'est_population_5_17_poverty',\\n       'est_population_5_17_poverty_pct', 'est_population_5_17_pct', 'leaid',\\n       'fips'],\\n      dtype='object')] are in the [columns]\"\n",
      "Trying URL: https://educationdata.urban.org/api/v1/school-districts/saipe/2011/?leaid=&fips=08\n"
     ]
    },
    {
     "name": "stderr",
     "output_type": "stream",
     "text": [
      "/var/folders/jv/_0nbzmjn7p13g2s1_mch9b6c0000gn/T/ipykernel_27325/2137315506.py:39: FutureWarning: The frame.append method is deprecated and will be removed from pandas in a future version. Use pandas.concat instead.\n",
      "  all_data = all_data.append(df, ignore_index=True)\n",
      "/var/folders/jv/_0nbzmjn7p13g2s1_mch9b6c0000gn/T/ipykernel_27325/2137315506.py:39: FutureWarning: The frame.append method is deprecated and will be removed from pandas in a future version. Use pandas.concat instead.\n",
      "  all_data = all_data.append(df, ignore_index=True)\n"
     ]
    },
    {
     "name": "stdout",
     "output_type": "stream",
     "text": [
      "Trying URL: https://educationdata.urban.org/api/v1/school-districts/saipe/2011/?leaid=&fips=09\n",
      "Trying URL: https://educationdata.urban.org/api/v1/school-districts/saipe/2011/?leaid=&fips=10\n"
     ]
    },
    {
     "name": "stderr",
     "output_type": "stream",
     "text": [
      "/var/folders/jv/_0nbzmjn7p13g2s1_mch9b6c0000gn/T/ipykernel_27325/2137315506.py:39: FutureWarning: The frame.append method is deprecated and will be removed from pandas in a future version. Use pandas.concat instead.\n",
      "  all_data = all_data.append(df, ignore_index=True)\n",
      "/var/folders/jv/_0nbzmjn7p13g2s1_mch9b6c0000gn/T/ipykernel_27325/2137315506.py:39: FutureWarning: The frame.append method is deprecated and will be removed from pandas in a future version. Use pandas.concat instead.\n",
      "  all_data = all_data.append(df, ignore_index=True)\n"
     ]
    },
    {
     "name": "stdout",
     "output_type": "stream",
     "text": [
      "Trying URL: https://educationdata.urban.org/api/v1/school-districts/saipe/2011/?leaid=&fips=11\n",
      "Trying URL: https://educationdata.urban.org/api/v1/school-districts/saipe/2011/?leaid=&fips=12\n"
     ]
    },
    {
     "name": "stderr",
     "output_type": "stream",
     "text": [
      "/var/folders/jv/_0nbzmjn7p13g2s1_mch9b6c0000gn/T/ipykernel_27325/2137315506.py:39: FutureWarning: The frame.append method is deprecated and will be removed from pandas in a future version. Use pandas.concat instead.\n",
      "  all_data = all_data.append(df, ignore_index=True)\n",
      "/var/folders/jv/_0nbzmjn7p13g2s1_mch9b6c0000gn/T/ipykernel_27325/2137315506.py:39: FutureWarning: The frame.append method is deprecated and will be removed from pandas in a future version. Use pandas.concat instead.\n",
      "  all_data = all_data.append(df, ignore_index=True)\n"
     ]
    },
    {
     "name": "stdout",
     "output_type": "stream",
     "text": [
      "Trying URL: https://educationdata.urban.org/api/v1/school-districts/saipe/2011/?leaid=&fips=13\n",
      "Trying URL: https://educationdata.urban.org/api/v1/school-districts/saipe/2011/?leaid=&fips=14\n",
      "Error fetching data for FIPS 14 and year 2011: \"None of [Index(['district_id', 'district_name', 'year', 'est_population_total',\\n       'est_population_5_17', 'est_population_5_17_poverty',\\n       'est_population_5_17_poverty_pct', 'est_population_5_17_pct', 'leaid',\\n       'fips'],\\n      dtype='object')] are in the [columns]\"\n",
      "Trying URL: https://educationdata.urban.org/api/v1/school-districts/saipe/2011/?leaid=&fips=15\n",
      "Trying URL: https://educationdata.urban.org/api/v1/school-districts/saipe/2011/?leaid=&fips=16\n"
     ]
    },
    {
     "name": "stderr",
     "output_type": "stream",
     "text": [
      "/var/folders/jv/_0nbzmjn7p13g2s1_mch9b6c0000gn/T/ipykernel_27325/2137315506.py:39: FutureWarning: The frame.append method is deprecated and will be removed from pandas in a future version. Use pandas.concat instead.\n",
      "  all_data = all_data.append(df, ignore_index=True)\n",
      "/var/folders/jv/_0nbzmjn7p13g2s1_mch9b6c0000gn/T/ipykernel_27325/2137315506.py:39: FutureWarning: The frame.append method is deprecated and will be removed from pandas in a future version. Use pandas.concat instead.\n",
      "  all_data = all_data.append(df, ignore_index=True)\n",
      "/var/folders/jv/_0nbzmjn7p13g2s1_mch9b6c0000gn/T/ipykernel_27325/2137315506.py:39: FutureWarning: The frame.append method is deprecated and will be removed from pandas in a future version. Use pandas.concat instead.\n",
      "  all_data = all_data.append(df, ignore_index=True)\n"
     ]
    },
    {
     "name": "stdout",
     "output_type": "stream",
     "text": [
      "Trying URL: https://educationdata.urban.org/api/v1/school-districts/saipe/2011/?leaid=&fips=17\n"
     ]
    },
    {
     "name": "stderr",
     "output_type": "stream",
     "text": [
      "/var/folders/jv/_0nbzmjn7p13g2s1_mch9b6c0000gn/T/ipykernel_27325/2137315506.py:39: FutureWarning: The frame.append method is deprecated and will be removed from pandas in a future version. Use pandas.concat instead.\n",
      "  all_data = all_data.append(df, ignore_index=True)\n",
      "/var/folders/jv/_0nbzmjn7p13g2s1_mch9b6c0000gn/T/ipykernel_27325/2137315506.py:39: FutureWarning: The frame.append method is deprecated and will be removed from pandas in a future version. Use pandas.concat instead.\n",
      "  all_data = all_data.append(df, ignore_index=True)\n"
     ]
    },
    {
     "name": "stdout",
     "output_type": "stream",
     "text": [
      "Trying URL: https://educationdata.urban.org/api/v1/school-districts/saipe/2011/?leaid=&fips=18\n",
      "Trying URL: https://educationdata.urban.org/api/v1/school-districts/saipe/2011/?leaid=&fips=19\n"
     ]
    },
    {
     "name": "stderr",
     "output_type": "stream",
     "text": [
      "/var/folders/jv/_0nbzmjn7p13g2s1_mch9b6c0000gn/T/ipykernel_27325/2137315506.py:39: FutureWarning: The frame.append method is deprecated and will be removed from pandas in a future version. Use pandas.concat instead.\n",
      "  all_data = all_data.append(df, ignore_index=True)\n",
      "/var/folders/jv/_0nbzmjn7p13g2s1_mch9b6c0000gn/T/ipykernel_27325/2137315506.py:39: FutureWarning: The frame.append method is deprecated and will be removed from pandas in a future version. Use pandas.concat instead.\n",
      "  all_data = all_data.append(df, ignore_index=True)\n"
     ]
    },
    {
     "name": "stdout",
     "output_type": "stream",
     "text": [
      "Trying URL: https://educationdata.urban.org/api/v1/school-districts/saipe/2011/?leaid=&fips=20\n",
      "Trying URL: https://educationdata.urban.org/api/v1/school-districts/saipe/2011/?leaid=&fips=21\n"
     ]
    },
    {
     "name": "stderr",
     "output_type": "stream",
     "text": [
      "/var/folders/jv/_0nbzmjn7p13g2s1_mch9b6c0000gn/T/ipykernel_27325/2137315506.py:39: FutureWarning: The frame.append method is deprecated and will be removed from pandas in a future version. Use pandas.concat instead.\n",
      "  all_data = all_data.append(df, ignore_index=True)\n",
      "/var/folders/jv/_0nbzmjn7p13g2s1_mch9b6c0000gn/T/ipykernel_27325/2137315506.py:39: FutureWarning: The frame.append method is deprecated and will be removed from pandas in a future version. Use pandas.concat instead.\n",
      "  all_data = all_data.append(df, ignore_index=True)\n"
     ]
    },
    {
     "name": "stdout",
     "output_type": "stream",
     "text": [
      "Trying URL: https://educationdata.urban.org/api/v1/school-districts/saipe/2011/?leaid=&fips=22\n",
      "Trying URL: https://educationdata.urban.org/api/v1/school-districts/saipe/2011/?leaid=&fips=23\n"
     ]
    },
    {
     "name": "stderr",
     "output_type": "stream",
     "text": [
      "/var/folders/jv/_0nbzmjn7p13g2s1_mch9b6c0000gn/T/ipykernel_27325/2137315506.py:39: FutureWarning: The frame.append method is deprecated and will be removed from pandas in a future version. Use pandas.concat instead.\n",
      "  all_data = all_data.append(df, ignore_index=True)\n",
      "/var/folders/jv/_0nbzmjn7p13g2s1_mch9b6c0000gn/T/ipykernel_27325/2137315506.py:39: FutureWarning: The frame.append method is deprecated and will be removed from pandas in a future version. Use pandas.concat instead.\n",
      "  all_data = all_data.append(df, ignore_index=True)\n"
     ]
    },
    {
     "name": "stdout",
     "output_type": "stream",
     "text": [
      "Trying URL: https://educationdata.urban.org/api/v1/school-districts/saipe/2011/?leaid=&fips=24\n",
      "Trying URL: https://educationdata.urban.org/api/v1/school-districts/saipe/2011/?leaid=&fips=25\n"
     ]
    },
    {
     "name": "stderr",
     "output_type": "stream",
     "text": [
      "/var/folders/jv/_0nbzmjn7p13g2s1_mch9b6c0000gn/T/ipykernel_27325/2137315506.py:39: FutureWarning: The frame.append method is deprecated and will be removed from pandas in a future version. Use pandas.concat instead.\n",
      "  all_data = all_data.append(df, ignore_index=True)\n"
     ]
    },
    {
     "name": "stdout",
     "output_type": "stream",
     "text": [
      "Trying URL: https://educationdata.urban.org/api/v1/school-districts/saipe/2011/?leaid=&fips=26\n"
     ]
    },
    {
     "name": "stderr",
     "output_type": "stream",
     "text": [
      "/var/folders/jv/_0nbzmjn7p13g2s1_mch9b6c0000gn/T/ipykernel_27325/2137315506.py:39: FutureWarning: The frame.append method is deprecated and will be removed from pandas in a future version. Use pandas.concat instead.\n",
      "  all_data = all_data.append(df, ignore_index=True)\n",
      "/var/folders/jv/_0nbzmjn7p13g2s1_mch9b6c0000gn/T/ipykernel_27325/2137315506.py:39: FutureWarning: The frame.append method is deprecated and will be removed from pandas in a future version. Use pandas.concat instead.\n",
      "  all_data = all_data.append(df, ignore_index=True)\n"
     ]
    },
    {
     "name": "stdout",
     "output_type": "stream",
     "text": [
      "Trying URL: https://educationdata.urban.org/api/v1/school-districts/saipe/2011/?leaid=&fips=27\n",
      "Trying URL: https://educationdata.urban.org/api/v1/school-districts/saipe/2011/?leaid=&fips=28\n"
     ]
    },
    {
     "name": "stderr",
     "output_type": "stream",
     "text": [
      "/var/folders/jv/_0nbzmjn7p13g2s1_mch9b6c0000gn/T/ipykernel_27325/2137315506.py:39: FutureWarning: The frame.append method is deprecated and will be removed from pandas in a future version. Use pandas.concat instead.\n",
      "  all_data = all_data.append(df, ignore_index=True)\n"
     ]
    },
    {
     "name": "stdout",
     "output_type": "stream",
     "text": [
      "Trying URL: https://educationdata.urban.org/api/v1/school-districts/saipe/2011/?leaid=&fips=29\n"
     ]
    },
    {
     "name": "stderr",
     "output_type": "stream",
     "text": [
      "/var/folders/jv/_0nbzmjn7p13g2s1_mch9b6c0000gn/T/ipykernel_27325/2137315506.py:39: FutureWarning: The frame.append method is deprecated and will be removed from pandas in a future version. Use pandas.concat instead.\n",
      "  all_data = all_data.append(df, ignore_index=True)\n",
      "/var/folders/jv/_0nbzmjn7p13g2s1_mch9b6c0000gn/T/ipykernel_27325/2137315506.py:39: FutureWarning: The frame.append method is deprecated and will be removed from pandas in a future version. Use pandas.concat instead.\n",
      "  all_data = all_data.append(df, ignore_index=True)\n"
     ]
    },
    {
     "name": "stdout",
     "output_type": "stream",
     "text": [
      "Trying URL: https://educationdata.urban.org/api/v1/school-districts/saipe/2011/?leaid=&fips=30\n",
      "Trying URL: https://educationdata.urban.org/api/v1/school-districts/saipe/2011/?leaid=&fips=31\n"
     ]
    },
    {
     "name": "stderr",
     "output_type": "stream",
     "text": [
      "/var/folders/jv/_0nbzmjn7p13g2s1_mch9b6c0000gn/T/ipykernel_27325/2137315506.py:39: FutureWarning: The frame.append method is deprecated and will be removed from pandas in a future version. Use pandas.concat instead.\n",
      "  all_data = all_data.append(df, ignore_index=True)\n",
      "/var/folders/jv/_0nbzmjn7p13g2s1_mch9b6c0000gn/T/ipykernel_27325/2137315506.py:39: FutureWarning: The frame.append method is deprecated and will be removed from pandas in a future version. Use pandas.concat instead.\n",
      "  all_data = all_data.append(df, ignore_index=True)\n"
     ]
    },
    {
     "name": "stdout",
     "output_type": "stream",
     "text": [
      "Trying URL: https://educationdata.urban.org/api/v1/school-districts/saipe/2011/?leaid=&fips=32\n",
      "Trying URL: https://educationdata.urban.org/api/v1/school-districts/saipe/2011/?leaid=&fips=33\n"
     ]
    },
    {
     "name": "stderr",
     "output_type": "stream",
     "text": [
      "/var/folders/jv/_0nbzmjn7p13g2s1_mch9b6c0000gn/T/ipykernel_27325/2137315506.py:39: FutureWarning: The frame.append method is deprecated and will be removed from pandas in a future version. Use pandas.concat instead.\n",
      "  all_data = all_data.append(df, ignore_index=True)\n",
      "/var/folders/jv/_0nbzmjn7p13g2s1_mch9b6c0000gn/T/ipykernel_27325/2137315506.py:39: FutureWarning: The frame.append method is deprecated and will be removed from pandas in a future version. Use pandas.concat instead.\n",
      "  all_data = all_data.append(df, ignore_index=True)\n"
     ]
    },
    {
     "name": "stdout",
     "output_type": "stream",
     "text": [
      "Trying URL: https://educationdata.urban.org/api/v1/school-districts/saipe/2011/?leaid=&fips=34\n",
      "Trying URL: https://educationdata.urban.org/api/v1/school-districts/saipe/2011/?leaid=&fips=35\n"
     ]
    },
    {
     "name": "stderr",
     "output_type": "stream",
     "text": [
      "/var/folders/jv/_0nbzmjn7p13g2s1_mch9b6c0000gn/T/ipykernel_27325/2137315506.py:39: FutureWarning: The frame.append method is deprecated and will be removed from pandas in a future version. Use pandas.concat instead.\n",
      "  all_data = all_data.append(df, ignore_index=True)\n"
     ]
    },
    {
     "name": "stdout",
     "output_type": "stream",
     "text": [
      "Trying URL: https://educationdata.urban.org/api/v1/school-districts/saipe/2011/?leaid=&fips=36\n"
     ]
    },
    {
     "name": "stderr",
     "output_type": "stream",
     "text": [
      "/var/folders/jv/_0nbzmjn7p13g2s1_mch9b6c0000gn/T/ipykernel_27325/2137315506.py:39: FutureWarning: The frame.append method is deprecated and will be removed from pandas in a future version. Use pandas.concat instead.\n",
      "  all_data = all_data.append(df, ignore_index=True)\n",
      "/var/folders/jv/_0nbzmjn7p13g2s1_mch9b6c0000gn/T/ipykernel_27325/2137315506.py:39: FutureWarning: The frame.append method is deprecated and will be removed from pandas in a future version. Use pandas.concat instead.\n",
      "  all_data = all_data.append(df, ignore_index=True)\n"
     ]
    },
    {
     "name": "stdout",
     "output_type": "stream",
     "text": [
      "Trying URL: https://educationdata.urban.org/api/v1/school-districts/saipe/2011/?leaid=&fips=37\n",
      "Trying URL: https://educationdata.urban.org/api/v1/school-districts/saipe/2011/?leaid=&fips=38\n"
     ]
    },
    {
     "name": "stderr",
     "output_type": "stream",
     "text": [
      "/var/folders/jv/_0nbzmjn7p13g2s1_mch9b6c0000gn/T/ipykernel_27325/2137315506.py:39: FutureWarning: The frame.append method is deprecated and will be removed from pandas in a future version. Use pandas.concat instead.\n",
      "  all_data = all_data.append(df, ignore_index=True)\n",
      "/var/folders/jv/_0nbzmjn7p13g2s1_mch9b6c0000gn/T/ipykernel_27325/2137315506.py:39: FutureWarning: The frame.append method is deprecated and will be removed from pandas in a future version. Use pandas.concat instead.\n",
      "  all_data = all_data.append(df, ignore_index=True)\n"
     ]
    },
    {
     "name": "stdout",
     "output_type": "stream",
     "text": [
      "Trying URL: https://educationdata.urban.org/api/v1/school-districts/saipe/2011/?leaid=&fips=39\n",
      "Trying URL: https://educationdata.urban.org/api/v1/school-districts/saipe/2011/?leaid=&fips=40\n"
     ]
    },
    {
     "name": "stderr",
     "output_type": "stream",
     "text": [
      "/var/folders/jv/_0nbzmjn7p13g2s1_mch9b6c0000gn/T/ipykernel_27325/2137315506.py:39: FutureWarning: The frame.append method is deprecated and will be removed from pandas in a future version. Use pandas.concat instead.\n",
      "  all_data = all_data.append(df, ignore_index=True)\n",
      "/var/folders/jv/_0nbzmjn7p13g2s1_mch9b6c0000gn/T/ipykernel_27325/2137315506.py:39: FutureWarning: The frame.append method is deprecated and will be removed from pandas in a future version. Use pandas.concat instead.\n",
      "  all_data = all_data.append(df, ignore_index=True)\n"
     ]
    },
    {
     "name": "stdout",
     "output_type": "stream",
     "text": [
      "Trying URL: https://educationdata.urban.org/api/v1/school-districts/saipe/2011/?leaid=&fips=41\n",
      "Trying URL: https://educationdata.urban.org/api/v1/school-districts/saipe/2011/?leaid=&fips=42\n"
     ]
    },
    {
     "name": "stderr",
     "output_type": "stream",
     "text": [
      "/var/folders/jv/_0nbzmjn7p13g2s1_mch9b6c0000gn/T/ipykernel_27325/2137315506.py:39: FutureWarning: The frame.append method is deprecated and will be removed from pandas in a future version. Use pandas.concat instead.\n",
      "  all_data = all_data.append(df, ignore_index=True)\n",
      "/var/folders/jv/_0nbzmjn7p13g2s1_mch9b6c0000gn/T/ipykernel_27325/2137315506.py:39: FutureWarning: The frame.append method is deprecated and will be removed from pandas in a future version. Use pandas.concat instead.\n",
      "  all_data = all_data.append(df, ignore_index=True)\n"
     ]
    },
    {
     "name": "stdout",
     "output_type": "stream",
     "text": [
      "Trying URL: https://educationdata.urban.org/api/v1/school-districts/saipe/2011/?leaid=&fips=43\n",
      "Error fetching data for FIPS 43 and year 2011: \"None of [Index(['district_id', 'district_name', 'year', 'est_population_total',\\n       'est_population_5_17', 'est_population_5_17_poverty',\\n       'est_population_5_17_poverty_pct', 'est_population_5_17_pct', 'leaid',\\n       'fips'],\\n      dtype='object')] are in the [columns]\"\n",
      "Trying URL: https://educationdata.urban.org/api/v1/school-districts/saipe/2011/?leaid=&fips=44\n"
     ]
    },
    {
     "name": "stderr",
     "output_type": "stream",
     "text": [
      "/var/folders/jv/_0nbzmjn7p13g2s1_mch9b6c0000gn/T/ipykernel_27325/2137315506.py:39: FutureWarning: The frame.append method is deprecated and will be removed from pandas in a future version. Use pandas.concat instead.\n",
      "  all_data = all_data.append(df, ignore_index=True)\n",
      "/var/folders/jv/_0nbzmjn7p13g2s1_mch9b6c0000gn/T/ipykernel_27325/2137315506.py:39: FutureWarning: The frame.append method is deprecated and will be removed from pandas in a future version. Use pandas.concat instead.\n",
      "  all_data = all_data.append(df, ignore_index=True)\n"
     ]
    },
    {
     "name": "stdout",
     "output_type": "stream",
     "text": [
      "Trying URL: https://educationdata.urban.org/api/v1/school-districts/saipe/2011/?leaid=&fips=45\n",
      "Trying URL: https://educationdata.urban.org/api/v1/school-districts/saipe/2011/?leaid=&fips=46\n"
     ]
    },
    {
     "name": "stderr",
     "output_type": "stream",
     "text": [
      "/var/folders/jv/_0nbzmjn7p13g2s1_mch9b6c0000gn/T/ipykernel_27325/2137315506.py:39: FutureWarning: The frame.append method is deprecated and will be removed from pandas in a future version. Use pandas.concat instead.\n",
      "  all_data = all_data.append(df, ignore_index=True)\n"
     ]
    },
    {
     "name": "stdout",
     "output_type": "stream",
     "text": [
      "Trying URL: https://educationdata.urban.org/api/v1/school-districts/saipe/2011/?leaid=&fips=47\n",
      "Trying URL: https://educationdata.urban.org/api/v1/school-districts/saipe/2011/?leaid=&fips=48\n"
     ]
    },
    {
     "name": "stderr",
     "output_type": "stream",
     "text": [
      "/var/folders/jv/_0nbzmjn7p13g2s1_mch9b6c0000gn/T/ipykernel_27325/2137315506.py:39: FutureWarning: The frame.append method is deprecated and will be removed from pandas in a future version. Use pandas.concat instead.\n",
      "  all_data = all_data.append(df, ignore_index=True)\n",
      "/var/folders/jv/_0nbzmjn7p13g2s1_mch9b6c0000gn/T/ipykernel_27325/2137315506.py:39: FutureWarning: The frame.append method is deprecated and will be removed from pandas in a future version. Use pandas.concat instead.\n",
      "  all_data = all_data.append(df, ignore_index=True)\n",
      "/var/folders/jv/_0nbzmjn7p13g2s1_mch9b6c0000gn/T/ipykernel_27325/2137315506.py:39: FutureWarning: The frame.append method is deprecated and will be removed from pandas in a future version. Use pandas.concat instead.\n",
      "  all_data = all_data.append(df, ignore_index=True)\n"
     ]
    },
    {
     "name": "stdout",
     "output_type": "stream",
     "text": [
      "Trying URL: https://educationdata.urban.org/api/v1/school-districts/saipe/2011/?leaid=&fips=49\n",
      "Trying URL: https://educationdata.urban.org/api/v1/school-districts/saipe/2011/?leaid=&fips=50\n"
     ]
    },
    {
     "name": "stderr",
     "output_type": "stream",
     "text": [
      "/var/folders/jv/_0nbzmjn7p13g2s1_mch9b6c0000gn/T/ipykernel_27325/2137315506.py:39: FutureWarning: The frame.append method is deprecated and will be removed from pandas in a future version. Use pandas.concat instead.\n",
      "  all_data = all_data.append(df, ignore_index=True)\n",
      "/var/folders/jv/_0nbzmjn7p13g2s1_mch9b6c0000gn/T/ipykernel_27325/2137315506.py:39: FutureWarning: The frame.append method is deprecated and will be removed from pandas in a future version. Use pandas.concat instead.\n",
      "  all_data = all_data.append(df, ignore_index=True)\n"
     ]
    },
    {
     "name": "stdout",
     "output_type": "stream",
     "text": [
      "Trying URL: https://educationdata.urban.org/api/v1/school-districts/saipe/2011/?leaid=&fips=51\n",
      "Trying URL: https://educationdata.urban.org/api/v1/school-districts/saipe/2011/?leaid=&fips=52\n",
      "Error fetching data for FIPS 52 and year 2011: \"None of [Index(['district_id', 'district_name', 'year', 'est_population_total',\\n       'est_population_5_17', 'est_population_5_17_poverty',\\n       'est_population_5_17_poverty_pct', 'est_population_5_17_pct', 'leaid',\\n       'fips'],\\n      dtype='object')] are in the [columns]\"\n",
      "Trying URL: https://educationdata.urban.org/api/v1/school-districts/saipe/2011/?leaid=&fips=53\n",
      "Trying URL: https://educationdata.urban.org/api/v1/school-districts/saipe/2011/?leaid=&fips=54\n"
     ]
    },
    {
     "name": "stderr",
     "output_type": "stream",
     "text": [
      "/var/folders/jv/_0nbzmjn7p13g2s1_mch9b6c0000gn/T/ipykernel_27325/2137315506.py:39: FutureWarning: The frame.append method is deprecated and will be removed from pandas in a future version. Use pandas.concat instead.\n",
      "  all_data = all_data.append(df, ignore_index=True)\n",
      "/var/folders/jv/_0nbzmjn7p13g2s1_mch9b6c0000gn/T/ipykernel_27325/2137315506.py:39: FutureWarning: The frame.append method is deprecated and will be removed from pandas in a future version. Use pandas.concat instead.\n",
      "  all_data = all_data.append(df, ignore_index=True)\n",
      "/var/folders/jv/_0nbzmjn7p13g2s1_mch9b6c0000gn/T/ipykernel_27325/2137315506.py:39: FutureWarning: The frame.append method is deprecated and will be removed from pandas in a future version. Use pandas.concat instead.\n",
      "  all_data = all_data.append(df, ignore_index=True)\n",
      "/var/folders/jv/_0nbzmjn7p13g2s1_mch9b6c0000gn/T/ipykernel_27325/2137315506.py:39: FutureWarning: The frame.append method is deprecated and will be removed from pandas in a future version. Use pandas.concat instead.\n",
      "  all_data = all_data.append(df, ignore_index=True)\n"
     ]
    },
    {
     "name": "stdout",
     "output_type": "stream",
     "text": [
      "Trying URL: https://educationdata.urban.org/api/v1/school-districts/saipe/2011/?leaid=&fips=55\n",
      "Trying URL: https://educationdata.urban.org/api/v1/school-districts/saipe/2011/?leaid=&fips=56\n"
     ]
    },
    {
     "name": "stderr",
     "output_type": "stream",
     "text": [
      "/var/folders/jv/_0nbzmjn7p13g2s1_mch9b6c0000gn/T/ipykernel_27325/2137315506.py:39: FutureWarning: The frame.append method is deprecated and will be removed from pandas in a future version. Use pandas.concat instead.\n",
      "  all_data = all_data.append(df, ignore_index=True)\n",
      "/var/folders/jv/_0nbzmjn7p13g2s1_mch9b6c0000gn/T/ipykernel_27325/2137315506.py:39: FutureWarning: The frame.append method is deprecated and will be removed from pandas in a future version. Use pandas.concat instead.\n",
      "  all_data = all_data.append(df, ignore_index=True)\n"
     ]
    },
    {
     "name": "stdout",
     "output_type": "stream",
     "text": [
      "Trying URL: https://educationdata.urban.org/api/v1/school-districts/saipe/2012/?leaid=&fips=01\n",
      "Trying URL: https://educationdata.urban.org/api/v1/school-districts/saipe/2012/?leaid=&fips=02\n"
     ]
    },
    {
     "name": "stderr",
     "output_type": "stream",
     "text": [
      "/var/folders/jv/_0nbzmjn7p13g2s1_mch9b6c0000gn/T/ipykernel_27325/2137315506.py:39: FutureWarning: The frame.append method is deprecated and will be removed from pandas in a future version. Use pandas.concat instead.\n",
      "  all_data = all_data.append(df, ignore_index=True)\n",
      "/var/folders/jv/_0nbzmjn7p13g2s1_mch9b6c0000gn/T/ipykernel_27325/2137315506.py:39: FutureWarning: The frame.append method is deprecated and will be removed from pandas in a future version. Use pandas.concat instead.\n",
      "  all_data = all_data.append(df, ignore_index=True)\n"
     ]
    },
    {
     "name": "stdout",
     "output_type": "stream",
     "text": [
      "Trying URL: https://educationdata.urban.org/api/v1/school-districts/saipe/2012/?leaid=&fips=03\n",
      "Error fetching data for FIPS 03 and year 2012: \"None of [Index(['district_id', 'district_name', 'year', 'est_population_total',\\n       'est_population_5_17', 'est_population_5_17_poverty',\\n       'est_population_5_17_poverty_pct', 'est_population_5_17_pct', 'leaid',\\n       'fips'],\\n      dtype='object')] are in the [columns]\"\n",
      "Trying URL: https://educationdata.urban.org/api/v1/school-districts/saipe/2012/?leaid=&fips=04\n"
     ]
    },
    {
     "name": "stderr",
     "output_type": "stream",
     "text": [
      "/var/folders/jv/_0nbzmjn7p13g2s1_mch9b6c0000gn/T/ipykernel_27325/2137315506.py:39: FutureWarning: The frame.append method is deprecated and will be removed from pandas in a future version. Use pandas.concat instead.\n",
      "  all_data = all_data.append(df, ignore_index=True)\n",
      "/var/folders/jv/_0nbzmjn7p13g2s1_mch9b6c0000gn/T/ipykernel_27325/2137315506.py:39: FutureWarning: The frame.append method is deprecated and will be removed from pandas in a future version. Use pandas.concat instead.\n",
      "  all_data = all_data.append(df, ignore_index=True)\n"
     ]
    },
    {
     "name": "stdout",
     "output_type": "stream",
     "text": [
      "Trying URL: https://educationdata.urban.org/api/v1/school-districts/saipe/2012/?leaid=&fips=05\n",
      "Trying URL: https://educationdata.urban.org/api/v1/school-districts/saipe/2012/?leaid=&fips=06\n"
     ]
    },
    {
     "name": "stderr",
     "output_type": "stream",
     "text": [
      "/var/folders/jv/_0nbzmjn7p13g2s1_mch9b6c0000gn/T/ipykernel_27325/2137315506.py:39: FutureWarning: The frame.append method is deprecated and will be removed from pandas in a future version. Use pandas.concat instead.\n",
      "  all_data = all_data.append(df, ignore_index=True)\n",
      "/var/folders/jv/_0nbzmjn7p13g2s1_mch9b6c0000gn/T/ipykernel_27325/2137315506.py:39: FutureWarning: The frame.append method is deprecated and will be removed from pandas in a future version. Use pandas.concat instead.\n",
      "  all_data = all_data.append(df, ignore_index=True)\n"
     ]
    },
    {
     "name": "stdout",
     "output_type": "stream",
     "text": [
      "Trying URL: https://educationdata.urban.org/api/v1/school-districts/saipe/2012/?leaid=&fips=07\n",
      "Error fetching data for FIPS 07 and year 2012: \"None of [Index(['district_id', 'district_name', 'year', 'est_population_total',\\n       'est_population_5_17', 'est_population_5_17_poverty',\\n       'est_population_5_17_poverty_pct', 'est_population_5_17_pct', 'leaid',\\n       'fips'],\\n      dtype='object')] are in the [columns]\"\n",
      "Trying URL: https://educationdata.urban.org/api/v1/school-districts/saipe/2012/?leaid=&fips=08\n"
     ]
    },
    {
     "name": "stderr",
     "output_type": "stream",
     "text": [
      "/var/folders/jv/_0nbzmjn7p13g2s1_mch9b6c0000gn/T/ipykernel_27325/2137315506.py:39: FutureWarning: The frame.append method is deprecated and will be removed from pandas in a future version. Use pandas.concat instead.\n",
      "  all_data = all_data.append(df, ignore_index=True)\n",
      "/var/folders/jv/_0nbzmjn7p13g2s1_mch9b6c0000gn/T/ipykernel_27325/2137315506.py:39: FutureWarning: The frame.append method is deprecated and will be removed from pandas in a future version. Use pandas.concat instead.\n",
      "  all_data = all_data.append(df, ignore_index=True)\n"
     ]
    },
    {
     "name": "stdout",
     "output_type": "stream",
     "text": [
      "Trying URL: https://educationdata.urban.org/api/v1/school-districts/saipe/2012/?leaid=&fips=09\n",
      "Trying URL: https://educationdata.urban.org/api/v1/school-districts/saipe/2012/?leaid=&fips=10\n"
     ]
    },
    {
     "name": "stderr",
     "output_type": "stream",
     "text": [
      "/var/folders/jv/_0nbzmjn7p13g2s1_mch9b6c0000gn/T/ipykernel_27325/2137315506.py:39: FutureWarning: The frame.append method is deprecated and will be removed from pandas in a future version. Use pandas.concat instead.\n",
      "  all_data = all_data.append(df, ignore_index=True)\n",
      "/var/folders/jv/_0nbzmjn7p13g2s1_mch9b6c0000gn/T/ipykernel_27325/2137315506.py:39: FutureWarning: The frame.append method is deprecated and will be removed from pandas in a future version. Use pandas.concat instead.\n",
      "  all_data = all_data.append(df, ignore_index=True)\n"
     ]
    },
    {
     "name": "stdout",
     "output_type": "stream",
     "text": [
      "Trying URL: https://educationdata.urban.org/api/v1/school-districts/saipe/2012/?leaid=&fips=11\n",
      "Trying URL: https://educationdata.urban.org/api/v1/school-districts/saipe/2012/?leaid=&fips=12\n"
     ]
    },
    {
     "name": "stderr",
     "output_type": "stream",
     "text": [
      "/var/folders/jv/_0nbzmjn7p13g2s1_mch9b6c0000gn/T/ipykernel_27325/2137315506.py:39: FutureWarning: The frame.append method is deprecated and will be removed from pandas in a future version. Use pandas.concat instead.\n",
      "  all_data = all_data.append(df, ignore_index=True)\n"
     ]
    },
    {
     "name": "stdout",
     "output_type": "stream",
     "text": [
      "Trying URL: https://educationdata.urban.org/api/v1/school-districts/saipe/2012/?leaid=&fips=13\n"
     ]
    },
    {
     "name": "stderr",
     "output_type": "stream",
     "text": [
      "/var/folders/jv/_0nbzmjn7p13g2s1_mch9b6c0000gn/T/ipykernel_27325/2137315506.py:39: FutureWarning: The frame.append method is deprecated and will be removed from pandas in a future version. Use pandas.concat instead.\n",
      "  all_data = all_data.append(df, ignore_index=True)\n",
      "/var/folders/jv/_0nbzmjn7p13g2s1_mch9b6c0000gn/T/ipykernel_27325/2137315506.py:39: FutureWarning: The frame.append method is deprecated and will be removed from pandas in a future version. Use pandas.concat instead.\n",
      "  all_data = all_data.append(df, ignore_index=True)\n"
     ]
    },
    {
     "name": "stdout",
     "output_type": "stream",
     "text": [
      "Trying URL: https://educationdata.urban.org/api/v1/school-districts/saipe/2012/?leaid=&fips=14\n",
      "Error fetching data for FIPS 14 and year 2012: \"None of [Index(['district_id', 'district_name', 'year', 'est_population_total',\\n       'est_population_5_17', 'est_population_5_17_poverty',\\n       'est_population_5_17_poverty_pct', 'est_population_5_17_pct', 'leaid',\\n       'fips'],\\n      dtype='object')] are in the [columns]\"\n",
      "Trying URL: https://educationdata.urban.org/api/v1/school-districts/saipe/2012/?leaid=&fips=15\n"
     ]
    },
    {
     "name": "stderr",
     "output_type": "stream",
     "text": [
      "/var/folders/jv/_0nbzmjn7p13g2s1_mch9b6c0000gn/T/ipykernel_27325/2137315506.py:39: FutureWarning: The frame.append method is deprecated and will be removed from pandas in a future version. Use pandas.concat instead.\n",
      "  all_data = all_data.append(df, ignore_index=True)\n",
      "/var/folders/jv/_0nbzmjn7p13g2s1_mch9b6c0000gn/T/ipykernel_27325/2137315506.py:39: FutureWarning: The frame.append method is deprecated and will be removed from pandas in a future version. Use pandas.concat instead.\n",
      "  all_data = all_data.append(df, ignore_index=True)\n"
     ]
    },
    {
     "name": "stdout",
     "output_type": "stream",
     "text": [
      "Trying URL: https://educationdata.urban.org/api/v1/school-districts/saipe/2012/?leaid=&fips=16\n",
      "Trying URL: https://educationdata.urban.org/api/v1/school-districts/saipe/2012/?leaid=&fips=17\n"
     ]
    },
    {
     "name": "stderr",
     "output_type": "stream",
     "text": [
      "/var/folders/jv/_0nbzmjn7p13g2s1_mch9b6c0000gn/T/ipykernel_27325/2137315506.py:39: FutureWarning: The frame.append method is deprecated and will be removed from pandas in a future version. Use pandas.concat instead.\n",
      "  all_data = all_data.append(df, ignore_index=True)\n",
      "/var/folders/jv/_0nbzmjn7p13g2s1_mch9b6c0000gn/T/ipykernel_27325/2137315506.py:39: FutureWarning: The frame.append method is deprecated and will be removed from pandas in a future version. Use pandas.concat instead.\n",
      "  all_data = all_data.append(df, ignore_index=True)\n"
     ]
    },
    {
     "name": "stdout",
     "output_type": "stream",
     "text": [
      "Trying URL: https://educationdata.urban.org/api/v1/school-districts/saipe/2012/?leaid=&fips=18\n",
      "Trying URL: https://educationdata.urban.org/api/v1/school-districts/saipe/2012/?leaid=&fips=19\n"
     ]
    },
    {
     "name": "stderr",
     "output_type": "stream",
     "text": [
      "/var/folders/jv/_0nbzmjn7p13g2s1_mch9b6c0000gn/T/ipykernel_27325/2137315506.py:39: FutureWarning: The frame.append method is deprecated and will be removed from pandas in a future version. Use pandas.concat instead.\n",
      "  all_data = all_data.append(df, ignore_index=True)\n",
      "/var/folders/jv/_0nbzmjn7p13g2s1_mch9b6c0000gn/T/ipykernel_27325/2137315506.py:39: FutureWarning: The frame.append method is deprecated and will be removed from pandas in a future version. Use pandas.concat instead.\n",
      "  all_data = all_data.append(df, ignore_index=True)\n"
     ]
    },
    {
     "name": "stdout",
     "output_type": "stream",
     "text": [
      "Trying URL: https://educationdata.urban.org/api/v1/school-districts/saipe/2012/?leaid=&fips=20\n",
      "Trying URL: https://educationdata.urban.org/api/v1/school-districts/saipe/2012/?leaid=&fips=21\n"
     ]
    },
    {
     "name": "stderr",
     "output_type": "stream",
     "text": [
      "/var/folders/jv/_0nbzmjn7p13g2s1_mch9b6c0000gn/T/ipykernel_27325/2137315506.py:39: FutureWarning: The frame.append method is deprecated and will be removed from pandas in a future version. Use pandas.concat instead.\n",
      "  all_data = all_data.append(df, ignore_index=True)\n",
      "/var/folders/jv/_0nbzmjn7p13g2s1_mch9b6c0000gn/T/ipykernel_27325/2137315506.py:39: FutureWarning: The frame.append method is deprecated and will be removed from pandas in a future version. Use pandas.concat instead.\n",
      "  all_data = all_data.append(df, ignore_index=True)\n"
     ]
    },
    {
     "name": "stdout",
     "output_type": "stream",
     "text": [
      "Trying URL: https://educationdata.urban.org/api/v1/school-districts/saipe/2012/?leaid=&fips=22\n",
      "Trying URL: https://educationdata.urban.org/api/v1/school-districts/saipe/2012/?leaid=&fips=23\n"
     ]
    },
    {
     "name": "stderr",
     "output_type": "stream",
     "text": [
      "/var/folders/jv/_0nbzmjn7p13g2s1_mch9b6c0000gn/T/ipykernel_27325/2137315506.py:39: FutureWarning: The frame.append method is deprecated and will be removed from pandas in a future version. Use pandas.concat instead.\n",
      "  all_data = all_data.append(df, ignore_index=True)\n",
      "/var/folders/jv/_0nbzmjn7p13g2s1_mch9b6c0000gn/T/ipykernel_27325/2137315506.py:39: FutureWarning: The frame.append method is deprecated and will be removed from pandas in a future version. Use pandas.concat instead.\n",
      "  all_data = all_data.append(df, ignore_index=True)\n"
     ]
    },
    {
     "name": "stdout",
     "output_type": "stream",
     "text": [
      "Trying URL: https://educationdata.urban.org/api/v1/school-districts/saipe/2012/?leaid=&fips=24\n",
      "Trying URL: https://educationdata.urban.org/api/v1/school-districts/saipe/2012/?leaid=&fips=25\n"
     ]
    },
    {
     "name": "stderr",
     "output_type": "stream",
     "text": [
      "/var/folders/jv/_0nbzmjn7p13g2s1_mch9b6c0000gn/T/ipykernel_27325/2137315506.py:39: FutureWarning: The frame.append method is deprecated and will be removed from pandas in a future version. Use pandas.concat instead.\n",
      "  all_data = all_data.append(df, ignore_index=True)\n"
     ]
    },
    {
     "name": "stdout",
     "output_type": "stream",
     "text": [
      "Trying URL: https://educationdata.urban.org/api/v1/school-districts/saipe/2012/?leaid=&fips=26\n"
     ]
    },
    {
     "name": "stderr",
     "output_type": "stream",
     "text": [
      "/var/folders/jv/_0nbzmjn7p13g2s1_mch9b6c0000gn/T/ipykernel_27325/2137315506.py:39: FutureWarning: The frame.append method is deprecated and will be removed from pandas in a future version. Use pandas.concat instead.\n",
      "  all_data = all_data.append(df, ignore_index=True)\n",
      "/var/folders/jv/_0nbzmjn7p13g2s1_mch9b6c0000gn/T/ipykernel_27325/2137315506.py:39: FutureWarning: The frame.append method is deprecated and will be removed from pandas in a future version. Use pandas.concat instead.\n",
      "  all_data = all_data.append(df, ignore_index=True)\n"
     ]
    },
    {
     "name": "stdout",
     "output_type": "stream",
     "text": [
      "Trying URL: https://educationdata.urban.org/api/v1/school-districts/saipe/2012/?leaid=&fips=27\n",
      "Trying URL: https://educationdata.urban.org/api/v1/school-districts/saipe/2012/?leaid=&fips=28\n"
     ]
    },
    {
     "name": "stderr",
     "output_type": "stream",
     "text": [
      "/var/folders/jv/_0nbzmjn7p13g2s1_mch9b6c0000gn/T/ipykernel_27325/2137315506.py:39: FutureWarning: The frame.append method is deprecated and will be removed from pandas in a future version. Use pandas.concat instead.\n",
      "  all_data = all_data.append(df, ignore_index=True)\n",
      "/var/folders/jv/_0nbzmjn7p13g2s1_mch9b6c0000gn/T/ipykernel_27325/2137315506.py:39: FutureWarning: The frame.append method is deprecated and will be removed from pandas in a future version. Use pandas.concat instead.\n",
      "  all_data = all_data.append(df, ignore_index=True)\n"
     ]
    },
    {
     "name": "stdout",
     "output_type": "stream",
     "text": [
      "Trying URL: https://educationdata.urban.org/api/v1/school-districts/saipe/2012/?leaid=&fips=29\n",
      "Trying URL: https://educationdata.urban.org/api/v1/school-districts/saipe/2012/?leaid=&fips=30\n"
     ]
    },
    {
     "name": "stderr",
     "output_type": "stream",
     "text": [
      "/var/folders/jv/_0nbzmjn7p13g2s1_mch9b6c0000gn/T/ipykernel_27325/2137315506.py:39: FutureWarning: The frame.append method is deprecated and will be removed from pandas in a future version. Use pandas.concat instead.\n",
      "  all_data = all_data.append(df, ignore_index=True)\n",
      "/var/folders/jv/_0nbzmjn7p13g2s1_mch9b6c0000gn/T/ipykernel_27325/2137315506.py:39: FutureWarning: The frame.append method is deprecated and will be removed from pandas in a future version. Use pandas.concat instead.\n",
      "  all_data = all_data.append(df, ignore_index=True)\n"
     ]
    },
    {
     "name": "stdout",
     "output_type": "stream",
     "text": [
      "Trying URL: https://educationdata.urban.org/api/v1/school-districts/saipe/2012/?leaid=&fips=31\n",
      "Trying URL: https://educationdata.urban.org/api/v1/school-districts/saipe/2012/?leaid=&fips=32\n"
     ]
    },
    {
     "name": "stderr",
     "output_type": "stream",
     "text": [
      "/var/folders/jv/_0nbzmjn7p13g2s1_mch9b6c0000gn/T/ipykernel_27325/2137315506.py:39: FutureWarning: The frame.append method is deprecated and will be removed from pandas in a future version. Use pandas.concat instead.\n",
      "  all_data = all_data.append(df, ignore_index=True)\n",
      "/var/folders/jv/_0nbzmjn7p13g2s1_mch9b6c0000gn/T/ipykernel_27325/2137315506.py:39: FutureWarning: The frame.append method is deprecated and will be removed from pandas in a future version. Use pandas.concat instead.\n",
      "  all_data = all_data.append(df, ignore_index=True)\n"
     ]
    },
    {
     "name": "stdout",
     "output_type": "stream",
     "text": [
      "Trying URL: https://educationdata.urban.org/api/v1/school-districts/saipe/2012/?leaid=&fips=33\n",
      "Trying URL: https://educationdata.urban.org/api/v1/school-districts/saipe/2012/?leaid=&fips=34\n"
     ]
    },
    {
     "name": "stderr",
     "output_type": "stream",
     "text": [
      "/var/folders/jv/_0nbzmjn7p13g2s1_mch9b6c0000gn/T/ipykernel_27325/2137315506.py:39: FutureWarning: The frame.append method is deprecated and will be removed from pandas in a future version. Use pandas.concat instead.\n",
      "  all_data = all_data.append(df, ignore_index=True)\n",
      "/var/folders/jv/_0nbzmjn7p13g2s1_mch9b6c0000gn/T/ipykernel_27325/2137315506.py:39: FutureWarning: The frame.append method is deprecated and will be removed from pandas in a future version. Use pandas.concat instead.\n",
      "  all_data = all_data.append(df, ignore_index=True)\n"
     ]
    },
    {
     "name": "stdout",
     "output_type": "stream",
     "text": [
      "Trying URL: https://educationdata.urban.org/api/v1/school-districts/saipe/2012/?leaid=&fips=35\n",
      "Trying URL: https://educationdata.urban.org/api/v1/school-districts/saipe/2012/?leaid=&fips=36\n"
     ]
    },
    {
     "name": "stderr",
     "output_type": "stream",
     "text": [
      "/var/folders/jv/_0nbzmjn7p13g2s1_mch9b6c0000gn/T/ipykernel_27325/2137315506.py:39: FutureWarning: The frame.append method is deprecated and will be removed from pandas in a future version. Use pandas.concat instead.\n",
      "  all_data = all_data.append(df, ignore_index=True)\n",
      "/var/folders/jv/_0nbzmjn7p13g2s1_mch9b6c0000gn/T/ipykernel_27325/2137315506.py:39: FutureWarning: The frame.append method is deprecated and will be removed from pandas in a future version. Use pandas.concat instead.\n",
      "  all_data = all_data.append(df, ignore_index=True)\n"
     ]
    },
    {
     "name": "stdout",
     "output_type": "stream",
     "text": [
      "Trying URL: https://educationdata.urban.org/api/v1/school-districts/saipe/2012/?leaid=&fips=37\n",
      "Trying URL: https://educationdata.urban.org/api/v1/school-districts/saipe/2012/?leaid=&fips=38\n"
     ]
    },
    {
     "name": "stderr",
     "output_type": "stream",
     "text": [
      "/var/folders/jv/_0nbzmjn7p13g2s1_mch9b6c0000gn/T/ipykernel_27325/2137315506.py:39: FutureWarning: The frame.append method is deprecated and will be removed from pandas in a future version. Use pandas.concat instead.\n",
      "  all_data = all_data.append(df, ignore_index=True)\n",
      "/var/folders/jv/_0nbzmjn7p13g2s1_mch9b6c0000gn/T/ipykernel_27325/2137315506.py:39: FutureWarning: The frame.append method is deprecated and will be removed from pandas in a future version. Use pandas.concat instead.\n",
      "  all_data = all_data.append(df, ignore_index=True)\n"
     ]
    },
    {
     "name": "stdout",
     "output_type": "stream",
     "text": [
      "Trying URL: https://educationdata.urban.org/api/v1/school-districts/saipe/2012/?leaid=&fips=39\n",
      "Trying URL: https://educationdata.urban.org/api/v1/school-districts/saipe/2012/?leaid=&fips=40\n"
     ]
    },
    {
     "name": "stderr",
     "output_type": "stream",
     "text": [
      "/var/folders/jv/_0nbzmjn7p13g2s1_mch9b6c0000gn/T/ipykernel_27325/2137315506.py:39: FutureWarning: The frame.append method is deprecated and will be removed from pandas in a future version. Use pandas.concat instead.\n",
      "  all_data = all_data.append(df, ignore_index=True)\n",
      "/var/folders/jv/_0nbzmjn7p13g2s1_mch9b6c0000gn/T/ipykernel_27325/2137315506.py:39: FutureWarning: The frame.append method is deprecated and will be removed from pandas in a future version. Use pandas.concat instead.\n",
      "  all_data = all_data.append(df, ignore_index=True)\n"
     ]
    },
    {
     "name": "stdout",
     "output_type": "stream",
     "text": [
      "Trying URL: https://educationdata.urban.org/api/v1/school-districts/saipe/2012/?leaid=&fips=41\n",
      "Trying URL: https://educationdata.urban.org/api/v1/school-districts/saipe/2012/?leaid=&fips=42\n"
     ]
    },
    {
     "name": "stderr",
     "output_type": "stream",
     "text": [
      "/var/folders/jv/_0nbzmjn7p13g2s1_mch9b6c0000gn/T/ipykernel_27325/2137315506.py:39: FutureWarning: The frame.append method is deprecated and will be removed from pandas in a future version. Use pandas.concat instead.\n",
      "  all_data = all_data.append(df, ignore_index=True)\n",
      "/var/folders/jv/_0nbzmjn7p13g2s1_mch9b6c0000gn/T/ipykernel_27325/2137315506.py:39: FutureWarning: The frame.append method is deprecated and will be removed from pandas in a future version. Use pandas.concat instead.\n",
      "  all_data = all_data.append(df, ignore_index=True)\n"
     ]
    },
    {
     "name": "stdout",
     "output_type": "stream",
     "text": [
      "Trying URL: https://educationdata.urban.org/api/v1/school-districts/saipe/2012/?leaid=&fips=43\n",
      "Error fetching data for FIPS 43 and year 2012: \"None of [Index(['district_id', 'district_name', 'year', 'est_population_total',\\n       'est_population_5_17', 'est_population_5_17_poverty',\\n       'est_population_5_17_poverty_pct', 'est_population_5_17_pct', 'leaid',\\n       'fips'],\\n      dtype='object')] are in the [columns]\"\n",
      "Trying URL: https://educationdata.urban.org/api/v1/school-districts/saipe/2012/?leaid=&fips=44\n"
     ]
    },
    {
     "name": "stderr",
     "output_type": "stream",
     "text": [
      "/var/folders/jv/_0nbzmjn7p13g2s1_mch9b6c0000gn/T/ipykernel_27325/2137315506.py:39: FutureWarning: The frame.append method is deprecated and will be removed from pandas in a future version. Use pandas.concat instead.\n",
      "  all_data = all_data.append(df, ignore_index=True)\n",
      "/var/folders/jv/_0nbzmjn7p13g2s1_mch9b6c0000gn/T/ipykernel_27325/2137315506.py:39: FutureWarning: The frame.append method is deprecated and will be removed from pandas in a future version. Use pandas.concat instead.\n",
      "  all_data = all_data.append(df, ignore_index=True)\n"
     ]
    },
    {
     "name": "stdout",
     "output_type": "stream",
     "text": [
      "Trying URL: https://educationdata.urban.org/api/v1/school-districts/saipe/2012/?leaid=&fips=45\n",
      "Trying URL: https://educationdata.urban.org/api/v1/school-districts/saipe/2012/?leaid=&fips=46\n"
     ]
    },
    {
     "name": "stderr",
     "output_type": "stream",
     "text": [
      "/var/folders/jv/_0nbzmjn7p13g2s1_mch9b6c0000gn/T/ipykernel_27325/2137315506.py:39: FutureWarning: The frame.append method is deprecated and will be removed from pandas in a future version. Use pandas.concat instead.\n",
      "  all_data = all_data.append(df, ignore_index=True)\n",
      "/var/folders/jv/_0nbzmjn7p13g2s1_mch9b6c0000gn/T/ipykernel_27325/2137315506.py:39: FutureWarning: The frame.append method is deprecated and will be removed from pandas in a future version. Use pandas.concat instead.\n",
      "  all_data = all_data.append(df, ignore_index=True)\n"
     ]
    },
    {
     "name": "stdout",
     "output_type": "stream",
     "text": [
      "Trying URL: https://educationdata.urban.org/api/v1/school-districts/saipe/2012/?leaid=&fips=47\n",
      "Trying URL: https://educationdata.urban.org/api/v1/school-districts/saipe/2012/?leaid=&fips=48\n"
     ]
    },
    {
     "name": "stderr",
     "output_type": "stream",
     "text": [
      "/var/folders/jv/_0nbzmjn7p13g2s1_mch9b6c0000gn/T/ipykernel_27325/2137315506.py:39: FutureWarning: The frame.append method is deprecated and will be removed from pandas in a future version. Use pandas.concat instead.\n",
      "  all_data = all_data.append(df, ignore_index=True)\n",
      "/var/folders/jv/_0nbzmjn7p13g2s1_mch9b6c0000gn/T/ipykernel_27325/2137315506.py:39: FutureWarning: The frame.append method is deprecated and will be removed from pandas in a future version. Use pandas.concat instead.\n",
      "  all_data = all_data.append(df, ignore_index=True)\n"
     ]
    },
    {
     "name": "stdout",
     "output_type": "stream",
     "text": [
      "Trying URL: https://educationdata.urban.org/api/v1/school-districts/saipe/2012/?leaid=&fips=49\n",
      "Trying URL: https://educationdata.urban.org/api/v1/school-districts/saipe/2012/?leaid=&fips=50\n"
     ]
    },
    {
     "name": "stderr",
     "output_type": "stream",
     "text": [
      "/var/folders/jv/_0nbzmjn7p13g2s1_mch9b6c0000gn/T/ipykernel_27325/2137315506.py:39: FutureWarning: The frame.append method is deprecated and will be removed from pandas in a future version. Use pandas.concat instead.\n",
      "  all_data = all_data.append(df, ignore_index=True)\n",
      "/var/folders/jv/_0nbzmjn7p13g2s1_mch9b6c0000gn/T/ipykernel_27325/2137315506.py:39: FutureWarning: The frame.append method is deprecated and will be removed from pandas in a future version. Use pandas.concat instead.\n",
      "  all_data = all_data.append(df, ignore_index=True)\n"
     ]
    },
    {
     "name": "stdout",
     "output_type": "stream",
     "text": [
      "Trying URL: https://educationdata.urban.org/api/v1/school-districts/saipe/2012/?leaid=&fips=51\n",
      "Trying URL: https://educationdata.urban.org/api/v1/school-districts/saipe/2012/?leaid=&fips=52\n",
      "Error fetching data for FIPS 52 and year 2012: \"None of [Index(['district_id', 'district_name', 'year', 'est_population_total',\\n       'est_population_5_17', 'est_population_5_17_poverty',\\n       'est_population_5_17_poverty_pct', 'est_population_5_17_pct', 'leaid',\\n       'fips'],\\n      dtype='object')] are in the [columns]\"\n",
      "Trying URL: https://educationdata.urban.org/api/v1/school-districts/saipe/2012/?leaid=&fips=53\n"
     ]
    },
    {
     "name": "stderr",
     "output_type": "stream",
     "text": [
      "/var/folders/jv/_0nbzmjn7p13g2s1_mch9b6c0000gn/T/ipykernel_27325/2137315506.py:39: FutureWarning: The frame.append method is deprecated and will be removed from pandas in a future version. Use pandas.concat instead.\n",
      "  all_data = all_data.append(df, ignore_index=True)\n",
      "/var/folders/jv/_0nbzmjn7p13g2s1_mch9b6c0000gn/T/ipykernel_27325/2137315506.py:39: FutureWarning: The frame.append method is deprecated and will be removed from pandas in a future version. Use pandas.concat instead.\n",
      "  all_data = all_data.append(df, ignore_index=True)\n"
     ]
    },
    {
     "name": "stdout",
     "output_type": "stream",
     "text": [
      "Trying URL: https://educationdata.urban.org/api/v1/school-districts/saipe/2012/?leaid=&fips=54\n",
      "Trying URL: https://educationdata.urban.org/api/v1/school-districts/saipe/2012/?leaid=&fips=55\n"
     ]
    },
    {
     "name": "stderr",
     "output_type": "stream",
     "text": [
      "/var/folders/jv/_0nbzmjn7p13g2s1_mch9b6c0000gn/T/ipykernel_27325/2137315506.py:39: FutureWarning: The frame.append method is deprecated and will be removed from pandas in a future version. Use pandas.concat instead.\n",
      "  all_data = all_data.append(df, ignore_index=True)\n",
      "/var/folders/jv/_0nbzmjn7p13g2s1_mch9b6c0000gn/T/ipykernel_27325/2137315506.py:39: FutureWarning: The frame.append method is deprecated and will be removed from pandas in a future version. Use pandas.concat instead.\n",
      "  all_data = all_data.append(df, ignore_index=True)\n",
      "/var/folders/jv/_0nbzmjn7p13g2s1_mch9b6c0000gn/T/ipykernel_27325/2137315506.py:39: FutureWarning: The frame.append method is deprecated and will be removed from pandas in a future version. Use pandas.concat instead.\n",
      "  all_data = all_data.append(df, ignore_index=True)\n"
     ]
    },
    {
     "name": "stdout",
     "output_type": "stream",
     "text": [
      "Trying URL: https://educationdata.urban.org/api/v1/school-districts/saipe/2012/?leaid=&fips=56\n",
      "Trying URL: https://educationdata.urban.org/api/v1/school-districts/saipe/2013/?leaid=&fips=01\n"
     ]
    },
    {
     "name": "stderr",
     "output_type": "stream",
     "text": [
      "/var/folders/jv/_0nbzmjn7p13g2s1_mch9b6c0000gn/T/ipykernel_27325/2137315506.py:39: FutureWarning: The frame.append method is deprecated and will be removed from pandas in a future version. Use pandas.concat instead.\n",
      "  all_data = all_data.append(df, ignore_index=True)\n",
      "/var/folders/jv/_0nbzmjn7p13g2s1_mch9b6c0000gn/T/ipykernel_27325/2137315506.py:39: FutureWarning: The frame.append method is deprecated and will be removed from pandas in a future version. Use pandas.concat instead.\n",
      "  all_data = all_data.append(df, ignore_index=True)\n"
     ]
    },
    {
     "name": "stdout",
     "output_type": "stream",
     "text": [
      "Trying URL: https://educationdata.urban.org/api/v1/school-districts/saipe/2013/?leaid=&fips=02\n",
      "Trying URL: https://educationdata.urban.org/api/v1/school-districts/saipe/2013/?leaid=&fips=03\n",
      "Error fetching data for FIPS 03 and year 2013: \"None of [Index(['district_id', 'district_name', 'year', 'est_population_total',\\n       'est_population_5_17', 'est_population_5_17_poverty',\\n       'est_population_5_17_poverty_pct', 'est_population_5_17_pct', 'leaid',\\n       'fips'],\\n      dtype='object')] are in the [columns]\"\n",
      "Trying URL: https://educationdata.urban.org/api/v1/school-districts/saipe/2013/?leaid=&fips=04\n",
      "Trying URL: https://educationdata.urban.org/api/v1/school-districts/saipe/2013/?leaid=&fips=05\n"
     ]
    },
    {
     "name": "stderr",
     "output_type": "stream",
     "text": [
      "/var/folders/jv/_0nbzmjn7p13g2s1_mch9b6c0000gn/T/ipykernel_27325/2137315506.py:39: FutureWarning: The frame.append method is deprecated and will be removed from pandas in a future version. Use pandas.concat instead.\n",
      "  all_data = all_data.append(df, ignore_index=True)\n",
      "/var/folders/jv/_0nbzmjn7p13g2s1_mch9b6c0000gn/T/ipykernel_27325/2137315506.py:39: FutureWarning: The frame.append method is deprecated and will be removed from pandas in a future version. Use pandas.concat instead.\n",
      "  all_data = all_data.append(df, ignore_index=True)\n",
      "/var/folders/jv/_0nbzmjn7p13g2s1_mch9b6c0000gn/T/ipykernel_27325/2137315506.py:39: FutureWarning: The frame.append method is deprecated and will be removed from pandas in a future version. Use pandas.concat instead.\n",
      "  all_data = all_data.append(df, ignore_index=True)\n"
     ]
    },
    {
     "name": "stdout",
     "output_type": "stream",
     "text": [
      "Trying URL: https://educationdata.urban.org/api/v1/school-districts/saipe/2013/?leaid=&fips=06\n"
     ]
    },
    {
     "name": "stderr",
     "output_type": "stream",
     "text": [
      "/var/folders/jv/_0nbzmjn7p13g2s1_mch9b6c0000gn/T/ipykernel_27325/2137315506.py:39: FutureWarning: The frame.append method is deprecated and will be removed from pandas in a future version. Use pandas.concat instead.\n",
      "  all_data = all_data.append(df, ignore_index=True)\n",
      "/var/folders/jv/_0nbzmjn7p13g2s1_mch9b6c0000gn/T/ipykernel_27325/2137315506.py:39: FutureWarning: The frame.append method is deprecated and will be removed from pandas in a future version. Use pandas.concat instead.\n",
      "  all_data = all_data.append(df, ignore_index=True)\n"
     ]
    },
    {
     "name": "stdout",
     "output_type": "stream",
     "text": [
      "Trying URL: https://educationdata.urban.org/api/v1/school-districts/saipe/2013/?leaid=&fips=07\n",
      "Error fetching data for FIPS 07 and year 2013: \"None of [Index(['district_id', 'district_name', 'year', 'est_population_total',\\n       'est_population_5_17', 'est_population_5_17_poverty',\\n       'est_population_5_17_poverty_pct', 'est_population_5_17_pct', 'leaid',\\n       'fips'],\\n      dtype='object')] are in the [columns]\"\n",
      "Trying URL: https://educationdata.urban.org/api/v1/school-districts/saipe/2013/?leaid=&fips=08\n"
     ]
    },
    {
     "name": "stderr",
     "output_type": "stream",
     "text": [
      "/var/folders/jv/_0nbzmjn7p13g2s1_mch9b6c0000gn/T/ipykernel_27325/2137315506.py:39: FutureWarning: The frame.append method is deprecated and will be removed from pandas in a future version. Use pandas.concat instead.\n",
      "  all_data = all_data.append(df, ignore_index=True)\n",
      "/var/folders/jv/_0nbzmjn7p13g2s1_mch9b6c0000gn/T/ipykernel_27325/2137315506.py:39: FutureWarning: The frame.append method is deprecated and will be removed from pandas in a future version. Use pandas.concat instead.\n",
      "  all_data = all_data.append(df, ignore_index=True)\n"
     ]
    },
    {
     "name": "stdout",
     "output_type": "stream",
     "text": [
      "Trying URL: https://educationdata.urban.org/api/v1/school-districts/saipe/2013/?leaid=&fips=09\n",
      "Trying URL: https://educationdata.urban.org/api/v1/school-districts/saipe/2013/?leaid=&fips=10\n"
     ]
    },
    {
     "name": "stderr",
     "output_type": "stream",
     "text": [
      "/var/folders/jv/_0nbzmjn7p13g2s1_mch9b6c0000gn/T/ipykernel_27325/2137315506.py:39: FutureWarning: The frame.append method is deprecated and will be removed from pandas in a future version. Use pandas.concat instead.\n",
      "  all_data = all_data.append(df, ignore_index=True)\n",
      "/var/folders/jv/_0nbzmjn7p13g2s1_mch9b6c0000gn/T/ipykernel_27325/2137315506.py:39: FutureWarning: The frame.append method is deprecated and will be removed from pandas in a future version. Use pandas.concat instead.\n",
      "  all_data = all_data.append(df, ignore_index=True)\n"
     ]
    },
    {
     "name": "stdout",
     "output_type": "stream",
     "text": [
      "Trying URL: https://educationdata.urban.org/api/v1/school-districts/saipe/2013/?leaid=&fips=11\n",
      "Trying URL: https://educationdata.urban.org/api/v1/school-districts/saipe/2013/?leaid=&fips=12\n"
     ]
    },
    {
     "name": "stderr",
     "output_type": "stream",
     "text": [
      "/var/folders/jv/_0nbzmjn7p13g2s1_mch9b6c0000gn/T/ipykernel_27325/2137315506.py:39: FutureWarning: The frame.append method is deprecated and will be removed from pandas in a future version. Use pandas.concat instead.\n",
      "  all_data = all_data.append(df, ignore_index=True)\n",
      "/var/folders/jv/_0nbzmjn7p13g2s1_mch9b6c0000gn/T/ipykernel_27325/2137315506.py:39: FutureWarning: The frame.append method is deprecated and will be removed from pandas in a future version. Use pandas.concat instead.\n",
      "  all_data = all_data.append(df, ignore_index=True)\n"
     ]
    },
    {
     "name": "stdout",
     "output_type": "stream",
     "text": [
      "Trying URL: https://educationdata.urban.org/api/v1/school-districts/saipe/2013/?leaid=&fips=13\n",
      "Trying URL: https://educationdata.urban.org/api/v1/school-districts/saipe/2013/?leaid=&fips=14\n",
      "Error fetching data for FIPS 14 and year 2013: \"None of [Index(['district_id', 'district_name', 'year', 'est_population_total',\\n       'est_population_5_17', 'est_population_5_17_poverty',\\n       'est_population_5_17_poverty_pct', 'est_population_5_17_pct', 'leaid',\\n       'fips'],\\n      dtype='object')] are in the [columns]\"\n",
      "Trying URL: https://educationdata.urban.org/api/v1/school-districts/saipe/2013/?leaid=&fips=15\n",
      "Trying URL: https://educationdata.urban.org/api/v1/school-districts/saipe/2013/?leaid=&fips=16\n"
     ]
    },
    {
     "name": "stderr",
     "output_type": "stream",
     "text": [
      "/var/folders/jv/_0nbzmjn7p13g2s1_mch9b6c0000gn/T/ipykernel_27325/2137315506.py:39: FutureWarning: The frame.append method is deprecated and will be removed from pandas in a future version. Use pandas.concat instead.\n",
      "  all_data = all_data.append(df, ignore_index=True)\n",
      "/var/folders/jv/_0nbzmjn7p13g2s1_mch9b6c0000gn/T/ipykernel_27325/2137315506.py:39: FutureWarning: The frame.append method is deprecated and will be removed from pandas in a future version. Use pandas.concat instead.\n",
      "  all_data = all_data.append(df, ignore_index=True)\n",
      "/var/folders/jv/_0nbzmjn7p13g2s1_mch9b6c0000gn/T/ipykernel_27325/2137315506.py:39: FutureWarning: The frame.append method is deprecated and will be removed from pandas in a future version. Use pandas.concat instead.\n",
      "  all_data = all_data.append(df, ignore_index=True)\n"
     ]
    },
    {
     "name": "stdout",
     "output_type": "stream",
     "text": [
      "Trying URL: https://educationdata.urban.org/api/v1/school-districts/saipe/2013/?leaid=&fips=17\n"
     ]
    },
    {
     "name": "stderr",
     "output_type": "stream",
     "text": [
      "/var/folders/jv/_0nbzmjn7p13g2s1_mch9b6c0000gn/T/ipykernel_27325/2137315506.py:39: FutureWarning: The frame.append method is deprecated and will be removed from pandas in a future version. Use pandas.concat instead.\n",
      "  all_data = all_data.append(df, ignore_index=True)\n",
      "/var/folders/jv/_0nbzmjn7p13g2s1_mch9b6c0000gn/T/ipykernel_27325/2137315506.py:39: FutureWarning: The frame.append method is deprecated and will be removed from pandas in a future version. Use pandas.concat instead.\n",
      "  all_data = all_data.append(df, ignore_index=True)\n"
     ]
    },
    {
     "name": "stdout",
     "output_type": "stream",
     "text": [
      "Trying URL: https://educationdata.urban.org/api/v1/school-districts/saipe/2013/?leaid=&fips=18\n",
      "Trying URL: https://educationdata.urban.org/api/v1/school-districts/saipe/2013/?leaid=&fips=19\n"
     ]
    },
    {
     "name": "stderr",
     "output_type": "stream",
     "text": [
      "/var/folders/jv/_0nbzmjn7p13g2s1_mch9b6c0000gn/T/ipykernel_27325/2137315506.py:39: FutureWarning: The frame.append method is deprecated and will be removed from pandas in a future version. Use pandas.concat instead.\n",
      "  all_data = all_data.append(df, ignore_index=True)\n",
      "/var/folders/jv/_0nbzmjn7p13g2s1_mch9b6c0000gn/T/ipykernel_27325/2137315506.py:39: FutureWarning: The frame.append method is deprecated and will be removed from pandas in a future version. Use pandas.concat instead.\n",
      "  all_data = all_data.append(df, ignore_index=True)\n"
     ]
    },
    {
     "name": "stdout",
     "output_type": "stream",
     "text": [
      "Trying URL: https://educationdata.urban.org/api/v1/school-districts/saipe/2013/?leaid=&fips=20\n",
      "Trying URL: https://educationdata.urban.org/api/v1/school-districts/saipe/2013/?leaid=&fips=21\n"
     ]
    },
    {
     "name": "stderr",
     "output_type": "stream",
     "text": [
      "/var/folders/jv/_0nbzmjn7p13g2s1_mch9b6c0000gn/T/ipykernel_27325/2137315506.py:39: FutureWarning: The frame.append method is deprecated and will be removed from pandas in a future version. Use pandas.concat instead.\n",
      "  all_data = all_data.append(df, ignore_index=True)\n",
      "/var/folders/jv/_0nbzmjn7p13g2s1_mch9b6c0000gn/T/ipykernel_27325/2137315506.py:39: FutureWarning: The frame.append method is deprecated and will be removed from pandas in a future version. Use pandas.concat instead.\n",
      "  all_data = all_data.append(df, ignore_index=True)\n"
     ]
    },
    {
     "name": "stdout",
     "output_type": "stream",
     "text": [
      "Trying URL: https://educationdata.urban.org/api/v1/school-districts/saipe/2013/?leaid=&fips=22\n",
      "Trying URL: https://educationdata.urban.org/api/v1/school-districts/saipe/2013/?leaid=&fips=23\n"
     ]
    },
    {
     "name": "stderr",
     "output_type": "stream",
     "text": [
      "/var/folders/jv/_0nbzmjn7p13g2s1_mch9b6c0000gn/T/ipykernel_27325/2137315506.py:39: FutureWarning: The frame.append method is deprecated and will be removed from pandas in a future version. Use pandas.concat instead.\n",
      "  all_data = all_data.append(df, ignore_index=True)\n",
      "/var/folders/jv/_0nbzmjn7p13g2s1_mch9b6c0000gn/T/ipykernel_27325/2137315506.py:39: FutureWarning: The frame.append method is deprecated and will be removed from pandas in a future version. Use pandas.concat instead.\n",
      "  all_data = all_data.append(df, ignore_index=True)\n"
     ]
    },
    {
     "name": "stdout",
     "output_type": "stream",
     "text": [
      "Trying URL: https://educationdata.urban.org/api/v1/school-districts/saipe/2013/?leaid=&fips=24\n",
      "Trying URL: https://educationdata.urban.org/api/v1/school-districts/saipe/2013/?leaid=&fips=25\n"
     ]
    },
    {
     "name": "stderr",
     "output_type": "stream",
     "text": [
      "/var/folders/jv/_0nbzmjn7p13g2s1_mch9b6c0000gn/T/ipykernel_27325/2137315506.py:39: FutureWarning: The frame.append method is deprecated and will be removed from pandas in a future version. Use pandas.concat instead.\n",
      "  all_data = all_data.append(df, ignore_index=True)\n",
      "/var/folders/jv/_0nbzmjn7p13g2s1_mch9b6c0000gn/T/ipykernel_27325/2137315506.py:39: FutureWarning: The frame.append method is deprecated and will be removed from pandas in a future version. Use pandas.concat instead.\n",
      "  all_data = all_data.append(df, ignore_index=True)\n"
     ]
    },
    {
     "name": "stdout",
     "output_type": "stream",
     "text": [
      "Trying URL: https://educationdata.urban.org/api/v1/school-districts/saipe/2013/?leaid=&fips=26\n",
      "Trying URL: https://educationdata.urban.org/api/v1/school-districts/saipe/2013/?leaid=&fips=27\n"
     ]
    },
    {
     "name": "stderr",
     "output_type": "stream",
     "text": [
      "/var/folders/jv/_0nbzmjn7p13g2s1_mch9b6c0000gn/T/ipykernel_27325/2137315506.py:39: FutureWarning: The frame.append method is deprecated and will be removed from pandas in a future version. Use pandas.concat instead.\n",
      "  all_data = all_data.append(df, ignore_index=True)\n",
      "/var/folders/jv/_0nbzmjn7p13g2s1_mch9b6c0000gn/T/ipykernel_27325/2137315506.py:39: FutureWarning: The frame.append method is deprecated and will be removed from pandas in a future version. Use pandas.concat instead.\n",
      "  all_data = all_data.append(df, ignore_index=True)\n"
     ]
    },
    {
     "name": "stdout",
     "output_type": "stream",
     "text": [
      "Trying URL: https://educationdata.urban.org/api/v1/school-districts/saipe/2013/?leaid=&fips=28\n",
      "Trying URL: https://educationdata.urban.org/api/v1/school-districts/saipe/2013/?leaid=&fips=29\n"
     ]
    },
    {
     "name": "stderr",
     "output_type": "stream",
     "text": [
      "/var/folders/jv/_0nbzmjn7p13g2s1_mch9b6c0000gn/T/ipykernel_27325/2137315506.py:39: FutureWarning: The frame.append method is deprecated and will be removed from pandas in a future version. Use pandas.concat instead.\n",
      "  all_data = all_data.append(df, ignore_index=True)\n"
     ]
    },
    {
     "name": "stdout",
     "output_type": "stream",
     "text": [
      "Trying URL: https://educationdata.urban.org/api/v1/school-districts/saipe/2013/?leaid=&fips=30\n"
     ]
    },
    {
     "name": "stderr",
     "output_type": "stream",
     "text": [
      "/var/folders/jv/_0nbzmjn7p13g2s1_mch9b6c0000gn/T/ipykernel_27325/2137315506.py:39: FutureWarning: The frame.append method is deprecated and will be removed from pandas in a future version. Use pandas.concat instead.\n",
      "  all_data = all_data.append(df, ignore_index=True)\n",
      "/var/folders/jv/_0nbzmjn7p13g2s1_mch9b6c0000gn/T/ipykernel_27325/2137315506.py:39: FutureWarning: The frame.append method is deprecated and will be removed from pandas in a future version. Use pandas.concat instead.\n",
      "  all_data = all_data.append(df, ignore_index=True)\n"
     ]
    },
    {
     "name": "stdout",
     "output_type": "stream",
     "text": [
      "Trying URL: https://educationdata.urban.org/api/v1/school-districts/saipe/2013/?leaid=&fips=31\n",
      "Trying URL: https://educationdata.urban.org/api/v1/school-districts/saipe/2013/?leaid=&fips=32\n"
     ]
    },
    {
     "name": "stderr",
     "output_type": "stream",
     "text": [
      "/var/folders/jv/_0nbzmjn7p13g2s1_mch9b6c0000gn/T/ipykernel_27325/2137315506.py:39: FutureWarning: The frame.append method is deprecated and will be removed from pandas in a future version. Use pandas.concat instead.\n",
      "  all_data = all_data.append(df, ignore_index=True)\n",
      "/var/folders/jv/_0nbzmjn7p13g2s1_mch9b6c0000gn/T/ipykernel_27325/2137315506.py:39: FutureWarning: The frame.append method is deprecated and will be removed from pandas in a future version. Use pandas.concat instead.\n",
      "  all_data = all_data.append(df, ignore_index=True)\n"
     ]
    },
    {
     "name": "stdout",
     "output_type": "stream",
     "text": [
      "Trying URL: https://educationdata.urban.org/api/v1/school-districts/saipe/2013/?leaid=&fips=33\n",
      "Trying URL: https://educationdata.urban.org/api/v1/school-districts/saipe/2013/?leaid=&fips=34\n"
     ]
    },
    {
     "name": "stderr",
     "output_type": "stream",
     "text": [
      "/var/folders/jv/_0nbzmjn7p13g2s1_mch9b6c0000gn/T/ipykernel_27325/2137315506.py:39: FutureWarning: The frame.append method is deprecated and will be removed from pandas in a future version. Use pandas.concat instead.\n",
      "  all_data = all_data.append(df, ignore_index=True)\n",
      "/var/folders/jv/_0nbzmjn7p13g2s1_mch9b6c0000gn/T/ipykernel_27325/2137315506.py:39: FutureWarning: The frame.append method is deprecated and will be removed from pandas in a future version. Use pandas.concat instead.\n",
      "  all_data = all_data.append(df, ignore_index=True)\n"
     ]
    },
    {
     "name": "stdout",
     "output_type": "stream",
     "text": [
      "Trying URL: https://educationdata.urban.org/api/v1/school-districts/saipe/2013/?leaid=&fips=35\n",
      "Trying URL: https://educationdata.urban.org/api/v1/school-districts/saipe/2013/?leaid=&fips=36\n"
     ]
    },
    {
     "name": "stderr",
     "output_type": "stream",
     "text": [
      "/var/folders/jv/_0nbzmjn7p13g2s1_mch9b6c0000gn/T/ipykernel_27325/2137315506.py:39: FutureWarning: The frame.append method is deprecated and will be removed from pandas in a future version. Use pandas.concat instead.\n",
      "  all_data = all_data.append(df, ignore_index=True)\n"
     ]
    },
    {
     "name": "stdout",
     "output_type": "stream",
     "text": [
      "Trying URL: https://educationdata.urban.org/api/v1/school-districts/saipe/2013/?leaid=&fips=37\n"
     ]
    },
    {
     "name": "stderr",
     "output_type": "stream",
     "text": [
      "/var/folders/jv/_0nbzmjn7p13g2s1_mch9b6c0000gn/T/ipykernel_27325/2137315506.py:39: FutureWarning: The frame.append method is deprecated and will be removed from pandas in a future version. Use pandas.concat instead.\n",
      "  all_data = all_data.append(df, ignore_index=True)\n",
      "/var/folders/jv/_0nbzmjn7p13g2s1_mch9b6c0000gn/T/ipykernel_27325/2137315506.py:39: FutureWarning: The frame.append method is deprecated and will be removed from pandas in a future version. Use pandas.concat instead.\n",
      "  all_data = all_data.append(df, ignore_index=True)\n"
     ]
    },
    {
     "name": "stdout",
     "output_type": "stream",
     "text": [
      "Trying URL: https://educationdata.urban.org/api/v1/school-districts/saipe/2013/?leaid=&fips=38\n",
      "Trying URL: https://educationdata.urban.org/api/v1/school-districts/saipe/2013/?leaid=&fips=39\n"
     ]
    },
    {
     "name": "stderr",
     "output_type": "stream",
     "text": [
      "/var/folders/jv/_0nbzmjn7p13g2s1_mch9b6c0000gn/T/ipykernel_27325/2137315506.py:39: FutureWarning: The frame.append method is deprecated and will be removed from pandas in a future version. Use pandas.concat instead.\n",
      "  all_data = all_data.append(df, ignore_index=True)\n"
     ]
    },
    {
     "name": "stdout",
     "output_type": "stream",
     "text": [
      "Trying URL: https://educationdata.urban.org/api/v1/school-districts/saipe/2013/?leaid=&fips=40\n"
     ]
    },
    {
     "name": "stderr",
     "output_type": "stream",
     "text": [
      "/var/folders/jv/_0nbzmjn7p13g2s1_mch9b6c0000gn/T/ipykernel_27325/2137315506.py:39: FutureWarning: The frame.append method is deprecated and will be removed from pandas in a future version. Use pandas.concat instead.\n",
      "  all_data = all_data.append(df, ignore_index=True)\n",
      "/var/folders/jv/_0nbzmjn7p13g2s1_mch9b6c0000gn/T/ipykernel_27325/2137315506.py:39: FutureWarning: The frame.append method is deprecated and will be removed from pandas in a future version. Use pandas.concat instead.\n",
      "  all_data = all_data.append(df, ignore_index=True)\n"
     ]
    },
    {
     "name": "stdout",
     "output_type": "stream",
     "text": [
      "Trying URL: https://educationdata.urban.org/api/v1/school-districts/saipe/2013/?leaid=&fips=41\n",
      "Trying URL: https://educationdata.urban.org/api/v1/school-districts/saipe/2013/?leaid=&fips=42\n"
     ]
    },
    {
     "name": "stderr",
     "output_type": "stream",
     "text": [
      "/var/folders/jv/_0nbzmjn7p13g2s1_mch9b6c0000gn/T/ipykernel_27325/2137315506.py:39: FutureWarning: The frame.append method is deprecated and will be removed from pandas in a future version. Use pandas.concat instead.\n",
      "  all_data = all_data.append(df, ignore_index=True)\n",
      "/var/folders/jv/_0nbzmjn7p13g2s1_mch9b6c0000gn/T/ipykernel_27325/2137315506.py:39: FutureWarning: The frame.append method is deprecated and will be removed from pandas in a future version. Use pandas.concat instead.\n",
      "  all_data = all_data.append(df, ignore_index=True)\n"
     ]
    },
    {
     "name": "stdout",
     "output_type": "stream",
     "text": [
      "Trying URL: https://educationdata.urban.org/api/v1/school-districts/saipe/2013/?leaid=&fips=43\n",
      "Error fetching data for FIPS 43 and year 2013: \"None of [Index(['district_id', 'district_name', 'year', 'est_population_total',\\n       'est_population_5_17', 'est_population_5_17_poverty',\\n       'est_population_5_17_poverty_pct', 'est_population_5_17_pct', 'leaid',\\n       'fips'],\\n      dtype='object')] are in the [columns]\"\n",
      "Trying URL: https://educationdata.urban.org/api/v1/school-districts/saipe/2013/?leaid=&fips=44\n"
     ]
    },
    {
     "name": "stderr",
     "output_type": "stream",
     "text": [
      "/var/folders/jv/_0nbzmjn7p13g2s1_mch9b6c0000gn/T/ipykernel_27325/2137315506.py:39: FutureWarning: The frame.append method is deprecated and will be removed from pandas in a future version. Use pandas.concat instead.\n",
      "  all_data = all_data.append(df, ignore_index=True)\n",
      "/var/folders/jv/_0nbzmjn7p13g2s1_mch9b6c0000gn/T/ipykernel_27325/2137315506.py:39: FutureWarning: The frame.append method is deprecated and will be removed from pandas in a future version. Use pandas.concat instead.\n",
      "  all_data = all_data.append(df, ignore_index=True)\n"
     ]
    },
    {
     "name": "stdout",
     "output_type": "stream",
     "text": [
      "Trying URL: https://educationdata.urban.org/api/v1/school-districts/saipe/2013/?leaid=&fips=45\n",
      "Trying URL: https://educationdata.urban.org/api/v1/school-districts/saipe/2013/?leaid=&fips=46\n"
     ]
    },
    {
     "name": "stderr",
     "output_type": "stream",
     "text": [
      "/var/folders/jv/_0nbzmjn7p13g2s1_mch9b6c0000gn/T/ipykernel_27325/2137315506.py:39: FutureWarning: The frame.append method is deprecated and will be removed from pandas in a future version. Use pandas.concat instead.\n",
      "  all_data = all_data.append(df, ignore_index=True)\n",
      "/var/folders/jv/_0nbzmjn7p13g2s1_mch9b6c0000gn/T/ipykernel_27325/2137315506.py:39: FutureWarning: The frame.append method is deprecated and will be removed from pandas in a future version. Use pandas.concat instead.\n",
      "  all_data = all_data.append(df, ignore_index=True)\n"
     ]
    },
    {
     "name": "stdout",
     "output_type": "stream",
     "text": [
      "Trying URL: https://educationdata.urban.org/api/v1/school-districts/saipe/2013/?leaid=&fips=47\n",
      "Trying URL: https://educationdata.urban.org/api/v1/school-districts/saipe/2013/?leaid=&fips=48\n"
     ]
    },
    {
     "name": "stderr",
     "output_type": "stream",
     "text": [
      "/var/folders/jv/_0nbzmjn7p13g2s1_mch9b6c0000gn/T/ipykernel_27325/2137315506.py:39: FutureWarning: The frame.append method is deprecated and will be removed from pandas in a future version. Use pandas.concat instead.\n",
      "  all_data = all_data.append(df, ignore_index=True)\n",
      "/var/folders/jv/_0nbzmjn7p13g2s1_mch9b6c0000gn/T/ipykernel_27325/2137315506.py:39: FutureWarning: The frame.append method is deprecated and will be removed from pandas in a future version. Use pandas.concat instead.\n",
      "  all_data = all_data.append(df, ignore_index=True)\n"
     ]
    },
    {
     "name": "stdout",
     "output_type": "stream",
     "text": [
      "Trying URL: https://educationdata.urban.org/api/v1/school-districts/saipe/2013/?leaid=&fips=49\n",
      "Trying URL: https://educationdata.urban.org/api/v1/school-districts/saipe/2013/?leaid=&fips=50\n"
     ]
    },
    {
     "name": "stderr",
     "output_type": "stream",
     "text": [
      "/var/folders/jv/_0nbzmjn7p13g2s1_mch9b6c0000gn/T/ipykernel_27325/2137315506.py:39: FutureWarning: The frame.append method is deprecated and will be removed from pandas in a future version. Use pandas.concat instead.\n",
      "  all_data = all_data.append(df, ignore_index=True)\n",
      "/var/folders/jv/_0nbzmjn7p13g2s1_mch9b6c0000gn/T/ipykernel_27325/2137315506.py:39: FutureWarning: The frame.append method is deprecated and will be removed from pandas in a future version. Use pandas.concat instead.\n",
      "  all_data = all_data.append(df, ignore_index=True)\n"
     ]
    },
    {
     "name": "stdout",
     "output_type": "stream",
     "text": [
      "Trying URL: https://educationdata.urban.org/api/v1/school-districts/saipe/2013/?leaid=&fips=51\n",
      "Trying URL: https://educationdata.urban.org/api/v1/school-districts/saipe/2013/?leaid=&fips=52\n",
      "Error fetching data for FIPS 52 and year 2013: \"None of [Index(['district_id', 'district_name', 'year', 'est_population_total',\\n       'est_population_5_17', 'est_population_5_17_poverty',\\n       'est_population_5_17_poverty_pct', 'est_population_5_17_pct', 'leaid',\\n       'fips'],\\n      dtype='object')] are in the [columns]\"\n",
      "Trying URL: https://educationdata.urban.org/api/v1/school-districts/saipe/2013/?leaid=&fips=53\n",
      "Trying URL: https://educationdata.urban.org/api/v1/school-districts/saipe/2013/?leaid=&fips=54\n"
     ]
    },
    {
     "name": "stderr",
     "output_type": "stream",
     "text": [
      "/var/folders/jv/_0nbzmjn7p13g2s1_mch9b6c0000gn/T/ipykernel_27325/2137315506.py:39: FutureWarning: The frame.append method is deprecated and will be removed from pandas in a future version. Use pandas.concat instead.\n",
      "  all_data = all_data.append(df, ignore_index=True)\n",
      "/var/folders/jv/_0nbzmjn7p13g2s1_mch9b6c0000gn/T/ipykernel_27325/2137315506.py:39: FutureWarning: The frame.append method is deprecated and will be removed from pandas in a future version. Use pandas.concat instead.\n",
      "  all_data = all_data.append(df, ignore_index=True)\n",
      "/var/folders/jv/_0nbzmjn7p13g2s1_mch9b6c0000gn/T/ipykernel_27325/2137315506.py:39: FutureWarning: The frame.append method is deprecated and will be removed from pandas in a future version. Use pandas.concat instead.\n",
      "  all_data = all_data.append(df, ignore_index=True)\n",
      "/var/folders/jv/_0nbzmjn7p13g2s1_mch9b6c0000gn/T/ipykernel_27325/2137315506.py:39: FutureWarning: The frame.append method is deprecated and will be removed from pandas in a future version. Use pandas.concat instead.\n",
      "  all_data = all_data.append(df, ignore_index=True)\n"
     ]
    },
    {
     "name": "stdout",
     "output_type": "stream",
     "text": [
      "Trying URL: https://educationdata.urban.org/api/v1/school-districts/saipe/2013/?leaid=&fips=55\n",
      "Trying URL: https://educationdata.urban.org/api/v1/school-districts/saipe/2013/?leaid=&fips=56\n"
     ]
    },
    {
     "name": "stderr",
     "output_type": "stream",
     "text": [
      "/var/folders/jv/_0nbzmjn7p13g2s1_mch9b6c0000gn/T/ipykernel_27325/2137315506.py:39: FutureWarning: The frame.append method is deprecated and will be removed from pandas in a future version. Use pandas.concat instead.\n",
      "  all_data = all_data.append(df, ignore_index=True)\n",
      "/var/folders/jv/_0nbzmjn7p13g2s1_mch9b6c0000gn/T/ipykernel_27325/2137315506.py:39: FutureWarning: The frame.append method is deprecated and will be removed from pandas in a future version. Use pandas.concat instead.\n",
      "  all_data = all_data.append(df, ignore_index=True)\n"
     ]
    },
    {
     "name": "stdout",
     "output_type": "stream",
     "text": [
      "Trying URL: https://educationdata.urban.org/api/v1/school-districts/saipe/2014/?leaid=&fips=01\n",
      "Trying URL: https://educationdata.urban.org/api/v1/school-districts/saipe/2014/?leaid=&fips=02\n"
     ]
    },
    {
     "name": "stderr",
     "output_type": "stream",
     "text": [
      "/var/folders/jv/_0nbzmjn7p13g2s1_mch9b6c0000gn/T/ipykernel_27325/2137315506.py:39: FutureWarning: The frame.append method is deprecated and will be removed from pandas in a future version. Use pandas.concat instead.\n",
      "  all_data = all_data.append(df, ignore_index=True)\n",
      "/var/folders/jv/_0nbzmjn7p13g2s1_mch9b6c0000gn/T/ipykernel_27325/2137315506.py:39: FutureWarning: The frame.append method is deprecated and will be removed from pandas in a future version. Use pandas.concat instead.\n",
      "  all_data = all_data.append(df, ignore_index=True)\n"
     ]
    },
    {
     "name": "stdout",
     "output_type": "stream",
     "text": [
      "Trying URL: https://educationdata.urban.org/api/v1/school-districts/saipe/2014/?leaid=&fips=03\n",
      "Error fetching data for FIPS 03 and year 2014: \"None of [Index(['district_id', 'district_name', 'year', 'est_population_total',\\n       'est_population_5_17', 'est_population_5_17_poverty',\\n       'est_population_5_17_poverty_pct', 'est_population_5_17_pct', 'leaid',\\n       'fips'],\\n      dtype='object')] are in the [columns]\"\n",
      "Trying URL: https://educationdata.urban.org/api/v1/school-districts/saipe/2014/?leaid=&fips=04\n"
     ]
    },
    {
     "name": "stderr",
     "output_type": "stream",
     "text": [
      "/var/folders/jv/_0nbzmjn7p13g2s1_mch9b6c0000gn/T/ipykernel_27325/2137315506.py:39: FutureWarning: The frame.append method is deprecated and will be removed from pandas in a future version. Use pandas.concat instead.\n",
      "  all_data = all_data.append(df, ignore_index=True)\n",
      "/var/folders/jv/_0nbzmjn7p13g2s1_mch9b6c0000gn/T/ipykernel_27325/2137315506.py:39: FutureWarning: The frame.append method is deprecated and will be removed from pandas in a future version. Use pandas.concat instead.\n",
      "  all_data = all_data.append(df, ignore_index=True)\n"
     ]
    },
    {
     "name": "stdout",
     "output_type": "stream",
     "text": [
      "Trying URL: https://educationdata.urban.org/api/v1/school-districts/saipe/2014/?leaid=&fips=05\n",
      "Trying URL: https://educationdata.urban.org/api/v1/school-districts/saipe/2014/?leaid=&fips=06\n"
     ]
    },
    {
     "name": "stderr",
     "output_type": "stream",
     "text": [
      "/var/folders/jv/_0nbzmjn7p13g2s1_mch9b6c0000gn/T/ipykernel_27325/2137315506.py:39: FutureWarning: The frame.append method is deprecated and will be removed from pandas in a future version. Use pandas.concat instead.\n",
      "  all_data = all_data.append(df, ignore_index=True)\n",
      "/var/folders/jv/_0nbzmjn7p13g2s1_mch9b6c0000gn/T/ipykernel_27325/2137315506.py:39: FutureWarning: The frame.append method is deprecated and will be removed from pandas in a future version. Use pandas.concat instead.\n",
      "  all_data = all_data.append(df, ignore_index=True)\n"
     ]
    },
    {
     "name": "stdout",
     "output_type": "stream",
     "text": [
      "Trying URL: https://educationdata.urban.org/api/v1/school-districts/saipe/2014/?leaid=&fips=07\n",
      "Error fetching data for FIPS 07 and year 2014: \"None of [Index(['district_id', 'district_name', 'year', 'est_population_total',\\n       'est_population_5_17', 'est_population_5_17_poverty',\\n       'est_population_5_17_poverty_pct', 'est_population_5_17_pct', 'leaid',\\n       'fips'],\\n      dtype='object')] are in the [columns]\"\n",
      "Trying URL: https://educationdata.urban.org/api/v1/school-districts/saipe/2014/?leaid=&fips=08\n"
     ]
    },
    {
     "name": "stderr",
     "output_type": "stream",
     "text": [
      "/var/folders/jv/_0nbzmjn7p13g2s1_mch9b6c0000gn/T/ipykernel_27325/2137315506.py:39: FutureWarning: The frame.append method is deprecated and will be removed from pandas in a future version. Use pandas.concat instead.\n",
      "  all_data = all_data.append(df, ignore_index=True)\n",
      "/var/folders/jv/_0nbzmjn7p13g2s1_mch9b6c0000gn/T/ipykernel_27325/2137315506.py:39: FutureWarning: The frame.append method is deprecated and will be removed from pandas in a future version. Use pandas.concat instead.\n",
      "  all_data = all_data.append(df, ignore_index=True)\n"
     ]
    },
    {
     "name": "stdout",
     "output_type": "stream",
     "text": [
      "Trying URL: https://educationdata.urban.org/api/v1/school-districts/saipe/2014/?leaid=&fips=09\n",
      "Trying URL: https://educationdata.urban.org/api/v1/school-districts/saipe/2014/?leaid=&fips=10\n"
     ]
    },
    {
     "name": "stderr",
     "output_type": "stream",
     "text": [
      "/var/folders/jv/_0nbzmjn7p13g2s1_mch9b6c0000gn/T/ipykernel_27325/2137315506.py:39: FutureWarning: The frame.append method is deprecated and will be removed from pandas in a future version. Use pandas.concat instead.\n",
      "  all_data = all_data.append(df, ignore_index=True)\n",
      "/var/folders/jv/_0nbzmjn7p13g2s1_mch9b6c0000gn/T/ipykernel_27325/2137315506.py:39: FutureWarning: The frame.append method is deprecated and will be removed from pandas in a future version. Use pandas.concat instead.\n",
      "  all_data = all_data.append(df, ignore_index=True)\n"
     ]
    },
    {
     "name": "stdout",
     "output_type": "stream",
     "text": [
      "Trying URL: https://educationdata.urban.org/api/v1/school-districts/saipe/2014/?leaid=&fips=11\n",
      "Trying URL: https://educationdata.urban.org/api/v1/school-districts/saipe/2014/?leaid=&fips=12\n"
     ]
    },
    {
     "name": "stderr",
     "output_type": "stream",
     "text": [
      "/var/folders/jv/_0nbzmjn7p13g2s1_mch9b6c0000gn/T/ipykernel_27325/2137315506.py:39: FutureWarning: The frame.append method is deprecated and will be removed from pandas in a future version. Use pandas.concat instead.\n",
      "  all_data = all_data.append(df, ignore_index=True)\n",
      "/var/folders/jv/_0nbzmjn7p13g2s1_mch9b6c0000gn/T/ipykernel_27325/2137315506.py:39: FutureWarning: The frame.append method is deprecated and will be removed from pandas in a future version. Use pandas.concat instead.\n",
      "  all_data = all_data.append(df, ignore_index=True)\n"
     ]
    },
    {
     "name": "stdout",
     "output_type": "stream",
     "text": [
      "Trying URL: https://educationdata.urban.org/api/v1/school-districts/saipe/2014/?leaid=&fips=13\n",
      "Trying URL: https://educationdata.urban.org/api/v1/school-districts/saipe/2014/?leaid=&fips=14\n",
      "Error fetching data for FIPS 14 and year 2014: \"None of [Index(['district_id', 'district_name', 'year', 'est_population_total',\\n       'est_population_5_17', 'est_population_5_17_poverty',\\n       'est_population_5_17_poverty_pct', 'est_population_5_17_pct', 'leaid',\\n       'fips'],\\n      dtype='object')] are in the [columns]\"\n",
      "Trying URL: https://educationdata.urban.org/api/v1/school-districts/saipe/2014/?leaid=&fips=15\n",
      "Trying URL: https://educationdata.urban.org/api/v1/school-districts/saipe/2014/?leaid=&fips=16\n"
     ]
    },
    {
     "name": "stderr",
     "output_type": "stream",
     "text": [
      "/var/folders/jv/_0nbzmjn7p13g2s1_mch9b6c0000gn/T/ipykernel_27325/2137315506.py:39: FutureWarning: The frame.append method is deprecated and will be removed from pandas in a future version. Use pandas.concat instead.\n",
      "  all_data = all_data.append(df, ignore_index=True)\n",
      "/var/folders/jv/_0nbzmjn7p13g2s1_mch9b6c0000gn/T/ipykernel_27325/2137315506.py:39: FutureWarning: The frame.append method is deprecated and will be removed from pandas in a future version. Use pandas.concat instead.\n",
      "  all_data = all_data.append(df, ignore_index=True)\n",
      "/var/folders/jv/_0nbzmjn7p13g2s1_mch9b6c0000gn/T/ipykernel_27325/2137315506.py:39: FutureWarning: The frame.append method is deprecated and will be removed from pandas in a future version. Use pandas.concat instead.\n",
      "  all_data = all_data.append(df, ignore_index=True)\n"
     ]
    },
    {
     "name": "stdout",
     "output_type": "stream",
     "text": [
      "Trying URL: https://educationdata.urban.org/api/v1/school-districts/saipe/2014/?leaid=&fips=17\n"
     ]
    },
    {
     "name": "stderr",
     "output_type": "stream",
     "text": [
      "/var/folders/jv/_0nbzmjn7p13g2s1_mch9b6c0000gn/T/ipykernel_27325/2137315506.py:39: FutureWarning: The frame.append method is deprecated and will be removed from pandas in a future version. Use pandas.concat instead.\n",
      "  all_data = all_data.append(df, ignore_index=True)\n"
     ]
    },
    {
     "name": "stdout",
     "output_type": "stream",
     "text": [
      "Trying URL: https://educationdata.urban.org/api/v1/school-districts/saipe/2014/?leaid=&fips=18\n"
     ]
    },
    {
     "name": "stderr",
     "output_type": "stream",
     "text": [
      "/var/folders/jv/_0nbzmjn7p13g2s1_mch9b6c0000gn/T/ipykernel_27325/2137315506.py:39: FutureWarning: The frame.append method is deprecated and will be removed from pandas in a future version. Use pandas.concat instead.\n",
      "  all_data = all_data.append(df, ignore_index=True)\n"
     ]
    },
    {
     "name": "stdout",
     "output_type": "stream",
     "text": [
      "Trying URL: https://educationdata.urban.org/api/v1/school-districts/saipe/2014/?leaid=&fips=19\n"
     ]
    },
    {
     "name": "stderr",
     "output_type": "stream",
     "text": [
      "/var/folders/jv/_0nbzmjn7p13g2s1_mch9b6c0000gn/T/ipykernel_27325/2137315506.py:39: FutureWarning: The frame.append method is deprecated and will be removed from pandas in a future version. Use pandas.concat instead.\n",
      "  all_data = all_data.append(df, ignore_index=True)\n"
     ]
    },
    {
     "name": "stdout",
     "output_type": "stream",
     "text": [
      "Trying URL: https://educationdata.urban.org/api/v1/school-districts/saipe/2014/?leaid=&fips=20\n"
     ]
    },
    {
     "name": "stderr",
     "output_type": "stream",
     "text": [
      "/var/folders/jv/_0nbzmjn7p13g2s1_mch9b6c0000gn/T/ipykernel_27325/2137315506.py:39: FutureWarning: The frame.append method is deprecated and will be removed from pandas in a future version. Use pandas.concat instead.\n",
      "  all_data = all_data.append(df, ignore_index=True)\n",
      "/var/folders/jv/_0nbzmjn7p13g2s1_mch9b6c0000gn/T/ipykernel_27325/2137315506.py:39: FutureWarning: The frame.append method is deprecated and will be removed from pandas in a future version. Use pandas.concat instead.\n",
      "  all_data = all_data.append(df, ignore_index=True)\n"
     ]
    },
    {
     "name": "stdout",
     "output_type": "stream",
     "text": [
      "Trying URL: https://educationdata.urban.org/api/v1/school-districts/saipe/2014/?leaid=&fips=21\n",
      "Trying URL: https://educationdata.urban.org/api/v1/school-districts/saipe/2014/?leaid=&fips=22\n"
     ]
    },
    {
     "name": "stderr",
     "output_type": "stream",
     "text": [
      "/var/folders/jv/_0nbzmjn7p13g2s1_mch9b6c0000gn/T/ipykernel_27325/2137315506.py:39: FutureWarning: The frame.append method is deprecated and will be removed from pandas in a future version. Use pandas.concat instead.\n",
      "  all_data = all_data.append(df, ignore_index=True)\n",
      "/var/folders/jv/_0nbzmjn7p13g2s1_mch9b6c0000gn/T/ipykernel_27325/2137315506.py:39: FutureWarning: The frame.append method is deprecated and will be removed from pandas in a future version. Use pandas.concat instead.\n",
      "  all_data = all_data.append(df, ignore_index=True)\n"
     ]
    },
    {
     "name": "stdout",
     "output_type": "stream",
     "text": [
      "Trying URL: https://educationdata.urban.org/api/v1/school-districts/saipe/2014/?leaid=&fips=23\n",
      "Trying URL: https://educationdata.urban.org/api/v1/school-districts/saipe/2014/?leaid=&fips=24\n"
     ]
    },
    {
     "name": "stderr",
     "output_type": "stream",
     "text": [
      "/var/folders/jv/_0nbzmjn7p13g2s1_mch9b6c0000gn/T/ipykernel_27325/2137315506.py:39: FutureWarning: The frame.append method is deprecated and will be removed from pandas in a future version. Use pandas.concat instead.\n",
      "  all_data = all_data.append(df, ignore_index=True)\n",
      "/var/folders/jv/_0nbzmjn7p13g2s1_mch9b6c0000gn/T/ipykernel_27325/2137315506.py:39: FutureWarning: The frame.append method is deprecated and will be removed from pandas in a future version. Use pandas.concat instead.\n",
      "  all_data = all_data.append(df, ignore_index=True)\n"
     ]
    },
    {
     "name": "stdout",
     "output_type": "stream",
     "text": [
      "Trying URL: https://educationdata.urban.org/api/v1/school-districts/saipe/2014/?leaid=&fips=25\n",
      "Trying URL: https://educationdata.urban.org/api/v1/school-districts/saipe/2014/?leaid=&fips=26\n"
     ]
    },
    {
     "name": "stderr",
     "output_type": "stream",
     "text": [
      "/var/folders/jv/_0nbzmjn7p13g2s1_mch9b6c0000gn/T/ipykernel_27325/2137315506.py:39: FutureWarning: The frame.append method is deprecated and will be removed from pandas in a future version. Use pandas.concat instead.\n",
      "  all_data = all_data.append(df, ignore_index=True)\n",
      "/var/folders/jv/_0nbzmjn7p13g2s1_mch9b6c0000gn/T/ipykernel_27325/2137315506.py:39: FutureWarning: The frame.append method is deprecated and will be removed from pandas in a future version. Use pandas.concat instead.\n",
      "  all_data = all_data.append(df, ignore_index=True)\n"
     ]
    },
    {
     "name": "stdout",
     "output_type": "stream",
     "text": [
      "Trying URL: https://educationdata.urban.org/api/v1/school-districts/saipe/2014/?leaid=&fips=27\n",
      "Trying URL: https://educationdata.urban.org/api/v1/school-districts/saipe/2014/?leaid=&fips=28\n"
     ]
    },
    {
     "name": "stderr",
     "output_type": "stream",
     "text": [
      "/var/folders/jv/_0nbzmjn7p13g2s1_mch9b6c0000gn/T/ipykernel_27325/2137315506.py:39: FutureWarning: The frame.append method is deprecated and will be removed from pandas in a future version. Use pandas.concat instead.\n",
      "  all_data = all_data.append(df, ignore_index=True)\n"
     ]
    },
    {
     "name": "stdout",
     "output_type": "stream",
     "text": [
      "Trying URL: https://educationdata.urban.org/api/v1/school-districts/saipe/2014/?leaid=&fips=29\n"
     ]
    },
    {
     "name": "stderr",
     "output_type": "stream",
     "text": [
      "/var/folders/jv/_0nbzmjn7p13g2s1_mch9b6c0000gn/T/ipykernel_27325/2137315506.py:39: FutureWarning: The frame.append method is deprecated and will be removed from pandas in a future version. Use pandas.concat instead.\n",
      "  all_data = all_data.append(df, ignore_index=True)\n",
      "/var/folders/jv/_0nbzmjn7p13g2s1_mch9b6c0000gn/T/ipykernel_27325/2137315506.py:39: FutureWarning: The frame.append method is deprecated and will be removed from pandas in a future version. Use pandas.concat instead.\n",
      "  all_data = all_data.append(df, ignore_index=True)\n"
     ]
    },
    {
     "name": "stdout",
     "output_type": "stream",
     "text": [
      "Trying URL: https://educationdata.urban.org/api/v1/school-districts/saipe/2014/?leaid=&fips=30\n",
      "Trying URL: https://educationdata.urban.org/api/v1/school-districts/saipe/2014/?leaid=&fips=31\n"
     ]
    },
    {
     "name": "stderr",
     "output_type": "stream",
     "text": [
      "/var/folders/jv/_0nbzmjn7p13g2s1_mch9b6c0000gn/T/ipykernel_27325/2137315506.py:39: FutureWarning: The frame.append method is deprecated and will be removed from pandas in a future version. Use pandas.concat instead.\n",
      "  all_data = all_data.append(df, ignore_index=True)\n",
      "/var/folders/jv/_0nbzmjn7p13g2s1_mch9b6c0000gn/T/ipykernel_27325/2137315506.py:39: FutureWarning: The frame.append method is deprecated and will be removed from pandas in a future version. Use pandas.concat instead.\n",
      "  all_data = all_data.append(df, ignore_index=True)\n"
     ]
    },
    {
     "name": "stdout",
     "output_type": "stream",
     "text": [
      "Trying URL: https://educationdata.urban.org/api/v1/school-districts/saipe/2014/?leaid=&fips=32\n",
      "Trying URL: https://educationdata.urban.org/api/v1/school-districts/saipe/2014/?leaid=&fips=33\n"
     ]
    },
    {
     "name": "stderr",
     "output_type": "stream",
     "text": [
      "/var/folders/jv/_0nbzmjn7p13g2s1_mch9b6c0000gn/T/ipykernel_27325/2137315506.py:39: FutureWarning: The frame.append method is deprecated and will be removed from pandas in a future version. Use pandas.concat instead.\n",
      "  all_data = all_data.append(df, ignore_index=True)\n"
     ]
    },
    {
     "name": "stdout",
     "output_type": "stream",
     "text": [
      "Trying URL: https://educationdata.urban.org/api/v1/school-districts/saipe/2014/?leaid=&fips=34\n"
     ]
    },
    {
     "name": "stderr",
     "output_type": "stream",
     "text": [
      "/var/folders/jv/_0nbzmjn7p13g2s1_mch9b6c0000gn/T/ipykernel_27325/2137315506.py:39: FutureWarning: The frame.append method is deprecated and will be removed from pandas in a future version. Use pandas.concat instead.\n",
      "  all_data = all_data.append(df, ignore_index=True)\n",
      "/var/folders/jv/_0nbzmjn7p13g2s1_mch9b6c0000gn/T/ipykernel_27325/2137315506.py:39: FutureWarning: The frame.append method is deprecated and will be removed from pandas in a future version. Use pandas.concat instead.\n",
      "  all_data = all_data.append(df, ignore_index=True)\n"
     ]
    },
    {
     "name": "stdout",
     "output_type": "stream",
     "text": [
      "Trying URL: https://educationdata.urban.org/api/v1/school-districts/saipe/2014/?leaid=&fips=35\n",
      "Trying URL: https://educationdata.urban.org/api/v1/school-districts/saipe/2014/?leaid=&fips=36\n"
     ]
    },
    {
     "name": "stderr",
     "output_type": "stream",
     "text": [
      "/var/folders/jv/_0nbzmjn7p13g2s1_mch9b6c0000gn/T/ipykernel_27325/2137315506.py:39: FutureWarning: The frame.append method is deprecated and will be removed from pandas in a future version. Use pandas.concat instead.\n",
      "  all_data = all_data.append(df, ignore_index=True)\n",
      "/var/folders/jv/_0nbzmjn7p13g2s1_mch9b6c0000gn/T/ipykernel_27325/2137315506.py:39: FutureWarning: The frame.append method is deprecated and will be removed from pandas in a future version. Use pandas.concat instead.\n",
      "  all_data = all_data.append(df, ignore_index=True)\n"
     ]
    },
    {
     "name": "stdout",
     "output_type": "stream",
     "text": [
      "Trying URL: https://educationdata.urban.org/api/v1/school-districts/saipe/2014/?leaid=&fips=37\n",
      "Trying URL: https://educationdata.urban.org/api/v1/school-districts/saipe/2014/?leaid=&fips=38\n"
     ]
    },
    {
     "name": "stderr",
     "output_type": "stream",
     "text": [
      "/var/folders/jv/_0nbzmjn7p13g2s1_mch9b6c0000gn/T/ipykernel_27325/2137315506.py:39: FutureWarning: The frame.append method is deprecated and will be removed from pandas in a future version. Use pandas.concat instead.\n",
      "  all_data = all_data.append(df, ignore_index=True)\n"
     ]
    },
    {
     "name": "stdout",
     "output_type": "stream",
     "text": [
      "Trying URL: https://educationdata.urban.org/api/v1/school-districts/saipe/2014/?leaid=&fips=39\n"
     ]
    },
    {
     "name": "stderr",
     "output_type": "stream",
     "text": [
      "/var/folders/jv/_0nbzmjn7p13g2s1_mch9b6c0000gn/T/ipykernel_27325/2137315506.py:39: FutureWarning: The frame.append method is deprecated and will be removed from pandas in a future version. Use pandas.concat instead.\n",
      "  all_data = all_data.append(df, ignore_index=True)\n"
     ]
    },
    {
     "name": "stdout",
     "output_type": "stream",
     "text": [
      "Trying URL: https://educationdata.urban.org/api/v1/school-districts/saipe/2014/?leaid=&fips=40\n"
     ]
    },
    {
     "name": "stderr",
     "output_type": "stream",
     "text": [
      "/var/folders/jv/_0nbzmjn7p13g2s1_mch9b6c0000gn/T/ipykernel_27325/2137315506.py:39: FutureWarning: The frame.append method is deprecated and will be removed from pandas in a future version. Use pandas.concat instead.\n",
      "  all_data = all_data.append(df, ignore_index=True)\n",
      "/var/folders/jv/_0nbzmjn7p13g2s1_mch9b6c0000gn/T/ipykernel_27325/2137315506.py:39: FutureWarning: The frame.append method is deprecated and will be removed from pandas in a future version. Use pandas.concat instead.\n",
      "  all_data = all_data.append(df, ignore_index=True)\n"
     ]
    },
    {
     "name": "stdout",
     "output_type": "stream",
     "text": [
      "Trying URL: https://educationdata.urban.org/api/v1/school-districts/saipe/2014/?leaid=&fips=41\n",
      "Trying URL: https://educationdata.urban.org/api/v1/school-districts/saipe/2014/?leaid=&fips=42\n"
     ]
    },
    {
     "name": "stderr",
     "output_type": "stream",
     "text": [
      "/var/folders/jv/_0nbzmjn7p13g2s1_mch9b6c0000gn/T/ipykernel_27325/2137315506.py:39: FutureWarning: The frame.append method is deprecated and will be removed from pandas in a future version. Use pandas.concat instead.\n",
      "  all_data = all_data.append(df, ignore_index=True)\n",
      "/var/folders/jv/_0nbzmjn7p13g2s1_mch9b6c0000gn/T/ipykernel_27325/2137315506.py:39: FutureWarning: The frame.append method is deprecated and will be removed from pandas in a future version. Use pandas.concat instead.\n",
      "  all_data = all_data.append(df, ignore_index=True)\n"
     ]
    },
    {
     "name": "stdout",
     "output_type": "stream",
     "text": [
      "Trying URL: https://educationdata.urban.org/api/v1/school-districts/saipe/2014/?leaid=&fips=43\n",
      "Error fetching data for FIPS 43 and year 2014: \"None of [Index(['district_id', 'district_name', 'year', 'est_population_total',\\n       'est_population_5_17', 'est_population_5_17_poverty',\\n       'est_population_5_17_poverty_pct', 'est_population_5_17_pct', 'leaid',\\n       'fips'],\\n      dtype='object')] are in the [columns]\"\n",
      "Trying URL: https://educationdata.urban.org/api/v1/school-districts/saipe/2014/?leaid=&fips=44\n"
     ]
    },
    {
     "name": "stderr",
     "output_type": "stream",
     "text": [
      "/var/folders/jv/_0nbzmjn7p13g2s1_mch9b6c0000gn/T/ipykernel_27325/2137315506.py:39: FutureWarning: The frame.append method is deprecated and will be removed from pandas in a future version. Use pandas.concat instead.\n",
      "  all_data = all_data.append(df, ignore_index=True)\n",
      "/var/folders/jv/_0nbzmjn7p13g2s1_mch9b6c0000gn/T/ipykernel_27325/2137315506.py:39: FutureWarning: The frame.append method is deprecated and will be removed from pandas in a future version. Use pandas.concat instead.\n",
      "  all_data = all_data.append(df, ignore_index=True)\n"
     ]
    },
    {
     "name": "stdout",
     "output_type": "stream",
     "text": [
      "Trying URL: https://educationdata.urban.org/api/v1/school-districts/saipe/2014/?leaid=&fips=45\n",
      "Trying URL: https://educationdata.urban.org/api/v1/school-districts/saipe/2014/?leaid=&fips=46\n"
     ]
    },
    {
     "name": "stderr",
     "output_type": "stream",
     "text": [
      "/var/folders/jv/_0nbzmjn7p13g2s1_mch9b6c0000gn/T/ipykernel_27325/2137315506.py:39: FutureWarning: The frame.append method is deprecated and will be removed from pandas in a future version. Use pandas.concat instead.\n",
      "  all_data = all_data.append(df, ignore_index=True)\n",
      "/var/folders/jv/_0nbzmjn7p13g2s1_mch9b6c0000gn/T/ipykernel_27325/2137315506.py:39: FutureWarning: The frame.append method is deprecated and will be removed from pandas in a future version. Use pandas.concat instead.\n",
      "  all_data = all_data.append(df, ignore_index=True)\n"
     ]
    },
    {
     "name": "stdout",
     "output_type": "stream",
     "text": [
      "Trying URL: https://educationdata.urban.org/api/v1/school-districts/saipe/2014/?leaid=&fips=47\n",
      "Trying URL: https://educationdata.urban.org/api/v1/school-districts/saipe/2014/?leaid=&fips=48\n"
     ]
    },
    {
     "name": "stderr",
     "output_type": "stream",
     "text": [
      "/var/folders/jv/_0nbzmjn7p13g2s1_mch9b6c0000gn/T/ipykernel_27325/2137315506.py:39: FutureWarning: The frame.append method is deprecated and will be removed from pandas in a future version. Use pandas.concat instead.\n",
      "  all_data = all_data.append(df, ignore_index=True)\n",
      "/var/folders/jv/_0nbzmjn7p13g2s1_mch9b6c0000gn/T/ipykernel_27325/2137315506.py:39: FutureWarning: The frame.append method is deprecated and will be removed from pandas in a future version. Use pandas.concat instead.\n",
      "  all_data = all_data.append(df, ignore_index=True)\n"
     ]
    },
    {
     "name": "stdout",
     "output_type": "stream",
     "text": [
      "Trying URL: https://educationdata.urban.org/api/v1/school-districts/saipe/2014/?leaid=&fips=49\n",
      "Trying URL: https://educationdata.urban.org/api/v1/school-districts/saipe/2014/?leaid=&fips=50\n"
     ]
    },
    {
     "name": "stderr",
     "output_type": "stream",
     "text": [
      "/var/folders/jv/_0nbzmjn7p13g2s1_mch9b6c0000gn/T/ipykernel_27325/2137315506.py:39: FutureWarning: The frame.append method is deprecated and will be removed from pandas in a future version. Use pandas.concat instead.\n",
      "  all_data = all_data.append(df, ignore_index=True)\n"
     ]
    },
    {
     "name": "stdout",
     "output_type": "stream",
     "text": [
      "Trying URL: https://educationdata.urban.org/api/v1/school-districts/saipe/2014/?leaid=&fips=51\n"
     ]
    },
    {
     "name": "stderr",
     "output_type": "stream",
     "text": [
      "/var/folders/jv/_0nbzmjn7p13g2s1_mch9b6c0000gn/T/ipykernel_27325/2137315506.py:39: FutureWarning: The frame.append method is deprecated and will be removed from pandas in a future version. Use pandas.concat instead.\n",
      "  all_data = all_data.append(df, ignore_index=True)\n",
      "/var/folders/jv/_0nbzmjn7p13g2s1_mch9b6c0000gn/T/ipykernel_27325/2137315506.py:39: FutureWarning: The frame.append method is deprecated and will be removed from pandas in a future version. Use pandas.concat instead.\n",
      "  all_data = all_data.append(df, ignore_index=True)\n"
     ]
    },
    {
     "name": "stdout",
     "output_type": "stream",
     "text": [
      "Trying URL: https://educationdata.urban.org/api/v1/school-districts/saipe/2014/?leaid=&fips=52\n",
      "Error fetching data for FIPS 52 and year 2014: \"None of [Index(['district_id', 'district_name', 'year', 'est_population_total',\\n       'est_population_5_17', 'est_population_5_17_poverty',\\n       'est_population_5_17_poverty_pct', 'est_population_5_17_pct', 'leaid',\\n       'fips'],\\n      dtype='object')] are in the [columns]\"\n",
      "Trying URL: https://educationdata.urban.org/api/v1/school-districts/saipe/2014/?leaid=&fips=53\n"
     ]
    },
    {
     "name": "stderr",
     "output_type": "stream",
     "text": [
      "/var/folders/jv/_0nbzmjn7p13g2s1_mch9b6c0000gn/T/ipykernel_27325/2137315506.py:39: FutureWarning: The frame.append method is deprecated and will be removed from pandas in a future version. Use pandas.concat instead.\n",
      "  all_data = all_data.append(df, ignore_index=True)\n",
      "/var/folders/jv/_0nbzmjn7p13g2s1_mch9b6c0000gn/T/ipykernel_27325/2137315506.py:39: FutureWarning: The frame.append method is deprecated and will be removed from pandas in a future version. Use pandas.concat instead.\n",
      "  all_data = all_data.append(df, ignore_index=True)\n"
     ]
    },
    {
     "name": "stdout",
     "output_type": "stream",
     "text": [
      "Trying URL: https://educationdata.urban.org/api/v1/school-districts/saipe/2014/?leaid=&fips=54\n",
      "Trying URL: https://educationdata.urban.org/api/v1/school-districts/saipe/2014/?leaid=&fips=55\n"
     ]
    },
    {
     "name": "stderr",
     "output_type": "stream",
     "text": [
      "/var/folders/jv/_0nbzmjn7p13g2s1_mch9b6c0000gn/T/ipykernel_27325/2137315506.py:39: FutureWarning: The frame.append method is deprecated and will be removed from pandas in a future version. Use pandas.concat instead.\n",
      "  all_data = all_data.append(df, ignore_index=True)\n",
      "/var/folders/jv/_0nbzmjn7p13g2s1_mch9b6c0000gn/T/ipykernel_27325/2137315506.py:39: FutureWarning: The frame.append method is deprecated and will be removed from pandas in a future version. Use pandas.concat instead.\n",
      "  all_data = all_data.append(df, ignore_index=True)\n"
     ]
    },
    {
     "name": "stdout",
     "output_type": "stream",
     "text": [
      "Trying URL: https://educationdata.urban.org/api/v1/school-districts/saipe/2014/?leaid=&fips=56\n",
      "Trying URL: https://educationdata.urban.org/api/v1/school-districts/saipe/2015/?leaid=&fips=01\n"
     ]
    },
    {
     "name": "stderr",
     "output_type": "stream",
     "text": [
      "/var/folders/jv/_0nbzmjn7p13g2s1_mch9b6c0000gn/T/ipykernel_27325/2137315506.py:39: FutureWarning: The frame.append method is deprecated and will be removed from pandas in a future version. Use pandas.concat instead.\n",
      "  all_data = all_data.append(df, ignore_index=True)\n",
      "/var/folders/jv/_0nbzmjn7p13g2s1_mch9b6c0000gn/T/ipykernel_27325/2137315506.py:39: FutureWarning: The frame.append method is deprecated and will be removed from pandas in a future version. Use pandas.concat instead.\n",
      "  all_data = all_data.append(df, ignore_index=True)\n"
     ]
    },
    {
     "name": "stdout",
     "output_type": "stream",
     "text": [
      "Trying URL: https://educationdata.urban.org/api/v1/school-districts/saipe/2015/?leaid=&fips=02\n",
      "Trying URL: https://educationdata.urban.org/api/v1/school-districts/saipe/2015/?leaid=&fips=03\n",
      "Error fetching data for FIPS 03 and year 2015: \"None of [Index(['district_id', 'district_name', 'year', 'est_population_total',\\n       'est_population_5_17', 'est_population_5_17_poverty',\\n       'est_population_5_17_poverty_pct', 'est_population_5_17_pct', 'leaid',\\n       'fips'],\\n      dtype='object')] are in the [columns]\"\n",
      "Trying URL: https://educationdata.urban.org/api/v1/school-districts/saipe/2015/?leaid=&fips=04\n",
      "Trying URL: https://educationdata.urban.org/api/v1/school-districts/saipe/2015/?leaid=&fips=05\n"
     ]
    },
    {
     "name": "stderr",
     "output_type": "stream",
     "text": [
      "/var/folders/jv/_0nbzmjn7p13g2s1_mch9b6c0000gn/T/ipykernel_27325/2137315506.py:39: FutureWarning: The frame.append method is deprecated and will be removed from pandas in a future version. Use pandas.concat instead.\n",
      "  all_data = all_data.append(df, ignore_index=True)\n",
      "/var/folders/jv/_0nbzmjn7p13g2s1_mch9b6c0000gn/T/ipykernel_27325/2137315506.py:39: FutureWarning: The frame.append method is deprecated and will be removed from pandas in a future version. Use pandas.concat instead.\n",
      "  all_data = all_data.append(df, ignore_index=True)\n",
      "/var/folders/jv/_0nbzmjn7p13g2s1_mch9b6c0000gn/T/ipykernel_27325/2137315506.py:39: FutureWarning: The frame.append method is deprecated and will be removed from pandas in a future version. Use pandas.concat instead.\n",
      "  all_data = all_data.append(df, ignore_index=True)\n"
     ]
    },
    {
     "name": "stdout",
     "output_type": "stream",
     "text": [
      "Trying URL: https://educationdata.urban.org/api/v1/school-districts/saipe/2015/?leaid=&fips=06\n"
     ]
    },
    {
     "name": "stderr",
     "output_type": "stream",
     "text": [
      "/var/folders/jv/_0nbzmjn7p13g2s1_mch9b6c0000gn/T/ipykernel_27325/2137315506.py:39: FutureWarning: The frame.append method is deprecated and will be removed from pandas in a future version. Use pandas.concat instead.\n",
      "  all_data = all_data.append(df, ignore_index=True)\n",
      "/var/folders/jv/_0nbzmjn7p13g2s1_mch9b6c0000gn/T/ipykernel_27325/2137315506.py:39: FutureWarning: The frame.append method is deprecated and will be removed from pandas in a future version. Use pandas.concat instead.\n",
      "  all_data = all_data.append(df, ignore_index=True)\n"
     ]
    },
    {
     "name": "stdout",
     "output_type": "stream",
     "text": [
      "Trying URL: https://educationdata.urban.org/api/v1/school-districts/saipe/2015/?leaid=&fips=07\n",
      "Error fetching data for FIPS 07 and year 2015: \"None of [Index(['district_id', 'district_name', 'year', 'est_population_total',\\n       'est_population_5_17', 'est_population_5_17_poverty',\\n       'est_population_5_17_poverty_pct', 'est_population_5_17_pct', 'leaid',\\n       'fips'],\\n      dtype='object')] are in the [columns]\"\n",
      "Trying URL: https://educationdata.urban.org/api/v1/school-districts/saipe/2015/?leaid=&fips=08\n"
     ]
    },
    {
     "name": "stderr",
     "output_type": "stream",
     "text": [
      "/var/folders/jv/_0nbzmjn7p13g2s1_mch9b6c0000gn/T/ipykernel_27325/2137315506.py:39: FutureWarning: The frame.append method is deprecated and will be removed from pandas in a future version. Use pandas.concat instead.\n",
      "  all_data = all_data.append(df, ignore_index=True)\n",
      "/var/folders/jv/_0nbzmjn7p13g2s1_mch9b6c0000gn/T/ipykernel_27325/2137315506.py:39: FutureWarning: The frame.append method is deprecated and will be removed from pandas in a future version. Use pandas.concat instead.\n",
      "  all_data = all_data.append(df, ignore_index=True)\n"
     ]
    },
    {
     "name": "stdout",
     "output_type": "stream",
     "text": [
      "Trying URL: https://educationdata.urban.org/api/v1/school-districts/saipe/2015/?leaid=&fips=09\n",
      "Trying URL: https://educationdata.urban.org/api/v1/school-districts/saipe/2015/?leaid=&fips=10\n"
     ]
    },
    {
     "name": "stderr",
     "output_type": "stream",
     "text": [
      "/var/folders/jv/_0nbzmjn7p13g2s1_mch9b6c0000gn/T/ipykernel_27325/2137315506.py:39: FutureWarning: The frame.append method is deprecated and will be removed from pandas in a future version. Use pandas.concat instead.\n",
      "  all_data = all_data.append(df, ignore_index=True)\n",
      "/var/folders/jv/_0nbzmjn7p13g2s1_mch9b6c0000gn/T/ipykernel_27325/2137315506.py:39: FutureWarning: The frame.append method is deprecated and will be removed from pandas in a future version. Use pandas.concat instead.\n",
      "  all_data = all_data.append(df, ignore_index=True)\n"
     ]
    },
    {
     "name": "stdout",
     "output_type": "stream",
     "text": [
      "Trying URL: https://educationdata.urban.org/api/v1/school-districts/saipe/2015/?leaid=&fips=11\n",
      "Trying URL: https://educationdata.urban.org/api/v1/school-districts/saipe/2015/?leaid=&fips=12\n"
     ]
    },
    {
     "name": "stderr",
     "output_type": "stream",
     "text": [
      "/var/folders/jv/_0nbzmjn7p13g2s1_mch9b6c0000gn/T/ipykernel_27325/2137315506.py:39: FutureWarning: The frame.append method is deprecated and will be removed from pandas in a future version. Use pandas.concat instead.\n",
      "  all_data = all_data.append(df, ignore_index=True)\n",
      "/var/folders/jv/_0nbzmjn7p13g2s1_mch9b6c0000gn/T/ipykernel_27325/2137315506.py:39: FutureWarning: The frame.append method is deprecated and will be removed from pandas in a future version. Use pandas.concat instead.\n",
      "  all_data = all_data.append(df, ignore_index=True)\n"
     ]
    },
    {
     "name": "stdout",
     "output_type": "stream",
     "text": [
      "Trying URL: https://educationdata.urban.org/api/v1/school-districts/saipe/2015/?leaid=&fips=13\n",
      "Trying URL: https://educationdata.urban.org/api/v1/school-districts/saipe/2015/?leaid=&fips=14\n",
      "Error fetching data for FIPS 14 and year 2015: \"None of [Index(['district_id', 'district_name', 'year', 'est_population_total',\\n       'est_population_5_17', 'est_population_5_17_poverty',\\n       'est_population_5_17_poverty_pct', 'est_population_5_17_pct', 'leaid',\\n       'fips'],\\n      dtype='object')] are in the [columns]\"\n",
      "Trying URL: https://educationdata.urban.org/api/v1/school-districts/saipe/2015/?leaid=&fips=15\n",
      "Trying URL: https://educationdata.urban.org/api/v1/school-districts/saipe/2015/?leaid=&fips=16\n"
     ]
    },
    {
     "name": "stderr",
     "output_type": "stream",
     "text": [
      "/var/folders/jv/_0nbzmjn7p13g2s1_mch9b6c0000gn/T/ipykernel_27325/2137315506.py:39: FutureWarning: The frame.append method is deprecated and will be removed from pandas in a future version. Use pandas.concat instead.\n",
      "  all_data = all_data.append(df, ignore_index=True)\n",
      "/var/folders/jv/_0nbzmjn7p13g2s1_mch9b6c0000gn/T/ipykernel_27325/2137315506.py:39: FutureWarning: The frame.append method is deprecated and will be removed from pandas in a future version. Use pandas.concat instead.\n",
      "  all_data = all_data.append(df, ignore_index=True)\n",
      "/var/folders/jv/_0nbzmjn7p13g2s1_mch9b6c0000gn/T/ipykernel_27325/2137315506.py:39: FutureWarning: The frame.append method is deprecated and will be removed from pandas in a future version. Use pandas.concat instead.\n",
      "  all_data = all_data.append(df, ignore_index=True)\n"
     ]
    },
    {
     "name": "stdout",
     "output_type": "stream",
     "text": [
      "Trying URL: https://educationdata.urban.org/api/v1/school-districts/saipe/2015/?leaid=&fips=17\n"
     ]
    },
    {
     "name": "stderr",
     "output_type": "stream",
     "text": [
      "/var/folders/jv/_0nbzmjn7p13g2s1_mch9b6c0000gn/T/ipykernel_27325/2137315506.py:39: FutureWarning: The frame.append method is deprecated and will be removed from pandas in a future version. Use pandas.concat instead.\n",
      "  all_data = all_data.append(df, ignore_index=True)\n"
     ]
    },
    {
     "name": "stdout",
     "output_type": "stream",
     "text": [
      "Trying URL: https://educationdata.urban.org/api/v1/school-districts/saipe/2015/?leaid=&fips=18\n",
      "Trying URL: https://educationdata.urban.org/api/v1/school-districts/saipe/2015/?leaid=&fips=19\n"
     ]
    },
    {
     "name": "stderr",
     "output_type": "stream",
     "text": [
      "/var/folders/jv/_0nbzmjn7p13g2s1_mch9b6c0000gn/T/ipykernel_27325/2137315506.py:39: FutureWarning: The frame.append method is deprecated and will be removed from pandas in a future version. Use pandas.concat instead.\n",
      "  all_data = all_data.append(df, ignore_index=True)\n",
      "/var/folders/jv/_0nbzmjn7p13g2s1_mch9b6c0000gn/T/ipykernel_27325/2137315506.py:39: FutureWarning: The frame.append method is deprecated and will be removed from pandas in a future version. Use pandas.concat instead.\n",
      "  all_data = all_data.append(df, ignore_index=True)\n"
     ]
    },
    {
     "name": "stdout",
     "output_type": "stream",
     "text": [
      "Trying URL: https://educationdata.urban.org/api/v1/school-districts/saipe/2015/?leaid=&fips=20\n"
     ]
    },
    {
     "name": "stderr",
     "output_type": "stream",
     "text": [
      "/var/folders/jv/_0nbzmjn7p13g2s1_mch9b6c0000gn/T/ipykernel_27325/2137315506.py:39: FutureWarning: The frame.append method is deprecated and will be removed from pandas in a future version. Use pandas.concat instead.\n",
      "  all_data = all_data.append(df, ignore_index=True)\n",
      "/var/folders/jv/_0nbzmjn7p13g2s1_mch9b6c0000gn/T/ipykernel_27325/2137315506.py:39: FutureWarning: The frame.append method is deprecated and will be removed from pandas in a future version. Use pandas.concat instead.\n",
      "  all_data = all_data.append(df, ignore_index=True)\n"
     ]
    },
    {
     "name": "stdout",
     "output_type": "stream",
     "text": [
      "Trying URL: https://educationdata.urban.org/api/v1/school-districts/saipe/2015/?leaid=&fips=21\n",
      "Trying URL: https://educationdata.urban.org/api/v1/school-districts/saipe/2015/?leaid=&fips=22\n"
     ]
    },
    {
     "name": "stderr",
     "output_type": "stream",
     "text": [
      "/var/folders/jv/_0nbzmjn7p13g2s1_mch9b6c0000gn/T/ipykernel_27325/2137315506.py:39: FutureWarning: The frame.append method is deprecated and will be removed from pandas in a future version. Use pandas.concat instead.\n",
      "  all_data = all_data.append(df, ignore_index=True)\n",
      "/var/folders/jv/_0nbzmjn7p13g2s1_mch9b6c0000gn/T/ipykernel_27325/2137315506.py:39: FutureWarning: The frame.append method is deprecated and will be removed from pandas in a future version. Use pandas.concat instead.\n",
      "  all_data = all_data.append(df, ignore_index=True)\n"
     ]
    },
    {
     "name": "stdout",
     "output_type": "stream",
     "text": [
      "Trying URL: https://educationdata.urban.org/api/v1/school-districts/saipe/2015/?leaid=&fips=23\n",
      "Trying URL: https://educationdata.urban.org/api/v1/school-districts/saipe/2015/?leaid=&fips=24\n"
     ]
    },
    {
     "name": "stderr",
     "output_type": "stream",
     "text": [
      "/var/folders/jv/_0nbzmjn7p13g2s1_mch9b6c0000gn/T/ipykernel_27325/2137315506.py:39: FutureWarning: The frame.append method is deprecated and will be removed from pandas in a future version. Use pandas.concat instead.\n",
      "  all_data = all_data.append(df, ignore_index=True)\n",
      "/var/folders/jv/_0nbzmjn7p13g2s1_mch9b6c0000gn/T/ipykernel_27325/2137315506.py:39: FutureWarning: The frame.append method is deprecated and will be removed from pandas in a future version. Use pandas.concat instead.\n",
      "  all_data = all_data.append(df, ignore_index=True)\n"
     ]
    },
    {
     "name": "stdout",
     "output_type": "stream",
     "text": [
      "Trying URL: https://educationdata.urban.org/api/v1/school-districts/saipe/2015/?leaid=&fips=25\n",
      "Trying URL: https://educationdata.urban.org/api/v1/school-districts/saipe/2015/?leaid=&fips=26\n"
     ]
    },
    {
     "name": "stderr",
     "output_type": "stream",
     "text": [
      "/var/folders/jv/_0nbzmjn7p13g2s1_mch9b6c0000gn/T/ipykernel_27325/2137315506.py:39: FutureWarning: The frame.append method is deprecated and will be removed from pandas in a future version. Use pandas.concat instead.\n",
      "  all_data = all_data.append(df, ignore_index=True)\n",
      "/var/folders/jv/_0nbzmjn7p13g2s1_mch9b6c0000gn/T/ipykernel_27325/2137315506.py:39: FutureWarning: The frame.append method is deprecated and will be removed from pandas in a future version. Use pandas.concat instead.\n",
      "  all_data = all_data.append(df, ignore_index=True)\n"
     ]
    },
    {
     "name": "stdout",
     "output_type": "stream",
     "text": [
      "Trying URL: https://educationdata.urban.org/api/v1/school-districts/saipe/2015/?leaid=&fips=27\n",
      "Trying URL: https://educationdata.urban.org/api/v1/school-districts/saipe/2015/?leaid=&fips=28\n"
     ]
    },
    {
     "name": "stderr",
     "output_type": "stream",
     "text": [
      "/var/folders/jv/_0nbzmjn7p13g2s1_mch9b6c0000gn/T/ipykernel_27325/2137315506.py:39: FutureWarning: The frame.append method is deprecated and will be removed from pandas in a future version. Use pandas.concat instead.\n",
      "  all_data = all_data.append(df, ignore_index=True)\n"
     ]
    },
    {
     "name": "stdout",
     "output_type": "stream",
     "text": [
      "Trying URL: https://educationdata.urban.org/api/v1/school-districts/saipe/2015/?leaid=&fips=29\n"
     ]
    },
    {
     "name": "stderr",
     "output_type": "stream",
     "text": [
      "/var/folders/jv/_0nbzmjn7p13g2s1_mch9b6c0000gn/T/ipykernel_27325/2137315506.py:39: FutureWarning: The frame.append method is deprecated and will be removed from pandas in a future version. Use pandas.concat instead.\n",
      "  all_data = all_data.append(df, ignore_index=True)\n"
     ]
    },
    {
     "name": "stdout",
     "output_type": "stream",
     "text": [
      "Trying URL: https://educationdata.urban.org/api/v1/school-districts/saipe/2015/?leaid=&fips=30\n"
     ]
    },
    {
     "name": "stderr",
     "output_type": "stream",
     "text": [
      "/var/folders/jv/_0nbzmjn7p13g2s1_mch9b6c0000gn/T/ipykernel_27325/2137315506.py:39: FutureWarning: The frame.append method is deprecated and will be removed from pandas in a future version. Use pandas.concat instead.\n",
      "  all_data = all_data.append(df, ignore_index=True)\n",
      "/var/folders/jv/_0nbzmjn7p13g2s1_mch9b6c0000gn/T/ipykernel_27325/2137315506.py:39: FutureWarning: The frame.append method is deprecated and will be removed from pandas in a future version. Use pandas.concat instead.\n",
      "  all_data = all_data.append(df, ignore_index=True)\n"
     ]
    },
    {
     "name": "stdout",
     "output_type": "stream",
     "text": [
      "Trying URL: https://educationdata.urban.org/api/v1/school-districts/saipe/2015/?leaid=&fips=31\n",
      "Trying URL: https://educationdata.urban.org/api/v1/school-districts/saipe/2015/?leaid=&fips=32\n",
      "Trying URL: https://educationdata.urban.org/api/v1/school-districts/saipe/2015/?leaid=&fips=33\n"
     ]
    },
    {
     "name": "stderr",
     "output_type": "stream",
     "text": [
      "/var/folders/jv/_0nbzmjn7p13g2s1_mch9b6c0000gn/T/ipykernel_27325/2137315506.py:39: FutureWarning: The frame.append method is deprecated and will be removed from pandas in a future version. Use pandas.concat instead.\n",
      "  all_data = all_data.append(df, ignore_index=True)\n",
      "/var/folders/jv/_0nbzmjn7p13g2s1_mch9b6c0000gn/T/ipykernel_27325/2137315506.py:39: FutureWarning: The frame.append method is deprecated and will be removed from pandas in a future version. Use pandas.concat instead.\n",
      "  all_data = all_data.append(df, ignore_index=True)\n"
     ]
    },
    {
     "name": "stdout",
     "output_type": "stream",
     "text": [
      "Trying URL: https://educationdata.urban.org/api/v1/school-districts/saipe/2015/?leaid=&fips=34\n"
     ]
    },
    {
     "name": "stderr",
     "output_type": "stream",
     "text": [
      "/var/folders/jv/_0nbzmjn7p13g2s1_mch9b6c0000gn/T/ipykernel_27325/2137315506.py:39: FutureWarning: The frame.append method is deprecated and will be removed from pandas in a future version. Use pandas.concat instead.\n",
      "  all_data = all_data.append(df, ignore_index=True)\n",
      "/var/folders/jv/_0nbzmjn7p13g2s1_mch9b6c0000gn/T/ipykernel_27325/2137315506.py:39: FutureWarning: The frame.append method is deprecated and will be removed from pandas in a future version. Use pandas.concat instead.\n",
      "  all_data = all_data.append(df, ignore_index=True)\n"
     ]
    },
    {
     "name": "stdout",
     "output_type": "stream",
     "text": [
      "Trying URL: https://educationdata.urban.org/api/v1/school-districts/saipe/2015/?leaid=&fips=35\n",
      "Trying URL: https://educationdata.urban.org/api/v1/school-districts/saipe/2015/?leaid=&fips=36\n"
     ]
    },
    {
     "name": "stderr",
     "output_type": "stream",
     "text": [
      "/var/folders/jv/_0nbzmjn7p13g2s1_mch9b6c0000gn/T/ipykernel_27325/2137315506.py:39: FutureWarning: The frame.append method is deprecated and will be removed from pandas in a future version. Use pandas.concat instead.\n",
      "  all_data = all_data.append(df, ignore_index=True)\n",
      "/var/folders/jv/_0nbzmjn7p13g2s1_mch9b6c0000gn/T/ipykernel_27325/2137315506.py:39: FutureWarning: The frame.append method is deprecated and will be removed from pandas in a future version. Use pandas.concat instead.\n",
      "  all_data = all_data.append(df, ignore_index=True)\n"
     ]
    },
    {
     "name": "stdout",
     "output_type": "stream",
     "text": [
      "Trying URL: https://educationdata.urban.org/api/v1/school-districts/saipe/2015/?leaid=&fips=37\n",
      "Trying URL: https://educationdata.urban.org/api/v1/school-districts/saipe/2015/?leaid=&fips=38\n"
     ]
    },
    {
     "name": "stderr",
     "output_type": "stream",
     "text": [
      "/var/folders/jv/_0nbzmjn7p13g2s1_mch9b6c0000gn/T/ipykernel_27325/2137315506.py:39: FutureWarning: The frame.append method is deprecated and will be removed from pandas in a future version. Use pandas.concat instead.\n",
      "  all_data = all_data.append(df, ignore_index=True)\n"
     ]
    },
    {
     "name": "stdout",
     "output_type": "stream",
     "text": [
      "Trying URL: https://educationdata.urban.org/api/v1/school-districts/saipe/2015/?leaid=&fips=39\n"
     ]
    },
    {
     "name": "stderr",
     "output_type": "stream",
     "text": [
      "/var/folders/jv/_0nbzmjn7p13g2s1_mch9b6c0000gn/T/ipykernel_27325/2137315506.py:39: FutureWarning: The frame.append method is deprecated and will be removed from pandas in a future version. Use pandas.concat instead.\n",
      "  all_data = all_data.append(df, ignore_index=True)\n"
     ]
    },
    {
     "name": "stdout",
     "output_type": "stream",
     "text": [
      "Trying URL: https://educationdata.urban.org/api/v1/school-districts/saipe/2015/?leaid=&fips=40\n"
     ]
    },
    {
     "name": "stderr",
     "output_type": "stream",
     "text": [
      "/var/folders/jv/_0nbzmjn7p13g2s1_mch9b6c0000gn/T/ipykernel_27325/2137315506.py:39: FutureWarning: The frame.append method is deprecated and will be removed from pandas in a future version. Use pandas.concat instead.\n",
      "  all_data = all_data.append(df, ignore_index=True)\n",
      "/var/folders/jv/_0nbzmjn7p13g2s1_mch9b6c0000gn/T/ipykernel_27325/2137315506.py:39: FutureWarning: The frame.append method is deprecated and will be removed from pandas in a future version. Use pandas.concat instead.\n",
      "  all_data = all_data.append(df, ignore_index=True)\n"
     ]
    },
    {
     "name": "stdout",
     "output_type": "stream",
     "text": [
      "Trying URL: https://educationdata.urban.org/api/v1/school-districts/saipe/2015/?leaid=&fips=41\n",
      "Trying URL: https://educationdata.urban.org/api/v1/school-districts/saipe/2015/?leaid=&fips=42\n"
     ]
    },
    {
     "name": "stderr",
     "output_type": "stream",
     "text": [
      "/var/folders/jv/_0nbzmjn7p13g2s1_mch9b6c0000gn/T/ipykernel_27325/2137315506.py:39: FutureWarning: The frame.append method is deprecated and will be removed from pandas in a future version. Use pandas.concat instead.\n",
      "  all_data = all_data.append(df, ignore_index=True)\n",
      "/var/folders/jv/_0nbzmjn7p13g2s1_mch9b6c0000gn/T/ipykernel_27325/2137315506.py:39: FutureWarning: The frame.append method is deprecated and will be removed from pandas in a future version. Use pandas.concat instead.\n",
      "  all_data = all_data.append(df, ignore_index=True)\n"
     ]
    },
    {
     "name": "stdout",
     "output_type": "stream",
     "text": [
      "Trying URL: https://educationdata.urban.org/api/v1/school-districts/saipe/2015/?leaid=&fips=43\n",
      "Error fetching data for FIPS 43 and year 2015: \"None of [Index(['district_id', 'district_name', 'year', 'est_population_total',\\n       'est_population_5_17', 'est_population_5_17_poverty',\\n       'est_population_5_17_poverty_pct', 'est_population_5_17_pct', 'leaid',\\n       'fips'],\\n      dtype='object')] are in the [columns]\"\n",
      "Trying URL: https://educationdata.urban.org/api/v1/school-districts/saipe/2015/?leaid=&fips=44\n"
     ]
    },
    {
     "name": "stderr",
     "output_type": "stream",
     "text": [
      "/var/folders/jv/_0nbzmjn7p13g2s1_mch9b6c0000gn/T/ipykernel_27325/2137315506.py:39: FutureWarning: The frame.append method is deprecated and will be removed from pandas in a future version. Use pandas.concat instead.\n",
      "  all_data = all_data.append(df, ignore_index=True)\n",
      "/var/folders/jv/_0nbzmjn7p13g2s1_mch9b6c0000gn/T/ipykernel_27325/2137315506.py:39: FutureWarning: The frame.append method is deprecated and will be removed from pandas in a future version. Use pandas.concat instead.\n",
      "  all_data = all_data.append(df, ignore_index=True)\n"
     ]
    },
    {
     "name": "stdout",
     "output_type": "stream",
     "text": [
      "Trying URL: https://educationdata.urban.org/api/v1/school-districts/saipe/2015/?leaid=&fips=45\n",
      "Trying URL: https://educationdata.urban.org/api/v1/school-districts/saipe/2015/?leaid=&fips=46\n"
     ]
    },
    {
     "name": "stderr",
     "output_type": "stream",
     "text": [
      "/var/folders/jv/_0nbzmjn7p13g2s1_mch9b6c0000gn/T/ipykernel_27325/2137315506.py:39: FutureWarning: The frame.append method is deprecated and will be removed from pandas in a future version. Use pandas.concat instead.\n",
      "  all_data = all_data.append(df, ignore_index=True)\n",
      "/var/folders/jv/_0nbzmjn7p13g2s1_mch9b6c0000gn/T/ipykernel_27325/2137315506.py:39: FutureWarning: The frame.append method is deprecated and will be removed from pandas in a future version. Use pandas.concat instead.\n",
      "  all_data = all_data.append(df, ignore_index=True)\n"
     ]
    },
    {
     "name": "stdout",
     "output_type": "stream",
     "text": [
      "Trying URL: https://educationdata.urban.org/api/v1/school-districts/saipe/2015/?leaid=&fips=47\n",
      "Trying URL: https://educationdata.urban.org/api/v1/school-districts/saipe/2015/?leaid=&fips=48\n"
     ]
    },
    {
     "name": "stderr",
     "output_type": "stream",
     "text": [
      "/var/folders/jv/_0nbzmjn7p13g2s1_mch9b6c0000gn/T/ipykernel_27325/2137315506.py:39: FutureWarning: The frame.append method is deprecated and will be removed from pandas in a future version. Use pandas.concat instead.\n",
      "  all_data = all_data.append(df, ignore_index=True)\n",
      "/var/folders/jv/_0nbzmjn7p13g2s1_mch9b6c0000gn/T/ipykernel_27325/2137315506.py:39: FutureWarning: The frame.append method is deprecated and will be removed from pandas in a future version. Use pandas.concat instead.\n",
      "  all_data = all_data.append(df, ignore_index=True)\n"
     ]
    },
    {
     "name": "stdout",
     "output_type": "stream",
     "text": [
      "Trying URL: https://educationdata.urban.org/api/v1/school-districts/saipe/2015/?leaid=&fips=49\n",
      "Trying URL: https://educationdata.urban.org/api/v1/school-districts/saipe/2015/?leaid=&fips=50\n"
     ]
    },
    {
     "name": "stderr",
     "output_type": "stream",
     "text": [
      "/var/folders/jv/_0nbzmjn7p13g2s1_mch9b6c0000gn/T/ipykernel_27325/2137315506.py:39: FutureWarning: The frame.append method is deprecated and will be removed from pandas in a future version. Use pandas.concat instead.\n",
      "  all_data = all_data.append(df, ignore_index=True)\n",
      "/var/folders/jv/_0nbzmjn7p13g2s1_mch9b6c0000gn/T/ipykernel_27325/2137315506.py:39: FutureWarning: The frame.append method is deprecated and will be removed from pandas in a future version. Use pandas.concat instead.\n",
      "  all_data = all_data.append(df, ignore_index=True)\n"
     ]
    },
    {
     "name": "stdout",
     "output_type": "stream",
     "text": [
      "Trying URL: https://educationdata.urban.org/api/v1/school-districts/saipe/2015/?leaid=&fips=51\n",
      "Trying URL: https://educationdata.urban.org/api/v1/school-districts/saipe/2015/?leaid=&fips=52\n",
      "Error fetching data for FIPS 52 and year 2015: \"None of [Index(['district_id', 'district_name', 'year', 'est_population_total',\\n       'est_population_5_17', 'est_population_5_17_poverty',\\n       'est_population_5_17_poverty_pct', 'est_population_5_17_pct', 'leaid',\\n       'fips'],\\n      dtype='object')] are in the [columns]\"\n",
      "Trying URL: https://educationdata.urban.org/api/v1/school-districts/saipe/2015/?leaid=&fips=53\n"
     ]
    },
    {
     "name": "stderr",
     "output_type": "stream",
     "text": [
      "/var/folders/jv/_0nbzmjn7p13g2s1_mch9b6c0000gn/T/ipykernel_27325/2137315506.py:39: FutureWarning: The frame.append method is deprecated and will be removed from pandas in a future version. Use pandas.concat instead.\n",
      "  all_data = all_data.append(df, ignore_index=True)\n",
      "/var/folders/jv/_0nbzmjn7p13g2s1_mch9b6c0000gn/T/ipykernel_27325/2137315506.py:39: FutureWarning: The frame.append method is deprecated and will be removed from pandas in a future version. Use pandas.concat instead.\n",
      "  all_data = all_data.append(df, ignore_index=True)\n"
     ]
    },
    {
     "name": "stdout",
     "output_type": "stream",
     "text": [
      "Trying URL: https://educationdata.urban.org/api/v1/school-districts/saipe/2015/?leaid=&fips=54\n",
      "Trying URL: https://educationdata.urban.org/api/v1/school-districts/saipe/2015/?leaid=&fips=55\n"
     ]
    },
    {
     "name": "stderr",
     "output_type": "stream",
     "text": [
      "/var/folders/jv/_0nbzmjn7p13g2s1_mch9b6c0000gn/T/ipykernel_27325/2137315506.py:39: FutureWarning: The frame.append method is deprecated and will be removed from pandas in a future version. Use pandas.concat instead.\n",
      "  all_data = all_data.append(df, ignore_index=True)\n",
      "/var/folders/jv/_0nbzmjn7p13g2s1_mch9b6c0000gn/T/ipykernel_27325/2137315506.py:39: FutureWarning: The frame.append method is deprecated and will be removed from pandas in a future version. Use pandas.concat instead.\n",
      "  all_data = all_data.append(df, ignore_index=True)\n"
     ]
    },
    {
     "name": "stdout",
     "output_type": "stream",
     "text": [
      "Trying URL: https://educationdata.urban.org/api/v1/school-districts/saipe/2015/?leaid=&fips=56\n",
      "Trying URL: https://educationdata.urban.org/api/v1/school-districts/saipe/2016/?leaid=&fips=01\n"
     ]
    },
    {
     "name": "stderr",
     "output_type": "stream",
     "text": [
      "/var/folders/jv/_0nbzmjn7p13g2s1_mch9b6c0000gn/T/ipykernel_27325/2137315506.py:39: FutureWarning: The frame.append method is deprecated and will be removed from pandas in a future version. Use pandas.concat instead.\n",
      "  all_data = all_data.append(df, ignore_index=True)\n",
      "/var/folders/jv/_0nbzmjn7p13g2s1_mch9b6c0000gn/T/ipykernel_27325/2137315506.py:39: FutureWarning: The frame.append method is deprecated and will be removed from pandas in a future version. Use pandas.concat instead.\n",
      "  all_data = all_data.append(df, ignore_index=True)\n"
     ]
    },
    {
     "name": "stdout",
     "output_type": "stream",
     "text": [
      "Trying URL: https://educationdata.urban.org/api/v1/school-districts/saipe/2016/?leaid=&fips=02\n",
      "Trying URL: https://educationdata.urban.org/api/v1/school-districts/saipe/2016/?leaid=&fips=03\n"
     ]
    },
    {
     "name": "stderr",
     "output_type": "stream",
     "text": [
      "/var/folders/jv/_0nbzmjn7p13g2s1_mch9b6c0000gn/T/ipykernel_27325/2137315506.py:39: FutureWarning: The frame.append method is deprecated and will be removed from pandas in a future version. Use pandas.concat instead.\n",
      "  all_data = all_data.append(df, ignore_index=True)\n",
      "/var/folders/jv/_0nbzmjn7p13g2s1_mch9b6c0000gn/T/ipykernel_27325/2137315506.py:39: FutureWarning: The frame.append method is deprecated and will be removed from pandas in a future version. Use pandas.concat instead.\n",
      "  all_data = all_data.append(df, ignore_index=True)\n"
     ]
    },
    {
     "name": "stdout",
     "output_type": "stream",
     "text": [
      "Error fetching data for FIPS 03 and year 2016: \"None of [Index(['district_id', 'district_name', 'year', 'est_population_total',\\n       'est_population_5_17', 'est_population_5_17_poverty',\\n       'est_population_5_17_poverty_pct', 'est_population_5_17_pct', 'leaid',\\n       'fips'],\\n      dtype='object')] are in the [columns]\"\n",
      "Trying URL: https://educationdata.urban.org/api/v1/school-districts/saipe/2016/?leaid=&fips=04\n"
     ]
    },
    {
     "name": "stderr",
     "output_type": "stream",
     "text": [
      "/var/folders/jv/_0nbzmjn7p13g2s1_mch9b6c0000gn/T/ipykernel_27325/2137315506.py:39: FutureWarning: The frame.append method is deprecated and will be removed from pandas in a future version. Use pandas.concat instead.\n",
      "  all_data = all_data.append(df, ignore_index=True)\n",
      "/var/folders/jv/_0nbzmjn7p13g2s1_mch9b6c0000gn/T/ipykernel_27325/2137315506.py:39: FutureWarning: The frame.append method is deprecated and will be removed from pandas in a future version. Use pandas.concat instead.\n",
      "  all_data = all_data.append(df, ignore_index=True)\n"
     ]
    },
    {
     "name": "stdout",
     "output_type": "stream",
     "text": [
      "Trying URL: https://educationdata.urban.org/api/v1/school-districts/saipe/2016/?leaid=&fips=05\n",
      "Trying URL: https://educationdata.urban.org/api/v1/school-districts/saipe/2016/?leaid=&fips=06\n"
     ]
    },
    {
     "name": "stderr",
     "output_type": "stream",
     "text": [
      "/var/folders/jv/_0nbzmjn7p13g2s1_mch9b6c0000gn/T/ipykernel_27325/2137315506.py:39: FutureWarning: The frame.append method is deprecated and will be removed from pandas in a future version. Use pandas.concat instead.\n",
      "  all_data = all_data.append(df, ignore_index=True)\n",
      "/var/folders/jv/_0nbzmjn7p13g2s1_mch9b6c0000gn/T/ipykernel_27325/2137315506.py:39: FutureWarning: The frame.append method is deprecated and will be removed from pandas in a future version. Use pandas.concat instead.\n",
      "  all_data = all_data.append(df, ignore_index=True)\n"
     ]
    },
    {
     "name": "stdout",
     "output_type": "stream",
     "text": [
      "Trying URL: https://educationdata.urban.org/api/v1/school-districts/saipe/2016/?leaid=&fips=07\n",
      "Error fetching data for FIPS 07 and year 2016: \"None of [Index(['district_id', 'district_name', 'year', 'est_population_total',\\n       'est_population_5_17', 'est_population_5_17_poverty',\\n       'est_population_5_17_poverty_pct', 'est_population_5_17_pct', 'leaid',\\n       'fips'],\\n      dtype='object')] are in the [columns]\"\n",
      "Trying URL: https://educationdata.urban.org/api/v1/school-districts/saipe/2016/?leaid=&fips=08\n"
     ]
    },
    {
     "name": "stderr",
     "output_type": "stream",
     "text": [
      "/var/folders/jv/_0nbzmjn7p13g2s1_mch9b6c0000gn/T/ipykernel_27325/2137315506.py:39: FutureWarning: The frame.append method is deprecated and will be removed from pandas in a future version. Use pandas.concat instead.\n",
      "  all_data = all_data.append(df, ignore_index=True)\n",
      "/var/folders/jv/_0nbzmjn7p13g2s1_mch9b6c0000gn/T/ipykernel_27325/2137315506.py:39: FutureWarning: The frame.append method is deprecated and will be removed from pandas in a future version. Use pandas.concat instead.\n",
      "  all_data = all_data.append(df, ignore_index=True)\n"
     ]
    },
    {
     "name": "stdout",
     "output_type": "stream",
     "text": [
      "Trying URL: https://educationdata.urban.org/api/v1/school-districts/saipe/2016/?leaid=&fips=09\n",
      "Trying URL: https://educationdata.urban.org/api/v1/school-districts/saipe/2016/?leaid=&fips=10\n"
     ]
    },
    {
     "name": "stderr",
     "output_type": "stream",
     "text": [
      "/var/folders/jv/_0nbzmjn7p13g2s1_mch9b6c0000gn/T/ipykernel_27325/2137315506.py:39: FutureWarning: The frame.append method is deprecated and will be removed from pandas in a future version. Use pandas.concat instead.\n",
      "  all_data = all_data.append(df, ignore_index=True)\n",
      "/var/folders/jv/_0nbzmjn7p13g2s1_mch9b6c0000gn/T/ipykernel_27325/2137315506.py:39: FutureWarning: The frame.append method is deprecated and will be removed from pandas in a future version. Use pandas.concat instead.\n",
      "  all_data = all_data.append(df, ignore_index=True)\n"
     ]
    },
    {
     "name": "stdout",
     "output_type": "stream",
     "text": [
      "Trying URL: https://educationdata.urban.org/api/v1/school-districts/saipe/2016/?leaid=&fips=11\n",
      "Trying URL: https://educationdata.urban.org/api/v1/school-districts/saipe/2016/?leaid=&fips=12\n"
     ]
    },
    {
     "name": "stderr",
     "output_type": "stream",
     "text": [
      "/var/folders/jv/_0nbzmjn7p13g2s1_mch9b6c0000gn/T/ipykernel_27325/2137315506.py:39: FutureWarning: The frame.append method is deprecated and will be removed from pandas in a future version. Use pandas.concat instead.\n",
      "  all_data = all_data.append(df, ignore_index=True)\n",
      "/var/folders/jv/_0nbzmjn7p13g2s1_mch9b6c0000gn/T/ipykernel_27325/2137315506.py:39: FutureWarning: The frame.append method is deprecated and will be removed from pandas in a future version. Use pandas.concat instead.\n",
      "  all_data = all_data.append(df, ignore_index=True)\n"
     ]
    },
    {
     "name": "stdout",
     "output_type": "stream",
     "text": [
      "Trying URL: https://educationdata.urban.org/api/v1/school-districts/saipe/2016/?leaid=&fips=13\n",
      "Trying URL: https://educationdata.urban.org/api/v1/school-districts/saipe/2016/?leaid=&fips=14\n",
      "Error fetching data for FIPS 14 and year 2016: \"None of [Index(['district_id', 'district_name', 'year', 'est_population_total',\\n       'est_population_5_17', 'est_population_5_17_poverty',\\n       'est_population_5_17_poverty_pct', 'est_population_5_17_pct', 'leaid',\\n       'fips'],\\n      dtype='object')] are in the [columns]\"\n",
      "Trying URL: https://educationdata.urban.org/api/v1/school-districts/saipe/2016/?leaid=&fips=15\n",
      "Trying URL: https://educationdata.urban.org/api/v1/school-districts/saipe/2016/?leaid=&fips=16\n"
     ]
    },
    {
     "name": "stderr",
     "output_type": "stream",
     "text": [
      "/var/folders/jv/_0nbzmjn7p13g2s1_mch9b6c0000gn/T/ipykernel_27325/2137315506.py:39: FutureWarning: The frame.append method is deprecated and will be removed from pandas in a future version. Use pandas.concat instead.\n",
      "  all_data = all_data.append(df, ignore_index=True)\n",
      "/var/folders/jv/_0nbzmjn7p13g2s1_mch9b6c0000gn/T/ipykernel_27325/2137315506.py:39: FutureWarning: The frame.append method is deprecated and will be removed from pandas in a future version. Use pandas.concat instead.\n",
      "  all_data = all_data.append(df, ignore_index=True)\n",
      "/var/folders/jv/_0nbzmjn7p13g2s1_mch9b6c0000gn/T/ipykernel_27325/2137315506.py:39: FutureWarning: The frame.append method is deprecated and will be removed from pandas in a future version. Use pandas.concat instead.\n",
      "  all_data = all_data.append(df, ignore_index=True)\n"
     ]
    },
    {
     "name": "stdout",
     "output_type": "stream",
     "text": [
      "Trying URL: https://educationdata.urban.org/api/v1/school-districts/saipe/2016/?leaid=&fips=17\n"
     ]
    },
    {
     "name": "stderr",
     "output_type": "stream",
     "text": [
      "/var/folders/jv/_0nbzmjn7p13g2s1_mch9b6c0000gn/T/ipykernel_27325/2137315506.py:39: FutureWarning: The frame.append method is deprecated and will be removed from pandas in a future version. Use pandas.concat instead.\n",
      "  all_data = all_data.append(df, ignore_index=True)\n",
      "/var/folders/jv/_0nbzmjn7p13g2s1_mch9b6c0000gn/T/ipykernel_27325/2137315506.py:39: FutureWarning: The frame.append method is deprecated and will be removed from pandas in a future version. Use pandas.concat instead.\n",
      "  all_data = all_data.append(df, ignore_index=True)\n"
     ]
    },
    {
     "name": "stdout",
     "output_type": "stream",
     "text": [
      "Trying URL: https://educationdata.urban.org/api/v1/school-districts/saipe/2016/?leaid=&fips=18\n",
      "Trying URL: https://educationdata.urban.org/api/v1/school-districts/saipe/2016/?leaid=&fips=19\n"
     ]
    },
    {
     "name": "stderr",
     "output_type": "stream",
     "text": [
      "/var/folders/jv/_0nbzmjn7p13g2s1_mch9b6c0000gn/T/ipykernel_27325/2137315506.py:39: FutureWarning: The frame.append method is deprecated and will be removed from pandas in a future version. Use pandas.concat instead.\n",
      "  all_data = all_data.append(df, ignore_index=True)\n",
      "/var/folders/jv/_0nbzmjn7p13g2s1_mch9b6c0000gn/T/ipykernel_27325/2137315506.py:39: FutureWarning: The frame.append method is deprecated and will be removed from pandas in a future version. Use pandas.concat instead.\n",
      "  all_data = all_data.append(df, ignore_index=True)\n"
     ]
    },
    {
     "name": "stdout",
     "output_type": "stream",
     "text": [
      "Trying URL: https://educationdata.urban.org/api/v1/school-districts/saipe/2016/?leaid=&fips=20\n",
      "Trying URL: https://educationdata.urban.org/api/v1/school-districts/saipe/2016/?leaid=&fips=21\n"
     ]
    },
    {
     "name": "stderr",
     "output_type": "stream",
     "text": [
      "/var/folders/jv/_0nbzmjn7p13g2s1_mch9b6c0000gn/T/ipykernel_27325/2137315506.py:39: FutureWarning: The frame.append method is deprecated and will be removed from pandas in a future version. Use pandas.concat instead.\n",
      "  all_data = all_data.append(df, ignore_index=True)\n",
      "/var/folders/jv/_0nbzmjn7p13g2s1_mch9b6c0000gn/T/ipykernel_27325/2137315506.py:39: FutureWarning: The frame.append method is deprecated and will be removed from pandas in a future version. Use pandas.concat instead.\n",
      "  all_data = all_data.append(df, ignore_index=True)\n"
     ]
    },
    {
     "name": "stdout",
     "output_type": "stream",
     "text": [
      "Trying URL: https://educationdata.urban.org/api/v1/school-districts/saipe/2016/?leaid=&fips=22\n",
      "Trying URL: https://educationdata.urban.org/api/v1/school-districts/saipe/2016/?leaid=&fips=23\n"
     ]
    },
    {
     "name": "stderr",
     "output_type": "stream",
     "text": [
      "/var/folders/jv/_0nbzmjn7p13g2s1_mch9b6c0000gn/T/ipykernel_27325/2137315506.py:39: FutureWarning: The frame.append method is deprecated and will be removed from pandas in a future version. Use pandas.concat instead.\n",
      "  all_data = all_data.append(df, ignore_index=True)\n",
      "/var/folders/jv/_0nbzmjn7p13g2s1_mch9b6c0000gn/T/ipykernel_27325/2137315506.py:39: FutureWarning: The frame.append method is deprecated and will be removed from pandas in a future version. Use pandas.concat instead.\n",
      "  all_data = all_data.append(df, ignore_index=True)\n"
     ]
    },
    {
     "name": "stdout",
     "output_type": "stream",
     "text": [
      "Trying URL: https://educationdata.urban.org/api/v1/school-districts/saipe/2016/?leaid=&fips=24\n",
      "Trying URL: https://educationdata.urban.org/api/v1/school-districts/saipe/2016/?leaid=&fips=25\n"
     ]
    },
    {
     "name": "stderr",
     "output_type": "stream",
     "text": [
      "/var/folders/jv/_0nbzmjn7p13g2s1_mch9b6c0000gn/T/ipykernel_27325/2137315506.py:39: FutureWarning: The frame.append method is deprecated and will be removed from pandas in a future version. Use pandas.concat instead.\n",
      "  all_data = all_data.append(df, ignore_index=True)\n"
     ]
    },
    {
     "name": "stdout",
     "output_type": "stream",
     "text": [
      "Trying URL: https://educationdata.urban.org/api/v1/school-districts/saipe/2016/?leaid=&fips=26\n"
     ]
    },
    {
     "name": "stderr",
     "output_type": "stream",
     "text": [
      "/var/folders/jv/_0nbzmjn7p13g2s1_mch9b6c0000gn/T/ipykernel_27325/2137315506.py:39: FutureWarning: The frame.append method is deprecated and will be removed from pandas in a future version. Use pandas.concat instead.\n",
      "  all_data = all_data.append(df, ignore_index=True)\n",
      "/var/folders/jv/_0nbzmjn7p13g2s1_mch9b6c0000gn/T/ipykernel_27325/2137315506.py:39: FutureWarning: The frame.append method is deprecated and will be removed from pandas in a future version. Use pandas.concat instead.\n",
      "  all_data = all_data.append(df, ignore_index=True)\n"
     ]
    },
    {
     "name": "stdout",
     "output_type": "stream",
     "text": [
      "Trying URL: https://educationdata.urban.org/api/v1/school-districts/saipe/2016/?leaid=&fips=27\n",
      "Trying URL: https://educationdata.urban.org/api/v1/school-districts/saipe/2016/?leaid=&fips=28\n"
     ]
    },
    {
     "name": "stderr",
     "output_type": "stream",
     "text": [
      "/var/folders/jv/_0nbzmjn7p13g2s1_mch9b6c0000gn/T/ipykernel_27325/2137315506.py:39: FutureWarning: The frame.append method is deprecated and will be removed from pandas in a future version. Use pandas.concat instead.\n",
      "  all_data = all_data.append(df, ignore_index=True)\n"
     ]
    },
    {
     "name": "stdout",
     "output_type": "stream",
     "text": [
      "Trying URL: https://educationdata.urban.org/api/v1/school-districts/saipe/2016/?leaid=&fips=29\n"
     ]
    },
    {
     "name": "stderr",
     "output_type": "stream",
     "text": [
      "/var/folders/jv/_0nbzmjn7p13g2s1_mch9b6c0000gn/T/ipykernel_27325/2137315506.py:39: FutureWarning: The frame.append method is deprecated and will be removed from pandas in a future version. Use pandas.concat instead.\n",
      "  all_data = all_data.append(df, ignore_index=True)\n"
     ]
    },
    {
     "name": "stdout",
     "output_type": "stream",
     "text": [
      "Trying URL: https://educationdata.urban.org/api/v1/school-districts/saipe/2016/?leaid=&fips=30\n"
     ]
    },
    {
     "name": "stderr",
     "output_type": "stream",
     "text": [
      "/var/folders/jv/_0nbzmjn7p13g2s1_mch9b6c0000gn/T/ipykernel_27325/2137315506.py:39: FutureWarning: The frame.append method is deprecated and will be removed from pandas in a future version. Use pandas.concat instead.\n",
      "  all_data = all_data.append(df, ignore_index=True)\n",
      "/var/folders/jv/_0nbzmjn7p13g2s1_mch9b6c0000gn/T/ipykernel_27325/2137315506.py:39: FutureWarning: The frame.append method is deprecated and will be removed from pandas in a future version. Use pandas.concat instead.\n",
      "  all_data = all_data.append(df, ignore_index=True)\n"
     ]
    },
    {
     "name": "stdout",
     "output_type": "stream",
     "text": [
      "Trying URL: https://educationdata.urban.org/api/v1/school-districts/saipe/2016/?leaid=&fips=31\n",
      "Trying URL: https://educationdata.urban.org/api/v1/school-districts/saipe/2016/?leaid=&fips=32\n"
     ]
    },
    {
     "name": "stderr",
     "output_type": "stream",
     "text": [
      "/var/folders/jv/_0nbzmjn7p13g2s1_mch9b6c0000gn/T/ipykernel_27325/2137315506.py:39: FutureWarning: The frame.append method is deprecated and will be removed from pandas in a future version. Use pandas.concat instead.\n",
      "  all_data = all_data.append(df, ignore_index=True)\n",
      "/var/folders/jv/_0nbzmjn7p13g2s1_mch9b6c0000gn/T/ipykernel_27325/2137315506.py:39: FutureWarning: The frame.append method is deprecated and will be removed from pandas in a future version. Use pandas.concat instead.\n",
      "  all_data = all_data.append(df, ignore_index=True)\n"
     ]
    },
    {
     "name": "stdout",
     "output_type": "stream",
     "text": [
      "Trying URL: https://educationdata.urban.org/api/v1/school-districts/saipe/2016/?leaid=&fips=33\n",
      "Trying URL: https://educationdata.urban.org/api/v1/school-districts/saipe/2016/?leaid=&fips=34\n"
     ]
    },
    {
     "name": "stderr",
     "output_type": "stream",
     "text": [
      "/var/folders/jv/_0nbzmjn7p13g2s1_mch9b6c0000gn/T/ipykernel_27325/2137315506.py:39: FutureWarning: The frame.append method is deprecated and will be removed from pandas in a future version. Use pandas.concat instead.\n",
      "  all_data = all_data.append(df, ignore_index=True)\n",
      "/var/folders/jv/_0nbzmjn7p13g2s1_mch9b6c0000gn/T/ipykernel_27325/2137315506.py:39: FutureWarning: The frame.append method is deprecated and will be removed from pandas in a future version. Use pandas.concat instead.\n",
      "  all_data = all_data.append(df, ignore_index=True)\n"
     ]
    },
    {
     "name": "stdout",
     "output_type": "stream",
     "text": [
      "Trying URL: https://educationdata.urban.org/api/v1/school-districts/saipe/2016/?leaid=&fips=35\n",
      "Trying URL: https://educationdata.urban.org/api/v1/school-districts/saipe/2016/?leaid=&fips=36\n"
     ]
    },
    {
     "name": "stderr",
     "output_type": "stream",
     "text": [
      "/var/folders/jv/_0nbzmjn7p13g2s1_mch9b6c0000gn/T/ipykernel_27325/2137315506.py:39: FutureWarning: The frame.append method is deprecated and will be removed from pandas in a future version. Use pandas.concat instead.\n",
      "  all_data = all_data.append(df, ignore_index=True)\n",
      "/var/folders/jv/_0nbzmjn7p13g2s1_mch9b6c0000gn/T/ipykernel_27325/2137315506.py:39: FutureWarning: The frame.append method is deprecated and will be removed from pandas in a future version. Use pandas.concat instead.\n",
      "  all_data = all_data.append(df, ignore_index=True)\n"
     ]
    },
    {
     "name": "stdout",
     "output_type": "stream",
     "text": [
      "Trying URL: https://educationdata.urban.org/api/v1/school-districts/saipe/2016/?leaid=&fips=37\n",
      "Trying URL: https://educationdata.urban.org/api/v1/school-districts/saipe/2016/?leaid=&fips=38\n"
     ]
    },
    {
     "name": "stderr",
     "output_type": "stream",
     "text": [
      "/var/folders/jv/_0nbzmjn7p13g2s1_mch9b6c0000gn/T/ipykernel_27325/2137315506.py:39: FutureWarning: The frame.append method is deprecated and will be removed from pandas in a future version. Use pandas.concat instead.\n",
      "  all_data = all_data.append(df, ignore_index=True)\n"
     ]
    },
    {
     "name": "stdout",
     "output_type": "stream",
     "text": [
      "Trying URL: https://educationdata.urban.org/api/v1/school-districts/saipe/2016/?leaid=&fips=39\n"
     ]
    },
    {
     "name": "stderr",
     "output_type": "stream",
     "text": [
      "/var/folders/jv/_0nbzmjn7p13g2s1_mch9b6c0000gn/T/ipykernel_27325/2137315506.py:39: FutureWarning: The frame.append method is deprecated and will be removed from pandas in a future version. Use pandas.concat instead.\n",
      "  all_data = all_data.append(df, ignore_index=True)\n"
     ]
    },
    {
     "name": "stdout",
     "output_type": "stream",
     "text": [
      "Trying URL: https://educationdata.urban.org/api/v1/school-districts/saipe/2016/?leaid=&fips=40\n"
     ]
    },
    {
     "name": "stderr",
     "output_type": "stream",
     "text": [
      "/var/folders/jv/_0nbzmjn7p13g2s1_mch9b6c0000gn/T/ipykernel_27325/2137315506.py:39: FutureWarning: The frame.append method is deprecated and will be removed from pandas in a future version. Use pandas.concat instead.\n",
      "  all_data = all_data.append(df, ignore_index=True)\n",
      "/var/folders/jv/_0nbzmjn7p13g2s1_mch9b6c0000gn/T/ipykernel_27325/2137315506.py:39: FutureWarning: The frame.append method is deprecated and will be removed from pandas in a future version. Use pandas.concat instead.\n",
      "  all_data = all_data.append(df, ignore_index=True)\n"
     ]
    },
    {
     "name": "stdout",
     "output_type": "stream",
     "text": [
      "Trying URL: https://educationdata.urban.org/api/v1/school-districts/saipe/2016/?leaid=&fips=41\n",
      "Trying URL: https://educationdata.urban.org/api/v1/school-districts/saipe/2016/?leaid=&fips=42\n"
     ]
    },
    {
     "name": "stderr",
     "output_type": "stream",
     "text": [
      "/var/folders/jv/_0nbzmjn7p13g2s1_mch9b6c0000gn/T/ipykernel_27325/2137315506.py:39: FutureWarning: The frame.append method is deprecated and will be removed from pandas in a future version. Use pandas.concat instead.\n",
      "  all_data = all_data.append(df, ignore_index=True)\n",
      "/var/folders/jv/_0nbzmjn7p13g2s1_mch9b6c0000gn/T/ipykernel_27325/2137315506.py:39: FutureWarning: The frame.append method is deprecated and will be removed from pandas in a future version. Use pandas.concat instead.\n",
      "  all_data = all_data.append(df, ignore_index=True)\n"
     ]
    },
    {
     "name": "stdout",
     "output_type": "stream",
     "text": [
      "Trying URL: https://educationdata.urban.org/api/v1/school-districts/saipe/2016/?leaid=&fips=43\n",
      "Error fetching data for FIPS 43 and year 2016: \"None of [Index(['district_id', 'district_name', 'year', 'est_population_total',\\n       'est_population_5_17', 'est_population_5_17_poverty',\\n       'est_population_5_17_poverty_pct', 'est_population_5_17_pct', 'leaid',\\n       'fips'],\\n      dtype='object')] are in the [columns]\"\n",
      "Trying URL: https://educationdata.urban.org/api/v1/school-districts/saipe/2016/?leaid=&fips=44\n"
     ]
    },
    {
     "name": "stderr",
     "output_type": "stream",
     "text": [
      "/var/folders/jv/_0nbzmjn7p13g2s1_mch9b6c0000gn/T/ipykernel_27325/2137315506.py:39: FutureWarning: The frame.append method is deprecated and will be removed from pandas in a future version. Use pandas.concat instead.\n",
      "  all_data = all_data.append(df, ignore_index=True)\n",
      "/var/folders/jv/_0nbzmjn7p13g2s1_mch9b6c0000gn/T/ipykernel_27325/2137315506.py:39: FutureWarning: The frame.append method is deprecated and will be removed from pandas in a future version. Use pandas.concat instead.\n",
      "  all_data = all_data.append(df, ignore_index=True)\n"
     ]
    },
    {
     "name": "stdout",
     "output_type": "stream",
     "text": [
      "Trying URL: https://educationdata.urban.org/api/v1/school-districts/saipe/2016/?leaid=&fips=45\n",
      "Trying URL: https://educationdata.urban.org/api/v1/school-districts/saipe/2016/?leaid=&fips=46\n"
     ]
    },
    {
     "name": "stderr",
     "output_type": "stream",
     "text": [
      "/var/folders/jv/_0nbzmjn7p13g2s1_mch9b6c0000gn/T/ipykernel_27325/2137315506.py:39: FutureWarning: The frame.append method is deprecated and will be removed from pandas in a future version. Use pandas.concat instead.\n",
      "  all_data = all_data.append(df, ignore_index=True)\n",
      "/var/folders/jv/_0nbzmjn7p13g2s1_mch9b6c0000gn/T/ipykernel_27325/2137315506.py:39: FutureWarning: The frame.append method is deprecated and will be removed from pandas in a future version. Use pandas.concat instead.\n",
      "  all_data = all_data.append(df, ignore_index=True)\n"
     ]
    },
    {
     "name": "stdout",
     "output_type": "stream",
     "text": [
      "Trying URL: https://educationdata.urban.org/api/v1/school-districts/saipe/2016/?leaid=&fips=47\n",
      "Trying URL: https://educationdata.urban.org/api/v1/school-districts/saipe/2016/?leaid=&fips=48\n"
     ]
    },
    {
     "name": "stderr",
     "output_type": "stream",
     "text": [
      "/var/folders/jv/_0nbzmjn7p13g2s1_mch9b6c0000gn/T/ipykernel_27325/2137315506.py:39: FutureWarning: The frame.append method is deprecated and will be removed from pandas in a future version. Use pandas.concat instead.\n",
      "  all_data = all_data.append(df, ignore_index=True)\n",
      "/var/folders/jv/_0nbzmjn7p13g2s1_mch9b6c0000gn/T/ipykernel_27325/2137315506.py:39: FutureWarning: The frame.append method is deprecated and will be removed from pandas in a future version. Use pandas.concat instead.\n",
      "  all_data = all_data.append(df, ignore_index=True)\n"
     ]
    },
    {
     "name": "stdout",
     "output_type": "stream",
     "text": [
      "Trying URL: https://educationdata.urban.org/api/v1/school-districts/saipe/2016/?leaid=&fips=49\n",
      "Trying URL: https://educationdata.urban.org/api/v1/school-districts/saipe/2016/?leaid=&fips=50\n"
     ]
    },
    {
     "name": "stderr",
     "output_type": "stream",
     "text": [
      "/var/folders/jv/_0nbzmjn7p13g2s1_mch9b6c0000gn/T/ipykernel_27325/2137315506.py:39: FutureWarning: The frame.append method is deprecated and will be removed from pandas in a future version. Use pandas.concat instead.\n",
      "  all_data = all_data.append(df, ignore_index=True)\n",
      "/var/folders/jv/_0nbzmjn7p13g2s1_mch9b6c0000gn/T/ipykernel_27325/2137315506.py:39: FutureWarning: The frame.append method is deprecated and will be removed from pandas in a future version. Use pandas.concat instead.\n",
      "  all_data = all_data.append(df, ignore_index=True)\n"
     ]
    },
    {
     "name": "stdout",
     "output_type": "stream",
     "text": [
      "Trying URL: https://educationdata.urban.org/api/v1/school-districts/saipe/2016/?leaid=&fips=51\n",
      "Trying URL: https://educationdata.urban.org/api/v1/school-districts/saipe/2016/?leaid=&fips=52\n",
      "Error fetching data for FIPS 52 and year 2016: \"None of [Index(['district_id', 'district_name', 'year', 'est_population_total',\\n       'est_population_5_17', 'est_population_5_17_poverty',\\n       'est_population_5_17_poverty_pct', 'est_population_5_17_pct', 'leaid',\\n       'fips'],\\n      dtype='object')] are in the [columns]\"\n",
      "Trying URL: https://educationdata.urban.org/api/v1/school-districts/saipe/2016/?leaid=&fips=53\n"
     ]
    },
    {
     "name": "stderr",
     "output_type": "stream",
     "text": [
      "/var/folders/jv/_0nbzmjn7p13g2s1_mch9b6c0000gn/T/ipykernel_27325/2137315506.py:39: FutureWarning: The frame.append method is deprecated and will be removed from pandas in a future version. Use pandas.concat instead.\n",
      "  all_data = all_data.append(df, ignore_index=True)\n",
      "/var/folders/jv/_0nbzmjn7p13g2s1_mch9b6c0000gn/T/ipykernel_27325/2137315506.py:39: FutureWarning: The frame.append method is deprecated and will be removed from pandas in a future version. Use pandas.concat instead.\n",
      "  all_data = all_data.append(df, ignore_index=True)\n"
     ]
    },
    {
     "name": "stdout",
     "output_type": "stream",
     "text": [
      "Trying URL: https://educationdata.urban.org/api/v1/school-districts/saipe/2016/?leaid=&fips=54\n",
      "Trying URL: https://educationdata.urban.org/api/v1/school-districts/saipe/2016/?leaid=&fips=55\n"
     ]
    },
    {
     "name": "stderr",
     "output_type": "stream",
     "text": [
      "/var/folders/jv/_0nbzmjn7p13g2s1_mch9b6c0000gn/T/ipykernel_27325/2137315506.py:39: FutureWarning: The frame.append method is deprecated and will be removed from pandas in a future version. Use pandas.concat instead.\n",
      "  all_data = all_data.append(df, ignore_index=True)\n",
      "/var/folders/jv/_0nbzmjn7p13g2s1_mch9b6c0000gn/T/ipykernel_27325/2137315506.py:39: FutureWarning: The frame.append method is deprecated and will be removed from pandas in a future version. Use pandas.concat instead.\n",
      "  all_data = all_data.append(df, ignore_index=True)\n",
      "/var/folders/jv/_0nbzmjn7p13g2s1_mch9b6c0000gn/T/ipykernel_27325/2137315506.py:39: FutureWarning: The frame.append method is deprecated and will be removed from pandas in a future version. Use pandas.concat instead.\n",
      "  all_data = all_data.append(df, ignore_index=True)\n"
     ]
    },
    {
     "name": "stdout",
     "output_type": "stream",
     "text": [
      "Trying URL: https://educationdata.urban.org/api/v1/school-districts/saipe/2016/?leaid=&fips=56\n",
      "Trying URL: https://educationdata.urban.org/api/v1/school-districts/saipe/2017/?leaid=&fips=01\n"
     ]
    },
    {
     "name": "stderr",
     "output_type": "stream",
     "text": [
      "/var/folders/jv/_0nbzmjn7p13g2s1_mch9b6c0000gn/T/ipykernel_27325/2137315506.py:39: FutureWarning: The frame.append method is deprecated and will be removed from pandas in a future version. Use pandas.concat instead.\n",
      "  all_data = all_data.append(df, ignore_index=True)\n",
      "/var/folders/jv/_0nbzmjn7p13g2s1_mch9b6c0000gn/T/ipykernel_27325/2137315506.py:39: FutureWarning: The frame.append method is deprecated and will be removed from pandas in a future version. Use pandas.concat instead.\n",
      "  all_data = all_data.append(df, ignore_index=True)\n"
     ]
    },
    {
     "name": "stdout",
     "output_type": "stream",
     "text": [
      "Trying URL: https://educationdata.urban.org/api/v1/school-districts/saipe/2017/?leaid=&fips=02\n",
      "Trying URL: https://educationdata.urban.org/api/v1/school-districts/saipe/2017/?leaid=&fips=03\n",
      "Error fetching data for FIPS 03 and year 2017: \"None of [Index(['district_id', 'district_name', 'year', 'est_population_total',\\n       'est_population_5_17', 'est_population_5_17_poverty',\\n       'est_population_5_17_poverty_pct', 'est_population_5_17_pct', 'leaid',\\n       'fips'],\\n      dtype='object')] are in the [columns]\"\n",
      "Trying URL: https://educationdata.urban.org/api/v1/school-districts/saipe/2017/?leaid=&fips=04\n",
      "Trying URL: https://educationdata.urban.org/api/v1/school-districts/saipe/2017/?leaid=&fips=05\n"
     ]
    },
    {
     "name": "stderr",
     "output_type": "stream",
     "text": [
      "/var/folders/jv/_0nbzmjn7p13g2s1_mch9b6c0000gn/T/ipykernel_27325/2137315506.py:39: FutureWarning: The frame.append method is deprecated and will be removed from pandas in a future version. Use pandas.concat instead.\n",
      "  all_data = all_data.append(df, ignore_index=True)\n",
      "/var/folders/jv/_0nbzmjn7p13g2s1_mch9b6c0000gn/T/ipykernel_27325/2137315506.py:39: FutureWarning: The frame.append method is deprecated and will be removed from pandas in a future version. Use pandas.concat instead.\n",
      "  all_data = all_data.append(df, ignore_index=True)\n",
      "/var/folders/jv/_0nbzmjn7p13g2s1_mch9b6c0000gn/T/ipykernel_27325/2137315506.py:39: FutureWarning: The frame.append method is deprecated and will be removed from pandas in a future version. Use pandas.concat instead.\n",
      "  all_data = all_data.append(df, ignore_index=True)\n"
     ]
    },
    {
     "name": "stdout",
     "output_type": "stream",
     "text": [
      "Trying URL: https://educationdata.urban.org/api/v1/school-districts/saipe/2017/?leaid=&fips=06\n"
     ]
    },
    {
     "name": "stderr",
     "output_type": "stream",
     "text": [
      "/var/folders/jv/_0nbzmjn7p13g2s1_mch9b6c0000gn/T/ipykernel_27325/2137315506.py:39: FutureWarning: The frame.append method is deprecated and will be removed from pandas in a future version. Use pandas.concat instead.\n",
      "  all_data = all_data.append(df, ignore_index=True)\n",
      "/var/folders/jv/_0nbzmjn7p13g2s1_mch9b6c0000gn/T/ipykernel_27325/2137315506.py:39: FutureWarning: The frame.append method is deprecated and will be removed from pandas in a future version. Use pandas.concat instead.\n",
      "  all_data = all_data.append(df, ignore_index=True)\n"
     ]
    },
    {
     "name": "stdout",
     "output_type": "stream",
     "text": [
      "Trying URL: https://educationdata.urban.org/api/v1/school-districts/saipe/2017/?leaid=&fips=07\n",
      "Error fetching data for FIPS 07 and year 2017: \"None of [Index(['district_id', 'district_name', 'year', 'est_population_total',\\n       'est_population_5_17', 'est_population_5_17_poverty',\\n       'est_population_5_17_poverty_pct', 'est_population_5_17_pct', 'leaid',\\n       'fips'],\\n      dtype='object')] are in the [columns]\"\n",
      "Trying URL: https://educationdata.urban.org/api/v1/school-districts/saipe/2017/?leaid=&fips=08\n"
     ]
    },
    {
     "name": "stderr",
     "output_type": "stream",
     "text": [
      "/var/folders/jv/_0nbzmjn7p13g2s1_mch9b6c0000gn/T/ipykernel_27325/2137315506.py:39: FutureWarning: The frame.append method is deprecated and will be removed from pandas in a future version. Use pandas.concat instead.\n",
      "  all_data = all_data.append(df, ignore_index=True)\n",
      "/var/folders/jv/_0nbzmjn7p13g2s1_mch9b6c0000gn/T/ipykernel_27325/2137315506.py:39: FutureWarning: The frame.append method is deprecated and will be removed from pandas in a future version. Use pandas.concat instead.\n",
      "  all_data = all_data.append(df, ignore_index=True)\n"
     ]
    },
    {
     "name": "stdout",
     "output_type": "stream",
     "text": [
      "Trying URL: https://educationdata.urban.org/api/v1/school-districts/saipe/2017/?leaid=&fips=09\n",
      "Trying URL: https://educationdata.urban.org/api/v1/school-districts/saipe/2017/?leaid=&fips=10\n"
     ]
    },
    {
     "name": "stderr",
     "output_type": "stream",
     "text": [
      "/var/folders/jv/_0nbzmjn7p13g2s1_mch9b6c0000gn/T/ipykernel_27325/2137315506.py:39: FutureWarning: The frame.append method is deprecated and will be removed from pandas in a future version. Use pandas.concat instead.\n",
      "  all_data = all_data.append(df, ignore_index=True)\n",
      "/var/folders/jv/_0nbzmjn7p13g2s1_mch9b6c0000gn/T/ipykernel_27325/2137315506.py:39: FutureWarning: The frame.append method is deprecated and will be removed from pandas in a future version. Use pandas.concat instead.\n",
      "  all_data = all_data.append(df, ignore_index=True)\n"
     ]
    },
    {
     "name": "stdout",
     "output_type": "stream",
     "text": [
      "Trying URL: https://educationdata.urban.org/api/v1/school-districts/saipe/2017/?leaid=&fips=11\n",
      "Trying URL: https://educationdata.urban.org/api/v1/school-districts/saipe/2017/?leaid=&fips=12\n"
     ]
    },
    {
     "name": "stderr",
     "output_type": "stream",
     "text": [
      "/var/folders/jv/_0nbzmjn7p13g2s1_mch9b6c0000gn/T/ipykernel_27325/2137315506.py:39: FutureWarning: The frame.append method is deprecated and will be removed from pandas in a future version. Use pandas.concat instead.\n",
      "  all_data = all_data.append(df, ignore_index=True)\n",
      "/var/folders/jv/_0nbzmjn7p13g2s1_mch9b6c0000gn/T/ipykernel_27325/2137315506.py:39: FutureWarning: The frame.append method is deprecated and will be removed from pandas in a future version. Use pandas.concat instead.\n",
      "  all_data = all_data.append(df, ignore_index=True)\n"
     ]
    },
    {
     "name": "stdout",
     "output_type": "stream",
     "text": [
      "Trying URL: https://educationdata.urban.org/api/v1/school-districts/saipe/2017/?leaid=&fips=13\n",
      "Trying URL: https://educationdata.urban.org/api/v1/school-districts/saipe/2017/?leaid=&fips=14\n",
      "Error fetching data for FIPS 14 and year 2017: \"None of [Index(['district_id', 'district_name', 'year', 'est_population_total',\\n       'est_population_5_17', 'est_population_5_17_poverty',\\n       'est_population_5_17_poverty_pct', 'est_population_5_17_pct', 'leaid',\\n       'fips'],\\n      dtype='object')] are in the [columns]\"\n",
      "Trying URL: https://educationdata.urban.org/api/v1/school-districts/saipe/2017/?leaid=&fips=15\n",
      "Trying URL: https://educationdata.urban.org/api/v1/school-districts/saipe/2017/?leaid=&fips=16\n"
     ]
    },
    {
     "name": "stderr",
     "output_type": "stream",
     "text": [
      "/var/folders/jv/_0nbzmjn7p13g2s1_mch9b6c0000gn/T/ipykernel_27325/2137315506.py:39: FutureWarning: The frame.append method is deprecated and will be removed from pandas in a future version. Use pandas.concat instead.\n",
      "  all_data = all_data.append(df, ignore_index=True)\n",
      "/var/folders/jv/_0nbzmjn7p13g2s1_mch9b6c0000gn/T/ipykernel_27325/2137315506.py:39: FutureWarning: The frame.append method is deprecated and will be removed from pandas in a future version. Use pandas.concat instead.\n",
      "  all_data = all_data.append(df, ignore_index=True)\n",
      "/var/folders/jv/_0nbzmjn7p13g2s1_mch9b6c0000gn/T/ipykernel_27325/2137315506.py:39: FutureWarning: The frame.append method is deprecated and will be removed from pandas in a future version. Use pandas.concat instead.\n",
      "  all_data = all_data.append(df, ignore_index=True)\n"
     ]
    },
    {
     "name": "stdout",
     "output_type": "stream",
     "text": [
      "Trying URL: https://educationdata.urban.org/api/v1/school-districts/saipe/2017/?leaid=&fips=17\n"
     ]
    },
    {
     "name": "stderr",
     "output_type": "stream",
     "text": [
      "/var/folders/jv/_0nbzmjn7p13g2s1_mch9b6c0000gn/T/ipykernel_27325/2137315506.py:39: FutureWarning: The frame.append method is deprecated and will be removed from pandas in a future version. Use pandas.concat instead.\n",
      "  all_data = all_data.append(df, ignore_index=True)\n"
     ]
    },
    {
     "name": "stdout",
     "output_type": "stream",
     "text": [
      "Trying URL: https://educationdata.urban.org/api/v1/school-districts/saipe/2017/?leaid=&fips=18\n"
     ]
    },
    {
     "name": "stderr",
     "output_type": "stream",
     "text": [
      "/var/folders/jv/_0nbzmjn7p13g2s1_mch9b6c0000gn/T/ipykernel_27325/2137315506.py:39: FutureWarning: The frame.append method is deprecated and will be removed from pandas in a future version. Use pandas.concat instead.\n",
      "  all_data = all_data.append(df, ignore_index=True)\n",
      "/var/folders/jv/_0nbzmjn7p13g2s1_mch9b6c0000gn/T/ipykernel_27325/2137315506.py:39: FutureWarning: The frame.append method is deprecated and will be removed from pandas in a future version. Use pandas.concat instead.\n",
      "  all_data = all_data.append(df, ignore_index=True)\n"
     ]
    },
    {
     "name": "stdout",
     "output_type": "stream",
     "text": [
      "Trying URL: https://educationdata.urban.org/api/v1/school-districts/saipe/2017/?leaid=&fips=19\n",
      "Trying URL: https://educationdata.urban.org/api/v1/school-districts/saipe/2017/?leaid=&fips=20\n"
     ]
    },
    {
     "name": "stderr",
     "output_type": "stream",
     "text": [
      "/var/folders/jv/_0nbzmjn7p13g2s1_mch9b6c0000gn/T/ipykernel_27325/2137315506.py:39: FutureWarning: The frame.append method is deprecated and will be removed from pandas in a future version. Use pandas.concat instead.\n",
      "  all_data = all_data.append(df, ignore_index=True)\n",
      "/var/folders/jv/_0nbzmjn7p13g2s1_mch9b6c0000gn/T/ipykernel_27325/2137315506.py:39: FutureWarning: The frame.append method is deprecated and will be removed from pandas in a future version. Use pandas.concat instead.\n",
      "  all_data = all_data.append(df, ignore_index=True)\n"
     ]
    },
    {
     "name": "stdout",
     "output_type": "stream",
     "text": [
      "Trying URL: https://educationdata.urban.org/api/v1/school-districts/saipe/2017/?leaid=&fips=21\n",
      "Trying URL: https://educationdata.urban.org/api/v1/school-districts/saipe/2017/?leaid=&fips=22\n"
     ]
    },
    {
     "name": "stderr",
     "output_type": "stream",
     "text": [
      "/var/folders/jv/_0nbzmjn7p13g2s1_mch9b6c0000gn/T/ipykernel_27325/2137315506.py:39: FutureWarning: The frame.append method is deprecated and will be removed from pandas in a future version. Use pandas.concat instead.\n",
      "  all_data = all_data.append(df, ignore_index=True)\n",
      "/var/folders/jv/_0nbzmjn7p13g2s1_mch9b6c0000gn/T/ipykernel_27325/2137315506.py:39: FutureWarning: The frame.append method is deprecated and will be removed from pandas in a future version. Use pandas.concat instead.\n",
      "  all_data = all_data.append(df, ignore_index=True)\n"
     ]
    },
    {
     "name": "stdout",
     "output_type": "stream",
     "text": [
      "Trying URL: https://educationdata.urban.org/api/v1/school-districts/saipe/2017/?leaid=&fips=23\n",
      "Trying URL: https://educationdata.urban.org/api/v1/school-districts/saipe/2017/?leaid=&fips=24\n"
     ]
    },
    {
     "name": "stderr",
     "output_type": "stream",
     "text": [
      "/var/folders/jv/_0nbzmjn7p13g2s1_mch9b6c0000gn/T/ipykernel_27325/2137315506.py:39: FutureWarning: The frame.append method is deprecated and will be removed from pandas in a future version. Use pandas.concat instead.\n",
      "  all_data = all_data.append(df, ignore_index=True)\n",
      "/var/folders/jv/_0nbzmjn7p13g2s1_mch9b6c0000gn/T/ipykernel_27325/2137315506.py:39: FutureWarning: The frame.append method is deprecated and will be removed from pandas in a future version. Use pandas.concat instead.\n",
      "  all_data = all_data.append(df, ignore_index=True)\n"
     ]
    },
    {
     "name": "stdout",
     "output_type": "stream",
     "text": [
      "Trying URL: https://educationdata.urban.org/api/v1/school-districts/saipe/2017/?leaid=&fips=25\n",
      "Trying URL: https://educationdata.urban.org/api/v1/school-districts/saipe/2017/?leaid=&fips=26\n"
     ]
    },
    {
     "name": "stderr",
     "output_type": "stream",
     "text": [
      "/var/folders/jv/_0nbzmjn7p13g2s1_mch9b6c0000gn/T/ipykernel_27325/2137315506.py:39: FutureWarning: The frame.append method is deprecated and will be removed from pandas in a future version. Use pandas.concat instead.\n",
      "  all_data = all_data.append(df, ignore_index=True)\n"
     ]
    },
    {
     "name": "stdout",
     "output_type": "stream",
     "text": [
      "Trying URL: https://educationdata.urban.org/api/v1/school-districts/saipe/2017/?leaid=&fips=27\n"
     ]
    },
    {
     "name": "stderr",
     "output_type": "stream",
     "text": [
      "/var/folders/jv/_0nbzmjn7p13g2s1_mch9b6c0000gn/T/ipykernel_27325/2137315506.py:39: FutureWarning: The frame.append method is deprecated and will be removed from pandas in a future version. Use pandas.concat instead.\n",
      "  all_data = all_data.append(df, ignore_index=True)\n",
      "/var/folders/jv/_0nbzmjn7p13g2s1_mch9b6c0000gn/T/ipykernel_27325/2137315506.py:39: FutureWarning: The frame.append method is deprecated and will be removed from pandas in a future version. Use pandas.concat instead.\n",
      "  all_data = all_data.append(df, ignore_index=True)\n"
     ]
    },
    {
     "name": "stdout",
     "output_type": "stream",
     "text": [
      "Trying URL: https://educationdata.urban.org/api/v1/school-districts/saipe/2017/?leaid=&fips=28\n",
      "Trying URL: https://educationdata.urban.org/api/v1/school-districts/saipe/2017/?leaid=&fips=29\n"
     ]
    },
    {
     "name": "stderr",
     "output_type": "stream",
     "text": [
      "/var/folders/jv/_0nbzmjn7p13g2s1_mch9b6c0000gn/T/ipykernel_27325/2137315506.py:39: FutureWarning: The frame.append method is deprecated and will be removed from pandas in a future version. Use pandas.concat instead.\n",
      "  all_data = all_data.append(df, ignore_index=True)\n",
      "/var/folders/jv/_0nbzmjn7p13g2s1_mch9b6c0000gn/T/ipykernel_27325/2137315506.py:39: FutureWarning: The frame.append method is deprecated and will be removed from pandas in a future version. Use pandas.concat instead.\n",
      "  all_data = all_data.append(df, ignore_index=True)\n"
     ]
    },
    {
     "name": "stdout",
     "output_type": "stream",
     "text": [
      "Trying URL: https://educationdata.urban.org/api/v1/school-districts/saipe/2017/?leaid=&fips=30\n",
      "Trying URL: https://educationdata.urban.org/api/v1/school-districts/saipe/2017/?leaid=&fips=31\n"
     ]
    },
    {
     "name": "stderr",
     "output_type": "stream",
     "text": [
      "/var/folders/jv/_0nbzmjn7p13g2s1_mch9b6c0000gn/T/ipykernel_27325/2137315506.py:39: FutureWarning: The frame.append method is deprecated and will be removed from pandas in a future version. Use pandas.concat instead.\n",
      "  all_data = all_data.append(df, ignore_index=True)\n",
      "/var/folders/jv/_0nbzmjn7p13g2s1_mch9b6c0000gn/T/ipykernel_27325/2137315506.py:39: FutureWarning: The frame.append method is deprecated and will be removed from pandas in a future version. Use pandas.concat instead.\n",
      "  all_data = all_data.append(df, ignore_index=True)\n"
     ]
    },
    {
     "name": "stdout",
     "output_type": "stream",
     "text": [
      "Trying URL: https://educationdata.urban.org/api/v1/school-districts/saipe/2017/?leaid=&fips=32\n",
      "Trying URL: https://educationdata.urban.org/api/v1/school-districts/saipe/2017/?leaid=&fips=33\n"
     ]
    },
    {
     "name": "stderr",
     "output_type": "stream",
     "text": [
      "/var/folders/jv/_0nbzmjn7p13g2s1_mch9b6c0000gn/T/ipykernel_27325/2137315506.py:39: FutureWarning: The frame.append method is deprecated and will be removed from pandas in a future version. Use pandas.concat instead.\n",
      "  all_data = all_data.append(df, ignore_index=True)\n"
     ]
    },
    {
     "name": "stdout",
     "output_type": "stream",
     "text": [
      "Trying URL: https://educationdata.urban.org/api/v1/school-districts/saipe/2017/?leaid=&fips=34\n"
     ]
    },
    {
     "name": "stderr",
     "output_type": "stream",
     "text": [
      "/var/folders/jv/_0nbzmjn7p13g2s1_mch9b6c0000gn/T/ipykernel_27325/2137315506.py:39: FutureWarning: The frame.append method is deprecated and will be removed from pandas in a future version. Use pandas.concat instead.\n",
      "  all_data = all_data.append(df, ignore_index=True)\n",
      "/var/folders/jv/_0nbzmjn7p13g2s1_mch9b6c0000gn/T/ipykernel_27325/2137315506.py:39: FutureWarning: The frame.append method is deprecated and will be removed from pandas in a future version. Use pandas.concat instead.\n",
      "  all_data = all_data.append(df, ignore_index=True)\n"
     ]
    },
    {
     "name": "stdout",
     "output_type": "stream",
     "text": [
      "Trying URL: https://educationdata.urban.org/api/v1/school-districts/saipe/2017/?leaid=&fips=35\n",
      "Trying URL: https://educationdata.urban.org/api/v1/school-districts/saipe/2017/?leaid=&fips=36\n"
     ]
    },
    {
     "name": "stderr",
     "output_type": "stream",
     "text": [
      "/var/folders/jv/_0nbzmjn7p13g2s1_mch9b6c0000gn/T/ipykernel_27325/2137315506.py:39: FutureWarning: The frame.append method is deprecated and will be removed from pandas in a future version. Use pandas.concat instead.\n",
      "  all_data = all_data.append(df, ignore_index=True)\n",
      "/var/folders/jv/_0nbzmjn7p13g2s1_mch9b6c0000gn/T/ipykernel_27325/2137315506.py:39: FutureWarning: The frame.append method is deprecated and will be removed from pandas in a future version. Use pandas.concat instead.\n",
      "  all_data = all_data.append(df, ignore_index=True)\n"
     ]
    },
    {
     "name": "stdout",
     "output_type": "stream",
     "text": [
      "Trying URL: https://educationdata.urban.org/api/v1/school-districts/saipe/2017/?leaid=&fips=37\n",
      "Trying URL: https://educationdata.urban.org/api/v1/school-districts/saipe/2017/?leaid=&fips=38\n"
     ]
    },
    {
     "name": "stderr",
     "output_type": "stream",
     "text": [
      "/var/folders/jv/_0nbzmjn7p13g2s1_mch9b6c0000gn/T/ipykernel_27325/2137315506.py:39: FutureWarning: The frame.append method is deprecated and will be removed from pandas in a future version. Use pandas.concat instead.\n",
      "  all_data = all_data.append(df, ignore_index=True)\n"
     ]
    },
    {
     "name": "stdout",
     "output_type": "stream",
     "text": [
      "Trying URL: https://educationdata.urban.org/api/v1/school-districts/saipe/2017/?leaid=&fips=39\n"
     ]
    },
    {
     "name": "stderr",
     "output_type": "stream",
     "text": [
      "/var/folders/jv/_0nbzmjn7p13g2s1_mch9b6c0000gn/T/ipykernel_27325/2137315506.py:39: FutureWarning: The frame.append method is deprecated and will be removed from pandas in a future version. Use pandas.concat instead.\n",
      "  all_data = all_data.append(df, ignore_index=True)\n"
     ]
    },
    {
     "name": "stdout",
     "output_type": "stream",
     "text": [
      "Trying URL: https://educationdata.urban.org/api/v1/school-districts/saipe/2017/?leaid=&fips=40\n"
     ]
    },
    {
     "name": "stderr",
     "output_type": "stream",
     "text": [
      "/var/folders/jv/_0nbzmjn7p13g2s1_mch9b6c0000gn/T/ipykernel_27325/2137315506.py:39: FutureWarning: The frame.append method is deprecated and will be removed from pandas in a future version. Use pandas.concat instead.\n",
      "  all_data = all_data.append(df, ignore_index=True)\n",
      "/var/folders/jv/_0nbzmjn7p13g2s1_mch9b6c0000gn/T/ipykernel_27325/2137315506.py:39: FutureWarning: The frame.append method is deprecated and will be removed from pandas in a future version. Use pandas.concat instead.\n",
      "  all_data = all_data.append(df, ignore_index=True)\n"
     ]
    },
    {
     "name": "stdout",
     "output_type": "stream",
     "text": [
      "Trying URL: https://educationdata.urban.org/api/v1/school-districts/saipe/2017/?leaid=&fips=41\n",
      "Trying URL: https://educationdata.urban.org/api/v1/school-districts/saipe/2017/?leaid=&fips=42\n"
     ]
    },
    {
     "name": "stderr",
     "output_type": "stream",
     "text": [
      "/var/folders/jv/_0nbzmjn7p13g2s1_mch9b6c0000gn/T/ipykernel_27325/2137315506.py:39: FutureWarning: The frame.append method is deprecated and will be removed from pandas in a future version. Use pandas.concat instead.\n",
      "  all_data = all_data.append(df, ignore_index=True)\n",
      "/var/folders/jv/_0nbzmjn7p13g2s1_mch9b6c0000gn/T/ipykernel_27325/2137315506.py:39: FutureWarning: The frame.append method is deprecated and will be removed from pandas in a future version. Use pandas.concat instead.\n",
      "  all_data = all_data.append(df, ignore_index=True)\n"
     ]
    },
    {
     "name": "stdout",
     "output_type": "stream",
     "text": [
      "Trying URL: https://educationdata.urban.org/api/v1/school-districts/saipe/2017/?leaid=&fips=43\n",
      "Error fetching data for FIPS 43 and year 2017: \"None of [Index(['district_id', 'district_name', 'year', 'est_population_total',\\n       'est_population_5_17', 'est_population_5_17_poverty',\\n       'est_population_5_17_poverty_pct', 'est_population_5_17_pct', 'leaid',\\n       'fips'],\\n      dtype='object')] are in the [columns]\"\n",
      "Trying URL: https://educationdata.urban.org/api/v1/school-districts/saipe/2017/?leaid=&fips=44\n"
     ]
    },
    {
     "name": "stderr",
     "output_type": "stream",
     "text": [
      "/var/folders/jv/_0nbzmjn7p13g2s1_mch9b6c0000gn/T/ipykernel_27325/2137315506.py:39: FutureWarning: The frame.append method is deprecated and will be removed from pandas in a future version. Use pandas.concat instead.\n",
      "  all_data = all_data.append(df, ignore_index=True)\n",
      "/var/folders/jv/_0nbzmjn7p13g2s1_mch9b6c0000gn/T/ipykernel_27325/2137315506.py:39: FutureWarning: The frame.append method is deprecated and will be removed from pandas in a future version. Use pandas.concat instead.\n",
      "  all_data = all_data.append(df, ignore_index=True)\n"
     ]
    },
    {
     "name": "stdout",
     "output_type": "stream",
     "text": [
      "Trying URL: https://educationdata.urban.org/api/v1/school-districts/saipe/2017/?leaid=&fips=45\n",
      "Trying URL: https://educationdata.urban.org/api/v1/school-districts/saipe/2017/?leaid=&fips=46\n"
     ]
    },
    {
     "name": "stderr",
     "output_type": "stream",
     "text": [
      "/var/folders/jv/_0nbzmjn7p13g2s1_mch9b6c0000gn/T/ipykernel_27325/2137315506.py:39: FutureWarning: The frame.append method is deprecated and will be removed from pandas in a future version. Use pandas.concat instead.\n",
      "  all_data = all_data.append(df, ignore_index=True)\n",
      "/var/folders/jv/_0nbzmjn7p13g2s1_mch9b6c0000gn/T/ipykernel_27325/2137315506.py:39: FutureWarning: The frame.append method is deprecated and will be removed from pandas in a future version. Use pandas.concat instead.\n",
      "  all_data = all_data.append(df, ignore_index=True)\n"
     ]
    },
    {
     "name": "stdout",
     "output_type": "stream",
     "text": [
      "Trying URL: https://educationdata.urban.org/api/v1/school-districts/saipe/2017/?leaid=&fips=47\n",
      "Trying URL: https://educationdata.urban.org/api/v1/school-districts/saipe/2017/?leaid=&fips=48\n"
     ]
    },
    {
     "name": "stderr",
     "output_type": "stream",
     "text": [
      "/var/folders/jv/_0nbzmjn7p13g2s1_mch9b6c0000gn/T/ipykernel_27325/2137315506.py:39: FutureWarning: The frame.append method is deprecated and will be removed from pandas in a future version. Use pandas.concat instead.\n",
      "  all_data = all_data.append(df, ignore_index=True)\n",
      "/var/folders/jv/_0nbzmjn7p13g2s1_mch9b6c0000gn/T/ipykernel_27325/2137315506.py:39: FutureWarning: The frame.append method is deprecated and will be removed from pandas in a future version. Use pandas.concat instead.\n",
      "  all_data = all_data.append(df, ignore_index=True)\n"
     ]
    },
    {
     "name": "stdout",
     "output_type": "stream",
     "text": [
      "Trying URL: https://educationdata.urban.org/api/v1/school-districts/saipe/2017/?leaid=&fips=49\n",
      "Trying URL: https://educationdata.urban.org/api/v1/school-districts/saipe/2017/?leaid=&fips=50\n"
     ]
    },
    {
     "name": "stderr",
     "output_type": "stream",
     "text": [
      "/var/folders/jv/_0nbzmjn7p13g2s1_mch9b6c0000gn/T/ipykernel_27325/2137315506.py:39: FutureWarning: The frame.append method is deprecated and will be removed from pandas in a future version. Use pandas.concat instead.\n",
      "  all_data = all_data.append(df, ignore_index=True)\n",
      "/var/folders/jv/_0nbzmjn7p13g2s1_mch9b6c0000gn/T/ipykernel_27325/2137315506.py:39: FutureWarning: The frame.append method is deprecated and will be removed from pandas in a future version. Use pandas.concat instead.\n",
      "  all_data = all_data.append(df, ignore_index=True)\n"
     ]
    },
    {
     "name": "stdout",
     "output_type": "stream",
     "text": [
      "Trying URL: https://educationdata.urban.org/api/v1/school-districts/saipe/2017/?leaid=&fips=51\n",
      "Trying URL: https://educationdata.urban.org/api/v1/school-districts/saipe/2017/?leaid=&fips=52\n",
      "Error fetching data for FIPS 52 and year 2017: \"None of [Index(['district_id', 'district_name', 'year', 'est_population_total',\\n       'est_population_5_17', 'est_population_5_17_poverty',\\n       'est_population_5_17_poverty_pct', 'est_population_5_17_pct', 'leaid',\\n       'fips'],\\n      dtype='object')] are in the [columns]\"\n",
      "Trying URL: https://educationdata.urban.org/api/v1/school-districts/saipe/2017/?leaid=&fips=53\n"
     ]
    },
    {
     "name": "stderr",
     "output_type": "stream",
     "text": [
      "/var/folders/jv/_0nbzmjn7p13g2s1_mch9b6c0000gn/T/ipykernel_27325/2137315506.py:39: FutureWarning: The frame.append method is deprecated and will be removed from pandas in a future version. Use pandas.concat instead.\n",
      "  all_data = all_data.append(df, ignore_index=True)\n",
      "/var/folders/jv/_0nbzmjn7p13g2s1_mch9b6c0000gn/T/ipykernel_27325/2137315506.py:39: FutureWarning: The frame.append method is deprecated and will be removed from pandas in a future version. Use pandas.concat instead.\n",
      "  all_data = all_data.append(df, ignore_index=True)\n"
     ]
    },
    {
     "name": "stdout",
     "output_type": "stream",
     "text": [
      "Trying URL: https://educationdata.urban.org/api/v1/school-districts/saipe/2017/?leaid=&fips=54\n",
      "Trying URL: https://educationdata.urban.org/api/v1/school-districts/saipe/2017/?leaid=&fips=55\n"
     ]
    },
    {
     "name": "stderr",
     "output_type": "stream",
     "text": [
      "/var/folders/jv/_0nbzmjn7p13g2s1_mch9b6c0000gn/T/ipykernel_27325/2137315506.py:39: FutureWarning: The frame.append method is deprecated and will be removed from pandas in a future version. Use pandas.concat instead.\n",
      "  all_data = all_data.append(df, ignore_index=True)\n",
      "/var/folders/jv/_0nbzmjn7p13g2s1_mch9b6c0000gn/T/ipykernel_27325/2137315506.py:39: FutureWarning: The frame.append method is deprecated and will be removed from pandas in a future version. Use pandas.concat instead.\n",
      "  all_data = all_data.append(df, ignore_index=True)\n",
      "/var/folders/jv/_0nbzmjn7p13g2s1_mch9b6c0000gn/T/ipykernel_27325/2137315506.py:39: FutureWarning: The frame.append method is deprecated and will be removed from pandas in a future version. Use pandas.concat instead.\n",
      "  all_data = all_data.append(df, ignore_index=True)\n"
     ]
    },
    {
     "name": "stdout",
     "output_type": "stream",
     "text": [
      "Trying URL: https://educationdata.urban.org/api/v1/school-districts/saipe/2017/?leaid=&fips=56\n",
      "Trying URL: https://educationdata.urban.org/api/v1/school-districts/saipe/2018/?leaid=&fips=01\n"
     ]
    },
    {
     "name": "stderr",
     "output_type": "stream",
     "text": [
      "/var/folders/jv/_0nbzmjn7p13g2s1_mch9b6c0000gn/T/ipykernel_27325/2137315506.py:39: FutureWarning: The frame.append method is deprecated and will be removed from pandas in a future version. Use pandas.concat instead.\n",
      "  all_data = all_data.append(df, ignore_index=True)\n",
      "/var/folders/jv/_0nbzmjn7p13g2s1_mch9b6c0000gn/T/ipykernel_27325/2137315506.py:39: FutureWarning: The frame.append method is deprecated and will be removed from pandas in a future version. Use pandas.concat instead.\n",
      "  all_data = all_data.append(df, ignore_index=True)\n"
     ]
    },
    {
     "name": "stdout",
     "output_type": "stream",
     "text": [
      "Trying URL: https://educationdata.urban.org/api/v1/school-districts/saipe/2018/?leaid=&fips=02\n",
      "Trying URL: https://educationdata.urban.org/api/v1/school-districts/saipe/2018/?leaid=&fips=03\n",
      "Error fetching data for FIPS 03 and year 2018: \"None of [Index(['district_id', 'district_name', 'year', 'est_population_total',\\n       'est_population_5_17', 'est_population_5_17_poverty',\\n       'est_population_5_17_poverty_pct', 'est_population_5_17_pct', 'leaid',\\n       'fips'],\\n      dtype='object')] are in the [columns]\"\n",
      "Trying URL: https://educationdata.urban.org/api/v1/school-districts/saipe/2018/?leaid=&fips=04\n"
     ]
    },
    {
     "name": "stderr",
     "output_type": "stream",
     "text": [
      "/var/folders/jv/_0nbzmjn7p13g2s1_mch9b6c0000gn/T/ipykernel_27325/2137315506.py:39: FutureWarning: The frame.append method is deprecated and will be removed from pandas in a future version. Use pandas.concat instead.\n",
      "  all_data = all_data.append(df, ignore_index=True)\n",
      "/var/folders/jv/_0nbzmjn7p13g2s1_mch9b6c0000gn/T/ipykernel_27325/2137315506.py:39: FutureWarning: The frame.append method is deprecated and will be removed from pandas in a future version. Use pandas.concat instead.\n",
      "  all_data = all_data.append(df, ignore_index=True)\n"
     ]
    },
    {
     "name": "stdout",
     "output_type": "stream",
     "text": [
      "Trying URL: https://educationdata.urban.org/api/v1/school-districts/saipe/2018/?leaid=&fips=05\n"
     ]
    },
    {
     "name": "stderr",
     "output_type": "stream",
     "text": [
      "/var/folders/jv/_0nbzmjn7p13g2s1_mch9b6c0000gn/T/ipykernel_27325/2137315506.py:39: FutureWarning: The frame.append method is deprecated and will be removed from pandas in a future version. Use pandas.concat instead.\n",
      "  all_data = all_data.append(df, ignore_index=True)\n"
     ]
    },
    {
     "name": "stdout",
     "output_type": "stream",
     "text": [
      "Trying URL: https://educationdata.urban.org/api/v1/school-districts/saipe/2018/?leaid=&fips=06\n"
     ]
    },
    {
     "name": "stderr",
     "output_type": "stream",
     "text": [
      "/var/folders/jv/_0nbzmjn7p13g2s1_mch9b6c0000gn/T/ipykernel_27325/2137315506.py:39: FutureWarning: The frame.append method is deprecated and will be removed from pandas in a future version. Use pandas.concat instead.\n",
      "  all_data = all_data.append(df, ignore_index=True)\n",
      "/var/folders/jv/_0nbzmjn7p13g2s1_mch9b6c0000gn/T/ipykernel_27325/2137315506.py:39: FutureWarning: The frame.append method is deprecated and will be removed from pandas in a future version. Use pandas.concat instead.\n",
      "  all_data = all_data.append(df, ignore_index=True)\n"
     ]
    },
    {
     "name": "stdout",
     "output_type": "stream",
     "text": [
      "Trying URL: https://educationdata.urban.org/api/v1/school-districts/saipe/2018/?leaid=&fips=07\n",
      "Error fetching data for FIPS 07 and year 2018: \"None of [Index(['district_id', 'district_name', 'year', 'est_population_total',\\n       'est_population_5_17', 'est_population_5_17_poverty',\\n       'est_population_5_17_poverty_pct', 'est_population_5_17_pct', 'leaid',\\n       'fips'],\\n      dtype='object')] are in the [columns]\"\n",
      "Trying URL: https://educationdata.urban.org/api/v1/school-districts/saipe/2018/?leaid=&fips=08\n"
     ]
    },
    {
     "name": "stderr",
     "output_type": "stream",
     "text": [
      "/var/folders/jv/_0nbzmjn7p13g2s1_mch9b6c0000gn/T/ipykernel_27325/2137315506.py:39: FutureWarning: The frame.append method is deprecated and will be removed from pandas in a future version. Use pandas.concat instead.\n",
      "  all_data = all_data.append(df, ignore_index=True)\n",
      "/var/folders/jv/_0nbzmjn7p13g2s1_mch9b6c0000gn/T/ipykernel_27325/2137315506.py:39: FutureWarning: The frame.append method is deprecated and will be removed from pandas in a future version. Use pandas.concat instead.\n",
      "  all_data = all_data.append(df, ignore_index=True)\n"
     ]
    },
    {
     "name": "stdout",
     "output_type": "stream",
     "text": [
      "Trying URL: https://educationdata.urban.org/api/v1/school-districts/saipe/2018/?leaid=&fips=09\n",
      "Trying URL: https://educationdata.urban.org/api/v1/school-districts/saipe/2018/?leaid=&fips=10\n"
     ]
    },
    {
     "name": "stderr",
     "output_type": "stream",
     "text": [
      "/var/folders/jv/_0nbzmjn7p13g2s1_mch9b6c0000gn/T/ipykernel_27325/2137315506.py:39: FutureWarning: The frame.append method is deprecated and will be removed from pandas in a future version. Use pandas.concat instead.\n",
      "  all_data = all_data.append(df, ignore_index=True)\n",
      "/var/folders/jv/_0nbzmjn7p13g2s1_mch9b6c0000gn/T/ipykernel_27325/2137315506.py:39: FutureWarning: The frame.append method is deprecated and will be removed from pandas in a future version. Use pandas.concat instead.\n",
      "  all_data = all_data.append(df, ignore_index=True)\n"
     ]
    },
    {
     "name": "stdout",
     "output_type": "stream",
     "text": [
      "Trying URL: https://educationdata.urban.org/api/v1/school-districts/saipe/2018/?leaid=&fips=11\n",
      "Trying URL: https://educationdata.urban.org/api/v1/school-districts/saipe/2018/?leaid=&fips=12\n"
     ]
    },
    {
     "name": "stderr",
     "output_type": "stream",
     "text": [
      "/var/folders/jv/_0nbzmjn7p13g2s1_mch9b6c0000gn/T/ipykernel_27325/2137315506.py:39: FutureWarning: The frame.append method is deprecated and will be removed from pandas in a future version. Use pandas.concat instead.\n",
      "  all_data = all_data.append(df, ignore_index=True)\n",
      "/var/folders/jv/_0nbzmjn7p13g2s1_mch9b6c0000gn/T/ipykernel_27325/2137315506.py:39: FutureWarning: The frame.append method is deprecated and will be removed from pandas in a future version. Use pandas.concat instead.\n",
      "  all_data = all_data.append(df, ignore_index=True)\n"
     ]
    },
    {
     "name": "stdout",
     "output_type": "stream",
     "text": [
      "Trying URL: https://educationdata.urban.org/api/v1/school-districts/saipe/2018/?leaid=&fips=13\n",
      "Trying URL: https://educationdata.urban.org/api/v1/school-districts/saipe/2018/?leaid=&fips=14\n",
      "Error fetching data for FIPS 14 and year 2018: \"None of [Index(['district_id', 'district_name', 'year', 'est_population_total',\\n       'est_population_5_17', 'est_population_5_17_poverty',\\n       'est_population_5_17_poverty_pct', 'est_population_5_17_pct', 'leaid',\\n       'fips'],\\n      dtype='object')] are in the [columns]\"\n",
      "Trying URL: https://educationdata.urban.org/api/v1/school-districts/saipe/2018/?leaid=&fips=15\n",
      "Trying URL: https://educationdata.urban.org/api/v1/school-districts/saipe/2018/?leaid=&fips=16\n"
     ]
    },
    {
     "name": "stderr",
     "output_type": "stream",
     "text": [
      "/var/folders/jv/_0nbzmjn7p13g2s1_mch9b6c0000gn/T/ipykernel_27325/2137315506.py:39: FutureWarning: The frame.append method is deprecated and will be removed from pandas in a future version. Use pandas.concat instead.\n",
      "  all_data = all_data.append(df, ignore_index=True)\n",
      "/var/folders/jv/_0nbzmjn7p13g2s1_mch9b6c0000gn/T/ipykernel_27325/2137315506.py:39: FutureWarning: The frame.append method is deprecated and will be removed from pandas in a future version. Use pandas.concat instead.\n",
      "  all_data = all_data.append(df, ignore_index=True)\n",
      "/var/folders/jv/_0nbzmjn7p13g2s1_mch9b6c0000gn/T/ipykernel_27325/2137315506.py:39: FutureWarning: The frame.append method is deprecated and will be removed from pandas in a future version. Use pandas.concat instead.\n",
      "  all_data = all_data.append(df, ignore_index=True)\n"
     ]
    },
    {
     "name": "stdout",
     "output_type": "stream",
     "text": [
      "Trying URL: https://educationdata.urban.org/api/v1/school-districts/saipe/2018/?leaid=&fips=17\n"
     ]
    },
    {
     "name": "stderr",
     "output_type": "stream",
     "text": [
      "/var/folders/jv/_0nbzmjn7p13g2s1_mch9b6c0000gn/T/ipykernel_27325/2137315506.py:39: FutureWarning: The frame.append method is deprecated and will be removed from pandas in a future version. Use pandas.concat instead.\n",
      "  all_data = all_data.append(df, ignore_index=True)\n"
     ]
    },
    {
     "name": "stdout",
     "output_type": "stream",
     "text": [
      "Trying URL: https://educationdata.urban.org/api/v1/school-districts/saipe/2018/?leaid=&fips=18\n"
     ]
    },
    {
     "name": "stderr",
     "output_type": "stream",
     "text": [
      "/var/folders/jv/_0nbzmjn7p13g2s1_mch9b6c0000gn/T/ipykernel_27325/2137315506.py:39: FutureWarning: The frame.append method is deprecated and will be removed from pandas in a future version. Use pandas.concat instead.\n",
      "  all_data = all_data.append(df, ignore_index=True)\n",
      "/var/folders/jv/_0nbzmjn7p13g2s1_mch9b6c0000gn/T/ipykernel_27325/2137315506.py:39: FutureWarning: The frame.append method is deprecated and will be removed from pandas in a future version. Use pandas.concat instead.\n",
      "  all_data = all_data.append(df, ignore_index=True)\n"
     ]
    },
    {
     "name": "stdout",
     "output_type": "stream",
     "text": [
      "Trying URL: https://educationdata.urban.org/api/v1/school-districts/saipe/2018/?leaid=&fips=19\n",
      "Trying URL: https://educationdata.urban.org/api/v1/school-districts/saipe/2018/?leaid=&fips=20\n",
      "Trying URL: https://educationdata.urban.org/api/v1/school-districts/saipe/2018/?leaid=&fips=21\n"
     ]
    },
    {
     "name": "stderr",
     "output_type": "stream",
     "text": [
      "/var/folders/jv/_0nbzmjn7p13g2s1_mch9b6c0000gn/T/ipykernel_27325/2137315506.py:39: FutureWarning: The frame.append method is deprecated and will be removed from pandas in a future version. Use pandas.concat instead.\n",
      "  all_data = all_data.append(df, ignore_index=True)\n",
      "/var/folders/jv/_0nbzmjn7p13g2s1_mch9b6c0000gn/T/ipykernel_27325/2137315506.py:39: FutureWarning: The frame.append method is deprecated and will be removed from pandas in a future version. Use pandas.concat instead.\n",
      "  all_data = all_data.append(df, ignore_index=True)\n"
     ]
    },
    {
     "name": "stdout",
     "output_type": "stream",
     "text": [
      "Trying URL: https://educationdata.urban.org/api/v1/school-districts/saipe/2018/?leaid=&fips=22\n",
      "Trying URL: https://educationdata.urban.org/api/v1/school-districts/saipe/2018/?leaid=&fips=23\n"
     ]
    },
    {
     "name": "stderr",
     "output_type": "stream",
     "text": [
      "/var/folders/jv/_0nbzmjn7p13g2s1_mch9b6c0000gn/T/ipykernel_27325/2137315506.py:39: FutureWarning: The frame.append method is deprecated and will be removed from pandas in a future version. Use pandas.concat instead.\n",
      "  all_data = all_data.append(df, ignore_index=True)\n",
      "/var/folders/jv/_0nbzmjn7p13g2s1_mch9b6c0000gn/T/ipykernel_27325/2137315506.py:39: FutureWarning: The frame.append method is deprecated and will be removed from pandas in a future version. Use pandas.concat instead.\n",
      "  all_data = all_data.append(df, ignore_index=True)\n"
     ]
    },
    {
     "name": "stdout",
     "output_type": "stream",
     "text": [
      "Trying URL: https://educationdata.urban.org/api/v1/school-districts/saipe/2018/?leaid=&fips=24\n",
      "Trying URL: https://educationdata.urban.org/api/v1/school-districts/saipe/2018/?leaid=&fips=25\n"
     ]
    },
    {
     "name": "stderr",
     "output_type": "stream",
     "text": [
      "/var/folders/jv/_0nbzmjn7p13g2s1_mch9b6c0000gn/T/ipykernel_27325/2137315506.py:39: FutureWarning: The frame.append method is deprecated and will be removed from pandas in a future version. Use pandas.concat instead.\n",
      "  all_data = all_data.append(df, ignore_index=True)\n",
      "/var/folders/jv/_0nbzmjn7p13g2s1_mch9b6c0000gn/T/ipykernel_27325/2137315506.py:39: FutureWarning: The frame.append method is deprecated and will be removed from pandas in a future version. Use pandas.concat instead.\n",
      "  all_data = all_data.append(df, ignore_index=True)\n"
     ]
    },
    {
     "name": "stdout",
     "output_type": "stream",
     "text": [
      "Trying URL: https://educationdata.urban.org/api/v1/school-districts/saipe/2018/?leaid=&fips=26\n"
     ]
    },
    {
     "name": "stderr",
     "output_type": "stream",
     "text": [
      "/var/folders/jv/_0nbzmjn7p13g2s1_mch9b6c0000gn/T/ipykernel_27325/2137315506.py:39: FutureWarning: The frame.append method is deprecated and will be removed from pandas in a future version. Use pandas.concat instead.\n",
      "  all_data = all_data.append(df, ignore_index=True)\n",
      "/var/folders/jv/_0nbzmjn7p13g2s1_mch9b6c0000gn/T/ipykernel_27325/2137315506.py:39: FutureWarning: The frame.append method is deprecated and will be removed from pandas in a future version. Use pandas.concat instead.\n",
      "  all_data = all_data.append(df, ignore_index=True)\n"
     ]
    },
    {
     "name": "stdout",
     "output_type": "stream",
     "text": [
      "Trying URL: https://educationdata.urban.org/api/v1/school-districts/saipe/2018/?leaid=&fips=27\n",
      "Trying URL: https://educationdata.urban.org/api/v1/school-districts/saipe/2018/?leaid=&fips=28\n"
     ]
    },
    {
     "name": "stderr",
     "output_type": "stream",
     "text": [
      "/var/folders/jv/_0nbzmjn7p13g2s1_mch9b6c0000gn/T/ipykernel_27325/2137315506.py:39: FutureWarning: The frame.append method is deprecated and will be removed from pandas in a future version. Use pandas.concat instead.\n",
      "  all_data = all_data.append(df, ignore_index=True)\n"
     ]
    },
    {
     "name": "stdout",
     "output_type": "stream",
     "text": [
      "Trying URL: https://educationdata.urban.org/api/v1/school-districts/saipe/2018/?leaid=&fips=29\n"
     ]
    },
    {
     "name": "stderr",
     "output_type": "stream",
     "text": [
      "/var/folders/jv/_0nbzmjn7p13g2s1_mch9b6c0000gn/T/ipykernel_27325/2137315506.py:39: FutureWarning: The frame.append method is deprecated and will be removed from pandas in a future version. Use pandas.concat instead.\n",
      "  all_data = all_data.append(df, ignore_index=True)\n"
     ]
    },
    {
     "name": "stdout",
     "output_type": "stream",
     "text": [
      "Trying URL: https://educationdata.urban.org/api/v1/school-districts/saipe/2018/?leaid=&fips=30\n"
     ]
    },
    {
     "name": "stderr",
     "output_type": "stream",
     "text": [
      "/var/folders/jv/_0nbzmjn7p13g2s1_mch9b6c0000gn/T/ipykernel_27325/2137315506.py:39: FutureWarning: The frame.append method is deprecated and will be removed from pandas in a future version. Use pandas.concat instead.\n",
      "  all_data = all_data.append(df, ignore_index=True)\n",
      "/var/folders/jv/_0nbzmjn7p13g2s1_mch9b6c0000gn/T/ipykernel_27325/2137315506.py:39: FutureWarning: The frame.append method is deprecated and will be removed from pandas in a future version. Use pandas.concat instead.\n",
      "  all_data = all_data.append(df, ignore_index=True)\n"
     ]
    },
    {
     "name": "stdout",
     "output_type": "stream",
     "text": [
      "Trying URL: https://educationdata.urban.org/api/v1/school-districts/saipe/2018/?leaid=&fips=31\n",
      "Trying URL: https://educationdata.urban.org/api/v1/school-districts/saipe/2018/?leaid=&fips=32\n"
     ]
    },
    {
     "name": "stderr",
     "output_type": "stream",
     "text": [
      "/var/folders/jv/_0nbzmjn7p13g2s1_mch9b6c0000gn/T/ipykernel_27325/2137315506.py:39: FutureWarning: The frame.append method is deprecated and will be removed from pandas in a future version. Use pandas.concat instead.\n",
      "  all_data = all_data.append(df, ignore_index=True)\n",
      "/var/folders/jv/_0nbzmjn7p13g2s1_mch9b6c0000gn/T/ipykernel_27325/2137315506.py:39: FutureWarning: The frame.append method is deprecated and will be removed from pandas in a future version. Use pandas.concat instead.\n",
      "  all_data = all_data.append(df, ignore_index=True)\n"
     ]
    },
    {
     "name": "stdout",
     "output_type": "stream",
     "text": [
      "Trying URL: https://educationdata.urban.org/api/v1/school-districts/saipe/2018/?leaid=&fips=33\n",
      "Trying URL: https://educationdata.urban.org/api/v1/school-districts/saipe/2018/?leaid=&fips=34\n"
     ]
    },
    {
     "name": "stderr",
     "output_type": "stream",
     "text": [
      "/var/folders/jv/_0nbzmjn7p13g2s1_mch9b6c0000gn/T/ipykernel_27325/2137315506.py:39: FutureWarning: The frame.append method is deprecated and will be removed from pandas in a future version. Use pandas.concat instead.\n",
      "  all_data = all_data.append(df, ignore_index=True)\n",
      "/var/folders/jv/_0nbzmjn7p13g2s1_mch9b6c0000gn/T/ipykernel_27325/2137315506.py:39: FutureWarning: The frame.append method is deprecated and will be removed from pandas in a future version. Use pandas.concat instead.\n",
      "  all_data = all_data.append(df, ignore_index=True)\n"
     ]
    },
    {
     "name": "stdout",
     "output_type": "stream",
     "text": [
      "Trying URL: https://educationdata.urban.org/api/v1/school-districts/saipe/2018/?leaid=&fips=35\n",
      "Trying URL: https://educationdata.urban.org/api/v1/school-districts/saipe/2018/?leaid=&fips=36\n"
     ]
    },
    {
     "name": "stderr",
     "output_type": "stream",
     "text": [
      "/var/folders/jv/_0nbzmjn7p13g2s1_mch9b6c0000gn/T/ipykernel_27325/2137315506.py:39: FutureWarning: The frame.append method is deprecated and will be removed from pandas in a future version. Use pandas.concat instead.\n",
      "  all_data = all_data.append(df, ignore_index=True)\n",
      "/var/folders/jv/_0nbzmjn7p13g2s1_mch9b6c0000gn/T/ipykernel_27325/2137315506.py:39: FutureWarning: The frame.append method is deprecated and will be removed from pandas in a future version. Use pandas.concat instead.\n",
      "  all_data = all_data.append(df, ignore_index=True)\n"
     ]
    },
    {
     "name": "stdout",
     "output_type": "stream",
     "text": [
      "Trying URL: https://educationdata.urban.org/api/v1/school-districts/saipe/2018/?leaid=&fips=37\n",
      "Trying URL: https://educationdata.urban.org/api/v1/school-districts/saipe/2018/?leaid=&fips=38\n"
     ]
    },
    {
     "name": "stderr",
     "output_type": "stream",
     "text": [
      "/var/folders/jv/_0nbzmjn7p13g2s1_mch9b6c0000gn/T/ipykernel_27325/2137315506.py:39: FutureWarning: The frame.append method is deprecated and will be removed from pandas in a future version. Use pandas.concat instead.\n",
      "  all_data = all_data.append(df, ignore_index=True)\n"
     ]
    },
    {
     "name": "stdout",
     "output_type": "stream",
     "text": [
      "Trying URL: https://educationdata.urban.org/api/v1/school-districts/saipe/2018/?leaid=&fips=39\n"
     ]
    },
    {
     "name": "stderr",
     "output_type": "stream",
     "text": [
      "/var/folders/jv/_0nbzmjn7p13g2s1_mch9b6c0000gn/T/ipykernel_27325/2137315506.py:39: FutureWarning: The frame.append method is deprecated and will be removed from pandas in a future version. Use pandas.concat instead.\n",
      "  all_data = all_data.append(df, ignore_index=True)\n"
     ]
    },
    {
     "name": "stdout",
     "output_type": "stream",
     "text": [
      "Trying URL: https://educationdata.urban.org/api/v1/school-districts/saipe/2018/?leaid=&fips=40\n"
     ]
    },
    {
     "name": "stderr",
     "output_type": "stream",
     "text": [
      "/var/folders/jv/_0nbzmjn7p13g2s1_mch9b6c0000gn/T/ipykernel_27325/2137315506.py:39: FutureWarning: The frame.append method is deprecated and will be removed from pandas in a future version. Use pandas.concat instead.\n",
      "  all_data = all_data.append(df, ignore_index=True)\n",
      "/var/folders/jv/_0nbzmjn7p13g2s1_mch9b6c0000gn/T/ipykernel_27325/2137315506.py:39: FutureWarning: The frame.append method is deprecated and will be removed from pandas in a future version. Use pandas.concat instead.\n",
      "  all_data = all_data.append(df, ignore_index=True)\n"
     ]
    },
    {
     "name": "stdout",
     "output_type": "stream",
     "text": [
      "Trying URL: https://educationdata.urban.org/api/v1/school-districts/saipe/2018/?leaid=&fips=41\n",
      "Trying URL: https://educationdata.urban.org/api/v1/school-districts/saipe/2018/?leaid=&fips=42\n"
     ]
    },
    {
     "name": "stderr",
     "output_type": "stream",
     "text": [
      "/var/folders/jv/_0nbzmjn7p13g2s1_mch9b6c0000gn/T/ipykernel_27325/2137315506.py:39: FutureWarning: The frame.append method is deprecated and will be removed from pandas in a future version. Use pandas.concat instead.\n",
      "  all_data = all_data.append(df, ignore_index=True)\n",
      "/var/folders/jv/_0nbzmjn7p13g2s1_mch9b6c0000gn/T/ipykernel_27325/2137315506.py:39: FutureWarning: The frame.append method is deprecated and will be removed from pandas in a future version. Use pandas.concat instead.\n",
      "  all_data = all_data.append(df, ignore_index=True)\n"
     ]
    },
    {
     "name": "stdout",
     "output_type": "stream",
     "text": [
      "Trying URL: https://educationdata.urban.org/api/v1/school-districts/saipe/2018/?leaid=&fips=43\n",
      "Error fetching data for FIPS 43 and year 2018: \"None of [Index(['district_id', 'district_name', 'year', 'est_population_total',\\n       'est_population_5_17', 'est_population_5_17_poverty',\\n       'est_population_5_17_poverty_pct', 'est_population_5_17_pct', 'leaid',\\n       'fips'],\\n      dtype='object')] are in the [columns]\"\n",
      "Trying URL: https://educationdata.urban.org/api/v1/school-districts/saipe/2018/?leaid=&fips=44\n"
     ]
    },
    {
     "name": "stderr",
     "output_type": "stream",
     "text": [
      "/var/folders/jv/_0nbzmjn7p13g2s1_mch9b6c0000gn/T/ipykernel_27325/2137315506.py:39: FutureWarning: The frame.append method is deprecated and will be removed from pandas in a future version. Use pandas.concat instead.\n",
      "  all_data = all_data.append(df, ignore_index=True)\n",
      "/var/folders/jv/_0nbzmjn7p13g2s1_mch9b6c0000gn/T/ipykernel_27325/2137315506.py:39: FutureWarning: The frame.append method is deprecated and will be removed from pandas in a future version. Use pandas.concat instead.\n",
      "  all_data = all_data.append(df, ignore_index=True)\n"
     ]
    },
    {
     "name": "stdout",
     "output_type": "stream",
     "text": [
      "Trying URL: https://educationdata.urban.org/api/v1/school-districts/saipe/2018/?leaid=&fips=45\n",
      "Trying URL: https://educationdata.urban.org/api/v1/school-districts/saipe/2018/?leaid=&fips=46\n"
     ]
    },
    {
     "name": "stderr",
     "output_type": "stream",
     "text": [
      "/var/folders/jv/_0nbzmjn7p13g2s1_mch9b6c0000gn/T/ipykernel_27325/2137315506.py:39: FutureWarning: The frame.append method is deprecated and will be removed from pandas in a future version. Use pandas.concat instead.\n",
      "  all_data = all_data.append(df, ignore_index=True)\n",
      "/var/folders/jv/_0nbzmjn7p13g2s1_mch9b6c0000gn/T/ipykernel_27325/2137315506.py:39: FutureWarning: The frame.append method is deprecated and will be removed from pandas in a future version. Use pandas.concat instead.\n",
      "  all_data = all_data.append(df, ignore_index=True)\n"
     ]
    },
    {
     "name": "stdout",
     "output_type": "stream",
     "text": [
      "Trying URL: https://educationdata.urban.org/api/v1/school-districts/saipe/2018/?leaid=&fips=47\n",
      "Trying URL: https://educationdata.urban.org/api/v1/school-districts/saipe/2018/?leaid=&fips=48\n"
     ]
    },
    {
     "name": "stderr",
     "output_type": "stream",
     "text": [
      "/var/folders/jv/_0nbzmjn7p13g2s1_mch9b6c0000gn/T/ipykernel_27325/2137315506.py:39: FutureWarning: The frame.append method is deprecated and will be removed from pandas in a future version. Use pandas.concat instead.\n",
      "  all_data = all_data.append(df, ignore_index=True)\n",
      "/var/folders/jv/_0nbzmjn7p13g2s1_mch9b6c0000gn/T/ipykernel_27325/2137315506.py:39: FutureWarning: The frame.append method is deprecated and will be removed from pandas in a future version. Use pandas.concat instead.\n",
      "  all_data = all_data.append(df, ignore_index=True)\n"
     ]
    },
    {
     "name": "stdout",
     "output_type": "stream",
     "text": [
      "Trying URL: https://educationdata.urban.org/api/v1/school-districts/saipe/2018/?leaid=&fips=49\n",
      "Trying URL: https://educationdata.urban.org/api/v1/school-districts/saipe/2018/?leaid=&fips=50\n"
     ]
    },
    {
     "name": "stderr",
     "output_type": "stream",
     "text": [
      "/var/folders/jv/_0nbzmjn7p13g2s1_mch9b6c0000gn/T/ipykernel_27325/2137315506.py:39: FutureWarning: The frame.append method is deprecated and will be removed from pandas in a future version. Use pandas.concat instead.\n",
      "  all_data = all_data.append(df, ignore_index=True)\n",
      "/var/folders/jv/_0nbzmjn7p13g2s1_mch9b6c0000gn/T/ipykernel_27325/2137315506.py:39: FutureWarning: The frame.append method is deprecated and will be removed from pandas in a future version. Use pandas.concat instead.\n",
      "  all_data = all_data.append(df, ignore_index=True)\n"
     ]
    },
    {
     "name": "stdout",
     "output_type": "stream",
     "text": [
      "Trying URL: https://educationdata.urban.org/api/v1/school-districts/saipe/2018/?leaid=&fips=51\n",
      "Trying URL: https://educationdata.urban.org/api/v1/school-districts/saipe/2018/?leaid=&fips=52\n",
      "Error fetching data for FIPS 52 and year 2018: \"None of [Index(['district_id', 'district_name', 'year', 'est_population_total',\\n       'est_population_5_17', 'est_population_5_17_poverty',\\n       'est_population_5_17_poverty_pct', 'est_population_5_17_pct', 'leaid',\\n       'fips'],\\n      dtype='object')] are in the [columns]\"\n",
      "Trying URL: https://educationdata.urban.org/api/v1/school-districts/saipe/2018/?leaid=&fips=53\n"
     ]
    },
    {
     "name": "stderr",
     "output_type": "stream",
     "text": [
      "/var/folders/jv/_0nbzmjn7p13g2s1_mch9b6c0000gn/T/ipykernel_27325/2137315506.py:39: FutureWarning: The frame.append method is deprecated and will be removed from pandas in a future version. Use pandas.concat instead.\n",
      "  all_data = all_data.append(df, ignore_index=True)\n",
      "/var/folders/jv/_0nbzmjn7p13g2s1_mch9b6c0000gn/T/ipykernel_27325/2137315506.py:39: FutureWarning: The frame.append method is deprecated and will be removed from pandas in a future version. Use pandas.concat instead.\n",
      "  all_data = all_data.append(df, ignore_index=True)\n"
     ]
    },
    {
     "name": "stdout",
     "output_type": "stream",
     "text": [
      "Trying URL: https://educationdata.urban.org/api/v1/school-districts/saipe/2018/?leaid=&fips=54\n",
      "Trying URL: https://educationdata.urban.org/api/v1/school-districts/saipe/2018/?leaid=&fips=55\n"
     ]
    },
    {
     "name": "stderr",
     "output_type": "stream",
     "text": [
      "/var/folders/jv/_0nbzmjn7p13g2s1_mch9b6c0000gn/T/ipykernel_27325/2137315506.py:39: FutureWarning: The frame.append method is deprecated and will be removed from pandas in a future version. Use pandas.concat instead.\n",
      "  all_data = all_data.append(df, ignore_index=True)\n",
      "/var/folders/jv/_0nbzmjn7p13g2s1_mch9b6c0000gn/T/ipykernel_27325/2137315506.py:39: FutureWarning: The frame.append method is deprecated and will be removed from pandas in a future version. Use pandas.concat instead.\n",
      "  all_data = all_data.append(df, ignore_index=True)\n",
      "/var/folders/jv/_0nbzmjn7p13g2s1_mch9b6c0000gn/T/ipykernel_27325/2137315506.py:39: FutureWarning: The frame.append method is deprecated and will be removed from pandas in a future version. Use pandas.concat instead.\n",
      "  all_data = all_data.append(df, ignore_index=True)\n"
     ]
    },
    {
     "name": "stdout",
     "output_type": "stream",
     "text": [
      "Trying URL: https://educationdata.urban.org/api/v1/school-districts/saipe/2018/?leaid=&fips=56\n",
      "Trying URL: https://educationdata.urban.org/api/v1/school-districts/saipe/2019/?leaid=&fips=01\n"
     ]
    },
    {
     "name": "stderr",
     "output_type": "stream",
     "text": [
      "/var/folders/jv/_0nbzmjn7p13g2s1_mch9b6c0000gn/T/ipykernel_27325/2137315506.py:39: FutureWarning: The frame.append method is deprecated and will be removed from pandas in a future version. Use pandas.concat instead.\n",
      "  all_data = all_data.append(df, ignore_index=True)\n",
      "/var/folders/jv/_0nbzmjn7p13g2s1_mch9b6c0000gn/T/ipykernel_27325/2137315506.py:39: FutureWarning: The frame.append method is deprecated and will be removed from pandas in a future version. Use pandas.concat instead.\n",
      "  all_data = all_data.append(df, ignore_index=True)\n"
     ]
    },
    {
     "name": "stdout",
     "output_type": "stream",
     "text": [
      "Trying URL: https://educationdata.urban.org/api/v1/school-districts/saipe/2019/?leaid=&fips=02\n",
      "Trying URL: https://educationdata.urban.org/api/v1/school-districts/saipe/2019/?leaid=&fips=03\n",
      "Error fetching data for FIPS 03 and year 2019: \"None of [Index(['district_id', 'district_name', 'year', 'est_population_total',\\n       'est_population_5_17', 'est_population_5_17_poverty',\\n       'est_population_5_17_poverty_pct', 'est_population_5_17_pct', 'leaid',\\n       'fips'],\\n      dtype='object')] are in the [columns]\"\n",
      "Trying URL: https://educationdata.urban.org/api/v1/school-districts/saipe/2019/?leaid=&fips=04\n",
      "Trying URL: https://educationdata.urban.org/api/v1/school-districts/saipe/2019/?leaid=&fips=05\n"
     ]
    },
    {
     "name": "stderr",
     "output_type": "stream",
     "text": [
      "/var/folders/jv/_0nbzmjn7p13g2s1_mch9b6c0000gn/T/ipykernel_27325/2137315506.py:39: FutureWarning: The frame.append method is deprecated and will be removed from pandas in a future version. Use pandas.concat instead.\n",
      "  all_data = all_data.append(df, ignore_index=True)\n",
      "/var/folders/jv/_0nbzmjn7p13g2s1_mch9b6c0000gn/T/ipykernel_27325/2137315506.py:39: FutureWarning: The frame.append method is deprecated and will be removed from pandas in a future version. Use pandas.concat instead.\n",
      "  all_data = all_data.append(df, ignore_index=True)\n",
      "/var/folders/jv/_0nbzmjn7p13g2s1_mch9b6c0000gn/T/ipykernel_27325/2137315506.py:39: FutureWarning: The frame.append method is deprecated and will be removed from pandas in a future version. Use pandas.concat instead.\n",
      "  all_data = all_data.append(df, ignore_index=True)\n"
     ]
    },
    {
     "name": "stdout",
     "output_type": "stream",
     "text": [
      "Trying URL: https://educationdata.urban.org/api/v1/school-districts/saipe/2019/?leaid=&fips=06\n"
     ]
    },
    {
     "name": "stderr",
     "output_type": "stream",
     "text": [
      "/var/folders/jv/_0nbzmjn7p13g2s1_mch9b6c0000gn/T/ipykernel_27325/2137315506.py:39: FutureWarning: The frame.append method is deprecated and will be removed from pandas in a future version. Use pandas.concat instead.\n",
      "  all_data = all_data.append(df, ignore_index=True)\n",
      "/var/folders/jv/_0nbzmjn7p13g2s1_mch9b6c0000gn/T/ipykernel_27325/2137315506.py:39: FutureWarning: The frame.append method is deprecated and will be removed from pandas in a future version. Use pandas.concat instead.\n",
      "  all_data = all_data.append(df, ignore_index=True)\n"
     ]
    },
    {
     "name": "stdout",
     "output_type": "stream",
     "text": [
      "Trying URL: https://educationdata.urban.org/api/v1/school-districts/saipe/2019/?leaid=&fips=07\n",
      "Error fetching data for FIPS 07 and year 2019: \"None of [Index(['district_id', 'district_name', 'year', 'est_population_total',\\n       'est_population_5_17', 'est_population_5_17_poverty',\\n       'est_population_5_17_poverty_pct', 'est_population_5_17_pct', 'leaid',\\n       'fips'],\\n      dtype='object')] are in the [columns]\"\n",
      "Trying URL: https://educationdata.urban.org/api/v1/school-districts/saipe/2019/?leaid=&fips=08\n"
     ]
    },
    {
     "name": "stderr",
     "output_type": "stream",
     "text": [
      "/var/folders/jv/_0nbzmjn7p13g2s1_mch9b6c0000gn/T/ipykernel_27325/2137315506.py:39: FutureWarning: The frame.append method is deprecated and will be removed from pandas in a future version. Use pandas.concat instead.\n",
      "  all_data = all_data.append(df, ignore_index=True)\n",
      "/var/folders/jv/_0nbzmjn7p13g2s1_mch9b6c0000gn/T/ipykernel_27325/2137315506.py:39: FutureWarning: The frame.append method is deprecated and will be removed from pandas in a future version. Use pandas.concat instead.\n",
      "  all_data = all_data.append(df, ignore_index=True)\n"
     ]
    },
    {
     "name": "stdout",
     "output_type": "stream",
     "text": [
      "Trying URL: https://educationdata.urban.org/api/v1/school-districts/saipe/2019/?leaid=&fips=09\n",
      "Trying URL: https://educationdata.urban.org/api/v1/school-districts/saipe/2019/?leaid=&fips=10\n"
     ]
    },
    {
     "name": "stderr",
     "output_type": "stream",
     "text": [
      "/var/folders/jv/_0nbzmjn7p13g2s1_mch9b6c0000gn/T/ipykernel_27325/2137315506.py:39: FutureWarning: The frame.append method is deprecated and will be removed from pandas in a future version. Use pandas.concat instead.\n",
      "  all_data = all_data.append(df, ignore_index=True)\n",
      "/var/folders/jv/_0nbzmjn7p13g2s1_mch9b6c0000gn/T/ipykernel_27325/2137315506.py:39: FutureWarning: The frame.append method is deprecated and will be removed from pandas in a future version. Use pandas.concat instead.\n",
      "  all_data = all_data.append(df, ignore_index=True)\n"
     ]
    },
    {
     "name": "stdout",
     "output_type": "stream",
     "text": [
      "Trying URL: https://educationdata.urban.org/api/v1/school-districts/saipe/2019/?leaid=&fips=11\n",
      "Trying URL: https://educationdata.urban.org/api/v1/school-districts/saipe/2019/?leaid=&fips=12\n"
     ]
    },
    {
     "name": "stderr",
     "output_type": "stream",
     "text": [
      "/var/folders/jv/_0nbzmjn7p13g2s1_mch9b6c0000gn/T/ipykernel_27325/2137315506.py:39: FutureWarning: The frame.append method is deprecated and will be removed from pandas in a future version. Use pandas.concat instead.\n",
      "  all_data = all_data.append(df, ignore_index=True)\n"
     ]
    },
    {
     "name": "stdout",
     "output_type": "stream",
     "text": [
      "Trying URL: https://educationdata.urban.org/api/v1/school-districts/saipe/2019/?leaid=&fips=13\n"
     ]
    },
    {
     "name": "stderr",
     "output_type": "stream",
     "text": [
      "/var/folders/jv/_0nbzmjn7p13g2s1_mch9b6c0000gn/T/ipykernel_27325/2137315506.py:39: FutureWarning: The frame.append method is deprecated and will be removed from pandas in a future version. Use pandas.concat instead.\n",
      "  all_data = all_data.append(df, ignore_index=True)\n",
      "/var/folders/jv/_0nbzmjn7p13g2s1_mch9b6c0000gn/T/ipykernel_27325/2137315506.py:39: FutureWarning: The frame.append method is deprecated and will be removed from pandas in a future version. Use pandas.concat instead.\n",
      "  all_data = all_data.append(df, ignore_index=True)\n"
     ]
    },
    {
     "name": "stdout",
     "output_type": "stream",
     "text": [
      "Trying URL: https://educationdata.urban.org/api/v1/school-districts/saipe/2019/?leaid=&fips=14\n",
      "Error fetching data for FIPS 14 and year 2019: \"None of [Index(['district_id', 'district_name', 'year', 'est_population_total',\\n       'est_population_5_17', 'est_population_5_17_poverty',\\n       'est_population_5_17_poverty_pct', 'est_population_5_17_pct', 'leaid',\\n       'fips'],\\n      dtype='object')] are in the [columns]\"\n",
      "Trying URL: https://educationdata.urban.org/api/v1/school-districts/saipe/2019/?leaid=&fips=15\n"
     ]
    },
    {
     "name": "stderr",
     "output_type": "stream",
     "text": [
      "/var/folders/jv/_0nbzmjn7p13g2s1_mch9b6c0000gn/T/ipykernel_27325/2137315506.py:39: FutureWarning: The frame.append method is deprecated and will be removed from pandas in a future version. Use pandas.concat instead.\n",
      "  all_data = all_data.append(df, ignore_index=True)\n",
      "/var/folders/jv/_0nbzmjn7p13g2s1_mch9b6c0000gn/T/ipykernel_27325/2137315506.py:39: FutureWarning: The frame.append method is deprecated and will be removed from pandas in a future version. Use pandas.concat instead.\n",
      "  all_data = all_data.append(df, ignore_index=True)\n"
     ]
    },
    {
     "name": "stdout",
     "output_type": "stream",
     "text": [
      "Trying URL: https://educationdata.urban.org/api/v1/school-districts/saipe/2019/?leaid=&fips=16\n",
      "Trying URL: https://educationdata.urban.org/api/v1/school-districts/saipe/2019/?leaid=&fips=17\n"
     ]
    },
    {
     "name": "stderr",
     "output_type": "stream",
     "text": [
      "/var/folders/jv/_0nbzmjn7p13g2s1_mch9b6c0000gn/T/ipykernel_27325/2137315506.py:39: FutureWarning: The frame.append method is deprecated and will be removed from pandas in a future version. Use pandas.concat instead.\n",
      "  all_data = all_data.append(df, ignore_index=True)\n",
      "/var/folders/jv/_0nbzmjn7p13g2s1_mch9b6c0000gn/T/ipykernel_27325/2137315506.py:39: FutureWarning: The frame.append method is deprecated and will be removed from pandas in a future version. Use pandas.concat instead.\n",
      "  all_data = all_data.append(df, ignore_index=True)\n"
     ]
    },
    {
     "name": "stdout",
     "output_type": "stream",
     "text": [
      "Trying URL: https://educationdata.urban.org/api/v1/school-districts/saipe/2019/?leaid=&fips=18\n",
      "Trying URL: https://educationdata.urban.org/api/v1/school-districts/saipe/2019/?leaid=&fips=19\n"
     ]
    },
    {
     "name": "stderr",
     "output_type": "stream",
     "text": [
      "/var/folders/jv/_0nbzmjn7p13g2s1_mch9b6c0000gn/T/ipykernel_27325/2137315506.py:39: FutureWarning: The frame.append method is deprecated and will be removed from pandas in a future version. Use pandas.concat instead.\n",
      "  all_data = all_data.append(df, ignore_index=True)\n",
      "/var/folders/jv/_0nbzmjn7p13g2s1_mch9b6c0000gn/T/ipykernel_27325/2137315506.py:39: FutureWarning: The frame.append method is deprecated and will be removed from pandas in a future version. Use pandas.concat instead.\n",
      "  all_data = all_data.append(df, ignore_index=True)\n"
     ]
    },
    {
     "name": "stdout",
     "output_type": "stream",
     "text": [
      "Trying URL: https://educationdata.urban.org/api/v1/school-districts/saipe/2019/?leaid=&fips=20\n",
      "Trying URL: https://educationdata.urban.org/api/v1/school-districts/saipe/2019/?leaid=&fips=21\n",
      "Trying URL: https://educationdata.urban.org/api/v1/school-districts/saipe/2019/?leaid=&fips=22\n"
     ]
    },
    {
     "name": "stderr",
     "output_type": "stream",
     "text": [
      "/var/folders/jv/_0nbzmjn7p13g2s1_mch9b6c0000gn/T/ipykernel_27325/2137315506.py:39: FutureWarning: The frame.append method is deprecated and will be removed from pandas in a future version. Use pandas.concat instead.\n",
      "  all_data = all_data.append(df, ignore_index=True)\n",
      "/var/folders/jv/_0nbzmjn7p13g2s1_mch9b6c0000gn/T/ipykernel_27325/2137315506.py:39: FutureWarning: The frame.append method is deprecated and will be removed from pandas in a future version. Use pandas.concat instead.\n",
      "  all_data = all_data.append(df, ignore_index=True)\n"
     ]
    },
    {
     "name": "stdout",
     "output_type": "stream",
     "text": [
      "Trying URL: https://educationdata.urban.org/api/v1/school-districts/saipe/2019/?leaid=&fips=23\n",
      "Trying URL: https://educationdata.urban.org/api/v1/school-districts/saipe/2019/?leaid=&fips=24\n"
     ]
    },
    {
     "name": "stderr",
     "output_type": "stream",
     "text": [
      "/var/folders/jv/_0nbzmjn7p13g2s1_mch9b6c0000gn/T/ipykernel_27325/2137315506.py:39: FutureWarning: The frame.append method is deprecated and will be removed from pandas in a future version. Use pandas.concat instead.\n",
      "  all_data = all_data.append(df, ignore_index=True)\n",
      "/var/folders/jv/_0nbzmjn7p13g2s1_mch9b6c0000gn/T/ipykernel_27325/2137315506.py:39: FutureWarning: The frame.append method is deprecated and will be removed from pandas in a future version. Use pandas.concat instead.\n",
      "  all_data = all_data.append(df, ignore_index=True)\n"
     ]
    },
    {
     "name": "stdout",
     "output_type": "stream",
     "text": [
      "Trying URL: https://educationdata.urban.org/api/v1/school-districts/saipe/2019/?leaid=&fips=25\n",
      "Trying URL: https://educationdata.urban.org/api/v1/school-districts/saipe/2019/?leaid=&fips=26\n"
     ]
    },
    {
     "name": "stderr",
     "output_type": "stream",
     "text": [
      "/var/folders/jv/_0nbzmjn7p13g2s1_mch9b6c0000gn/T/ipykernel_27325/2137315506.py:39: FutureWarning: The frame.append method is deprecated and will be removed from pandas in a future version. Use pandas.concat instead.\n",
      "  all_data = all_data.append(df, ignore_index=True)\n",
      "/var/folders/jv/_0nbzmjn7p13g2s1_mch9b6c0000gn/T/ipykernel_27325/2137315506.py:39: FutureWarning: The frame.append method is deprecated and will be removed from pandas in a future version. Use pandas.concat instead.\n",
      "  all_data = all_data.append(df, ignore_index=True)\n",
      "/var/folders/jv/_0nbzmjn7p13g2s1_mch9b6c0000gn/T/ipykernel_27325/2137315506.py:39: FutureWarning: The frame.append method is deprecated and will be removed from pandas in a future version. Use pandas.concat instead.\n",
      "  all_data = all_data.append(df, ignore_index=True)\n"
     ]
    },
    {
     "name": "stdout",
     "output_type": "stream",
     "text": [
      "Trying URL: https://educationdata.urban.org/api/v1/school-districts/saipe/2019/?leaid=&fips=27\n",
      "Trying URL: https://educationdata.urban.org/api/v1/school-districts/saipe/2019/?leaid=&fips=28\n"
     ]
    },
    {
     "name": "stderr",
     "output_type": "stream",
     "text": [
      "/var/folders/jv/_0nbzmjn7p13g2s1_mch9b6c0000gn/T/ipykernel_27325/2137315506.py:39: FutureWarning: The frame.append method is deprecated and will be removed from pandas in a future version. Use pandas.concat instead.\n",
      "  all_data = all_data.append(df, ignore_index=True)\n"
     ]
    },
    {
     "name": "stdout",
     "output_type": "stream",
     "text": [
      "Trying URL: https://educationdata.urban.org/api/v1/school-districts/saipe/2019/?leaid=&fips=29\n"
     ]
    },
    {
     "name": "stderr",
     "output_type": "stream",
     "text": [
      "/var/folders/jv/_0nbzmjn7p13g2s1_mch9b6c0000gn/T/ipykernel_27325/2137315506.py:39: FutureWarning: The frame.append method is deprecated and will be removed from pandas in a future version. Use pandas.concat instead.\n",
      "  all_data = all_data.append(df, ignore_index=True)\n"
     ]
    },
    {
     "name": "stdout",
     "output_type": "stream",
     "text": [
      "Trying URL: https://educationdata.urban.org/api/v1/school-districts/saipe/2019/?leaid=&fips=30\n"
     ]
    },
    {
     "name": "stderr",
     "output_type": "stream",
     "text": [
      "/var/folders/jv/_0nbzmjn7p13g2s1_mch9b6c0000gn/T/ipykernel_27325/2137315506.py:39: FutureWarning: The frame.append method is deprecated and will be removed from pandas in a future version. Use pandas.concat instead.\n",
      "  all_data = all_data.append(df, ignore_index=True)\n",
      "/var/folders/jv/_0nbzmjn7p13g2s1_mch9b6c0000gn/T/ipykernel_27325/2137315506.py:39: FutureWarning: The frame.append method is deprecated and will be removed from pandas in a future version. Use pandas.concat instead.\n",
      "  all_data = all_data.append(df, ignore_index=True)\n"
     ]
    },
    {
     "name": "stdout",
     "output_type": "stream",
     "text": [
      "Trying URL: https://educationdata.urban.org/api/v1/school-districts/saipe/2019/?leaid=&fips=31\n",
      "Trying URL: https://educationdata.urban.org/api/v1/school-districts/saipe/2019/?leaid=&fips=32\n"
     ]
    },
    {
     "name": "stderr",
     "output_type": "stream",
     "text": [
      "/var/folders/jv/_0nbzmjn7p13g2s1_mch9b6c0000gn/T/ipykernel_27325/2137315506.py:39: FutureWarning: The frame.append method is deprecated and will be removed from pandas in a future version. Use pandas.concat instead.\n",
      "  all_data = all_data.append(df, ignore_index=True)\n",
      "/var/folders/jv/_0nbzmjn7p13g2s1_mch9b6c0000gn/T/ipykernel_27325/2137315506.py:39: FutureWarning: The frame.append method is deprecated and will be removed from pandas in a future version. Use pandas.concat instead.\n",
      "  all_data = all_data.append(df, ignore_index=True)\n"
     ]
    },
    {
     "name": "stdout",
     "output_type": "stream",
     "text": [
      "Trying URL: https://educationdata.urban.org/api/v1/school-districts/saipe/2019/?leaid=&fips=33\n",
      "Trying URL: https://educationdata.urban.org/api/v1/school-districts/saipe/2019/?leaid=&fips=34\n"
     ]
    },
    {
     "name": "stderr",
     "output_type": "stream",
     "text": [
      "/var/folders/jv/_0nbzmjn7p13g2s1_mch9b6c0000gn/T/ipykernel_27325/2137315506.py:39: FutureWarning: The frame.append method is deprecated and will be removed from pandas in a future version. Use pandas.concat instead.\n",
      "  all_data = all_data.append(df, ignore_index=True)\n",
      "/var/folders/jv/_0nbzmjn7p13g2s1_mch9b6c0000gn/T/ipykernel_27325/2137315506.py:39: FutureWarning: The frame.append method is deprecated and will be removed from pandas in a future version. Use pandas.concat instead.\n",
      "  all_data = all_data.append(df, ignore_index=True)\n"
     ]
    },
    {
     "name": "stdout",
     "output_type": "stream",
     "text": [
      "Trying URL: https://educationdata.urban.org/api/v1/school-districts/saipe/2019/?leaid=&fips=35\n",
      "Trying URL: https://educationdata.urban.org/api/v1/school-districts/saipe/2019/?leaid=&fips=36\n"
     ]
    },
    {
     "name": "stderr",
     "output_type": "stream",
     "text": [
      "/var/folders/jv/_0nbzmjn7p13g2s1_mch9b6c0000gn/T/ipykernel_27325/2137315506.py:39: FutureWarning: The frame.append method is deprecated and will be removed from pandas in a future version. Use pandas.concat instead.\n",
      "  all_data = all_data.append(df, ignore_index=True)\n",
      "/var/folders/jv/_0nbzmjn7p13g2s1_mch9b6c0000gn/T/ipykernel_27325/2137315506.py:39: FutureWarning: The frame.append method is deprecated and will be removed from pandas in a future version. Use pandas.concat instead.\n",
      "  all_data = all_data.append(df, ignore_index=True)\n"
     ]
    },
    {
     "name": "stdout",
     "output_type": "stream",
     "text": [
      "Trying URL: https://educationdata.urban.org/api/v1/school-districts/saipe/2019/?leaid=&fips=37\n",
      "Trying URL: https://educationdata.urban.org/api/v1/school-districts/saipe/2019/?leaid=&fips=38\n"
     ]
    },
    {
     "name": "stderr",
     "output_type": "stream",
     "text": [
      "/var/folders/jv/_0nbzmjn7p13g2s1_mch9b6c0000gn/T/ipykernel_27325/2137315506.py:39: FutureWarning: The frame.append method is deprecated and will be removed from pandas in a future version. Use pandas.concat instead.\n",
      "  all_data = all_data.append(df, ignore_index=True)\n"
     ]
    },
    {
     "name": "stdout",
     "output_type": "stream",
     "text": [
      "Trying URL: https://educationdata.urban.org/api/v1/school-districts/saipe/2019/?leaid=&fips=39\n"
     ]
    },
    {
     "name": "stderr",
     "output_type": "stream",
     "text": [
      "/var/folders/jv/_0nbzmjn7p13g2s1_mch9b6c0000gn/T/ipykernel_27325/2137315506.py:39: FutureWarning: The frame.append method is deprecated and will be removed from pandas in a future version. Use pandas.concat instead.\n",
      "  all_data = all_data.append(df, ignore_index=True)\n"
     ]
    },
    {
     "name": "stdout",
     "output_type": "stream",
     "text": [
      "Trying URL: https://educationdata.urban.org/api/v1/school-districts/saipe/2019/?leaid=&fips=40\n"
     ]
    },
    {
     "name": "stderr",
     "output_type": "stream",
     "text": [
      "/var/folders/jv/_0nbzmjn7p13g2s1_mch9b6c0000gn/T/ipykernel_27325/2137315506.py:39: FutureWarning: The frame.append method is deprecated and will be removed from pandas in a future version. Use pandas.concat instead.\n",
      "  all_data = all_data.append(df, ignore_index=True)\n",
      "/var/folders/jv/_0nbzmjn7p13g2s1_mch9b6c0000gn/T/ipykernel_27325/2137315506.py:39: FutureWarning: The frame.append method is deprecated and will be removed from pandas in a future version. Use pandas.concat instead.\n",
      "  all_data = all_data.append(df, ignore_index=True)\n"
     ]
    },
    {
     "name": "stdout",
     "output_type": "stream",
     "text": [
      "Trying URL: https://educationdata.urban.org/api/v1/school-districts/saipe/2019/?leaid=&fips=41\n",
      "Trying URL: https://educationdata.urban.org/api/v1/school-districts/saipe/2019/?leaid=&fips=42\n"
     ]
    },
    {
     "name": "stderr",
     "output_type": "stream",
     "text": [
      "/var/folders/jv/_0nbzmjn7p13g2s1_mch9b6c0000gn/T/ipykernel_27325/2137315506.py:39: FutureWarning: The frame.append method is deprecated and will be removed from pandas in a future version. Use pandas.concat instead.\n",
      "  all_data = all_data.append(df, ignore_index=True)\n",
      "/var/folders/jv/_0nbzmjn7p13g2s1_mch9b6c0000gn/T/ipykernel_27325/2137315506.py:39: FutureWarning: The frame.append method is deprecated and will be removed from pandas in a future version. Use pandas.concat instead.\n",
      "  all_data = all_data.append(df, ignore_index=True)\n"
     ]
    },
    {
     "name": "stdout",
     "output_type": "stream",
     "text": [
      "Trying URL: https://educationdata.urban.org/api/v1/school-districts/saipe/2019/?leaid=&fips=43\n",
      "Error fetching data for FIPS 43 and year 2019: \"None of [Index(['district_id', 'district_name', 'year', 'est_population_total',\\n       'est_population_5_17', 'est_population_5_17_poverty',\\n       'est_population_5_17_poverty_pct', 'est_population_5_17_pct', 'leaid',\\n       'fips'],\\n      dtype='object')] are in the [columns]\"\n",
      "Trying URL: https://educationdata.urban.org/api/v1/school-districts/saipe/2019/?leaid=&fips=44\n"
     ]
    },
    {
     "name": "stderr",
     "output_type": "stream",
     "text": [
      "/var/folders/jv/_0nbzmjn7p13g2s1_mch9b6c0000gn/T/ipykernel_27325/2137315506.py:39: FutureWarning: The frame.append method is deprecated and will be removed from pandas in a future version. Use pandas.concat instead.\n",
      "  all_data = all_data.append(df, ignore_index=True)\n",
      "/var/folders/jv/_0nbzmjn7p13g2s1_mch9b6c0000gn/T/ipykernel_27325/2137315506.py:39: FutureWarning: The frame.append method is deprecated and will be removed from pandas in a future version. Use pandas.concat instead.\n",
      "  all_data = all_data.append(df, ignore_index=True)\n"
     ]
    },
    {
     "name": "stdout",
     "output_type": "stream",
     "text": [
      "Trying URL: https://educationdata.urban.org/api/v1/school-districts/saipe/2019/?leaid=&fips=45\n",
      "Trying URL: https://educationdata.urban.org/api/v1/school-districts/saipe/2019/?leaid=&fips=46\n"
     ]
    },
    {
     "name": "stderr",
     "output_type": "stream",
     "text": [
      "/var/folders/jv/_0nbzmjn7p13g2s1_mch9b6c0000gn/T/ipykernel_27325/2137315506.py:39: FutureWarning: The frame.append method is deprecated and will be removed from pandas in a future version. Use pandas.concat instead.\n",
      "  all_data = all_data.append(df, ignore_index=True)\n",
      "/var/folders/jv/_0nbzmjn7p13g2s1_mch9b6c0000gn/T/ipykernel_27325/2137315506.py:39: FutureWarning: The frame.append method is deprecated and will be removed from pandas in a future version. Use pandas.concat instead.\n",
      "  all_data = all_data.append(df, ignore_index=True)\n"
     ]
    },
    {
     "name": "stdout",
     "output_type": "stream",
     "text": [
      "Trying URL: https://educationdata.urban.org/api/v1/school-districts/saipe/2019/?leaid=&fips=47\n",
      "Trying URL: https://educationdata.urban.org/api/v1/school-districts/saipe/2019/?leaid=&fips=48\n"
     ]
    },
    {
     "name": "stderr",
     "output_type": "stream",
     "text": [
      "/var/folders/jv/_0nbzmjn7p13g2s1_mch9b6c0000gn/T/ipykernel_27325/2137315506.py:39: FutureWarning: The frame.append method is deprecated and will be removed from pandas in a future version. Use pandas.concat instead.\n",
      "  all_data = all_data.append(df, ignore_index=True)\n",
      "/var/folders/jv/_0nbzmjn7p13g2s1_mch9b6c0000gn/T/ipykernel_27325/2137315506.py:39: FutureWarning: The frame.append method is deprecated and will be removed from pandas in a future version. Use pandas.concat instead.\n",
      "  all_data = all_data.append(df, ignore_index=True)\n"
     ]
    },
    {
     "name": "stdout",
     "output_type": "stream",
     "text": [
      "Trying URL: https://educationdata.urban.org/api/v1/school-districts/saipe/2019/?leaid=&fips=49\n",
      "Trying URL: https://educationdata.urban.org/api/v1/school-districts/saipe/2019/?leaid=&fips=50\n"
     ]
    },
    {
     "name": "stderr",
     "output_type": "stream",
     "text": [
      "/var/folders/jv/_0nbzmjn7p13g2s1_mch9b6c0000gn/T/ipykernel_27325/2137315506.py:39: FutureWarning: The frame.append method is deprecated and will be removed from pandas in a future version. Use pandas.concat instead.\n",
      "  all_data = all_data.append(df, ignore_index=True)\n",
      "/var/folders/jv/_0nbzmjn7p13g2s1_mch9b6c0000gn/T/ipykernel_27325/2137315506.py:39: FutureWarning: The frame.append method is deprecated and will be removed from pandas in a future version. Use pandas.concat instead.\n",
      "  all_data = all_data.append(df, ignore_index=True)\n"
     ]
    },
    {
     "name": "stdout",
     "output_type": "stream",
     "text": [
      "Trying URL: https://educationdata.urban.org/api/v1/school-districts/saipe/2019/?leaid=&fips=51\n",
      "Trying URL: https://educationdata.urban.org/api/v1/school-districts/saipe/2019/?leaid=&fips=52\n",
      "Error fetching data for FIPS 52 and year 2019: \"None of [Index(['district_id', 'district_name', 'year', 'est_population_total',\\n       'est_population_5_17', 'est_population_5_17_poverty',\\n       'est_population_5_17_poverty_pct', 'est_population_5_17_pct', 'leaid',\\n       'fips'],\\n      dtype='object')] are in the [columns]\"\n",
      "Trying URL: https://educationdata.urban.org/api/v1/school-districts/saipe/2019/?leaid=&fips=53\n"
     ]
    },
    {
     "name": "stderr",
     "output_type": "stream",
     "text": [
      "/var/folders/jv/_0nbzmjn7p13g2s1_mch9b6c0000gn/T/ipykernel_27325/2137315506.py:39: FutureWarning: The frame.append method is deprecated and will be removed from pandas in a future version. Use pandas.concat instead.\n",
      "  all_data = all_data.append(df, ignore_index=True)\n",
      "/var/folders/jv/_0nbzmjn7p13g2s1_mch9b6c0000gn/T/ipykernel_27325/2137315506.py:39: FutureWarning: The frame.append method is deprecated and will be removed from pandas in a future version. Use pandas.concat instead.\n",
      "  all_data = all_data.append(df, ignore_index=True)\n"
     ]
    },
    {
     "name": "stdout",
     "output_type": "stream",
     "text": [
      "Trying URL: https://educationdata.urban.org/api/v1/school-districts/saipe/2019/?leaid=&fips=54\n",
      "Trying URL: https://educationdata.urban.org/api/v1/school-districts/saipe/2019/?leaid=&fips=55\n"
     ]
    },
    {
     "name": "stderr",
     "output_type": "stream",
     "text": [
      "/var/folders/jv/_0nbzmjn7p13g2s1_mch9b6c0000gn/T/ipykernel_27325/2137315506.py:39: FutureWarning: The frame.append method is deprecated and will be removed from pandas in a future version. Use pandas.concat instead.\n",
      "  all_data = all_data.append(df, ignore_index=True)\n",
      "/var/folders/jv/_0nbzmjn7p13g2s1_mch9b6c0000gn/T/ipykernel_27325/2137315506.py:39: FutureWarning: The frame.append method is deprecated and will be removed from pandas in a future version. Use pandas.concat instead.\n",
      "  all_data = all_data.append(df, ignore_index=True)\n"
     ]
    },
    {
     "name": "stdout",
     "output_type": "stream",
     "text": [
      "Trying URL: https://educationdata.urban.org/api/v1/school-districts/saipe/2019/?leaid=&fips=56\n",
      "       district_id                        district_name  year  \\\n",
      "0            00005     ALBERTVILLE CITY SCHOOL DISTRICT  2008   \n",
      "1            00030  ALEXANDER CITY CITY SCHOOL DISTRICT  2008   \n",
      "2            00060       ANDALUSIA CITY SCHOOL DISTRICT  2008   \n",
      "3            00090        ANNISTON CITY SCHOOL DISTRICT  2008   \n",
      "4            00100            ARAB CITY SCHOOL DISTRICT  2008   \n",
      "...            ...                                  ...   ...   \n",
      "161147       04260       Uinta County School District 6  2019   \n",
      "161148       06240    Washakie County School District 1  2019   \n",
      "161149       05820    Washakie County School District 2  2019   \n",
      "161150       04830      Weston County School District 1  2019   \n",
      "161151       06090      Weston County School District 7  2019   \n",
      "\n",
      "        est_population_total  est_population_5_17  \\\n",
      "0                    18725.0               3310.0   \n",
      "1                    17304.0               2768.0   \n",
      "2                     8694.0               1341.0   \n",
      "3                    24771.0               3982.0   \n",
      "4                     8880.0               1554.0   \n",
      "...                      ...                  ...   \n",
      "161147                3110.0                736.0   \n",
      "161148                7135.0               1295.0   \n",
      "161149                 670.0                 90.0   \n",
      "161150                5465.0                816.0   \n",
      "161151                1462.0                249.0   \n",
      "\n",
      "        est_population_5_17_poverty  est_population_5_17_poverty_pct  \\\n",
      "0                             890.0                         0.268882   \n",
      "1                             626.0                         0.226156   \n",
      "2                             392.0                         0.292319   \n",
      "3                            1143.0                         0.287042   \n",
      "4                             266.0                         0.171171   \n",
      "...                             ...                              ...   \n",
      "161147                         28.0                         0.038043   \n",
      "161148                        148.0                         0.114286   \n",
      "161149                         12.0                         0.133333   \n",
      "161150                        108.0                         0.132353   \n",
      "161151                         12.0                         0.048193   \n",
      "\n",
      "        est_population_5_17_pct    leaid fips  \n",
      "0                      0.176769  0100005    1  \n",
      "1                      0.159963  0100030    1  \n",
      "2                      0.154244  0100060    1  \n",
      "3                      0.160752  0100090    1  \n",
      "4                      0.175000  0100100    1  \n",
      "...                         ...      ...  ...  \n",
      "161147                 0.236656  5604260   56  \n",
      "161148                 0.181500  5606240   56  \n",
      "161149                 0.134328  5605820   56  \n",
      "161150                 0.149314  5604830   56  \n",
      "161151                 0.170315  5606090   56  \n",
      "\n",
      "[161152 rows x 10 columns]\n"
     ]
    },
    {
     "name": "stderr",
     "output_type": "stream",
     "text": [
      "/var/folders/jv/_0nbzmjn7p13g2s1_mch9b6c0000gn/T/ipykernel_27325/2137315506.py:39: FutureWarning: The frame.append method is deprecated and will be removed from pandas in a future version. Use pandas.concat instead.\n",
      "  all_data = all_data.append(df, ignore_index=True)\n"
     ]
    }
   ],
   "source": [
    "import pandas as pd\n",
    "from urllib.request import urlopen\n",
    "from json import loads\n",
    "\n",
    "# Define a function to fetch data for a given FIPS code and year\n",
    "def fetch_data(fips_code, year):\n",
    "    url = f\"https://educationdata.urban.org/api/v1/school-districts/saipe/{year}/?leaid=&fips={fips_code}\"\n",
    "    print(f\"Trying URL: {url}\")\n",
    "\n",
    "    try:\n",
    "        response = urlopen(url)\n",
    "        data = loads(response.read())\n",
    "\n",
    "        # Create a DataFrame from the 'results' key in the data\n",
    "        df = pd.DataFrame(data['results'])\n",
    "\n",
    "        # Reorder the columns in a more readable order\n",
    "        df = df[[\"district_id\", \"district_name\", \"year\", \"est_population_total\", \"est_population_5_17\", \"est_population_5_17_poverty\", \"est_population_5_17_poverty_pct\", \"est_population_5_17_pct\", \"leaid\", \"fips\"]]\n",
    "\n",
    "    except Exception as e:\n",
    "        print(f\"Error fetching data for FIPS {fips_code} and year {year}: {e}\")\n",
    "        df = pd.DataFrame()\n",
    "\n",
    "    return df\n",
    "\n",
    "# Initialize an empty DataFrame to store the data\n",
    "all_data = pd.DataFrame()\n",
    "\n",
    "# Loop through the years and FIPS codes\n",
    "for year in range(2008, 2020):\n",
    "    for fips_code in range(1, 57):\n",
    "        # Make sure the FIPS code is two digits long\n",
    "        formatted_fips_code = str(fips_code).zfill(2)\n",
    "        \n",
    "        # Fetch the data for the current FIPS code and year\n",
    "        df = fetch_data(formatted_fips_code, year)\n",
    "\n",
    "        # Append the data to the main DataFrame\n",
    "        all_data = all_data.append(df, ignore_index=True)\n",
    "\n",
    "# Display the complete DataFrame\n",
    "print(all_data)\n"
   ]
  },
  {
   "cell_type": "code",
   "execution_count": 111,
   "id": "fe3b8b55",
   "metadata": {},
   "outputs": [
    {
     "name": "stdout",
     "output_type": "stream",
     "text": [
      "       district_id                        district_name  year  \\\n",
      "0            00005     ALBERTVILLE CITY SCHOOL DISTRICT  2008   \n",
      "1            00030  ALEXANDER CITY CITY SCHOOL DISTRICT  2008   \n",
      "2            00060       ANDALUSIA CITY SCHOOL DISTRICT  2008   \n",
      "3            00090        ANNISTON CITY SCHOOL DISTRICT  2008   \n",
      "4            00100            ARAB CITY SCHOOL DISTRICT  2008   \n",
      "...            ...                                  ...   ...   \n",
      "161147       04260       Uinta County School District 6  2019   \n",
      "161148       06240    Washakie County School District 1  2019   \n",
      "161149       05820    Washakie County School District 2  2019   \n",
      "161150       04830      Weston County School District 1  2019   \n",
      "161151       06090      Weston County School District 7  2019   \n",
      "\n",
      "        est_population_5_17_poverty_pct    leaid fips  \n",
      "0                              0.268882  0100005    1  \n",
      "1                              0.226156  0100030    1  \n",
      "2                              0.292319  0100060    1  \n",
      "3                              0.287042  0100090    1  \n",
      "4                              0.171171  0100100    1  \n",
      "...                                 ...      ...  ...  \n",
      "161147                         0.038043  5604260   56  \n",
      "161148                         0.114286  5606240   56  \n",
      "161149                         0.133333  5605820   56  \n",
      "161150                         0.132353  5604830   56  \n",
      "161151                         0.048193  5606090   56  \n",
      "\n",
      "[161008 rows x 6 columns]\n"
     ]
    }
   ],
   "source": [
    "# Drop uncessecarry Columns\n",
    "poverty_data = all_data.copy(deep = True)\n",
    "\n",
    "poverty_data = poverty_data.drop(columns=['est_population_total', 'est_population_5_17', 'est_population_5_17_poverty', 'est_population_5_17_pct'])\n",
    "poverty_data = poverty_data[poverty_data['est_population_5_17_poverty_pct'] >= 0]\n",
    "\n",
    "print(poverty_data)\n",
    "                                 \n",
    "                                 \n",
    "                                 \n",
    "                                 "
   ]
  },
  {
   "cell_type": "markdown",
   "id": "6366bc6e",
   "metadata": {},
   "source": [
    "# Grab Finance Data\n"
   ]
  },
  {
   "cell_type": "code",
   "execution_count": 112,
   "id": "11d8f411",
   "metadata": {},
   "outputs": [
    {
     "name": "stdout",
     "output_type": "stream",
     "text": [
      "Downloading https://nces.ed.gov/ccd/Data/zip/sdf09_1a_sas.zip\n",
      "Unable to download https://nces.ed.gov/ccd/Data/zip/sdf09_1a_sas.zip\n",
      "Downloading https://nces.ed.gov/ccd/Data/zip/sdf09_1a_sas7bdat.zip\n",
      "Unable to download https://nces.ed.gov/ccd/Data/zip/sdf09_1a_sas7bdat.zip\n",
      "Downloading https://nces.ed.gov/ccd/data/zip/sdf090_2a_sas7bdat.zip\n",
      "Unable to download https://nces.ed.gov/ccd/data/zip/sdf090_2a_sas7bdat.zip\n",
      "Downloading https://nces.ed.gov/ccd/data/zip/sdf09_1a_SAS.zip\n",
      "Unable to download https://nces.ed.gov/ccd/data/zip/sdf09_1a_SAS.zip\n",
      "Downloading https://nces.ed.gov/ccd/data/zip/sdf09_1a.sas7bdat.zip\n",
      "Unable to download https://nces.ed.gov/ccd/data/zip/sdf09_1a.sas7bdat.zip\n",
      "Downloading https://nces.ed.gov/ccd/data/zip/sdf091a_suppressed.sas7bdat.zip\n",
      "Unable to download https://nces.ed.gov/ccd/data/zip/sdf091a_suppressed.sas7bdat.zip\n",
      "Downloading https://nces.ed.gov/ccd/data/zip/sdf09_1a_sas7bdat.zip\n",
      "Unable to download https://nces.ed.gov/ccd/data/zip/sdf09_1a_sas7bdat.zip\n",
      "Downloading https://nces.ed.gov/ccd/data/zip/sdf091a_sas.zip\n",
      "Reading data from sdf091a.sas7bdat for year 09\n",
      "Downloading https://nces.ed.gov/ccd/Data/zip/sdf10_1a_sas.zip\n",
      "Unable to download https://nces.ed.gov/ccd/Data/zip/sdf10_1a_sas.zip\n",
      "Downloading https://nces.ed.gov/ccd/Data/zip/sdf10_1a_sas7bdat.zip\n",
      "Unable to download https://nces.ed.gov/ccd/Data/zip/sdf10_1a_sas7bdat.zip\n",
      "Downloading https://nces.ed.gov/ccd/data/zip/sdf100_2a_sas7bdat.zip\n",
      "Unable to download https://nces.ed.gov/ccd/data/zip/sdf100_2a_sas7bdat.zip\n",
      "Downloading https://nces.ed.gov/ccd/data/zip/sdf10_1a_SAS.zip\n",
      "Unable to download https://nces.ed.gov/ccd/data/zip/sdf10_1a_SAS.zip\n",
      "Downloading https://nces.ed.gov/ccd/data/zip/sdf10_1a.sas7bdat.zip\n",
      "Unable to download https://nces.ed.gov/ccd/data/zip/sdf10_1a.sas7bdat.zip\n",
      "Downloading https://nces.ed.gov/ccd/data/zip/sdf101a_suppressed.sas7bdat.zip\n",
      "Unable to download https://nces.ed.gov/ccd/data/zip/sdf101a_suppressed.sas7bdat.zip\n",
      "Downloading https://nces.ed.gov/ccd/data/zip/sdf10_1a_sas7bdat.zip\n",
      "Unable to download https://nces.ed.gov/ccd/data/zip/sdf10_1a_sas7bdat.zip\n",
      "Downloading https://nces.ed.gov/ccd/data/zip/sdf101a_sas.zip\n",
      "Reading data from sdf101a_sas.sas7bdat for year 10\n",
      "Downloading https://nces.ed.gov/ccd/Data/zip/sdf11_1a_sas.zip\n",
      "Unable to download https://nces.ed.gov/ccd/Data/zip/sdf11_1a_sas.zip\n",
      "Downloading https://nces.ed.gov/ccd/Data/zip/sdf11_1a_sas7bdat.zip\n",
      "Reading data from sdf11_1a.sas7bdat for year 11\n",
      "Downloading https://nces.ed.gov/ccd/Data/zip/sdf12_1a_sas.zip\n",
      "Unable to download https://nces.ed.gov/ccd/Data/zip/sdf12_1a_sas.zip\n",
      "Downloading https://nces.ed.gov/ccd/Data/zip/sdf12_1a_sas7bdat.zip\n",
      "Unable to download https://nces.ed.gov/ccd/Data/zip/sdf12_1a_sas7bdat.zip\n",
      "Downloading https://nces.ed.gov/ccd/data/zip/sdf120_2a_sas7bdat.zip\n",
      "Unable to download https://nces.ed.gov/ccd/data/zip/sdf120_2a_sas7bdat.zip\n",
      "Downloading https://nces.ed.gov/ccd/data/zip/sdf12_1a_SAS.zip\n",
      "Unable to download https://nces.ed.gov/ccd/data/zip/sdf12_1a_SAS.zip\n",
      "Downloading https://nces.ed.gov/ccd/data/zip/sdf12_1a.sas7bdat.zip\n",
      "Unable to download https://nces.ed.gov/ccd/data/zip/sdf12_1a.sas7bdat.zip\n",
      "Downloading https://nces.ed.gov/ccd/data/zip/sdf121a_suppressed.sas7bdat.zip\n",
      "Reading data from sdf121a_suppressed.sas7bdat for year 12\n",
      "Downloading https://nces.ed.gov/ccd/Data/zip/sdf13_1a_sas.zip\n",
      "Unable to download https://nces.ed.gov/ccd/Data/zip/sdf13_1a_sas.zip\n",
      "Downloading https://nces.ed.gov/ccd/Data/zip/sdf13_1a_sas7bdat.zip\n",
      "Unable to download https://nces.ed.gov/ccd/Data/zip/sdf13_1a_sas7bdat.zip\n",
      "Downloading https://nces.ed.gov/ccd/data/zip/sdf130_2a_sas7bdat.zip\n",
      "Unable to download https://nces.ed.gov/ccd/data/zip/sdf130_2a_sas7bdat.zip\n",
      "Downloading https://nces.ed.gov/ccd/data/zip/sdf13_1a_SAS.zip\n",
      "Unable to download https://nces.ed.gov/ccd/data/zip/sdf13_1a_SAS.zip\n",
      "Downloading https://nces.ed.gov/ccd/data/zip/sdf13_1a.sas7bdat.zip\n",
      "Reading data from sdf13_1a.sas7bdat for year 13\n",
      "Downloading https://nces.ed.gov/ccd/Data/zip/sdf14_1a_sas.zip\n",
      "Reading data from sdf14_1a.sas7bdat for year 14\n",
      "Downloading https://nces.ed.gov/ccd/Data/zip/sdf15_1a_sas.zip\n",
      "Unable to download https://nces.ed.gov/ccd/Data/zip/sdf15_1a_sas.zip\n",
      "Downloading https://nces.ed.gov/ccd/Data/zip/sdf15_1a_sas7bdat.zip\n",
      "Unable to download https://nces.ed.gov/ccd/Data/zip/sdf15_1a_sas7bdat.zip\n",
      "Downloading https://nces.ed.gov/ccd/data/zip/sdf150_2a_sas7bdat.zip\n",
      "Reading data from sdf150_2a.sas7bdat for year 15\n",
      "Downloading https://nces.ed.gov/ccd/Data/zip/sdf16_1a_sas.zip\n",
      "Unable to download https://nces.ed.gov/ccd/Data/zip/sdf16_1a_sas.zip\n",
      "Downloading https://nces.ed.gov/ccd/Data/zip/sdf16_1a_sas7bdat.zip\n",
      "Reading data from sdf16_1a.sas7bdat for year 16\n",
      "Downloading https://nces.ed.gov/ccd/Data/zip/sdf17_1a_sas.zip\n",
      "Unable to download https://nces.ed.gov/ccd/Data/zip/sdf17_1a_sas.zip\n",
      "Downloading https://nces.ed.gov/ccd/Data/zip/sdf17_1a_sas7bdat.zip\n",
      "Reading data from sdf17_1a.sas7bdat for year 17\n",
      "Downloading https://nces.ed.gov/ccd/Data/zip/sdf18_1a_sas.zip\n",
      "Unable to download https://nces.ed.gov/ccd/Data/zip/sdf18_1a_sas.zip\n",
      "Downloading https://nces.ed.gov/ccd/Data/zip/sdf18_1a_sas7bdat.zip\n",
      "Reading data from sdf18_1a.sas7bdat for year 18\n",
      "Downloading https://nces.ed.gov/ccd/Data/zip/sdf19_1a_sas.zip\n",
      "Reading data from sdf19_1a.sas7bdat for year 19\n",
      "Downloading https://nces.ed.gov/ccd/Data/zip/sdf20_1a_sas.zip\n",
      "Unable to download https://nces.ed.gov/ccd/Data/zip/sdf20_1a_sas.zip\n",
      "Downloading https://nces.ed.gov/ccd/Data/zip/sdf20_1a_sas7bdat.zip\n",
      "Unable to download https://nces.ed.gov/ccd/Data/zip/sdf20_1a_sas7bdat.zip\n",
      "Downloading https://nces.ed.gov/ccd/data/zip/sdf200_2a_sas7bdat.zip\n",
      "Unable to download https://nces.ed.gov/ccd/data/zip/sdf200_2a_sas7bdat.zip\n",
      "Downloading https://nces.ed.gov/ccd/data/zip/sdf20_1a_SAS.zip\n",
      "Unable to download https://nces.ed.gov/ccd/data/zip/sdf20_1a_SAS.zip\n",
      "Downloading https://nces.ed.gov/ccd/data/zip/sdf20_1a.sas7bdat.zip\n",
      "Reading data from sdf20_1a.sas7bdat for year 20\n",
      "Downloading https://nces.ed.gov/ccd/Data/zip/sdf21_1a_sas.zip\n",
      "Unable to download https://nces.ed.gov/ccd/Data/zip/sdf21_1a_sas.zip\n",
      "Downloading https://nces.ed.gov/ccd/Data/zip/sdf21_1a_sas7bdat.zip\n",
      "Unable to download https://nces.ed.gov/ccd/Data/zip/sdf21_1a_sas7bdat.zip\n",
      "Downloading https://nces.ed.gov/ccd/data/zip/sdf210_2a_sas7bdat.zip\n",
      "Unable to download https://nces.ed.gov/ccd/data/zip/sdf210_2a_sas7bdat.zip\n",
      "Downloading https://nces.ed.gov/ccd/data/zip/sdf21_1a_SAS.zip\n",
      "Unable to download https://nces.ed.gov/ccd/data/zip/sdf21_1a_SAS.zip\n",
      "Downloading https://nces.ed.gov/ccd/data/zip/sdf21_1a.sas7bdat.zip\n",
      "Unable to download https://nces.ed.gov/ccd/data/zip/sdf21_1a.sas7bdat.zip\n",
      "Downloading https://nces.ed.gov/ccd/data/zip/sdf211a_suppressed.sas7bdat.zip\n",
      "Unable to download https://nces.ed.gov/ccd/data/zip/sdf211a_suppressed.sas7bdat.zip\n",
      "Downloading https://nces.ed.gov/ccd/data/zip/sdf21_1a_sas7bdat.zip\n",
      "Unable to download https://nces.ed.gov/ccd/data/zip/sdf21_1a_sas7bdat.zip\n",
      "Downloading https://nces.ed.gov/ccd/data/zip/sdf211a_sas.zip\n",
      "Unable to download https://nces.ed.gov/ccd/data/zip/sdf211a_sas.zip\n",
      "             LEAID           CENSUSID  FIPST     CONUM     CSA      CBSA  \\\n",
      "0       b'0100005'  b'01504840100000'  b'01'  b'01095'    b'N'  b'10700'   \n",
      "1       b'0100006'  b'01504800100000'  b'01'  b'01095'    b'N'  b'10700'   \n",
      "2       b'0100007'  b'01503740100000'  b'01'  b'01073'  b'142'  b'13820'   \n",
      "3       b'0100008'  b'01504530100000'  b'01'  b'01089'  b'290'  b'26620'   \n",
      "4       b'0100011'  b'01503710100000'  b'01'  b'01073'  b'142'  b'13820'   \n",
      "...            ...                ...    ...       ...     ...       ...   \n",
      "222725  b'5680252'               b'N'  b'56'  b'56005'    b'N'  b'23940'   \n",
      "222726  b'5680253'               b'N'  b'56'  b'56025'    b'N'  b'16220'   \n",
      "222727  b'5680254'               b'N'  b'56'  b'56013'    b'N'  b'40180'   \n",
      "222728  b'5680255'               b'N'  b'56'  b'32005'  b'456'  b'23820'   \n",
      "222729  b'5680256'               b'N'  b'56'  b'56029'    b'N'      b'N'   \n",
      "\n",
      "                                                     NAME      STNAME STABBR  \\\n",
      "0                                     b'ALBERTVILLE CITY'  b'Alabama'  b'AL'   \n",
      "1                                      b'MARSHALL COUNTY'  b'Alabama'  b'AL'   \n",
      "2                                          b'HOOVER CITY'  b'Alabama'  b'AL'   \n",
      "3                                         b'MADISON CITY'  b'Alabama'  b'AL'   \n",
      "4                                           b'LEEDS CITY'  b'Alabama'  b'AL'   \n",
      "...                                                   ...         ...    ...   \n",
      "222725  b'Youth Emergency Services Inc. - Administrati...  b'Wyoming'  b'WY'   \n",
      "222726  b'Wyoming Behavioral Institute - Administratio...  b'Wyoming'  b'WY'   \n",
      "222727      b\"Saint Stephen's Indian School Admin Office\"  b'Wyoming'  b'WY'   \n",
      "222728                                b'Right of Passage'  b'Wyoming'  b'WY'   \n",
      "222729  b'Northwest Wyoming Treatment Center - Adminis...  b'Wyoming'  b'WY'   \n",
      "\n",
      "       SCHLEV  ... FL_AR3 FL_AR4 FL_AR5 FL_AR6 FL_AE1 FL_AE2  FL_AE3  FL_AE4  \\\n",
      "0       b'03'  ...    NaN    NaN    NaN    NaN    NaN    NaN     NaN     NaN   \n",
      "1       b'03'  ...    NaN    NaN    NaN    NaN    NaN    NaN     NaN     NaN   \n",
      "2       b'03'  ...    NaN    NaN    NaN    NaN    NaN    NaN     NaN     NaN   \n",
      "3       b'03'  ...    NaN    NaN    NaN    NaN    NaN    NaN     NaN     NaN   \n",
      "4       b'03'  ...    NaN    NaN    NaN    NaN    NaN    NaN     NaN     NaN   \n",
      "...       ...  ...    ...    ...    ...    ...    ...    ...     ...     ...   \n",
      "222725  b'01'  ...   b'N'   b'N'   b'N'   b'N'   b'N'   b'N'    b'N'    b'N'   \n",
      "222726  b'03'  ...   b'N'   b'N'   b'N'   b'N'   b'N'   b'N'    b'N'    b'N'   \n",
      "222727  b'03'  ...   b'N'   b'N'   b'N'   b'N'   b'N'   b'N'    b'N'    b'N'   \n",
      "222728  b'02'  ...   b'N'   b'N'   b'N'   b'N'   b'N'   b'N'    b'N'    b'N'   \n",
      "222729   b'N'  ...   b'N'   b'N'   b'N'   b'N'   b'N'   b'N'    b'N'    b'N'   \n",
      "\n",
      "        FL_AE5  FL_AE6  \n",
      "0          NaN     NaN  \n",
      "1          NaN     NaN  \n",
      "2          NaN     NaN  \n",
      "3          NaN     NaN  \n",
      "4          NaN     NaN  \n",
      "...        ...     ...  \n",
      "222725    b'N'    b'N'  \n",
      "222726    b'N'    b'N'  \n",
      "222727    b'N'    b'N'  \n",
      "222728    b'N'    b'N'  \n",
      "222729    b'N'    b'N'  \n",
      "\n",
      "[222730 rows x 314 columns]\n"
     ]
    }
   ],
   "source": [
    "from zipfile import ZipFile\n",
    "from io import BytesIO\n",
    "import urllib.request as urllib2\n",
    "import pandas as pd\n",
    "\n",
    "finance_data_all_years = []  # create an empty list to hold the data for all years\n",
    "\n",
    "years = [f\"{i:02}\" for i in range(9, 22)]\n",
    "for year in years:\n",
    "    urls = [\n",
    "        f\"https://nces.ed.gov/ccd/Data/zip/sdf{year}_1a_sas.zip\",\n",
    "        f\"https://nces.ed.gov/ccd/Data/zip/sdf{year}_1a_sas7bdat.zip\",\n",
    "        f\"https://nces.ed.gov/ccd/data/zip/sdf{year}0_2a_sas7bdat.zip\",\n",
    "        f\"https://nces.ed.gov/ccd/data/zip/sdf{year}_1a_SAS.zip\",\n",
    "        f\"https://nces.ed.gov/ccd/data/zip/sdf{year}_1a.sas7bdat.zip\",\n",
    "        f\"https://nces.ed.gov/ccd/data/zip/sdf{year}1a_suppressed.sas7bdat.zip\",\n",
    "        f\"https://nces.ed.gov/ccd/data/zip/sdf{year}_1a_sas7bdat.zip\",\n",
    "        f\"https://nces.ed.gov/ccd/data/zip/sdf{year}1a_sas.zip\",\n",
    "        \n",
    "    ]\n",
    "    for url in urls:\n",
    "        try:\n",
    "            print(f\"Downloading {url}\")\n",
    "            r = urllib2.urlopen(url).read()\n",
    "            file = ZipFile(BytesIO(r))\n",
    "            names = file.namelist()\n",
    "            for name in names:\n",
    "                if name.endswith('.sas') or name.endswith('.sas7bdat'):\n",
    "                    with file.open(name) as f:\n",
    "                        try:\n",
    "                            print(f\"Reading data from {name} for year {year}\")\n",
    "                            finance_data = pd.read_sas(f, format='sas7bdat')\n",
    "                            finance_data_all_years.append(finance_data)  # append the data to the list\n",
    "                            break\n",
    "                        except:\n",
    "                            print(f\"Reading data from {name} for year {year}\")\n",
    "                            finance_data = pd.read_sas(f, format='sas')\n",
    "                            finance_data_all_years.append(finance_data)  # append the data to the list\n",
    "                            break\n",
    "            break\n",
    "        except:\n",
    "            print(f\"Unable to download {url}\")\n",
    "            continue\n",
    "\n",
    "# concatenate the data frames for all years into a single data frame\n",
    "all_years_finance = pd.concat(finance_data_all_years, ignore_index=True)\n",
    " \n",
    "print(all_years_finance)\n"
   ]
  },
  {
   "cell_type": "code",
   "execution_count": 218,
   "id": "36bee998",
   "metadata": {
    "scrolled": true
   },
   "outputs": [
    {
     "name": "stdout",
     "output_type": "stream",
     "text": [
      "          LEAID        CENSUSID FIPST  CONUM  CSA   CBSA  \\\n",
      "0       0100005  01504840100000    01  01095    N  10700   \n",
      "1       0100006  01504800100000    01  01095    N  10700   \n",
      "2       0100007  01503740100000    01  01073  142  13820   \n",
      "3       0100008  01504530100000    01  01089  290  26620   \n",
      "4       0100011  01503710100000    01  01073  142  13820   \n",
      "...         ...             ...   ...    ...  ...    ...   \n",
      "222725  5680252               N    56  56005    N  23940   \n",
      "222726  5680253               N    56  56025    N  16220   \n",
      "222727  5680254               N    56  56013    N  40180   \n",
      "222728  5680255               N    56  32005  456  23820   \n",
      "222729  5680256               N    56  56029    N      N   \n",
      "\n",
      "                                                     NAME   STNAME STABBR  \\\n",
      "0                                        ALBERTVILLE CITY  Alabama     AL   \n",
      "1                                         MARSHALL COUNTY  Alabama     AL   \n",
      "2                                             HOOVER CITY  Alabama     AL   \n",
      "3                                            MADISON CITY  Alabama     AL   \n",
      "4                                              LEEDS CITY  Alabama     AL   \n",
      "...                                                   ...      ...    ...   \n",
      "222725  Youth Emergency Services Inc. - Administration...  Wyoming     WY   \n",
      "222726  Wyoming Behavioral Institute - Administration ...  Wyoming     WY   \n",
      "222727         Saint Stephen's Indian School Admin Office  Wyoming     WY   \n",
      "222728                                   Right of Passage  Wyoming     WY   \n",
      "222729  Northwest Wyoming Treatment Center - Administr...  Wyoming     WY   \n",
      "\n",
      "       SCHLEV  ... FL_AR3 FL_AR4 FL_AR5 FL_AR6 FL_AE1 FL_AE2  FL_AE3  FL_AE4  \\\n",
      "0          03  ...    NaN    NaN    NaN    NaN    NaN    NaN     NaN     NaN   \n",
      "1          03  ...    NaN    NaN    NaN    NaN    NaN    NaN     NaN     NaN   \n",
      "2          03  ...    NaN    NaN    NaN    NaN    NaN    NaN     NaN     NaN   \n",
      "3          03  ...    NaN    NaN    NaN    NaN    NaN    NaN     NaN     NaN   \n",
      "4          03  ...    NaN    NaN    NaN    NaN    NaN    NaN     NaN     NaN   \n",
      "...       ...  ...    ...    ...    ...    ...    ...    ...     ...     ...   \n",
      "222725     01  ...      N      N      N      N      N      N       N       N   \n",
      "222726     03  ...      N      N      N      N      N      N       N       N   \n",
      "222727     03  ...      N      N      N      N      N      N       N       N   \n",
      "222728     02  ...      N      N      N      N      N      N       N       N   \n",
      "222729      N  ...      N      N      N      N      N      N       N       N   \n",
      "\n",
      "        FL_AE5  FL_AE6  \n",
      "0          NaN     NaN  \n",
      "1          NaN     NaN  \n",
      "2          NaN     NaN  \n",
      "3          NaN     NaN  \n",
      "4          NaN     NaN  \n",
      "...        ...     ...  \n",
      "222725       N       N  \n",
      "222726       N       N  \n",
      "222727       N       N  \n",
      "222728       N       N  \n",
      "222729       N       N  \n",
      "\n",
      "[222730 rows x 314 columns]\n"
     ]
    }
   ],
   "source": [
    "# clean up nces data\n",
    "\n",
    "# This Function converts from byte to normal sting \n",
    "all_years_finance = all_years_finance.applymap(lambda x: x.decode() if isinstance(x, bytes) else x)  \n",
    "\n",
    "finance = all_years_finance\n",
    "\n",
    "print(finance)"
   ]
  },
  {
   "cell_type": "markdown",
   "id": "213f6774",
   "metadata": {},
   "source": [
    "## Drop Finance Columns\n",
    "\n",
    "The following code drops uncessecarry finance columns. This data set contains total revenue recieved for each school district at the Federal level, state level, and local level. It then has specific sub columns that go into detail on where revenue comes from at each level. https://nces.ed.gov/ccd/pdf/2022304_FY20F33_Documentation.pdf. \n",
    "- Fl variables are weighting variables that are not important for our purposes\n",
    "- AR variables relate to funding from the CARES act passed during the COVID-19 pandemic, but are only reflected in the most recent data\n",
    "- AE variables also realate to CARES act funding \n",
    "- SE is special education funding, however it seems to not be very well recorded as there is an abundance of missing data\n",
    "\n",
    "There is certain data in the data set that has a value of -2. A -2 indicates not applicable to the data. This mostly arrises for issues of tax revenue. For instance if a state does not have a sales tax then -2 would be reflected in that information for all states without a sales tax. It should be ok to replace -2 with 0 values since the lack of that revenue source will not change the toatal revenue. We drop V33 due to issues with data quality, and because we are able to obtain enrollment information from race and sex data. C16- C18 are dropped due to being only in some of the earlier files, and not having a signifcant impact. "
   ]
  },
  {
   "cell_type": "code",
   "execution_count": 219,
   "id": "2568850f",
   "metadata": {},
   "outputs": [],
   "source": [
    "#finance = finance.drop(columns=[])\n",
    "finance = finance.drop(columns=[col for col in finance.columns if col.startswith('FL')])\n",
    "finance = finance.drop(columns=[col for col in finance.columns if col.startswith('AR')])\n",
    "finance = finance.drop(columns=[col for col in finance.columns if col.startswith('AE')])\n",
    "finance = finance.drop(columns=[col for col in finance.columns if col.startswith('SE')])\n",
    "finance = finance.replace(-2, 0)\n",
    "finance = finance.drop(columns=['C16','C17','C18','MEMBERSCH','V33','HR1','HE1','HE2','WEIGHT','MEMBERSCH','V95','V02','K14','CE1','CE2','CE3','C22','C23','C26','C27','B14'])\n"
   ]
  },
  {
   "cell_type": "code",
   "execution_count": 220,
   "id": "f059acaf",
   "metadata": {},
   "outputs": [],
   "source": [
    "var_dict = {\n",
    "    'LEAID': 'LEAID',\n",
    "    'CENSUSID': 'CENSUS BUREAU 14-DIGIT GOVERNMENT ID',\n",
    "    'FIPST': 'AMERICAN NATIONAL STANDARDS INSTITUTE (ANSI) STATE CODE',\n",
    "    'CONUM': 'AMERICAN NATIONAL STANDARDS INSTITUTE (ANSI) COUNTY CODE',\n",
    "    'CSA': 'CONSOLIDATED STATISTICAL AREA',\n",
    "    'CBSA': 'CORE-BASED STATISTICAL AREA',\n",
    "    'NAME': 'NAME OF LOCAL EDUCATION AGENCY',\n",
    "    'STNAME': 'STATE NAME',\n",
    "    'STABBR': 'STATE ABBREVIATION',\n",
    "    'SCHLEV': 'SCHOOL-LEVEL CODE',\n",
    "    'AGCHRT': 'AGENCY CHARTER CODE',\n",
    "    'YEAR': 'YEAR',\n",
    "    'CCDNF': 'COMMON CORE OF DATA (CCD) AGENCY NONFISCAL FILE MATCH',\n",
    "    'CENFILE': 'CENSUS BUREAU FISCAL FILE MATCH',\n",
    "    'GSLO': 'AGENCY LOW GRADE OFFERED',\n",
    "    'GSHI': 'AGENCY HIGH GRADE OFFERED',\n",
    "    'MEMBERSCH': 'FALL MEMBERSHIP - SCHOOL UNIVERSE',\n",
    "    'TOTALREV': 'TOTAL REVENUE',\n",
    "    'TFEDREV': 'TOTAL FEDERAL REVENUE',\n",
    "    'C14': 'FEDERAL REVENUE - THRU STATE - TITLE I',\n",
    "    'C15': 'FEDERAL REVENUE - THRU STATE - INDIVIDUALS WITH DISABILITIES EDUCATION ACT (IDEA)',\n",
    "    'C19': 'FEDERAL REVENUE - THRU STATE - VOCATIONAL AND TECH EDUCATION',\n",
    "    'C22': 'FEDERAL REVENUE - THRU STATE - SUPPORTING EFFECTIVE INSTRUCTION',\n",
    "    'C23': 'FEDERAL REVENUE - THRU STATE - STUDENT SUPPORT AND ACADEMIC ENRICHMENT',\n",
    "    'C26': 'FEDERAL REVENUE - THRU STATE - 21ST CENTURY LEARNING CENTERS',\n",
    "    'C27': 'FEDERAL REVENUE - THRU STATE - RURAL AND LOW-INCOME SCHOOL PROGRAM',\n",
    "    'B11': 'FEDERAL REVENUE - THRU STATE - BILINGUAL EDUCATION',\n",
    "    'C20': 'FEDERAL REVENUE - THRU STATE - OTHER',\n",
    "    'C25': 'FEDERAL REVENUE - THRU STATE - CHILD NUTRITION ACT',\n",
    "    'C36': 'FEDERAL REVENUE - NONSPECIFIED',\n",
    "    'B10': 'FEDERAL REVENUE - DIRECT - IMPACT AID',\n",
    "    'B12': 'FEDERAL REVENUE - DIRECT - INDIAN EDUCATION',\n",
    "    'B14': 'FEDERAL REVENUE - DIRECT - SMALL, RURAL SCHOOL ACHIEVEMENT PROGRAM',\n",
    "    'B13': 'FEDERAL REVENUE - DIRECT - OTHER',\n",
    "    'TSTREV': 'TOTAL STATE REVENUE',\n",
    "    'C01': 'STATE REVENUE - GENERAL FORMULA ASSISTANCE',\n",
    "    'C04': 'STATE REVENUE - STAFF IMPROVEMENT PROGRAMS',\n",
    "    'C05': 'STATE REVENUE - SPECIAL EDUCATION PROGRAMS',\n",
    "    'C06': 'STATE REVENUE - COMPENSATORY AND BASIC SKILLS PROGRAMS',\n",
    "    'C07': 'STATE REVENUE - BILINGUAL EDUCATION PROGRAMS',\n",
    "    'C08': 'STATE REVENUE - GIFTED AND TALENTED PROGRAMS',\n",
    "    'C09': 'STATE REVENUE - VOCATIONAL EDUCATION PROGRAMS',\n",
    "    'C10': 'STATE REVENUE - SCHOOL LUNCH PROGRAMS',\n",
    "    'C11': 'STATE REVENUE - CAPITAL OUTLAY AND DEBT SERVICES PROGRAMS',\n",
    "    'C12': 'STATE REVENUE - TRANSPORTATION PROGRAMS',\n",
    "    'C13': 'STATE REVENUE - OTHER PROGRAMS',\n",
    "    'C35': 'STATE REVENUE - NONSPECIFIED',\n",
    "    'C38': 'STATE REVENUE ON BEHALF - EMPLOYEE BENEFITS',\n",
    "    'C39': 'STATE REVENUE ON BEHALF - NOT EMPLOYEE BENEFITS',\n",
    "    'TLOCREV': 'TOTAL LOCAL REVENUE',\n",
    "    'T02': 'LOCAL REVENUE - PARENT GOVERNMENT CONTRIBUTIONS (DEPENDENT SCHOOL SYSTEMS)',\n",
    "    'T06': 'LOCAL REVENUE - PROPERTY TAXES',\n",
    "    'T09': 'LOCAL REVENUE - GENERAL SALES TAXES',\n",
    "    'T15': 'LOCAL REVENUE - PUBLIC UTILITY TAXES',\n",
    "    'T40': 'LOCAL REVENUE - INDIVIDUAL AND CORPORATE INCOME TAXES',\n",
    "    'T99': 'LOCAL REVENUE - ALL OTHER TAXES',\n",
    "    'D11': 'LOCAL REVENUE - FROM OTHER SCHOOL SYSTEMS',\n",
    "    'D23': 'LOCAL REVENUE - FROM CITIES AND COUNTIES',\n",
    "    'A07': 'LOCAL REVENUE - TUITION FEES FROM PUPILS AND PARENTS',\n",
    "    'A08': 'LOCAL REVENUE - TRANSPORTATION FEES FROM PUPILS AND PARENTS',\n",
    "    'A09': 'LOCAL REVENUE - SCHOOL LUNCH',\n",
    "    'A11': 'LOCAL REVENUE - TEXTBOOK SALES AND RENTALS',\n",
    "    'A13': 'LOCAL REVENUE - DISTRICT ACTIVITY RECEIPTS',\n",
    "    'A15': 'LOCAL REVENUE - STUDENTS FEES, NONSPECIFIED',\n",
    "    'A20': 'LOCAL REVENUE - OTHER SALES AND SERVICES',\n",
    "    'A40': 'LOCAL REVENUE - RENTS AND ROYALTIES',\n",
    "    'U11': 'LOCAL REVENUE - SALE OF PROPERTY',\n",
    "    'U22': 'LOCAL REVENUE - INTEREST EARNINGS',\n",
    "    'U30': 'LOCAL REVENUE - FINES AND FORFEITS',\n",
    "    'U50': 'LOCAL REVENUE - PRIVATE CONTRIBUTIONS',\n",
    "    'U97': 'LOCAL REVENUE - MISCELLANEOUS',\n",
    "    'C24': 'NCES LOCAL REVENUE, CENSUS BUREAU STATE REVENUE',\n",
    "    'TOTALEXP': 'TOTAL EXPENDITURES',\n",
    "    'TCURELSC': 'TOTAL CURRENT EXPENDITURES FOR ELEMENTARY/SECONDARY EDUCATION',\n",
    "    'TCURINST': 'TOTAL CURRENT EXPENDITURES - INSTRUCTION',\n",
    "    'E13': 'CURRENT EXPENDITURES - INSTRUCTION',\n",
    "    'V91': 'PAYMENTS TO PRIVATE SCHOOLS',\n",
    "    'V92': 'PAYMENTS TO CHARTER SCHOOLS',\n",
    "    'TCURSSVC': 'TOTAL CURRENT EXPENDITURES - SUPPORT SERVICES',\n",
    "    'E17': 'CURRENT EXPENDITURES - SUPPORT SERVICES - PUPILS',\n",
    "    'E07': 'CURRENT EXPENDITURES - SUPPORT SERVICES - INSTRUCTIONAL STAFF',\n",
    "    'E08': 'CURRENT EXPENDITURES - SUPPORT SERVICES - GENERAL ADMINISTRATION',\n",
    "    'E09': 'CURRENT EXPENDITURES - SUPPORT SERVICES - SCHOOL ADMINISTRATION',\n",
    "    'V40': 'CURRENT EXPENDITURES - SUPPORT SERVICES - OPERATION AND MAINTENANCE OF PLANT',\n",
    "    'V45': 'CURRENT EXPENDITURES - SUPPORT SERVICES - STUDENT TRANSPORTATION',\n",
    "    'V90': 'CURRENT EXPENDITURES - SUPPORT SERVICES - BUSINESS/CENTRAL/OTHER',\n",
    "    'V85': 'CURRENT EXPENDITURES - SUPPORT SERVICES NONSPECIFIED',\n",
    "    'TCUROTH': 'TOTAL CURRENT EXPENDITURES - OTHER ELEMENTARY/SECONDARY',\n",
    "    'E11': 'CURRENT EXPENDITURES - FOOD SERVICES',\n",
    "    'V60': 'CURRENT EXPENDITURES - ENTERPRISE OPERATIONS',\n",
    "    'V65': 'CURRENT EXPENDITURES - OTHER ELEMENTARY/SECONDARY',\n",
    "    'TNONELSE': 'TOTAL NON-ELEMENTARY/SECONDARY EXPENDITURES',\n",
    "    'V70': 'NON- ELEMENTARY/SECONDARY EXPENDITURES - COMMUNITY SERVICES',\n",
    "    'V75': 'NON- ELEMENTARY/SECONDARY EXPENDITURES - ADULT EDUCATION',\n",
    "    'V80': 'NON- ELEMENTARY/SECONDARY EXPENDITURES - OTHER',\n",
    "    'TCAPOUT': 'TOTAL CAPITAL OUTLAY EXPENDITURES',\n",
    "    'F12': 'CAPITAL OUTLAY - CONSTRUCTION',\n",
    "    'G15': 'CAPITAL OUTLAY - LAND AND EXISTING STRUCTURES',\n",
    "    'K09': 'CAPITAL OUTLAY - INSTRUCTIONAL EQUIPMENT',\n",
    "    'K10': 'CAPITAL OUTLAY - OTHER EQUIPMENT',\n",
    "    'K11': 'CAPITAL OUTLAY - NONSPECIFIED EQUIPMENT',\n",
    "    'L12': 'PAYMENTS TO STATE GOVERNMENTS',\n",
    "    'M12': 'PAYMENTS TO LOCAL GOVERNMENTS',\n",
    "    'Q11': 'PAYMENTS TO OTHER SCHOOL SYSTEMS',\n",
    "    'I86': 'INTEREST ON DEBT',\n",
    "    'Z32': 'TOTAL SALARIES',\n",
    "    'Z33': 'SALARIES - INSTRUCTION',\n",
    "    'Z35': 'TEACHER SALARIES - REGULAR EDUCATION PROGRAMS',\n",
    "    'Z36': 'TEACHER SALARIES - SPECIAL EDUCATION PROGRAMS',\n",
    "    'Z37': 'TEACHER SALARIES - VOCATIONAL EDUCATION PROGRAMS',\n",
    "    'Z38': 'TEACHER SALARIES - OTHER EDUCATION PROGRAMS',\n",
    "    'V11': 'SALARIES - SUPPORT SERVICES - PUPILS',\n",
    "    'V13': 'SALARIES - SUPPORT SERVICES - INSTRUCTIONAL STAFF',\n",
    "    'V15': 'SALARIES - SUPPORT SERVICES - GENERAL ADMINISTRATION',\n",
    "    'V17': 'SALARIES - SUPPORT SERVICES - SCHOOL ADMINISTRATION',\n",
    "    'V21': 'SALARIES - SUPPORT SERVICES - OPERATION AND MAINTENANCE OF PLANT',\n",
    "    'V23': 'SALARIES - SUPPORT SERVICES - STUDENT TRANSPORTATION',\n",
    "    'V37': 'SALARIES - SUPPORT SERVICES - BUSINESS/CENTRAL/OTHER',\n",
    "    'V29': 'SALARIES - FOOD SERVICES',\n",
    "    'Z34': 'TOTAL EMPLOYEE BENEFITS',\n",
    "    'V10': 'EMPLOYEE BENEFITS - INSTRUCTION',\n",
    "    'V12': 'EMPLOYEE BENEFITS - SUPPORT SERVICES - PUPILS',\n",
    "    'V14': 'EMPLOYEE BENEFITS - SUPPORT SERVICES - INSTRUCTIONAL STAFF',\n",
    "    'V16': 'EMPLOYEE BENEFITS - SUPPORT SERVICES - GENERAL ADMINISTRATION',\n",
    "    'V18': 'EMPLOYEE BENEFITS - SUPPORT SERVICES - SCHOOL ADMINISTRATION',\n",
    "    'V22': 'EMPLOYEE BENEFITS - SUPPORT SERVICES - OPERATION AND MAINTENANCE OF PLANT',\n",
    "    'V24': 'EMPLOYEE BENEFITS - SUPPORT SERVICES - STUDENT TRANSPORTATION',\n",
    "    'V38': 'EMPLOYEE BENEFITS - SUPPORT SERVICES - BUSINESS/CENTRAL/OTHER',\n",
    "    'V30': 'EMPLOYEE BENEFITS - FOOD SERVICES',\n",
    "    'V32': 'EMPLOYEE BENEFITS - ENTERPRISE OPERATIONS',\n",
    "    'V93': 'TEXTBOOKS',\n",
    "    '_19H': 'LONG TERM DEBT - OUTSTANDING AT BEGINNING OF FISCAL YEAR',\n",
    "    '_21F': 'LONG TERM DEBT - ISSUED DURING FISCAL YEAR',\n",
    "    '_31F': 'LONG TERM DEBT - RETIRED DURING FISCAL YEAR',\n",
    "    '_41F': 'LONG TERM DEBT - OUTSTANDING AT END OF FISCAL YEAR',\n",
    "    '_61V': 'SHORT TERM DEBT - OUTSTANDING AT BEGINNING OF FISCAL YEAR',\n",
    "    '_66V': 'SHORT TERM DEBT - OUTSTANDING AT END OF FISCAL YEAR',\n",
    "    'W01': 'ASSETS - SINKING FUND',\n",
    "    'W31': 'ASSETS - BOND FUND',\n",
    "    'W61': 'ASSETS - OTHER FUNDS',\n",
    "    'V95': 'UTILITIES AND ENERGY SERVICES',\n",
    "    'V02': 'TECHNOLOGY-RELATED SUPPLIES AND PURCHASED SERVICES',\n",
    "    'K14': 'TECHNOLOGY-RELATED EQUIPMENT'\n",
    "}\n",
    "\n",
    "finance = finance.rename(columns=var_dict)\n",
    "\n"
   ]
  },
  {
   "cell_type": "code",
   "execution_count": 221,
   "id": "3408fcad",
   "metadata": {},
   "outputs": [
    {
     "name": "stdout",
     "output_type": "stream",
     "text": [
      "0         2009\n",
      "1         2009\n",
      "2         2009\n",
      "3         2009\n",
      "4         2009\n",
      "          ... \n",
      "222725    2020\n",
      "222726    2020\n",
      "222727    2020\n",
      "222728    2020\n",
      "222729    2020\n",
      "Name: YEAR, Length: 222730, dtype: object\n"
     ]
    }
   ],
   "source": [
    "finance['YEAR'] = finance['YEAR'].apply(lambda x: '20' + x)\n",
    "print(finance[\"YEAR\"])"
   ]
  },
  {
   "cell_type": "markdown",
   "id": "fd73cdb2",
   "metadata": {},
   "source": [
    "### Identify Missing Values\n",
    "The following few cells allowed me to identify missing values in the fiance data fraame"
   ]
  },
  {
   "cell_type": "code",
   "execution_count": 222,
   "id": "0619ac38",
   "metadata": {
    "scrolled": true
   },
   "outputs": [
    {
     "name": "stdout",
     "output_type": "stream",
     "text": [
      "Columns with negative values: Index(['TOTAL REVENUE', 'TOTAL FEDERAL REVENUE',\n",
      "       'FEDERAL REVENUE - THRU STATE - TITLE I',\n",
      "       'FEDERAL REVENUE - THRU STATE - INDIVIDUALS WITH DISABILITIES EDUCATION ACT (IDEA)',\n",
      "       'FEDERAL REVENUE - THRU STATE - VOCATIONAL AND TECH EDUCATION',\n",
      "       'FEDERAL REVENUE - THRU STATE - BILINGUAL EDUCATION',\n",
      "       'FEDERAL REVENUE - THRU STATE - OTHER',\n",
      "       'FEDERAL REVENUE - THRU STATE - CHILD NUTRITION ACT',\n",
      "       'FEDERAL REVENUE - NONSPECIFIED',\n",
      "       'FEDERAL REVENUE - DIRECT - IMPACT AID',\n",
      "       ...\n",
      "       'TEXTBOOKS', 'LONG TERM DEBT - OUTSTANDING AT BEGINNING OF FISCAL YEAR',\n",
      "       'LONG TERM DEBT - ISSUED DURING FISCAL YEAR',\n",
      "       'LONG TERM DEBT - RETIRED DURING FISCAL YEAR',\n",
      "       'LONG TERM DEBT - OUTSTANDING AT END OF FISCAL YEAR',\n",
      "       'SHORT TERM DEBT - OUTSTANDING AT BEGINNING OF FISCAL YEAR',\n",
      "       'SHORT TERM DEBT - OUTSTANDING AT END OF FISCAL YEAR',\n",
      "       'ASSETS - SINKING FUND', 'ASSETS - BOND FUND', 'ASSETS - OTHER FUNDS'],\n",
      "      dtype='object', length=118)\n",
      "Number of negative values per column:\n",
      " TOTAL REVENUE                                                                        6545\n",
      "TOTAL FEDERAL REVENUE                                                                6545\n",
      "FEDERAL REVENUE - THRU STATE - TITLE I                                               6545\n",
      "FEDERAL REVENUE - THRU STATE - INDIVIDUALS WITH DISABILITIES EDUCATION ACT (IDEA)    6545\n",
      "FEDERAL REVENUE - THRU STATE - VOCATIONAL AND TECH EDUCATION                         6545\n",
      "                                                                                     ... \n",
      "SHORT TERM DEBT - OUTSTANDING AT BEGINNING OF FISCAL YEAR                            6545\n",
      "SHORT TERM DEBT - OUTSTANDING AT END OF FISCAL YEAR                                  6545\n",
      "ASSETS - SINKING FUND                                                                6545\n",
      "ASSETS - BOND FUND                                                                   6545\n",
      "ASSETS - OTHER FUNDS                                                                 6545\n",
      "Length: 118, dtype: int64\n",
      "Number of negative values per column:\n",
      " TOTAL REVENUE                                                                        6545\n",
      "TOTAL FEDERAL REVENUE                                                                6545\n",
      "FEDERAL REVENUE - THRU STATE - TITLE I                                               6545\n",
      "FEDERAL REVENUE - THRU STATE - INDIVIDUALS WITH DISABILITIES EDUCATION ACT (IDEA)    6545\n",
      "FEDERAL REVENUE - THRU STATE - VOCATIONAL AND TECH EDUCATION                         6545\n",
      "                                                                                     ... \n",
      "SHORT TERM DEBT - OUTSTANDING AT BEGINNING OF FISCAL YEAR                            6545\n",
      "SHORT TERM DEBT - OUTSTANDING AT END OF FISCAL YEAR                                  6545\n",
      "ASSETS - SINKING FUND                                                                6545\n",
      "ASSETS - BOND FUND                                                                   6545\n",
      "ASSETS - OTHER FUNDS                                                                 6545\n",
      "Length: 118, dtype: int64\n"
     ]
    }
   ],
   "source": [
    "import numpy as np\n",
    "\n",
    "numeric_cols = finance.select_dtypes(include=[np.number]).columns  # exclude non-numeric columns\n",
    "neg_cols = finance[numeric_cols].columns[(finance[numeric_cols] < 0).any()]\n",
    "\n",
    "# Count number of negative values in each negative column\n",
    "neg_counts = finance[neg_cols].lt(0).sum()\n",
    "\n",
    "# Display results\n",
    "print(\"Columns with negative values:\", neg_cols)\n",
    "print(\"Number of negative values per column:\\n\", neg_counts)\n",
    "print(\"Number of negative values per column:\\n\", neg_counts)"
   ]
  },
  {
   "cell_type": "code",
   "execution_count": 223,
   "id": "2d2ed1fa",
   "metadata": {},
   "outputs": [
    {
     "name": "stdout",
     "output_type": "stream",
     "text": [
      "Number of rows with negative values: 6545\n"
     ]
    }
   ],
   "source": [
    "import pandas as pd\n",
    "import numpy as np\n",
    "\n",
    "# Find rows with negative values\n",
    "numeric_cols = finance.select_dtypes(include=[np.number]).columns  # exclude non-numeric columns\n",
    "neg_rows = finance[numeric_cols].lt(0).any(axis=1)\n",
    "\n",
    "# Count number of rows with negative values\n",
    "num_neg_rows = len(finance[neg_rows])\n",
    "\n",
    "# Display result\n",
    "print(\"Number of rows with negative values:\", num_neg_rows)"
   ]
  },
  {
   "cell_type": "code",
   "execution_count": 224,
   "id": "1c8e210a",
   "metadata": {},
   "outputs": [
    {
     "name": "stdout",
     "output_type": "stream",
     "text": [
      "Finance dataframe with rows containing negative values removed:\n",
      "           LEAID CENSUS BUREAU 14-DIGIT GOVERNMENT ID  \\\n",
      "0       0100005                       01504840100000   \n",
      "1       0100006                       01504800100000   \n",
      "2       0100007                       01503740100000   \n",
      "3       0100008                       01504530100000   \n",
      "4       0100011                       01503710100000   \n",
      "...         ...                                  ...   \n",
      "222725  5680252                                    N   \n",
      "222726  5680253                                    N   \n",
      "222727  5680254                                    N   \n",
      "222728  5680255                                    N   \n",
      "222729  5680256                                    N   \n",
      "\n",
      "       AMERICAN NATIONAL STANDARDS INSTITUTE (ANSI) STATE CODE  \\\n",
      "0                                                      01        \n",
      "1                                                      01        \n",
      "2                                                      01        \n",
      "3                                                      01        \n",
      "4                                                      01        \n",
      "...                                                   ...        \n",
      "222725                                                 56        \n",
      "222726                                                 56        \n",
      "222727                                                 56        \n",
      "222728                                                 56        \n",
      "222729                                                 56        \n",
      "\n",
      "       AMERICAN NATIONAL STANDARDS INSTITUTE (ANSI) COUNTY CODE  \\\n",
      "0                                                   01095         \n",
      "1                                                   01095         \n",
      "2                                                   01073         \n",
      "3                                                   01089         \n",
      "4                                                   01073         \n",
      "...                                                   ...         \n",
      "222725                                              56005         \n",
      "222726                                              56025         \n",
      "222727                                              56013         \n",
      "222728                                              32005         \n",
      "222729                                              56029         \n",
      "\n",
      "       CONSOLIDATED STATISTICAL AREA CORE-BASED STATISTICAL AREA  \\\n",
      "0                                  N                       10700   \n",
      "1                                  N                       10700   \n",
      "2                                142                       13820   \n",
      "3                                290                       26620   \n",
      "4                                142                       13820   \n",
      "...                              ...                         ...   \n",
      "222725                             N                       23940   \n",
      "222726                             N                       16220   \n",
      "222727                             N                       40180   \n",
      "222728                           456                       23820   \n",
      "222729                             N                           N   \n",
      "\n",
      "                           NAME OF LOCAL EDUCATION AGENCY STATE NAME  \\\n",
      "0                                        ALBERTVILLE CITY    Alabama   \n",
      "1                                         MARSHALL COUNTY    Alabama   \n",
      "2                                             HOOVER CITY    Alabama   \n",
      "3                                            MADISON CITY    Alabama   \n",
      "4                                              LEEDS CITY    Alabama   \n",
      "...                                                   ...        ...   \n",
      "222725  Youth Emergency Services Inc. - Administration...    Wyoming   \n",
      "222726  Wyoming Behavioral Institute - Administration ...    Wyoming   \n",
      "222727         Saint Stephen's Indian School Admin Office    Wyoming   \n",
      "222728                                   Right of Passage    Wyoming   \n",
      "222729  Northwest Wyoming Treatment Center - Administr...    Wyoming   \n",
      "\n",
      "       STATE ABBREVIATION SCHOOL-LEVEL CODE  ... TEXTBOOKS  \\\n",
      "0                      AL                03  ...  101000.0   \n",
      "1                      AL                03  ...  173000.0   \n",
      "2                      AL                03  ...  753000.0   \n",
      "3                      AL                03  ...  402000.0   \n",
      "4                      AL                03  ...  108000.0   \n",
      "...                   ...               ...  ...       ...   \n",
      "222725                 WY                01  ...       0.0   \n",
      "222726                 WY                03  ...       0.0   \n",
      "222727                 WY                03  ...       0.0   \n",
      "222728                 WY                02  ...       0.0   \n",
      "222729                 WY                 N  ...       0.0   \n",
      "\n",
      "       LONG TERM DEBT - OUTSTANDING AT BEGINNING OF FISCAL YEAR  \\\n",
      "0                                              26072000.0         \n",
      "1                                              23464000.0         \n",
      "2                                             310573000.0         \n",
      "3                                              46416000.0         \n",
      "4                                                238000.0         \n",
      "...                                                   ...         \n",
      "222725                                                0.0         \n",
      "222726                                                0.0         \n",
      "222727                                                0.0         \n",
      "222728                                                0.0         \n",
      "222729                                                0.0         \n",
      "\n",
      "       LONG TERM DEBT - ISSUED DURING FISCAL YEAR  \\\n",
      "0                                             0.0   \n",
      "1                                             0.0   \n",
      "2                                             0.0   \n",
      "3                                      53520000.0   \n",
      "4                                        176000.0   \n",
      "...                                           ...   \n",
      "222725                                        0.0   \n",
      "222726                                        0.0   \n",
      "222727                                        0.0   \n",
      "222728                                        0.0   \n",
      "222729                                        0.0   \n",
      "\n",
      "       LONG TERM DEBT - RETIRED DURING FISCAL YEAR  \\\n",
      "0                                         360000.0   \n",
      "1                                        1435000.0   \n",
      "2                                        6805000.0   \n",
      "3                                       29746000.0   \n",
      "4                                         231000.0   \n",
      "...                                            ...   \n",
      "222725                                         0.0   \n",
      "222726                                         0.0   \n",
      "222727                                         0.0   \n",
      "222728                                         0.0   \n",
      "222729                                         0.0   \n",
      "\n",
      "       LONG TERM DEBT - OUTSTANDING AT END OF FISCAL YEAR  \\\n",
      "0                                              25712000.0   \n",
      "1                                              22029000.0   \n",
      "2                                             303768000.0   \n",
      "3                                              70190000.0   \n",
      "4                                                183000.0   \n",
      "...                                                   ...   \n",
      "222725                                                0.0   \n",
      "222726                                                0.0   \n",
      "222727                                                0.0   \n",
      "222728                                                0.0   \n",
      "222729                                                0.0   \n",
      "\n",
      "       SHORT TERM DEBT - OUTSTANDING AT BEGINNING OF FISCAL YEAR  \\\n",
      "0                                                     0.0          \n",
      "1                                                     0.0          \n",
      "2                                                     0.0          \n",
      "3                                                     0.0          \n",
      "4                                                     0.0          \n",
      "...                                                   ...          \n",
      "222725                                                0.0          \n",
      "222726                                                0.0          \n",
      "222727                                                0.0          \n",
      "222728                                                0.0          \n",
      "222729                                                0.0          \n",
      "\n",
      "        SHORT TERM DEBT - OUTSTANDING AT END OF FISCAL YEAR  \\\n",
      "0                                                     0.0     \n",
      "1                                                     0.0     \n",
      "2                                                     0.0     \n",
      "3                                                     0.0     \n",
      "4                                                     0.0     \n",
      "...                                                   ...     \n",
      "222725                                                0.0     \n",
      "222726                                                0.0     \n",
      "222727                                                0.0     \n",
      "222728                                                0.0     \n",
      "222729                                                0.0     \n",
      "\n",
      "        ASSETS - SINKING FUND  ASSETS - BOND FUND  ASSETS - OTHER FUNDS  \n",
      "0                         0.0           3000000.0             4773000.0  \n",
      "1                    901000.0           1185000.0             4179000.0  \n",
      "2                  71035000.0                 0.0            66708000.0  \n",
      "3                      7000.0          31685000.0            11982000.0  \n",
      "4                  10608000.0              3000.0              434000.0  \n",
      "...                       ...                 ...                   ...  \n",
      "222725                    0.0                 0.0                   0.0  \n",
      "222726                    0.0                 0.0                   0.0  \n",
      "222727                    0.0                 0.0                   0.0  \n",
      "222728                    0.0                 0.0                   0.0  \n",
      "222729                    0.0                 0.0                   0.0  \n",
      "\n",
      "[216185 rows x 134 columns]\n"
     ]
    }
   ],
   "source": [
    "import pandas as pd\n",
    "import numpy as np\n",
    "\n",
    "# Select only rows with non-negative values\n",
    "numeric_cols = finance.select_dtypes(include=[np.number]).columns\n",
    "pos_rows = finance[numeric_cols].ge(0).all(axis=1)\n",
    "finance = finance[pos_rows]\n",
    "\n",
    "# Display result\n",
    "print(\"Finance dataframe with rows containing negative values removed:\\n\", finance)"
   ]
  },
  {
   "cell_type": "code",
   "execution_count": 225,
   "id": "ace03cec",
   "metadata": {},
   "outputs": [
    {
     "name": "stdout",
     "output_type": "stream",
     "text": [
      "0\n"
     ]
    }
   ],
   "source": [
    "numeric_columns = finance.select_dtypes(include='number')\n",
    "\n",
    "# Count the number of cells with values less than 0\n",
    "count = (numeric_columns < 0).sum().sum()\n",
    "\n",
    "print(count)"
   ]
  },
  {
   "cell_type": "code",
   "execution_count": 226,
   "id": "2c244047",
   "metadata": {},
   "outputs": [],
   "source": [
    "#finance.to_csv(\"/Users/jduncan/Desktop/Econ 300 Final Project/Finance Data Ready For Analsis and Merge.csv\")"
   ]
  },
  {
   "cell_type": "markdown",
   "id": "95d526a7",
   "metadata": {},
   "source": [
    "# Merge Race and Sex, Poverty, and Finance Data\n",
    "The first merge is between finace and poverty data. These DF's need are not merged at the grade level, so we merge them first before merging with Test Scores and Demographic Data. "
   ]
  },
  {
   "cell_type": "code",
   "execution_count": 242,
   "id": "b706181d",
   "metadata": {},
   "outputs": [
    {
     "name": "stdout",
     "output_type": "stream",
     "text": [
      "True\n",
      "True\n",
      "True\n",
      "True\n",
      "True\n",
      "True\n"
     ]
    }
   ],
   "source": [
    "# Convert key columns to string\n",
    "demo_final['year']= demo_final['year'].astype(str)\n",
    "poverty_data['year'] = poverty_data['year'].astype(str)\n",
    "\n",
    "#print(demo_final['leaid'].apply(lambda x: isinstance(x, str)).all())\n",
    "#print(demo_final['year'].apply(lambda x: isinstance(x, str)).all())\n",
    "#print(poverty_data['year'].apply(lambda x: isinstance(x, str)).all())\n",
    "#print(poverty_data['leaid'].apply(lambda x: isinstance(x, str)).all())\n",
    "#print(finance['LEAID'].apply(lambda x: isinstance(x, str)).all())\n",
    "#print(finance['YEAR'].apply(lambda x: isinstance(x, str)).all())"
   ]
  },
  {
   "cell_type": "code",
   "execution_count": 268,
   "id": "a175366b",
   "metadata": {},
   "outputs": [
    {
     "name": "stdout",
     "output_type": "stream",
     "text": [
      "          LEAID CENSUS BUREAU 14-DIGIT GOVERNMENT ID  \\\n",
      "0       0100005                       01504840100000   \n",
      "1       0100006                       01504800100000   \n",
      "2       0100007                       01503740100000   \n",
      "3       0100008                       01504530100000   \n",
      "4       0100011                       01503710100000   \n",
      "...         ...                                  ...   \n",
      "146294  5605762                       51501900200000   \n",
      "146295  5605820                       51502200300000   \n",
      "146296  5605830                       51502000200000   \n",
      "146297  5606090                       51502300200000   \n",
      "146298  5606240                       51502200400000   \n",
      "\n",
      "       AMERICAN NATIONAL STANDARDS INSTITUTE (ANSI) STATE CODE  \\\n",
      "0                                                      01        \n",
      "1                                                      01        \n",
      "2                                                      01        \n",
      "3                                                      01        \n",
      "4                                                      01        \n",
      "...                                                   ...        \n",
      "146294                                                 56        \n",
      "146295                                                 56        \n",
      "146296                                                 56        \n",
      "146297                                                 56        \n",
      "146298                                                 56        \n",
      "\n",
      "       AMERICAN NATIONAL STANDARDS INSTITUTE (ANSI) COUNTY CODE  \\\n",
      "0                                                   01095         \n",
      "1                                                   01095         \n",
      "2                                                   01073         \n",
      "3                                                   01089         \n",
      "4                                                   01073         \n",
      "...                                                   ...         \n",
      "146294                                              56037         \n",
      "146295                                              56043         \n",
      "146296                                              56039         \n",
      "146297                                              56045         \n",
      "146298                                              56043         \n",
      "\n",
      "       CONSOLIDATED STATISTICAL AREA CORE-BASED STATISTICAL AREA  \\\n",
      "0                                  N                       10700   \n",
      "1                                  N                       10700   \n",
      "2                                142                       13820   \n",
      "3                                290                       26620   \n",
      "4                                142                       13820   \n",
      "...                              ...                         ...   \n",
      "146294                             N                       40540   \n",
      "146295                             N                           N   \n",
      "146296                             N                       27220   \n",
      "146297                             N                           N   \n",
      "146298                             N                           N   \n",
      "\n",
      "              NAME OF LOCAL EDUCATION AGENCY STATE NAME STATE ABBREVIATION  \\\n",
      "0                           ALBERTVILLE CITY    Alabama                 AL   \n",
      "1                            MARSHALL COUNTY    Alabama                 AL   \n",
      "2                                HOOVER CITY    Alabama                 AL   \n",
      "3                               MADISON CITY    Alabama                 AL   \n",
      "4                                 LEEDS CITY    Alabama                 AL   \n",
      "...                                      ...        ...                ...   \n",
      "146294  Sweetwater County School District #2    Wyoming                 WY   \n",
      "146295    Washakie County School District #2    Wyoming                 WY   \n",
      "146296       Teton County School District #1    Wyoming                 WY   \n",
      "146297      Weston County School District #7    Wyoming                 WY   \n",
      "146298    Washakie County School District #1    Wyoming                 WY   \n",
      "\n",
      "       SCHOOL-LEVEL CODE  ...  \\\n",
      "0                     03  ...   \n",
      "1                     03  ...   \n",
      "2                     03  ...   \n",
      "3                     03  ...   \n",
      "4                     03  ...   \n",
      "...                  ...  ...   \n",
      "146294                03  ...   \n",
      "146295                03  ...   \n",
      "146296                03  ...   \n",
      "146297                03  ...   \n",
      "146298                03  ...   \n",
      "\n",
      "       SHORT TERM DEBT - OUTSTANDING AT END OF FISCAL YEAR  \\\n",
      "0                                                     0.0    \n",
      "1                                                     0.0    \n",
      "2                                                     0.0    \n",
      "3                                                     0.0    \n",
      "4                                                     0.0    \n",
      "...                                                   ...    \n",
      "146294                                                0.0    \n",
      "146295                                                0.0    \n",
      "146296                                                0.0    \n",
      "146297                                                0.0    \n",
      "146298                                                0.0    \n",
      "\n",
      "       ASSETS - SINKING FUND ASSETS - BOND FUND ASSETS - OTHER FUNDS  \\\n",
      "0                        0.0          3000000.0            4773000.0   \n",
      "1                   901000.0          1185000.0            4179000.0   \n",
      "2                 71035000.0                0.0           66708000.0   \n",
      "3                     7000.0         31685000.0           11982000.0   \n",
      "4                 10608000.0             3000.0             434000.0   \n",
      "...                      ...                ...                  ...   \n",
      "146294              315000.0                0.0           16254000.0   \n",
      "146295                   0.0                0.0            2479000.0   \n",
      "146296                   0.0                0.0           21450000.0   \n",
      "146297                   0.0                0.0            2081000.0   \n",
      "146298              791000.0                0.0            9425000.0   \n",
      "\n",
      "       district_id                        district_name  year  \\\n",
      "0            00005     Albertville City School District  2009   \n",
      "1            00006      Marshall County School District  2009   \n",
      "2            00007          Hoover City School District  2009   \n",
      "3            00008         Madison City School District  2009   \n",
      "4            00011           Leeds City School District  2009   \n",
      "...            ...                                  ...   ...   \n",
      "146294       05762  Sweetwater County School District 2  2019   \n",
      "146295       05820    Washakie County School District 2  2019   \n",
      "146296       05830       Teton County School District 1  2019   \n",
      "146297       06090      Weston County School District 7  2019   \n",
      "146298       06240    Washakie County School District 1  2019   \n",
      "\n",
      "        est_population_5_17_poverty_pct    leaid  fips  \n",
      "0                              0.302567  0100005     1  \n",
      "1                              0.245909  0100006     1  \n",
      "2                              0.089509  0100007     1  \n",
      "3                              0.059267  0100008     1  \n",
      "4                              0.202518  0100011     1  \n",
      "...                                 ...      ...   ...  \n",
      "146294                         0.063956  5605762    56  \n",
      "146295                         0.133333  5605820    56  \n",
      "146296                         0.046254  5605830    56  \n",
      "146297                         0.048193  5606090    56  \n",
      "146298                         0.114286  5606240    56  \n",
      "\n",
      "[146299 rows x 140 columns]\n"
     ]
    }
   ],
   "source": [
    "finance_poverty = pd.merge(finance, poverty_data, left_on=['LEAID','YEAR'], right_on=['leaid', 'year'])\n",
    "print(finance_poverty)"
   ]
  },
  {
   "cell_type": "markdown",
   "id": "6cae863c",
   "metadata": {},
   "source": [
    "# Bring in Test Score Data \n",
    "\n",
    "\n",
    "\n"
   ]
  },
  {
   "cell_type": "markdown",
   "id": "42d3248c",
   "metadata": {},
   "source": [
    "I am still running into issues with getting the test score inforamtion to load directly from the link. So for now I am loading it directly from my computer. "
   ]
  },
  {
   "cell_type": "code",
   "execution_count": null,
   "id": "b852bd79",
   "metadata": {},
   "outputs": [],
   "source": [
    "#import pandas as pd\n",
    "#import requests\n",
    "\n",
    "#url = \"https://stacks.stanford.edu/file/druid:db586ns4974/seda_geodist_long_cs_4.1.dta\"\n",
    "\n",
    "\n",
    "#test_scores = pd.read_stata(url)"
   ]
  },
  {
   "cell_type": "code",
   "execution_count": 309,
   "id": "b57d500d",
   "metadata": {},
   "outputs": [
    {
     "name": "stdout",
     "output_type": "stream",
     "text": [
      "         fips stateabb  sedalea  \\\n",
      "0           1       AL   100002   \n",
      "1           1       AL   100002   \n",
      "2           1       AL   100002   \n",
      "3           1       AL   100002   \n",
      "4           1       AL   100002   \n",
      "...       ...      ...      ...   \n",
      "1295487    72       PR  7200030   \n",
      "1295488    72       PR  7200030   \n",
      "1295489    72       PR  7200030   \n",
      "1295490    72       PR  7200030   \n",
      "1295491    72       PR  7200030   \n",
      "\n",
      "                                               sedaleaname subject  grade  \\\n",
      "0        ALABAMA YOUTH SERVICES                        ...     mth      6   \n",
      "1        ALABAMA YOUTH SERVICES                        ...     rla      6   \n",
      "2        ALABAMA YOUTH SERVICES                        ...     mth      6   \n",
      "3        ALABAMA YOUTH SERVICES                        ...     rla      6   \n",
      "4        ALABAMA YOUTH SERVICES                        ...     mth      7   \n",
      "...                                                    ...     ...    ...   \n",
      "1295487  PUERTO RICO DEPARTMENT OF EDUCATION           ...     mth      8   \n",
      "1295488  PUERTO RICO DEPARTMENT OF EDUCATION           ...     mth      8   \n",
      "1295489  PUERTO RICO DEPARTMENT OF EDUCATION           ...     mth      8   \n",
      "1295490  PUERTO RICO DEPARTMENT OF EDUCATION           ...     mth      8   \n",
      "1295491  PUERTO RICO DEPARTMENT OF EDUCATION           ...     mth      8   \n",
      "\n",
      "         year  gcs_mn_all  gcs_mnse_all  totgyb_all  ...  totgyb_whg  \\\n",
      "0        2009         NaN           NaN         3.0  ...         NaN   \n",
      "1        2009         NaN           NaN         3.0  ...         NaN   \n",
      "2        2011         NaN           NaN         4.0  ...         NaN   \n",
      "3        2011         NaN           NaN         4.0  ...         NaN   \n",
      "4        2009         NaN           NaN        13.0  ...         NaN   \n",
      "...       ...         ...           ...         ...  ...         ...   \n",
      "1295487  2014         NaN      0.064719     34569.0  ...     33875.0   \n",
      "1295488  2015         NaN      0.106953     32373.0  ...     32348.0   \n",
      "1295489  2016         NaN      0.073913     29802.0  ...     29790.0   \n",
      "1295490  2017         NaN      0.097995     27402.0  ...     27385.0   \n",
      "1295491  2018         NaN      0.068256     24473.0  ...     24453.0   \n",
      "\n",
      "         gcs_mn_wht  gcs_mnse_wht  totgyb_wht  gcs_mn_wmg  gcs_mnse_wmg  \\\n",
      "0               NaN           NaN         NaN         NaN           NaN   \n",
      "1               NaN           NaN         NaN         NaN           NaN   \n",
      "2               NaN           NaN         NaN         NaN           NaN   \n",
      "3               NaN           NaN         NaN         NaN           NaN   \n",
      "4               NaN           NaN         NaN         NaN           NaN   \n",
      "...             ...           ...         ...         ...           ...   \n",
      "1295487         NaN      0.610835        34.0         NaN      0.967212   \n",
      "1295488         NaN           NaN        18.0         NaN           NaN   \n",
      "1295489         NaN      0.783656        22.0         NaN           NaN   \n",
      "1295490         NaN      0.745845        24.0         NaN           NaN   \n",
      "1295491         NaN      0.720851        25.0         NaN      1.060733   \n",
      "\n",
      "         totgyb_wmg  gcs_mn_wng  gcs_mnse_wng  totgyb_wng  \n",
      "0               NaN         NaN           NaN         NaN  \n",
      "1               NaN         NaN           NaN         NaN  \n",
      "2               NaN         NaN           NaN         NaN  \n",
      "3               NaN         NaN           NaN         NaN  \n",
      "4               NaN         NaN           NaN         NaN  \n",
      "...             ...         ...           ...         ...  \n",
      "1295487        56.0         NaN           NaN         NaN  \n",
      "1295488        42.0         NaN           NaN         NaN  \n",
      "1295489        34.0         NaN           NaN         NaN  \n",
      "1295490        41.0         NaN           NaN         NaN  \n",
      "1295491        45.0         NaN           NaN         NaN  \n",
      "\n",
      "[1295492 rows x 61 columns]\n"
     ]
    }
   ],
   "source": [
    "test_scores = pd.read_stata(\"/Users/jduncan/Desktop/seda_geodist_long_gcs_4.1.dta\")\n",
    "\n",
    "\n",
    "\n",
    "print(test_scores)"
   ]
  },
  {
   "cell_type": "markdown",
   "id": "2d295831",
   "metadata": {},
   "source": [
    "The below code cleans up the test score data to make it mergable"
   ]
  },
  {
   "cell_type": "code",
   "execution_count": 310,
   "id": "461c2bdf",
   "metadata": {},
   "outputs": [
    {
     "name": "stdout",
     "output_type": "stream",
     "text": [
      "           LEAID YEAR_YY  YEAR\n",
      "0        0100002      09  2009\n",
      "1        0100002      09  2009\n",
      "2        0100002      11  2011\n",
      "3        0100002      11  2011\n",
      "4        0100002      09  2009\n",
      "...          ...     ...   ...\n",
      "1295487  7200030      14  2014\n",
      "1295488  7200030      15  2015\n",
      "1295489  7200030      16  2016\n",
      "1295490  7200030      17  2017\n",
      "1295491  7200030      18  2018\n",
      "\n",
      "[1295492 rows x 3 columns]\n"
     ]
    }
   ],
   "source": [
    "test_scores['LEAID']=test_scores['sedalea'].astype(str)\n",
    "test_scores['YEAR']=test_scores['year'].astype(str)\n",
    "test_scores['YEAR_YY'] = test_scores['YEAR'].str[2:]\n",
    "test_scores['fips']=test_scores['fips'].astype(str)\n",
    "test_scores['LEAID'] = test_scores['LEAID'].apply(lambda x: '0' + x if len(x) == 6 else x)\n",
    "\n",
    "print(test_scores[['LEAID', 'YEAR_YY','YEAR']])"
   ]
  },
  {
   "cell_type": "markdown",
   "id": "121b08af",
   "metadata": {},
   "source": [
    "I am only intersted in the averages for each grad leve, so we drop information on Demographic Gaps, columns containg the standard error, and sample size. "
   ]
  },
  {
   "cell_type": "code",
   "execution_count": 311,
   "id": "41e8bd01",
   "metadata": {},
   "outputs": [
    {
     "name": "stdout",
     "output_type": "stream",
     "text": [
      "           LEAID YEAR_YY  YEAR FIPS State abbreviation   SEDAID  \\\n",
      "0        0100002      09  2009    1                 AL   100002   \n",
      "1        0100002      09  2009    1                 AL   100002   \n",
      "2        0100002      11  2011    1                 AL   100002   \n",
      "3        0100002      11  2011    1                 AL   100002   \n",
      "4        0100002      09  2009    1                 AL   100002   \n",
      "...          ...     ...   ...  ...                ...      ...   \n",
      "1295487  7200030      14  2014   72                 PR  7200030   \n",
      "1295488  7200030      15  2015   72                 PR  7200030   \n",
      "1295489  7200030      16  2016   72                 PR  7200030   \n",
      "1295490  7200030      17  2017   72                 PR  7200030   \n",
      "1295491  7200030      18  2018   72                 PR  7200030   \n",
      "\n",
      "                               Name of the school district Subject  grade  \\\n",
      "0        ALABAMA YOUTH SERVICES                        ...     mth      6   \n",
      "1        ALABAMA YOUTH SERVICES                        ...     rla      6   \n",
      "2        ALABAMA YOUTH SERVICES                        ...     mth      6   \n",
      "3        ALABAMA YOUTH SERVICES                        ...     rla      6   \n",
      "4        ALABAMA YOUTH SERVICES                        ...     mth      7   \n",
      "...                                                    ...     ...    ...   \n",
      "1295487  PUERTO RICO DEPARTMENT OF EDUCATION           ...     mth      8   \n",
      "1295488  PUERTO RICO DEPARTMENT OF EDUCATION           ...     mth      8   \n",
      "1295489  PUERTO RICO DEPARTMENT OF EDUCATION           ...     mth      8   \n",
      "1295490  PUERTO RICO DEPARTMENT OF EDUCATION           ...     mth      8   \n",
      "1295491  PUERTO RICO DEPARTMENT OF EDUCATION           ...     mth      8   \n",
      "\n",
      "         year  mean_grade_all  mean_grade_asian  mean_grade_black  \\\n",
      "0        2009             NaN               NaN               NaN   \n",
      "1        2009             NaN               NaN               NaN   \n",
      "2        2011             NaN               NaN               NaN   \n",
      "3        2011             NaN               NaN               NaN   \n",
      "4        2009             NaN               NaN               NaN   \n",
      "...       ...             ...               ...               ...   \n",
      "1295487  2014             NaN               NaN               NaN   \n",
      "1295488  2015             NaN               NaN               NaN   \n",
      "1295489  2016             NaN               NaN               NaN   \n",
      "1295490  2017             NaN               NaN               NaN   \n",
      "1295491  2018             NaN               NaN               NaN   \n",
      "\n",
      "         Mean_grade_ecd  mean_grade_female  mean_grade_hispanic  \\\n",
      "0                   NaN                NaN                  NaN   \n",
      "1                   NaN                NaN                  NaN   \n",
      "2                   NaN                NaN                  NaN   \n",
      "3                   NaN                NaN                  NaN   \n",
      "4                   NaN                NaN                  NaN   \n",
      "...                 ...                ...                  ...   \n",
      "1295487             NaN                NaN                  NaN   \n",
      "1295488             NaN                NaN                  NaN   \n",
      "1295489             NaN                NaN                  NaN   \n",
      "1295490             NaN                NaN                  NaN   \n",
      "1295491             NaN                NaN                  NaN   \n",
      "\n",
      "         mean_grade_male  mean_grade_necd  mean_grade_white  \n",
      "0                    NaN              NaN               NaN  \n",
      "1                    NaN              NaN               NaN  \n",
      "2                    NaN              NaN               NaN  \n",
      "3                    NaN              NaN               NaN  \n",
      "4                    NaN              NaN               NaN  \n",
      "...                  ...              ...               ...  \n",
      "1295487              NaN              NaN               NaN  \n",
      "1295488              NaN              NaN               NaN  \n",
      "1295489              NaN              NaN               NaN  \n",
      "1295490              NaN              NaN               NaN  \n",
      "1295491              NaN              NaN               NaN  \n",
      "\n",
      "[1295492 rows x 19 columns]\n"
     ]
    }
   ],
   "source": [
    "cols_to_keep = ['LEAID','YEAR_YY','YEAR','fips', 'stateabb','sedalea', 'sedaleaname','subject','grade', 'year','gcs_mn_all' ,'gcs_mn_asn','gcs_mn_blk','gcs_mn_ecd','gcs_mn_fem','gcs_mn_hsp','gcs_mn_mal','gcs_mn_nec','gcs_mn_wht']\n",
    "\n",
    "test_scores= test_scores[cols_to_keep]\n",
    "\n",
    "seda_variables = {\n",
    "'fips': 'FIPS',\n",
    "'stateabb': 'State abbreviation',\n",
    "'sedalea': 'SEDAID',\n",
    "'sedaleaname': 'Name of the school district',\n",
    "'subject': 'Subject',\n",
    "'grade': 'grade',\n",
    "'year': 'year',\n",
    "'gcs_mn_all': 'mean_grade_all',\n",
    "'gcs_mn_asn': 'mean_grade_asian',\n",
    "'gcs_mn_blk': 'mean_grade_black',\n",
    "'gcs_mn_ecd': 'Mean_grade_ecd',\n",
    "'gcs_mn_fem': 'mean_grade_female',\n",
    "'gcs_mn_hsp': 'mean_grade_hispanic',\n",
    "'gcs_mn_mal': 'mean_grade_male',\n",
    "'gcs_mn_nec': 'mean_grade_necd',\n",
    "'gcs_mn_wht': 'mean_grade_white'\n",
    "}\n",
    "\n",
    "\n",
    "test_scores.rename(columns=seda_variables, inplace=True)\n",
    "print(test_scores)\n"
   ]
  },
  {
   "cell_type": "markdown",
   "id": "2a7ef1be",
   "metadata": {},
   "source": [
    "## Merge with Demogaphic Data\n",
    "Since test scores and Demographic Data both are unique at the grade level, we now merge these to together before beginning the final merge."
   ]
  },
  {
   "cell_type": "code",
   "execution_count": 316,
   "id": "b25505e0",
   "metadata": {},
   "outputs": [
    {
     "name": "stdout",
     "output_type": "stream",
     "text": [
      "       year_x    leaid  fips  grade  Total_Female_percent  Total_Male_percent  \\\n",
      "0        2009  0100005     1      3              0.540541            0.459459   \n",
      "1        2009  0100005     1      3              0.540541            0.459459   \n",
      "2        2009  0100005     1      4              0.514469            0.485531   \n",
      "3        2009  0100005     1      4              0.514469            0.485531   \n",
      "4        2009  0100005     1      5              0.505119            0.494881   \n",
      "...       ...      ...   ...    ...                   ...                 ...   \n",
      "917283   2018  3000656    30      6              0.500000            0.500000   \n",
      "917284   2018  3000656    30      7              0.472868            0.527132   \n",
      "917285   2018  3000656    30      7              0.472868            0.527132   \n",
      "917286   2018  3000656    30      8              0.463415            0.536585   \n",
      "917287   2018  3000656    30      8              0.463415            0.536585   \n",
      "\n",
      "        Asian_percent  Black_percent  Hispanic_percent  White_percent  ...  \\\n",
      "0            0.003003       0.018018          0.372372       0.606607  ...   \n",
      "1            0.003003       0.018018          0.372372       0.606607  ...   \n",
      "2            0.009646       0.012862          0.389068       0.585209  ...   \n",
      "3            0.009646       0.012862          0.389068       0.585209  ...   \n",
      "4            0.003413       0.017065          0.296928       0.682594  ...   \n",
      "...               ...            ...               ...            ...  ...   \n",
      "917283       0.007042       0.007042          0.105634       0.753521  ...   \n",
      "917284       0.007752       0.007752          0.116279       0.806202  ...   \n",
      "917285       0.007752       0.007752          0.116279       0.806202  ...   \n",
      "917286       0.016260       0.008130          0.097561       0.731707  ...   \n",
      "917287       0.016260       0.008130          0.097561       0.731707  ...   \n",
      "\n",
      "        year_y mean_grade_all mean_grade_asian mean_grade_black  \\\n",
      "0         2009       1.819332              NaN              NaN   \n",
      "1         2009       2.767278              NaN              NaN   \n",
      "2         2009       2.460240              NaN              NaN   \n",
      "3         2009       3.027627              NaN              NaN   \n",
      "4         2009       3.149652              NaN              NaN   \n",
      "...        ...            ...              ...              ...   \n",
      "917283    2018       4.280253              NaN              NaN   \n",
      "917284    2018       6.450071              NaN              NaN   \n",
      "917285    2018       5.810597              NaN              NaN   \n",
      "917286    2018       8.516561              NaN              NaN   \n",
      "917287    2018       7.872193              NaN              NaN   \n",
      "\n",
      "       Mean_grade_ecd mean_grade_female  mean_grade_hispanic mean_grade_male  \\\n",
      "0            1.381093          1.929697             1.400577        1.694620   \n",
      "1            2.146157          2.953109             1.882825        2.503131   \n",
      "2            1.787820          2.530979             1.954779        2.302614   \n",
      "3            1.998757          3.453474             1.781050        2.576582   \n",
      "4            2.504726          3.379453             2.066808        2.874337   \n",
      "...               ...               ...                  ...             ...   \n",
      "917283       2.931066          5.267846                  NaN        3.501029   \n",
      "917284       5.661288          6.679115                  NaN        6.527512   \n",
      "917285       5.293239          5.952651                  NaN        5.801330   \n",
      "917286       7.320284               NaN                  NaN        8.934732   \n",
      "917287       6.948612               NaN                  NaN        7.476085   \n",
      "\n",
      "       mean_grade_necd  mean_grade_white  \n",
      "0             2.952067          2.261128  \n",
      "1             4.625031          3.365038  \n",
      "2             3.832243          3.022633  \n",
      "3             4.991436          3.960613  \n",
      "4             4.375346          3.589620  \n",
      "...                ...               ...  \n",
      "917283        5.520444          4.653290  \n",
      "917284        7.413130          6.501065  \n",
      "917285        6.591672          6.001102  \n",
      "917286        9.782636          9.045485  \n",
      "917287        8.611017          8.198490  \n",
      "\n",
      "[917288 rows x 29 columns]\n"
     ]
    }
   ],
   "source": [
    "scores_demos = pd.merge(demo_final, test_scores, how='inner', left_on=['leaid','year','grade'], right_on=['LEAID','YEAR','grade'])\n",
    "print(scores_demos)"
   ]
  },
  {
   "cell_type": "markdown",
   "id": "c7a4a748",
   "metadata": {},
   "source": [
    "The main variable that we want to predict is 'mean_grade_all'. Thus here we drop any missing values for mean_grade_all. It is ok if someo of the other mean_grade variables have missing data, because later if we choose to run alnalysis on those subsets, we can drop rows with the missing data. There is far missing data in the sub categories, so it would no be ideal to drop all the rows with missing data. "
   ]
  },
  {
   "cell_type": "code",
   "execution_count": 319,
   "id": "1fc244e2",
   "metadata": {},
   "outputs": [
    {
     "name": "stdout",
     "output_type": "stream",
     "text": [
      "       year_x    leaid  fips  grade  Total_Female_percent  Total_Male_percent  \\\n",
      "0        2009  0100005     1      3              0.540541            0.459459   \n",
      "1        2009  0100005     1      3              0.540541            0.459459   \n",
      "2        2009  0100005     1      4              0.514469            0.485531   \n",
      "3        2009  0100005     1      4              0.514469            0.485531   \n",
      "4        2009  0100005     1      5              0.505119            0.494881   \n",
      "...       ...      ...   ...    ...                   ...                 ...   \n",
      "917283   2018  3000656    30      6              0.500000            0.500000   \n",
      "917284   2018  3000656    30      7              0.472868            0.527132   \n",
      "917285   2018  3000656    30      7              0.472868            0.527132   \n",
      "917286   2018  3000656    30      8              0.463415            0.536585   \n",
      "917287   2018  3000656    30      8              0.463415            0.536585   \n",
      "\n",
      "        Asian_percent  Black_percent  Hispanic_percent  White_percent  ...  \\\n",
      "0            0.003003       0.018018          0.372372       0.606607  ...   \n",
      "1            0.003003       0.018018          0.372372       0.606607  ...   \n",
      "2            0.009646       0.012862          0.389068       0.585209  ...   \n",
      "3            0.009646       0.012862          0.389068       0.585209  ...   \n",
      "4            0.003413       0.017065          0.296928       0.682594  ...   \n",
      "...               ...            ...               ...            ...  ...   \n",
      "917283       0.007042       0.007042          0.105634       0.753521  ...   \n",
      "917284       0.007752       0.007752          0.116279       0.806202  ...   \n",
      "917285       0.007752       0.007752          0.116279       0.806202  ...   \n",
      "917286       0.016260       0.008130          0.097561       0.731707  ...   \n",
      "917287       0.016260       0.008130          0.097561       0.731707  ...   \n",
      "\n",
      "        year_y mean_grade_all mean_grade_asian mean_grade_black  \\\n",
      "0         2009       1.819332              NaN              NaN   \n",
      "1         2009       2.767278              NaN              NaN   \n",
      "2         2009       2.460240              NaN              NaN   \n",
      "3         2009       3.027627              NaN              NaN   \n",
      "4         2009       3.149652              NaN              NaN   \n",
      "...        ...            ...              ...              ...   \n",
      "917283    2018       4.280253              NaN              NaN   \n",
      "917284    2018       6.450071              NaN              NaN   \n",
      "917285    2018       5.810597              NaN              NaN   \n",
      "917286    2018       8.516561              NaN              NaN   \n",
      "917287    2018       7.872193              NaN              NaN   \n",
      "\n",
      "       Mean_grade_ecd mean_grade_female  mean_grade_hispanic mean_grade_male  \\\n",
      "0            1.381093          1.929697             1.400577        1.694620   \n",
      "1            2.146157          2.953109             1.882825        2.503131   \n",
      "2            1.787820          2.530979             1.954779        2.302614   \n",
      "3            1.998757          3.453474             1.781050        2.576582   \n",
      "4            2.504726          3.379453             2.066808        2.874337   \n",
      "...               ...               ...                  ...             ...   \n",
      "917283       2.931066          5.267846                  NaN        3.501029   \n",
      "917284       5.661288          6.679115                  NaN        6.527512   \n",
      "917285       5.293239          5.952651                  NaN        5.801330   \n",
      "917286       7.320284               NaN                  NaN        8.934732   \n",
      "917287       6.948612               NaN                  NaN        7.476085   \n",
      "\n",
      "       mean_grade_necd  mean_grade_white  \n",
      "0             2.952067          2.261128  \n",
      "1             4.625031          3.365038  \n",
      "2             3.832243          3.022633  \n",
      "3             4.991436          3.960613  \n",
      "4             4.375346          3.589620  \n",
      "...                ...               ...  \n",
      "917283        5.520444          4.653290  \n",
      "917284        7.413130          6.501065  \n",
      "917285        6.591672          6.001102  \n",
      "917286        9.782636          9.045485  \n",
      "917287        8.611017          8.198490  \n",
      "\n",
      "[796670 rows x 29 columns]\n"
     ]
    }
   ],
   "source": [
    "#missing_column = scores_demos['mean_grade_all']\n",
    "\n",
    "# Select only the missing values in the column\n",
    "#missing_values = missing_column.isna()\n",
    "\n",
    "# Count the number of missing values\n",
    "#num_missing_values = missing_values.sum()\n",
    "\n",
    "#print(num_missing_values)\n",
    "\n",
    "scores_demos = scores_demos.dropna(subset=['mean_grade_all'])\n",
    "\n",
    "print(scores_demos)"
   ]
  },
  {
   "cell_type": "markdown",
   "id": "0dc791ed",
   "metadata": {},
   "source": [
    "### Final Merge\n",
    "The following Merge brings together the predictive variables (mean_test_scores), demographic data, finace data and poverty data. "
   ]
  },
  {
   "cell_type": "code",
   "execution_count": 333,
   "id": "9f05d0b3",
   "metadata": {},
   "outputs": [
    {
     "name": "stdout",
     "output_type": "stream",
     "text": [
      "        LEAID_x CENSUS BUREAU 14-DIGIT GOVERNMENT ID  \\\n",
      "0       0100005                       01504840100000   \n",
      "1       0100005                       01504840100000   \n",
      "2       0100005                       01504840100000   \n",
      "3       0100005                       01504840100000   \n",
      "4       0100005                       01504840100000   \n",
      "...         ...                                  ...   \n",
      "792859  5606240                       51502200400000   \n",
      "792860  5606240                       51502200400000   \n",
      "792861  5606240                       51502200400000   \n",
      "792862  5606240                       51502200400000   \n",
      "792863  5606240                       51502200400000   \n",
      "\n",
      "       AMERICAN NATIONAL STANDARDS INSTITUTE (ANSI) STATE CODE  \\\n",
      "0                                                      01        \n",
      "1                                                      01        \n",
      "2                                                      01        \n",
      "3                                                      01        \n",
      "4                                                      01        \n",
      "...                                                   ...        \n",
      "792859                                                 56        \n",
      "792860                                                 56        \n",
      "792861                                                 56        \n",
      "792862                                                 56        \n",
      "792863                                                 56        \n",
      "\n",
      "       AMERICAN NATIONAL STANDARDS INSTITUTE (ANSI) COUNTY CODE  \\\n",
      "0                                                   01095         \n",
      "1                                                   01095         \n",
      "2                                                   01095         \n",
      "3                                                   01095         \n",
      "4                                                   01095         \n",
      "...                                                   ...         \n",
      "792859                                              56043         \n",
      "792860                                              56043         \n",
      "792861                                              56043         \n",
      "792862                                              56043         \n",
      "792863                                              56043         \n",
      "\n",
      "       CONSOLIDATED STATISTICAL AREA CORE-BASED STATISTICAL AREA  \\\n",
      "0                                  N                       10700   \n",
      "1                                  N                       10700   \n",
      "2                                  N                       10700   \n",
      "3                                  N                       10700   \n",
      "4                                  N                       10700   \n",
      "...                              ...                         ...   \n",
      "792859                             N                           N   \n",
      "792860                             N                           N   \n",
      "792861                             N                           N   \n",
      "792862                             N                           N   \n",
      "792863                             N                           N   \n",
      "\n",
      "            NAME OF LOCAL EDUCATION AGENCY STATE NAME STATE ABBREVIATION  \\\n",
      "0                         ALBERTVILLE CITY    Alabama                 AL   \n",
      "1                         ALBERTVILLE CITY    Alabama                 AL   \n",
      "2                         ALBERTVILLE CITY    Alabama                 AL   \n",
      "3                         ALBERTVILLE CITY    Alabama                 AL   \n",
      "4                         ALBERTVILLE CITY    Alabama                 AL   \n",
      "...                                    ...        ...                ...   \n",
      "792859  Washakie County School District #1    Wyoming                 WY   \n",
      "792860  Washakie County School District #1    Wyoming                 WY   \n",
      "792861  Washakie County School District #1    Wyoming                 WY   \n",
      "792862  Washakie County School District #1    Wyoming                 WY   \n",
      "792863  Washakie County School District #1    Wyoming                 WY   \n",
      "\n",
      "       SCHOOL-LEVEL CODE  ... year_y mean_grade_all mean_grade_asian  \\\n",
      "0                     03  ...   2009       1.819332              NaN   \n",
      "1                     03  ...   2009       2.767278              NaN   \n",
      "2                     03  ...   2009       2.460240              NaN   \n",
      "3                     03  ...   2009       3.027627              NaN   \n",
      "4                     03  ...   2009       3.149652              NaN   \n",
      "...                  ...  ...    ...            ...              ...   \n",
      "792859                03  ...   2018       6.117759              NaN   \n",
      "792860                03  ...   2018       8.183166              NaN   \n",
      "792861                03  ...   2018       8.302394              NaN   \n",
      "792862                03  ...   2018       8.949664              NaN   \n",
      "792863                03  ...   2018       8.211384              NaN   \n",
      "\n",
      "       mean_grade_black Mean_grade_ecd mean_grade_female  mean_grade_hispanic  \\\n",
      "0                   NaN       1.381093          1.929697             1.400577   \n",
      "1                   NaN       2.146157          2.953109             1.882825   \n",
      "2                   NaN       1.787820          2.530979             1.954779   \n",
      "3                   NaN       1.998757          3.453474             1.781050   \n",
      "4                   NaN       2.504726          3.379453             2.066808   \n",
      "...                 ...            ...               ...                  ...   \n",
      "792859              NaN       5.657042          5.982138             6.430483   \n",
      "792860              NaN       6.917557          7.629596             7.395030   \n",
      "792861              NaN       7.222589          7.744588             7.793823   \n",
      "792862              NaN       7.835611          8.669643             6.676702   \n",
      "792863              NaN       7.394870          8.128924             6.223174   \n",
      "\n",
      "        mean_grade_male  mean_grade_necd  mean_grade_white  \n",
      "0              1.694620         2.952067          2.261128  \n",
      "1              2.503131         4.625031          3.365038  \n",
      "2              2.302614         3.832243          3.022633  \n",
      "3              2.576582         4.991436          3.960613  \n",
      "4              2.874337         4.375346          3.589620  \n",
      "...                 ...              ...               ...  \n",
      "792859         6.337475         6.451670          6.115076  \n",
      "792860         8.726394         9.250542          8.601030  \n",
      "792861         8.840021         9.224255          8.524994  \n",
      "792862         9.449031        10.045554          9.794581  \n",
      "792863         8.238468         8.990940          8.801508  \n",
      "\n",
      "[792864 rows x 167 columns]\n"
     ]
    }
   ],
   "source": [
    "scores_predictors = pd.merge(finance_poverty, scores_demos, on = ['leaid','YEAR'])\n",
    "print(scores_predictors)"
   ]
  },
  {
   "cell_type": "code",
   "execution_count": 327,
   "id": "3733633f",
   "metadata": {},
   "outputs": [],
   "source": [
    "scores_predictors.to_csv(\"/Users/jduncan/Desktop/Econ 300 Final Project/Scores_Predictors.csv\")\n",
    "\n",
    "\n",
    "\n",
    "\n"
   ]
  },
  {
   "cell_type": "code",
   "execution_count": 322,
   "id": "7a160db1",
   "metadata": {},
   "outputs": [
    {
     "name": "stdout",
     "output_type": "stream",
     "text": [
      "11606\n"
     ]
    }
   ],
   "source": [
    "num_unique_leaid = scores_predictors['leaid'].nunique()\n",
    "\n",
    "print(num_unique_leaid)"
   ]
  },
  {
   "cell_type": "markdown",
   "id": "b94f984d",
   "metadata": {},
   "source": [
    "There 11,606 unique leaid's in our final data set. There are roughly 13,800 school districts in the country each with a unique Leaid, thus we have managed to get a good sample. "
   ]
  },
  {
   "cell_type": "markdown",
   "id": "ddd474e9",
   "metadata": {},
   "source": [
    "# Final Clean up for Analysis\n",
    "Now that we have it all merged there is some final dropping and rearrange over variables that can be done, to make the data slighlty cleaner and neater. \n"
   ]
  },
  {
   "cell_type": "code",
   "execution_count": 347,
   "id": "0e29cf25",
   "metadata": {},
   "outputs": [],
   "source": [
    "final_col_drops = ['CENSUS BUREAU 14-DIGIT GOVERNMENT ID','AMERICAN NATIONAL STANDARDS INSTITUTE (ANSI) STATE CODE','AMERICAN NATIONAL STANDARDS INSTITUTE (ANSI) COUNTY CODE','CONSOLIDATED STATISTICAL AREA','CORE-BASED STATISTICAL AREA','AGENCY CHARTER CODE','COMMON CORE OF DATA (CCD) AGENCY NONFISCAL FILE MATCH','CENSUS BUREAU FISCAL FILE MATCH',\n",
    "                  'district_id','fips_x','year_x','fips_y','FIPS','Name of the school district']\n",
    "                   \n",
    "#possible_dummies = ['AGENCY LOW GRADE OFFERED','AGENCY HIGH GRADE OFFERED']\n",
    "\n",
    "#Make a note of the below Variables, They will be excluded from the analysis\n",
    "finance_total_vars = [\"TOTAL REVENUE\",'TOTAL FEDERAL REVENUE','TOTAL STATE REVENUE','TOTAL LOCAL REVENUE','TOTAL EXPENDITURES','TOTAL CURRENT EXPENDITURES FOR ELEMENTARY/SECONDARY EDUCATION','TOTAL CURRENT EXPENDITURES - INSTRUCTION','TOTAL CURRENT EXPENDITURES - OTHER ELEMENTARY/SECONDARY',\"TOTAL NON-ELEMENTARY/SECONDARY EXPENDITURES\",'TOTAL CAPITAL OUTLAY EXPENDITURES'\n",
    "                     ,'TOTAL SALARIES','TOTAL EMPLOYEE BENEFITS',]\n",
    "\n",
    "cols_to_move = ['SEDAID','year_y','mean_grade_all','mean_grade_asian','mean_grade_black','Mean_grade_ecd','mean_grade_female','mean_grade_hispanic','mean_grade_male','mean_grade_necd','mean_grade_white']\n"
   ]
  },
  {
   "cell_type": "markdown",
   "id": "b3b666d5",
   "metadata": {},
   "source": [
    "I need to run this last line of code above here, to drop some of the variables, however my kernel has decided to die at the last minute, before this checkpoint is due. So I am going to have to submit what I have up untill this point. Since this code will take hours to run"
   ]
  }
 ],
 "metadata": {
  "kernelspec": {
   "display_name": "Python 3 (ipykernel)",
   "language": "python",
   "name": "python3"
  },
  "language_info": {
   "codemirror_mode": {
    "name": "ipython",
    "version": 3
   },
   "file_extension": ".py",
   "mimetype": "text/x-python",
   "name": "python",
   "nbconvert_exporter": "python",
   "pygments_lexer": "ipython3",
   "version": "3.9.13"
  }
 },
 "nbformat": 4,
 "nbformat_minor": 5
}
